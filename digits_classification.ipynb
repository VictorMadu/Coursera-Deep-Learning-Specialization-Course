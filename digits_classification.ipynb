{
  "nbformat": 4,
  "nbformat_minor": 0,
  "metadata": {
    "kernelspec": {
      "display_name": "Python 3",
      "language": "python",
      "name": "python3"
    },
    "language_info": {
      "codemirror_mode": {
        "name": "ipython",
        "version": 3
      },
      "file_extension": ".py",
      "mimetype": "text/x-python",
      "name": "python",
      "nbconvert_exporter": "python",
      "pygments_lexer": "ipython3",
      "version": "3.6.5"
    },
    "colab": {
      "name": "digits_classification.ipynb",
      "provenance": [],
      "include_colab_link": true
    },
    "accelerator": "TPU"
  },
  "cells": [
    {
      "cell_type": "markdown",
      "metadata": {
        "id": "view-in-github",
        "colab_type": "text"
      },
      "source": [
        "<a href=\"https://colab.research.google.com/github/VictorMadu/Coursera-Deep-Learning-Specialization-Course/blob/master/digits_classification.ipynb\" target=\"_parent\"><img src=\"https://colab.research.google.com/assets/colab-badge.svg\" alt=\"Open In Colab\"/></a>"
      ]
    },
    {
      "cell_type": "code",
      "metadata": {
        "id": "zDEQYmwOcehl",
        "colab_type": "code",
        "colab": {
          "base_uri": "https://localhost:8080/",
          "height": 310
        },
        "outputId": "269cbf8b-2c67-4ac5-c1c0-76f34e755aad"
      },
      "source": [
        "! shred -u setup_google_colab.py\n",
        "! wget https://raw.githubusercontent.com/hse-aml/intro-to-dl/master/setup_google_colab.py -O setup_google_colab.py\n",
        "import setup_google_colab\n",
        "setup_google_colab.setup_week2()"
      ],
      "execution_count": null,
      "outputs": [
        {
          "output_type": "stream",
          "text": [
            "shred: setup_google_colab.py: failed to open for writing: No such file or directory\n",
            "--2020-07-11 10:48:47--  https://raw.githubusercontent.com/hse-aml/intro-to-dl/master/setup_google_colab.py\n",
            "Resolving raw.githubusercontent.com (raw.githubusercontent.com)... 151.101.0.133, 151.101.64.133, 151.101.128.133, ...\n",
            "Connecting to raw.githubusercontent.com (raw.githubusercontent.com)|151.101.0.133|:443... connected.\n",
            "HTTP request sent, awaiting response... 200 OK\n",
            "Length: 3636 (3.6K) [text/plain]\n",
            "Saving to: ‘setup_google_colab.py’\n",
            "\n",
            "setup_google_colab. 100%[===================>]   3.55K  --.-KB/s    in 0s      \n",
            "\n",
            "2020-07-11 10:48:47 (46.4 MB/s) - ‘setup_google_colab.py’ saved [3636/3636]\n",
            "\n",
            "**************************************************\n",
            "inception_v3_weights_tf_dim_ordering_tf_kernels_notop.h5\n",
            "**************************************************\n",
            "cifar-10-batches-py.tar.gz\n",
            "**************************************************\n",
            "mnist.npz\n"
          ],
          "name": "stdout"
        }
      ]
    },
    {
      "cell_type": "code",
      "metadata": {
        "id": "IazZqdso-iwH",
        "colab_type": "code",
        "colab": {
          "base_uri": "https://localhost:8080/",
          "height": 33
        },
        "outputId": "ca1769ac-0eff-4a75-fe82-536cd2423bb5"
      },
      "source": [
        "# set tf 1.x for colab\n",
        "%tensorflow_version 1.x"
      ],
      "execution_count": null,
      "outputs": [
        {
          "output_type": "stream",
          "text": [
            "TensorFlow 1.x selected.\n"
          ],
          "name": "stdout"
        }
      ]
    },
    {
      "cell_type": "markdown",
      "metadata": {
        "id": "P2OjGY1X-iwS",
        "colab_type": "text"
      },
      "source": [
        "# MNIST digits classification with TensorFlow"
      ]
    },
    {
      "cell_type": "markdown",
      "metadata": {
        "id": "5iiM4JAN-iwT",
        "colab_type": "text"
      },
      "source": [
        "<img src=\"https://github.com/hse-aml/intro-to-dl/blob/master/week2/v2/images/mnist_sample.png?raw=1\" style=\"width:30%\">"
      ]
    },
    {
      "cell_type": "code",
      "metadata": {
        "id": "_7ZEVKql-iwU",
        "colab_type": "code",
        "colab": {
          "base_uri": "https://localhost:8080/",
          "height": 33
        },
        "outputId": "618897ed-75bf-47e5-afa4-a90221f6a889"
      },
      "source": [
        "import numpy as np\n",
        "from sklearn.metrics import accuracy_score, log_loss\n",
        "from matplotlib import pyplot as plt\n",
        "%matplotlib inline\n",
        "import tensorflow as tf\n",
        "print(\"We're using TF\", tf.__version__)\n",
        "\n",
        "import sys\n",
        "sys.path.append(\"../..\")\n",
        "import grading\n",
        "\n",
        "import matplotlib_utils\n",
        "from importlib import reload\n",
        "reload(matplotlib_utils)\n",
        "\n",
        "import grading_utils\n",
        "reload(grading_utils)\n",
        "\n",
        "import keras_utils\n",
        "from keras_utils import reset_tf_session"
      ],
      "execution_count": null,
      "outputs": [
        {
          "output_type": "stream",
          "text": [
            "We're using TF 1.15.2\n"
          ],
          "name": "stdout"
        }
      ]
    },
    {
      "cell_type": "markdown",
      "metadata": {
        "id": "WmhixJUO-iwd",
        "colab_type": "text"
      },
      "source": [
        "# Fill in your Coursera token and email\n",
        "To successfully submit your answers to our grader, please fill in your Coursera submission token and email"
      ]
    },
    {
      "cell_type": "code",
      "metadata": {
        "id": "9pxqEmtX-iwi",
        "colab_type": "code",
        "colab": {}
      },
      "source": [
        "grader = grading.Grader(assignment_key=\"XtD7ho3TEeiHQBLWejjYAA\", \n",
        "                        all_parts=[\"9XaAS\", \"vmogZ\", \"RMv95\", \"i8bgs\", \"rE763\"])"
      ],
      "execution_count": null,
      "outputs": []
    },
    {
      "cell_type": "code",
      "metadata": {
        "id": "YOjimPYF-iwq",
        "colab_type": "code",
        "colab": {}
      },
      "source": [
        "# token expires every 30 min\n",
        "COURSERA_TOKEN = \"sVPEDwAnukekP3Ey\"\n",
        "COURSERA_EMAIL = \"ebube.madu.243204@unn.edu.ng\""
      ],
      "execution_count": null,
      "outputs": []
    },
    {
      "cell_type": "markdown",
      "metadata": {
        "id": "dXsEBaGj-iww",
        "colab_type": "text"
      },
      "source": [
        "# Look at the data\n",
        "\n",
        "In this task we have 50000 28x28 images of digits from 0 to 9.\n",
        "We will train a classifier on this data."
      ]
    },
    {
      "cell_type": "code",
      "metadata": {
        "id": "uC2hFCvN-iwx",
        "colab_type": "code",
        "colab": {
          "base_uri": "https://localhost:8080/",
          "height": 66
        },
        "outputId": "370fba01-c5d1-4c65-d6f2-d7336e42af1a"
      },
      "source": [
        "import preprocessed_mnist\n",
        "X_train, y_train, X_val, y_val, X_test, y_test = preprocessed_mnist.load_dataset()"
      ],
      "execution_count": null,
      "outputs": [
        {
          "output_type": "stream",
          "text": [
            "Using TensorFlow backend.\n"
          ],
          "name": "stderr"
        },
        {
          "output_type": "stream",
          "text": [
            "Downloading data from https://s3.amazonaws.com/img-datasets/mnist.npz\n",
            " 9633792/11490434 [========================>.....] - ETA: 0s"
          ],
          "name": "stdout"
        }
      ]
    },
    {
      "cell_type": "code",
      "metadata": {
        "id": "5qAfdj_G-iw2",
        "colab_type": "code",
        "colab": {
          "base_uri": "https://localhost:8080/",
          "height": 675
        },
        "outputId": "231ce3b9-20f0-433e-8c76-a4c50f922cc0"
      },
      "source": [
        "# X contains rgb values divided by 255\n",
        "print(\"X_train [shape %s] sample patch:\\n\" % (str(X_train.shape)), X_train[1, 15:20, 5:10])\n",
        "print(\"A closeup of a sample patch:\")\n",
        "plt.imshow(X_train[1, 15:20, 5:10], cmap=\"Greys\")\n",
        "plt.show()\n",
        "print(\"And the whole sample:\")\n",
        "plt.imshow(X_train[1], cmap=\"Greys\")\n",
        "plt.show()\n",
        "print(\"y_train [shape %s] 10 samples:\\n\" % (str(y_train.shape)), y_train[:10])"
      ],
      "execution_count": null,
      "outputs": [
        {
          "output_type": "stream",
          "text": [
            "X_train [shape (50000, 28, 28)] sample patch:\n",
            " [[0.         0.29803922 0.96470588 0.98823529 0.43921569]\n",
            " [0.         0.33333333 0.98823529 0.90196078 0.09803922]\n",
            " [0.         0.33333333 0.98823529 0.8745098  0.        ]\n",
            " [0.         0.33333333 0.98823529 0.56862745 0.        ]\n",
            " [0.         0.3372549  0.99215686 0.88235294 0.        ]]\n",
            "A closeup of a sample patch:\n"
          ],
          "name": "stdout"
        },
        {
          "output_type": "display_data",
          "data": {
            "image/png": "[encoded data removed]",
            "text/plain": [
              "<Figure size 432x288 with 1 Axes>"
            ]
          },
          "metadata": {
            "tags": [],
            "needs_background": "light"
          }
        },
        {
          "output_type": "stream",
          "text": [
            "And the whole sample:\n"
          ],
          "name": "stdout"
        },
        {
          "output_type": "display_data",
          "data": {
            "image/png": "[encoded data removed]",
            "text/plain": [
              "<Figure size 432x288 with 1 Axes>"
            ]
          },
          "metadata": {
            "tags": [],
            "needs_background": "light"
          }
        },
        {
          "output_type": "stream",
          "text": [
            "y_train [shape (50000,)] 10 samples:\n",
            " [5 0 4 1 9 2 1 3 1 4]\n"
          ],
          "name": "stdout"
        }
      ]
    },
    {
      "cell_type": "markdown",
      "metadata": {
        "id": "udiv04R7-iw_",
        "colab_type": "text"
      },
      "source": [
        "# Linear model\n",
        "\n",
        "Your task is to train a linear classifier $\\vec{x} \\rightarrow y$ with SGD using TensorFlow.\n",
        "\n",
        "You will need to calculate a logit (a linear transformation) $z_k$ for each class: \n",
        "$$z_k = \\vec{x} \\cdot \\vec{w_k} + b_k \\quad k = 0..9$$\n",
        "\n",
        "And transform logits $z_k$ to valid probabilities $p_k$ with softmax: \n",
        "$$p_k = \\frac{e^{z_k}}{\\sum_{i=0}^{9}{e^{z_i}}} \\quad k = 0..9$$\n",
        "\n",
        "We will use a cross-entropy loss to train our multi-class classifier:\n",
        "$$\\text{cross-entropy}(y, p) = -\\sum_{k=0}^{9}{\\log(p_k)[y = k]}$$ \n",
        "\n",
        "where \n",
        "$$\n",
        "[x]=\\begin{cases}\n",
        "       1, \\quad \\text{if $x$ is true} \\\\\n",
        "       0, \\quad \\text{otherwise}\n",
        "    \\end{cases}\n",
        "$$\n",
        "\n",
        "Cross-entropy minimization pushes $p_k$ close to 1 when $y = k$, which is what we want.\n",
        "\n",
        "Here's the plan:\n",
        "* Flatten the images (28x28 -> 784) with `X_train.reshape((X_train.shape[0], -1))` to simplify our linear model implementation\n",
        "* Use a matrix placeholder for flattened `X_train`\n",
        "* Convert `y_train` to one-hot encoded vectors that are needed for cross-entropy\n",
        "* Use a shared variable `W` for all weights (a column $\\vec{w_k}$ per class) and `b` for all biases.\n",
        "* Aim for ~0.93 validation accuracy"
      ]
    },
    {
      "cell_type": "code",
      "metadata": {
        "id": "yY-NMjro-ixA",
        "colab_type": "code",
        "colab": {
          "base_uri": "https://localhost:8080/",
          "height": 50
        },
        "outputId": "fc989b5a-8d34-464d-b6a5-87b8eb394b65"
      },
      "source": [
        "X_train_flat = X_train.reshape((X_train.shape[0], -1))\n",
        "print(X_train_flat.shape)\n",
        "\n",
        "X_val_flat = X_val.reshape((X_val.shape[0], -1))\n",
        "print(X_val_flat.shape)"
      ],
      "execution_count": null,
      "outputs": [
        {
          "output_type": "stream",
          "text": [
            "(50000, 784)\n",
            "(10000, 784)\n"
          ],
          "name": "stdout"
        }
      ]
    },
    {
      "cell_type": "code",
      "metadata": {
        "id": "PAtlmyRf-ixG",
        "colab_type": "code",
        "colab": {
          "base_uri": "https://localhost:8080/",
          "height": 82
        },
        "outputId": "ef760b5d-e00b-47ae-ed2b-05708498f274"
      },
      "source": [
        "import keras\n",
        "\n",
        "y_train_oh = keras.utils.to_categorical(y_train, 10)\n",
        "y_val_oh = keras.utils.to_categorical(y_val, 10)\n",
        "\n",
        "print(y_train_oh.shape)\n",
        "print(y_train_oh[:3], y_train[:3])"
      ],
      "execution_count": null,
      "outputs": [
        {
          "output_type": "stream",
          "text": [
            "(50000, 10)\n",
            "[[0. 0. 0. 0. 0. 1. 0. 0. 0. 0.]\n",
            " [1. 0. 0. 0. 0. 0. 0. 0. 0. 0.]\n",
            " [0. 0. 0. 0. 1. 0. 0. 0. 0. 0.]] [5 0 4]\n"
          ],
          "name": "stdout"
        }
      ]
    },
    {
      "cell_type": "code",
      "metadata": {
        "id": "jDd-sDBEJ_mQ",
        "colab_type": "code",
        "colab": {}
      },
      "source": [
        "input_size = 784\n",
        "output_size = 10"
      ],
      "execution_count": null,
      "outputs": []
    },
    {
      "cell_type": "code",
      "metadata": {
        "id": "gvXuuYP9-ixL",
        "colab_type": "code",
        "colab": {}
      },
      "source": [
        "# run this again if you remake your graph\n",
        "s = reset_tf_session()"
      ],
      "execution_count": null,
      "outputs": []
    },
    {
      "cell_type": "code",
      "metadata": {
        "id": "b99JiqjZ-ixT",
        "colab_type": "code",
        "colab": {}
      },
      "source": [
        "# Model parameters: W and b\n",
        "W = tf.get_variable(\"W\", shape=[input_size, output_size], dtype=tf.float32, initializer=tf.contrib.layers.xavier_initializer())       ### YOUR CODE HERE ### tf.get_variable(...) with shape[0] = 784\n",
        "\n",
        "b = tf.get_variable(\"b\", shape=[output_size], dtype=tf.float32, initializer=tf.zeros_initializer())### YOUR CODE HERE ### tf.get_variable(...)"
      ],
      "execution_count": null,
      "outputs": []
    },
    {
      "cell_type": "code",
      "metadata": {
        "id": "Sq2VrNYX-ixY",
        "colab_type": "code",
        "colab": {}
      },
      "source": [
        "# Placeholders for the input data\n",
        "input_X = tf.placeholder(tf.float32, [None, input_size])          ### YOUR CODE HERE ### tf.placeholder(...) for flat X with shape[0] = None for any batch size\n",
        "\n",
        "input_y = tf.placeholder(tf.float32, [None, output_size])          ### YOUR CODE HERE ### tf.placeholder(...) for one-hot encoded true labels"
      ],
      "execution_count": null,
      "outputs": []
    },
    {
      "cell_type": "code",
      "metadata": {
        "id": "4SQSC1SC-ixf",
        "colab_type": "code",
        "colab": {}
      },
      "source": [
        "# Compute predictions\n",
        "logits = tf.matmul(input_X, W) + b         ### YOUR CODE HERE ### logits for input_X, resulting shape should be [input_X.shape[0], 10]\n",
        "probas = tf.nn.softmax(logits)             ### YOUR CODE HERE ### apply tf.nn.softmax to logits\n",
        "classes = tf.argmax(probas, 1)          ### YOUR CODE HERE ### apply tf.argmax to find a class index with highest probability\n",
        "\n",
        "# Loss should be a scalar number: average loss over all the objects with tf.reduce_mean().\n",
        "# Use tf.nn.softmax_cross_entropy_with_logits on top of one-hot encoded input_y and logits.\n",
        "# It is identical to calculating cross-entropy on top of probas, but is more numerically friendly (read the docs).\n",
        "loss = tf.reduce_mean(tf.nn.softmax_cross_entropy_with_logits(logits=logits, labels=input_y))### YOUR CODE HERE ### cross-entropy loss\n",
        "\n",
        "# Use a default tf.train.AdamOptimizer to get an SGD step\n",
        "step = tf.train.AdamOptimizer(learning_rate=0.001).minimize(loss)### YOUR CODE HERE ### optimizer step that minimizes the loss"
      ],
      "execution_count": null,
      "outputs": []
    },
    {
      "cell_type": "code",
      "metadata": {
        "scrolled": false,
        "id": "-WdDPiHv-ixl",
        "colab_type": "code",
        "colab": {
          "base_uri": "https://localhost:8080/",
          "height": 308
        },
        "outputId": "f3043f1d-df63-4ee3-eb84-17edd6b6fab6"
      },
      "source": [
        "s.run(tf.global_variables_initializer())\n",
        "\n",
        "BATCH_SIZE = 512\n",
        "EPOCHS = 40\n",
        "prev_val_loss = None\n",
        "\n",
        "# for logging the progress right here in Jupyter (for those who don't have TensorBoard)\n",
        "simpleTrainingCurves = matplotlib_utils.SimpleTrainingCurves(\"cross-entropy\", \"accuracy\")\n",
        "\n",
        "for epoch in range(EPOCHS):  # we finish an epoch when we've looked at all training samples\n",
        "    \n",
        "    batch_losses = []\n",
        "    for batch_start in range(0, X_train_flat.shape[0], BATCH_SIZE):  # data is already shuffled\n",
        "        _, batch_loss = s.run([step, loss], {input_X: X_train_flat[batch_start:batch_start+BATCH_SIZE], \n",
        "                                             input_y: y_train_oh[batch_start:batch_start+BATCH_SIZE]})\n",
        "        # collect batch losses, this is almost free as we need a forward pass for backprop anyway\n",
        "        batch_losses.append(batch_loss)\n",
        "\n",
        "\n",
        "\n",
        "    train_loss = np.mean(batch_losses)\n",
        "    val_loss = s.run(loss, {input_X: X_val_flat, input_y: y_val_oh})  # this part is usually small\n",
        "    train_accuracy = accuracy_score(y_train, s.run(classes, {input_X: X_train_flat}))  # this is slow and usually skipped\n",
        "    valid_accuracy = accuracy_score(y_val, s.run(classes, {input_X: X_val_flat}))  \n",
        "    simpleTrainingCurves.add(train_loss, val_loss, train_accuracy, valid_accuracy)"
      ],
      "execution_count": null,
      "outputs": [
        {
          "output_type": "display_data",
          "data": {
            "text/html": [
              "<img src=\"data:image/jpeg;base64,/9j/4AAQSkZJRgABAQEASABIAAD/2wBDAAIBAQEBAQIBAQECAgICAgQDAgICAgUEBAMEBgUGBgYFBgYGBwkIBgcJBwYGCAsICQoKCgoKBggLDAsKDAkKCgr/2wBDAQICAgICAgUDAwUKBwYHCgoKCgoKCgoKCgoKCgoKCgoKCgoKCgoKCgoKCgoKCgoKCgoKCgoKCgoKCgoKCgoKCgr/wAARCAEgA2ADASIAAhEBAxEB/8QAHwAAAQUBAQEBAQEAAAAAAAAAAAECAwQFBgcICQoL/8QAtRAAAgEDAwIEAwUFBAQAAAF9AQIDAAQRBRIhMUEGE1FhByJxFDKBkaEII0KxwRVS0fAkM2JyggkKFhcYGRolJicoKSo0NTY3ODk6Q0RFRkdISUpTVFVWV1hZWmNkZWZnaGlqc3R1dnd4eXqDhIWGh4iJipKTlJWWl5iZmqKjpKWmp6ipqrKztLW2t7i5usLDxMXGx8jJytLT1NXW19jZ2uHi4%2BTl5ufo6erx8vP09fb3%2BPn6/8QAHwEAAwEBAQEBAQEBAQAAAAAAAAECAwQFBgcICQoL/8QAtREAAgECBAQDBAcFBAQAAQJ3AAECAxEEBSExBhJBUQdhcRMiMoEIFEKRobHBCSMzUvAVYnLRChYkNOEl8RcYGRomJygpKjU2Nzg5OkNERUZHSElKU1RVVldYWVpjZGVmZ2hpanN0dXZ3eHl6goOEhYaHiImKkpOUlZaXmJmaoqOkpaanqKmqsrO0tba3uLm6wsPExcbHyMnK0tPU1dbX2Nna4uPk5ebn6Onq8vP09fb3%2BPn6/9oADAMBAAIRAxEAPwD9/KKKKACiiigAooooAKKKKACiiigAooooAKKKKACiiigAooooAKKKKACiiigAooooAKKKKACiiigAooooAKKKKACiiigAooooAKKKKACiiigAooooAKKKKACiiigAooooAKKKKACiiigAooooAKKKKACiiigAooooAKKKKACiiigAooooAKKKKACiiigAooooAKKKKACiiigAooooAKKKKACiiigAooooAKKKKACiiigAooooAKKKKACiiigAooooAKKKKACiiigAooooAKKKKACiiigAooooAKKKKACiiigAooooAKKKKACiiigAooooAKKKKACiiigAooooAKKKKACiiigAooooAKKKKACuN%2BOP7QHwm/Zx8JW/jT4veJ5dPtL7U4dN0u2stLub%2B91K9lDGO1tLO0jluLudlR2EUMbvtR2xhWI7KvFv2u/gP8VPiX4h%2BGfxl%2BBd14fl8X/CrxjPrWmaJ4tu57bTdYhudLvdMubaW4ghmktH8q9aSOdYZtrR7TGyu2ACjpH/AAUr/Y71rxm3w8tvHviCDW7fSodU1bTtR%2BHOvWkmi2EhuAt3qXn2SDTIAbWcNLdmFEKYYqWUGbwn/wAFH/2NfGfg/wAQ%2BOtM%2BLFza6f4Y0e11fVBrnhPVdMuJNPuXMdreWtvd2sU19bzyAxwy2ySpM5CRlmIB86vP2GPjP8AHW0/aRP7Qt74V8My/tB/CPTvBskfgrWLrUzo7RWusWsr%2BbcWtqZ1VNRiZDsXeyygogxuy9Y/Y2/at%2BM%2Btaz8UP2lPh38G9X1e0%2BE6eBtB8E6d4n1QaRrSy6jaXt5fXd2bBJ9PYmyg%2BzxQw3BtnDP50hIwAeyX/7fP7N2k%2BAbH4h6tdeOLSHVPED6Jpeh3Xwj8SR67e3yW5uXjh0dtPGoShYAZTIluUCKzFsA49P8JeOfDfjbwTY/EPRbi5i0rULBbyCTVNPnsZY4iu7MsFykcsDAfeSRVZSCGAIIr41tv2Gf2tJfgpJ4W8feGPCnjS%2Bh%2BIcut%2BC9B1n9ofxXb3fgOxOmxWoi0/xbHp7atcSGUXcreZDGBHeGENsjGfUvB/7Bmq%2BKfgJo3hb9pz46%2BOPEfj5PhtdeFtf8Q6T8Q9at9Muhc2tzbyTPpa3SWN5MiXTBbq4tmmdoopWKuibADc8Mf8FJP2MvF/h7xJ4s0b4tXK6Z4W8GXni6/vr7wlqtpFe6BaruuNU09p7VBqtogK5nsvPQmSMAkyIG4n40f8FdP2YfAf7M/wATf2gfhW%2Bs%2BM7v4b%2BDYfEjeGW8L6xps2r2Nw7R2t3avNYFrixlkRh9vgjmtkVWdnCqSPHfC/8AwSh%2BNC/BPxf8LPFnh3w9J4h/4UL4j8A%2BC/Hmo/tD%2BNvECSXGpWEdp5h0jVUkttGtpDDE8scEl0yeVGqFggz6P%2B1L/wAE5vih%2B0BYeKtE0Pxj4d0q2179le%2B%2BGlrLM87GDVpLiOWGdo1iANqNhBIbzBnhO9AHqkv/AAUU/ZZt/E3hrwJeav41tvEni7TpdQ0HwpefCTxLDq8tnFd/Y5LmSwk08XNvCkxG6SaNEVGWUkRsrmXwN/wUT/Y7%2BJGqarpXhD4tyXB0rQ9Q1lbufw1qVvaapp1iwS8u9NuZrdYdVhhYqHeyedVLqCfmGcXwR8APjz4x/apsf2oPjn4f8HeH5JPg5f8Ag/VNE8J%2BK7vVTBcy6tHcpJDcz6fZl4mgiUsTGjJIdoV1USHwGb9hz9pf4bfs8%2BF/Cnxo1rwIPCP7N3wP8SaB4L1PwrfXcmpeKd2hHTLe4vbeW2ii04JZozSQxS3QknZXDxqgQgH0D4U/4Kl/sL%2BNPBus/ELQ/jLdrouheDj4tutRv/BmsWcdzoIKB9Vs/PtEN/ZxmRBJPbCWOLcPMZc167a/GD4c3vxcuPgVZ%2BIxN4qtPDUGv3emRWsrCHTp55beGd5QnlL5ksE6ohfe3kyEKQjEfFX7I/7P3xC8WfBL4Q/Hb9t/Uvhlovww%2BG/7L9z4fgk07W5wmr6bqmnaWby%2B1X7VBDDpkEVppyq0CS3CZleRplWNVrsP%2BCK3wr8d6P8As76n8evit4tbxFrHjW%2Bg03w54hlgaOS%2B8I6JF/ZWiXBD8/6VDDNqhPd9WcgKCFAB9lUUUUAFFFFABRRRQAUUUUAFFFFABRRRQAUUUUAFFFFABRRRQAUUUUAFFFFABRRRQAUUUUAFFFFABRRRQAUUUUAFFFFABRRRQAV4jpH/AAUY/Y91K716z1P4pXnh5vDnhy58QahJ418I6roMc2k27pHPf2smpWsC31ujyRK0tsZUBljGcuufab2K5ms5YbO6EEzxMsUxj3%2BWxHDbT1wecd6/MTV/%2BCOX7cvxf1bwvrnxu%2BOOhvrfhrwfqFnqHijUPit4m8TjxDrf2zSr611E6XfRQ2Wk20lzpi%2BfYWQCiOTassgVAoB9sv8At/8A7MNr8NG%2BLGseIPFWlaW2uQaNY2eufDLX7DVNTv5kMkMFlptxYpe37SIGdfs8MgZUdgSEYjovAf7VnwP%2BI%2Bv2XhPw54h1SHV7/wAKT%2BJIdI1rwrqWmXaabDd/ZJZZYby3ikgdZ/kMMirL32bea8m%2BJ3wc/bd%2BMTfD342654N%2BFWh/EP4UeOptY8P%2BGbXxxqV/ouuWdxpN3plzHcXz6VDNYzFL2SSN0tbgRmIKfMEjYq/En4Dftwa/8ZfDv7TXgfRvhXaeLL74Yar4L8Y6FqXivUpLDSFuL%2BG6tb%2ByuE04SagYhG6yW8sVoJS4xLFjkA7jSf8Ago3%2ByB4j17wL4W8K/EbVdZ1P4k%2BDdK8W%2BDdO0TwPrN7PeaHqL7LXUZEgtGa1t92PMknEa24ZTN5QYE7Hw1/bc/Zu%2BK/xGufhP4Z8X6tZ6/b6Xc6nDZeJ/BmraIt/Y28iRz3dlLqNrBHfwRvLEHltmkRfMQkgMpPlH7Cn7CXxY/Zh1/4caz488QeGrs%2BDv2UvCPwxv30i5nlZtW0t5muZovMgj3Wrb02MxV22/NGmBXjXw0/4JV/tjeJ/ij4X8TftTfGGz1SLT/AHivwv408TQfF/xJrV54il1exS2/tO10y%2Bhj0/QjlSxtLRSi5UCZxGq0AfUvhP/gov%2ByP410WPxVoPjvXP7DuNV0vT9P8AEt78P9btdK1GXUr2OyspLS%2Bns0tryCW5mijFxBI8IMqFnCsCfS/C3xd%2BHnjX4geKfhd4X8Q/a9c8FyWcfie0S0mC2Ml1B9ogjMrII3doSshRGZkWSMsFEibvmHxx4E%2BIvhX/AIJ7eNPgR/wUM8T/AAq8EeAtB%2BGkWgW3xM8O%2BLbsM06RpbWupPaXVnAmmzLMLeSGCO4umM5REcnaG7X/AIJX/D74seG/2RNK%2BKv7RVglv8TvixfS%2BOviJCtu0X2e/v1jMNpsb5k%2By2MdlZ7TkgWuDQB9G0UUUAFFFFABRRRQAUUUUAFFFFABRRRQAUUUUAFFFFABRRRQAUUUUAFFFFABRRRQAUUUUAFFFFABRRRQAUUUUAFFFFABRRRQAUUUUAFeL/Hrx/8AtF/8NF%2BBfgR8BfGfgrw%2Bmv8AgrxLr2r6n4v8F3etEnTrvQ7eGGGO31Kx8sN/akrMzM%2BfLQALyT7RXhXxF1pLL/gpV8IdFkUYvfgn8Q2Rs87o9W8GnH5Mx/Ck2luXCEqjtHs392rL/wDwg/8AwUL/AOjoPgz/AOGH1b/5qKP%2BEH/4KF/9HQfBn/ww%2Brf/ADUV7NRTIPGf%2BEH/AOChf/R0HwZ/8MPq3/zUUf8ACD/8FC/%2BjoPgz/4YfVv/AJqK9mooA8Z/4Qf/AIKF/wDR0HwZ/wDDD6t/81FH/CD/APBQv/o6D4M/%2BGH1b/5qK9mooA8Z/wCEH/4KF/8AR0HwZ/8ADD6t/wDNRR/wg/8AwUL/AOjoPgz/AOGH1b/5qK9mooA8Z/4Qf/goX/0dB8Gf/DD6t/8ANRR/wg//AAUL/wCjoPgz/wCGH1b/AOaivZqKAPGf%2BEH/AOChf/R0HwZ/8MPq3/zUUf8ACD/8FC/%2BjoPgz/4YfVv/AJqK9mooA8Z/4Qf/AIKF/wDR0HwZ/wDDD6t/81FH/CD/APBQv/o6D4M/%2BGH1b/5qK9mooA8Z/wCEH/4KF/8AR0HwZ/8ADD6t/wDNRR/wg/8AwUL/AOjoPgz/AOGH1b/5qKta/wDG/wDZE%2BFNppGk/HT4w/Dnw5rmoaLBqBtvF3iGwtLu4jkyPP23Dq7IzpIA3TKMM8EDN/4a/wD%2BCcH/AEdF8Ef/AAttH/8Ajtc08Zg6cnGdWKa6OUU/uckz2sPw3xJi6Ea1DA15wkrqUaNaUWu6lGjKLWj1Ta03LH/CD/8ABQv/AKOg%2BDP/AIYfVv8A5qKP%2BEH/AOChf/R0HwZ/8MPq3/zUVX/4a/8A%2BCcH/R0XwR/8LbR//jtenaBovws8V6FZeKfC2k%2BH9S0zUrSO607UdPggmguoJFDxyxyICroykMrKSCCCDg1dLE4eu2qc4yt2kn%2BTZz47Js5yuEZ43C1aSk7J1KdSmm97JzpwTdtbJt21tbU85/4Qf/goX/0dB8Gf/DD6t/8ANRR/wg//AAUL/wCjoPgz/wCGH1b/AOaivPPh9/wUa/Yv8X%2BB7Pxh4h%2BHvifQZ9U8ca14W0TRrn4Pa3Peate6dcX8ci2kUOns90TDp887LErmEAxybJFZR2XxC/ao/Za8C2Xj20vNEi0/WPAXhDWvEN5beLPAmraTZ3dnpi/6XPb3UmnOL23iZohJLZJdFRNGwR96K%2Bx5po/8IP8A8FC/%2BjoPgz/4YfVv/moo/wCEH/4KF/8AR0HwZ/8ADD6t/wDNRVWw/as/Yw1D4zyfs/Q3lv8A8JRb%2BII9Buo/%2BEGvxYQ6q%2BnR6lHYtqDWgtFne0lSZIzKGcHCgsCo2fjX8Vfgr8JP2edd/aH0fwjo3ijTtLsGk0230NbaQardNKIILWKYAoGkuGSHcTtVmJboaAKH/CD/APBQv/o6D4M/%2BGH1b/5qKP8AhB/%2BChf/AEdB8Gf/AAw%2Brf8AzUU/9nD4gW3xcvPGXgf4o/Arw34V8YeA/EEOma/pWj6iuq2Miz2Nte29zbXUlpbPLG8VyqnfBGyyxSrhlCu/knxM/bR8Q/Abwz8T5fjl%2ByH4I07xB4A%2BFg8d2Wm6F46F9Z3VkZ54BBeXUmlwNYTb4G5WG4jZVkKO/lMKAPWP%2BEH/AOChf/R0HwZ/8MPq3/zUUf8ACD/8FC/%2BjoPgz/4YfVv/AJqK8l%2BKH7cvhz4X/Ab4f/GK%2B8C/s%2BXq/ED4iP4ZtdctfjWn/CJ2MS6bqN99ql1s6P8AeLae0HlC2x5kyDzOorp/2nPjl8VvgN8KvDvxX8G/sq/Cjxda6ydCsJbSP4kz20s%2BsapewWcNrYFNDmS8g825iK3LtAWTc7RRhSaAOz/4Qf8A4KF/9HQfBn/ww%2Brf/NRR/wAIP/wUL/6Og%2BDP/hh9W/8Amory%2B2/bu%2BHM37bU37Ik/wAEfB0X2fxJc6RchvE0X/CRWsUOjnUzrM2jGzHl6O2BbLffaTumkiXy/n40v2Yv2rYv2u/htr/xM%2BCfwV%2BEmqxx6Va33hTQrX4nQz6mRcgvBFrcEWmsNElaHbJ5Ya6ZfnUgMhBAO%2B/4Qf8A4KF/9HQfBn/ww%2Brf/NRR/wAIP/wUL/6Og%2BDP/hh9W/8Amorxvxn/AMFAfC3hb9l/4DftB3XwO%2BF%2Bh3Hxsu4LeWHx/wDEVNE0bw%2B76Ne6kRJqZ02YzZNn5CD7PGXeZT8v3T0nxp/a6s/hF4mvbC3/AGaPC2taP4L8H6F4k%2BLGuWfiNVTRrLU7q4t0OnIbE/2oYls7q4k8xrT9ykZXc8gjUA9A/wCEH/4KF/8AR0HwZ/8ADD6t/wDNRR/wg/8AwUL/AOjoPgz/AOGH1b/5qK8%2B0H9tf4UeKPi9488I6B8PfhzceHvh6msjWFXxnAfFV02lq63c1toKWjF7VbqOS1E0lzGzSRORGV2M9b4X/tgP8QvD3iWx1b4A/CvQfFekfDjRPH2m2V/8SVbRpPD2pPchbm81JdLzZSQpZ3DyBbeaLHlFJnVnaMA9K/4Qf/goX/0dB8Gf/DD6t/8ANRR/wg//AAUL/wCjoPgz/wCGH1b/AOaivn3xb/wVG%2BG3hn4D%2BE/jLL8E/hhZQeJdW8RWKeIvEnxGisPCNwdJcrusNb/s2T7cbwAtaL9mi89Ybg5Xyvm6q8/b28JWXiW1u9T/AGXtJ0bwpZ3/AIL0zxheeJtYistb0nUvExtlsoI9MFq63CRSXtuk8jXEJUrcCNJTAwIB6x/wg/8AwUL/AOjoPgz/AOGH1b/5qKP%2BEH/4KF/9HQfBn/ww%2Brf/ADUVyfhr9p/wmP2vNc/ZV%2BIXwy%2BGNs2keHtR1y41Lwt43j1W60Sxt5LYwya5aSWFv/ZBuYLpJoQZZlcRTAMVTe3PfDX9tDT/AIufB34ofF3QP2ePAPha0%2BHXjyLSIrn4n%2BNV0Kwu9Gm0bS9Xt9XubkadO2nmS31WD/RnidkIw8iMSqgHpv8Awg//AAUL/wCjoPgz/wCGH1b/AOaiqHgfxx%2B1Z4O/as8OfBH43fEf4e%2BJtG8TfD3xDrkM3hX4eX2i3VpdabfaJborPcavfJLG6apKSoRGDRIQ2Mg6HwD%2BJnhL9on9ljTf2htG%2BGln4fl1fSLq6tI7YpKqtDJLGlzbXKxxme2l8oTQT7E82GSKTau/aE8cf8pC/hf/ANkZ8ef%2BnbwhQB7NRRRQAUUUUAFFFFABXzj8JvFX7d/x10fXvHfhf43/AAk0DS7f4heKtD0vSr/4P6pf3EVrpevX%2BmQtLcJ4igWWR47NXZlijXc5AUACvo6vGf2D/wDkiGuf9lm%2BI/8A6mut0AH/AAg//BQv/o6D4M/%2BGH1b/wCaij/hB/8AgoX/ANHQfBn/AMMPq3/zUV7NRQB4z/wg/wDwUL/6Og%2BDP/hh9W/%2Baij/AIQf/goX/wBHQfBn/wAMPq3/AM1FezUUAeM/8IP/AMFC/wDo6D4M/wDhh9W/%2Baij/hB/%2BChf/R0HwZ/8MPq3/wA1FezUUAeM/wDCD/8ABQv/AKOg%2BDP/AIYfVv8A5qKP%2BEH/AOChf/R0HwZ/8MPq3/zUV7NRQB4z/wAIP/wUL/6Og%2BDP/hh9W/8Amoo/4Qf/AIKF/wDR0HwZ/wDDD6t/81FezUUAeM/8IP8A8FC/%2BjoPgz/4YfVv/moo/wCEH/4KF/8AR0HwZ/8ADD6t/wDNRXs1FAHjP/CD/wDBQv8A6Og%2BDP8A4YfVv/moo/4Qf/goX/0dB8Gf/DD6t/8ANRXs1FAHjP8Awg//AAUL/wCjoPgz/wCGH1b/AOaij/hB/wDgoX/0dB8Gf/DD6t/81FezUUAeM/8ACD/8FC/%2BjoPgz/4YfVv/AJqKP%2BEH/wCChf8A0dB8Gf8Aww%2Brf/NRXs1FAHjP/CD/APBQv/o6D4M/%2BGH1b/5qKP8AhB/%2BChf/AEdB8Gf/AAw%2Brf8AzUV7NRQB4z/wg/8AwUL/AOjoPgz/AOGH1b/5qKP%2BEH/4KF/9HQfBn/ww%2Brf/ADUV7NRQB4z/AMIP/wAFC/8Ao6D4M/8Ahh9W/wDmoo/4Qf8A4KF/9HQfBn/ww%2Brf/NRXs1FAHjP/AAg//BQv/o6D4M/%2BGH1b/wCaij/hB/8AgoX/ANHQfBn/AMMPq3/zUV7NRQB4z/wg/wDwUL/6Og%2BDP/hh9W/%2Baij/AIQf/goX/wBHQfBn/wAMPq3/AM1FeneIPiH4A8J5/wCEq8c6Ppm3739oanFDj/vthXH3v7Y/7Imm3BtNR/ap%2BG9vKv3opvHGnow/AzZrGeIw9N2nNL1aX5tGFTFYWi7VKkY%2Bsor85Iwf%2BEH/AOChf/R0HwZ/8MPq3/zUUf8ACD/8FC/%2BjoPgz/4YfVv/AJqKl8Vf8FB/2FvBdh/aOv8A7X3w4SPnCW3jC0uJGx6RwyM5/AV5jff8FvP%2BCZVleSWcf7Rkl0Ym2vLZeDtXmjz6B1tSD%2BBIrlq5tlVB2qV4L/t%2BP%2BbOKtnmS4d2q4mnH1nH/wCSZ6T/AMIP/wAFC/8Ao6D4M/8Ahh9W/wDmoo/4Qf8A4KF/9HQfBn/ww%2Brf/NRXmB/4La/sDaifJ8D%2BLPF3ie4/59NB%2BH2qSSZ9MSQIP1oH/BW7w/e/vPDX7AP7UOsQt/q7nTvhCzRv7gtcKcfhWX9uZO/hrxfpeX/pMZGH%2BsmQv4cRGX%2BHml/6TCR6f/wg/wDwUL/6Og%2BDP/hh9W/%2Baij/AIQf/goX/wBHQfBn/wAMPq3/AM1FeXS/8FXr%2Bzja51L/AIJpftTxQKNxkT4VK2B6kfaRiuG8V/8ABwB%2Bzd4PdrfXf2ZPjZp06cSJrnhaysFQ%2BjNNejBrOpxDk1JXqVkvVTX5wR14TNMJmE%2BTCqdSXaFKvN/dDDyf4H0V/wAIP/wUL/6Og%2BDP/hh9W/8Amoo/4Qf/AIKF/wDR0HwZ/wDDD6t/81FfJ0//AAcf/s4xElPgL4tZP4T/AG5pGSPcC6OK5zxh/wAHLfw2sbYyeA/2V9V1FwOmr%2BNLKzAP/bJZyR%2BFcs%2BLuHIK7xC%2BSk//AG096hk/EWKmoUMsxk5PZRwWMbfovqq/NH2p/wAIP/wUL/6Og%2BDP/hh9W/8Amoq3%2Byt8RvjT4w1j4oeBPjpr/hfVtU8A/EKLQ7PVfCfhq50m3urWXQdH1NWe3uL28ZZFk1GVCwl2lY0O1TnP58W//BxT8Xdf/eeHPgR4JQPykMmp6zcMvsTFYAE/TivqX/gkB8fPFX7T/g34zfHPxr4fsdL1PXPjMPtNjpqXCwxeT4X8PW67RcokvKxKx3KOScZGCenLeIMrzas6WFm5NK%2BzStot36m%2BP4d4ryikquZ5XisLBuylXw9WjFvflTqJXk0m7WvZN9D69ooor2jygooooAKKKKACiiigAooooAKKKKACiiigAooooAKKKKACiiigAormPjRofi3xH8Ldb0jwL8StS8H6rJZl7TxHpFlaXFzZFGDsY47yGaBmZVZP3kbgb84JArzz9mjxZ8Svj7/wT5%2BGfxC8SfFq70TxV4u%2BFGgatrPjOw0%2Bx8%2BG7uNPt57m5SGaFrVGLNIQGiMS7vuEDbQB7VXy7%2B0JrP8AZf8AwVn/AGZ7Hfj%2B0fhj8TLfHriTwxLj/wAhfpXY/sEfEb4kfFL4W6/4r8X%2BPtQ8YeHG8Z3cXw08b6xptraXviPQFgtwl9LHZwwQMrXf21YZYoY0ntY7aYKfN3t4H%2B1F8YvD2t/8Ftf2TPB2lWHiCCfSNE%2BJVjqk2q%2BE9RsLWZptP0po/stzcwRwXy7ovma2eVUyu4jcueXGT9nQ5vOP4yiv1Pd4cw31vNPZd6dZ/wDgNCtL/wBtPu2iiiuo8IKKKKACiiigAooooAKKKKACiiigAooooA8z1L9mT9m340aPoPin4xfs9%2BB/Fmp2/h%2B1tYNR8S%2BE7O/njgVS6xLJPGzBAzuwUHALscZJql/wwP8AsK/9GWfCX/w3Omf/ABiuT%2BL3/BSD9i/9j6Xw58NP2i/jL/wjut33hSz1O1sv%2BEd1G732r74lk32tvIgy8Mo2lg3y5xggnkP%2BH5v/AASy/wCjov8Ayydc/wDkKvFxGL4dp15RrzpKaevN7O9/O6vf1NF4h4jKl9UjnE6Sp6cixNSCj1soqvFR32UVvtqet/8ADA/7Cv8A0ZZ8Jf8Aw3Omf/GK9O0DQNC8KaFZeFvC2i2mm6ZptpHa6dp2n2ywwWsEahI4o40AVEVQFVVAAAAAwK%2BVv%2BH5v/BLL/o6L/yydc/%2BQq%2BnvAPjrwr8UPAmi/EvwLqn27RPEWkW2p6Pe%2BQ8X2i1uIllik2SKrpuR1O1lDDOCAeK6MDiMnrTksHKm2lryct7efKlpfuKXF1XiT91PMZYnk1s686vLfS9pValr7XSV9r9Dwn4YfsL%2BK/AHjzwprWp/GfTdQ0HwP8AFDxV4v8ADWlw%2BEJILsLrv9rPPaXFyb10lMUuqsUlSGL93CEZCzGQeR61/wAEYZde8U%2BPfEl58dvDsVx4y8BeP/C/9tWvwvRNbuY/E0iuLjVdRN8X1R7LaI4UC26eWNu1MBh7tYft%2BfCPV9OsZtJ8KeI5r660XxbqV3pMv2C3l0tPDl6thqMd3JPdpBAwu3SBGaXy2JLF1jV3XhPBv/BT7wP8dpvhxqPwEgs5bHXfjPqPgbxvBf31jqUunm38G6v4hQ21zpV9cWcrsbSwO9J5kCTTRsElU%2BV6RB10n7DAfxDquvj4oYOp/HXSfiOYhon%2Br%2BxaRp%2Bm/YM%2Bf82/7B5nnYG3zdvltt3N3nxr%2BB2oftAfs8678EvH/jGK3v8AWrBo08QaHpZgFldJKJrW6igllly0MqQvtZ2V2jOcBsD548W/8FVpX%2BCHhTxr8IvhTr/iO91SD4eyeI/FMvh%2BC30bRW8SXenKkFzANSa5juGtb3zVSA3UUDTQebMyklvpD4w/Hjw/8JPgF48%2BPt1o2pXNj4C8P6xql9ZXGnzWktwNOhlllWMTopZW8lgkqho3BDIzKQSAc78Bf2f/AIofCnV/EXjvxr8WtD8Q%2BKvHHi2LVvGmo2Xg%2BawtJLWDTIrC3srG3a%2Bma02fZ4JTJLLclma4G1RKnk8X%2Bzj%2ByX%2B1P8D9F8cX/iz9pj4f%2BLPGPjW7Oo3fjO5%2BEV7BPNfBwIRcxnXZFls4IALeG0hNuI1AYOXaRn2/2WvjZ8fvEPxU8TfAb9pUeEbnxFo3grw74rtdS8F6Vc2VoLXVZNSgNk0dzc3DvLbz6XNmcOiypNGRFGQy1zXjL9on9qj4ZfHjX/hHfXPgbxpLJ8L/ABF4u0fSvC/hS/t73w8bSaGPTIb9mvpxei8Mk0aGNLV2eym8tHVXMQBt%2BBv2Wv2hvhh4d8W6v4I%2BPngYeNvH/j5/E/i3VtV%2BFdxNo5Y6Xa6asNnp0WrxS258qyt2aSS6nZ3acsMSKI5PBH7CukeCvBvwK%2BG0fxFuLzw98E7t9RXT7jS0U63qAsLi0tpmKOqW8UJu7iZIFRlDi32lfIG7kPgl%2B3N4zvv2ddT8ZfErxHo3ib4lR3Om6bZfDrTvhpq/g2/t9Zv4VNrp09nq9zcXOx5C7fbNqxCCGaXBSGRhw3jz/gpV%2B0B4W/4J9eGvjLoXhXwbqvxb1PwxqGva1ZpYXaaJp%2BnabctHe3rQ/aDOEdhDbQxmcuZrpWy0cMuAD1H/AIYF1%2B7%2BOqeN9b%2BM9je%2BCoPifd%2BPYPDcnhEjVzqlxpUunPBJqv2sq9kI55NsQtVlCBITMYl2Gp%2Bzp%2BwH8Qf2a4bObwd8cPDc134N%2BFcPw/8AhcZPh3JFb6bpUMySRPqkcWoq2q3A8mEF4ns0/wBcyohmY1Yl/an%2BLulft2an8DfHvifRPCfghNU0%2Bw8Jf2t8J9bdvFE8%2BmC5kig8Qfa002GdZi6LbmJ5WETKFJO4UtR/au/aT%2BHmiftO3HjTTfA%2Bv6h8HtF/tjwTa6VaT6TDcwy6ZNew219NdXcqs4KKrTr5CEE/IuM0Aa3wQ/ZW/aw%2BBP7J/hH9m/w3%2B0r8N76/8KWQ0uPX9U%2BDV5Jb3OmLbrFHG1oNeBW4DBy03nGN1bb5C43HlJP%2BCWZ0TwXo/wAI/h78eZLDwbc/DTwz4F%2BIenar4ZF3ea/pWiTTvAba4juIY9PmmjurmCZjDOhidBGkTRq1clJ%2B3r%2B1lrX7GPx9%2BNXgbVPA0niT4NWdzqlhf%2BKfhTrugpqdnBoS6pJDcaBfagmoWTlyYo55Zgkq/vURlADe7ftLfGX45/Czxh8ItS8CXfhP/hGvFnjqx8P%2BLrHV9Fup76QXaOUks547qOO3KGNifMim3ZAAXrQBzfhr/gn9c%2BFPj5ZfEfR/idpcHhTSPiZrfxB0jw5b%2BD9mpDX9V067srtrjUvtRE9oft9zKIRbxybvJVpmSIIYfgf%2Bwf41%2BAN54y%2BJfw58a/CzQviB4qs9OsYbzwv8GG0vw7aWttcTTuX0qHVPOnuZ2uZvNuDeKTst8KBEVfS%2BLH7Rnxr%2BFX7aXgH4MNqOiap4Y8f6q1rDph%2BHOq2cumW66bdztOfEMl22m3Vx59mQNOSFLloZg4BWJpGm%2BBXxf/ac8er8dfAPjzxL4Gh8S/Djx2mj%2BG9a0TwVqEtmLWbQNJ1aNrixN%2B013Kh1CSM%2BVND5vlrtRCSKAOVg/wCCenxX0CbTPHng39pDQI/Gy3/iy41%2B41v4bNfeH7seIJbOS6FvpQ1GNrVozYwiN2uZjia783zTcuQ7Uf8AgmJ4X1WT4TeEdU13whfeFPhPonhqw06%2B1P4dR3Hi%2B7GiPDNbxnXWuv3NtLNbQPNClrukAlTzAspA4CP/AIKc/FmH4cafo%2BojR4fFWufGO/8ABejeIn%2BE3iAF7S00YarNeSeFFnbV47jO62WyeVZHTbe7hbsoPonxa/ai%2BPHg/wCDXgP9or4Y/Fn4X%2BL/AA9r39gWEejWng3UIr3xnqV9erBLHpkn9pH%2Bz/3TGRYZobtozFN5zqkbuoBu%2BPf2IfE37Q/xGn1v9rD4p6L4m8Kw%2BGdd0DTPDHhPwveaBcS6fqpgWeK%2Bv01OaW4xFboo8gWqlyZCpIQJB8I/2FfGH7MV98T/ABB%2BzN8fLm21T4keO7DXWl%2BJ7674vgsLW20Sy002hW71pJZpmktGm%2B1iZH2PDbsskdrDt43Q/wDgol4vh/bR074A%2BNNa8GW0Gu/FLU/Bdn8PoNMul8TaZBb6Xd31tr9zO1yY3srr7HtjUWsagXkWJ3aORDb/AOGqf2xtG/Z0%2BPmsXuieEvEnxD%2BFfxDj0Dw%2BnhHwJqs9reQS6dot6HbTo72W6upY11OYFYZUMggUqiEkUAewfBr4Gf8ADOX7Mdz8KpPFba3cQrrepahqf2IWsct3qF5dahcCGBWYW9us11IkMIZvKiWNNzbdxzfHH/KQv4X/APZGfHn/AKdvCFWfgb8W5vjL%2Bzpq/ibUfido3inUbX%2B0bHVrrR/BF/4bNncRK261n0zUbie6tJ0UruSZgxDK21VYVW8cf8pC/hf/ANkZ8ef%2BnbwhQB7NRRRQAUUUUAFFFFABXjP7B/8AyRDXP%2ByzfEf/ANTXW69mrxn9g/8A5Ihrn/ZZviP/AOprrdAHs1FFFABRRRQAUUUUAFFFFABRRRQAUV5b8af22/2R/wBncyw/Gf8AaJ8KaFdQ536bcavHJecdcW0ZaY/gleMv/wAFg/hD45Jt/wBl39nb4v8AxZeTi3vvCvgSeLTyexkuLry/LX/aKGvPr5rluHnyVKsebsneX/gMeZ/geXic7ynCVPZ1a8eb%2BVPml/4DFSl%2BB9cUV8iL8Qv%2BCxvxyIbwb8Cvhj8FtLl5%2B0eNdfk13VAnZkjswIVY9Ssg46dae37AP7ZvxMUr%2B0R/wVM8ez283%2Bu074baBZ%2BGwinqizRB3YdtxGax/tOtV/gYepLzaUF/5O7/APkpz/2xXrf7thKk/OSjTX/lSSl/5J8j6T%2BJHxn%2BD3wcsF1X4ufFbw34WtnBKXHiLXLeyR/oZnUH8K8J8Zf8Fjf%2BCbfgm7/s66/ae0zU7kttjg8O6Xe6lvPoGtoXT/x6pvhr/wAEi/2Bfh5qLeIdU%2BB0HjLWZTm71r4g3sutT3Lf3nW5Zos%2B4jFexJZfs9fs6aH9pjtPBngTTQuPMWO00uDA7Z%2BRcUpSzqceaTpUl5802vV3hE1o0eKcdUUKUacG9opVK0vujyJv0T%2BZ8%2B/8Plv2YtROfBXws%2BMHiRO0mh/DG9kUj1/eBKQ/8Fb/AA1ejyfDP7B37TGqztxFHa/Cd1DH3ZpwAPeus%2BIX/BWj/gnP8M5Gg139q/wzeyg7Vi8ONLqxZuyj7EkoznjrXKD/AIK3%2BDfFx2fAj9jn48ePlf8A1WoaP8PJILE%2BhM9w6bQfda86eYOMuV5hC/aNOMn9ylNn2uG8J/F3GUVW9hUp039qeHhRh8pYmrRX4v0E/wCG8f27PFX734V/8Ek/Gt1Cfuv4u8e6Zob490mDn8M0p/aH/wCCvGu/u9J/4J1eCtBZvuy658XLe6VP94WyAn8KD%2B19/wAFL/HX7n4Yf8Eu20eGT/V6t47%2BJtjbrH6b7WJTKfwNIPA3/BaL4inz/EHx1%2BCfw5hf/VweFvDN5q86D/bN4QhYf7PFR7avV%2BCriJ/4acIL75Rj%2Bpv/AMQmzqjrmmfYfD%2BTxOHlL/wDDUsVL5cyYfZf%2BC3vi/8A1%2Bq/s5eD7dun2eDWL%2B6T678RH8KD%2BzH/AMFZdaU3utf8FRvD%2BgMBk22ifBTT7qIf8DuZA1Kf2Dv25vGA8r4t/wDBWTxtcQP/AK2HwZ4I07QnA9FliLsPrjNCf8EZP2UPEbCb45eN/in8T5ScyS%2BPPiRezlz7/Z2ho%2BqY%2BrtSqv8Ax4jl/Cmmw/4h94f4bXMOJKtZ9qFLFT%2B6VR4OH4HC%2BMdD/a08ASNbfEX/AIOCfAmhFP8AWJqfwu8MWrj2/eXQIrzXxT%2B0Pd%2BEA02s/wDBxvo80idTpPwl0q9X8FtjJn8K%2Bv8Awb/wS6/4J5eBYli0T9j/AMDzBOh1jR11E/ibvzCa9K8Lfs8fADwOVbwV8DfB2jlPuHS/DNpb7fp5cYxR/Y2Yz3ko/wDcXES/9vig/sDwaw/XM67869Kin/5PWkvxPzEm/bH8WeOmOiab/wAFg/i98QtOYkNafC79mmPT76Q9MJdbVYflSRfBz4UfETN94m/YI/bX%2BK88n39U%2BKPiGfT2n%2BgSdMIe3HSv1rREjUIihVAwABgAUtH%2BrVSr/Grc3rFy/wDTlSf5B7Pwlo/Bw/Ov54rH4mr/AOS04U4H5XeH/wBkPwzZFf8AhX3/AAbwXd0f4X8WfGyGL8SLqWT8q7Cy/ZL/AGg9WtxZ%2BHP%2BCJn7OPhofwyeKvEVpqW3/eNvDuP51%2BkNFbQ4YwsFbnfyhRj%2BVJv8TennHA%2BFX%2By8LZfH/FHEVPwniFF/cfnt4W/YD/br0i//ALb8P/s5fsReEpzjy5NL%2BHt9c3EQ/wB%2BSPAP%2B6cV6fp/wD/4K8S2aaYP2yvhT4YtoxiOPw58MvOWMeirOwFfXVFdVLIcJRVozqL0ny/%2BkxidtHjqWDVsHlOXUf8ABgaP/t0p3%2Bdz5L/4Yl/4KI%2BIuPHv/BWzXmjbrD4b%2BFelaaVHoJEdifqRR/w6x8R678/xC/4KS/tI6mT/AKyDT/iAlhA/sY44Dx7Zr60orX%2BxMufxqUv8U6j/ADmjf/iJ/GMP93qUqP8A16wuDp/lhZP8fmfJkf8AwRZ/Ym1eVZvipH488eMpBH/CYfEPUZxn1IiljzXd%2BFf%2BCX3/AAT08GokekfsfeBZgn3TquiJfn8Tc%2BYT%2BNe8UVpTybKaTvHDwv35U3975n%2BJyYvxJ8QsdD2dbNsS4/yqtUhH5RpulFfKKOC0r9lf9mDQkWPRP2cPAVmqDCLa%2BD7KML9NsQxXR6R8N/h34fIOg%2BAtFssdPsmlwx4/75UVtUV2xoUIfDBL0SX5JHzNfNs1xV/b4ipO/wDNUqS/9KnIAABgDAHQCvGf2X/%2BS3/tHf8AZZrH/wBQrwvXs1eM/sv/APJb/wBo7/ss1j/6hXhetTgPZqKKKACiiigAooooAKKKKACiiigAooooAKKKKACiiigAooooAKKKKAMT4jfD/wAP/FTwTqHw%2B8VXOrw6dqkIiu5NB8Q3ulXYUMGxHd2MsVxCSQATHIpIJU5BIPmenfsA/syab%2Bzrc/smxaJ4tn%2BH134YPh2Xw7ffFDxBcqulkr/oqTS3zTRoFURDY4IizECIyUPs9FAHK/B74NeDPgX4TbwV4DvfEc1gbkzqPE3jPU9cmjOxI9iT6lcTyxxBY1xErCNTuIUFmJ%2BN/wDgpTqn9h/8FWv2INU3Y3al4ytc/wDXcaJFj8d1feVfnZ/wWKvpdH/4KGfsR66nCW3j3Ulnb%2B7HJqfhyNj/AOPV5mcS5MunLtyv/wAnpn2/hxQWJ4zw1H%2BdV4/fhcX/AJH6J0UUV6Z8QFFFFABRRRQAUUUUAFFFFABRRRQAUUUUAZXgb/kSdH/7Bdv/AOi1rVrKHgzQ0ysDX0KZJEVvq1zGi%2ByqsgVR7AAUv/CH6T/z96r/AODy7/8AjtAGpRWX/wAIfpP/AD96r/4PLv8A%2BO0f8IfpP/P3qv8A4PLv/wCO0AeH%2BIP%2BCaf7PniXxH8ZvEuoav4mEvxt062s9ct01GHydEESktJpqGEiBppyLmYS%2BaksyqWUr8hf4K/4J3fDnwt4uj%2BIXiD4xePvFPiA/E6Tx3eax4gvdP8AMu9TbwrP4X8tktbKGJLcWE5ZY4kjxMiNnZujb23/AIQ/Sf8An71X/wAHl3/8do/4Q/Sf%2BfvVf/B5d/8Ax2gD5y/4dSfBiz8L6B4B8OfGf4kaR4d0ix8IQ6poOnanp4g8QTeGmtTpl3eM9i0om22Vskv2d4I5UiUMnyrj6B1j4daR4t8D678OviFfXPiPSfEUN9bala6pHCoayug6vZjyI4wYljcxqWzIVA3u7ZY3P%2BEP0n/n71X/AMHl3/8AHaP%2BEP0n/n71X/weXf8A8doA8z%2BB37Hul/AuTUtZ0745%2BO/EGv6pDotjdeKPE0%2Bmz3x0jSpJXtNJHl2UcX2YfaLsM5jNyxvJnM/mFZFzvhL%2BxNcfB7x34/8AH%2Bg/tV/Eu%2BuviLqF7f6zHq0Hh%2BU291MvlwSQzrpK3G20iCRW0MsskMaIA0b859d/4Q/Sf%2BfvVf8AweXf/wAdo/4Q/Sf%2BfvVf/B5d/wDx2gDyPSf%2BCf8A8BdYPiC9/aOsj8bdR8Sz6e%2Bp6j8XNB0jUAEsEuEs44rW3sYLSEQ/bLwqyQBybqUs7buOL1L/AII0/wDBPHV/2ZYv2XNT/Zy8K3GmWumXllpviObwhpL6xp63MzzSSW9wbMrFJvfhlT%2BFcgkZr6Q/4Q/Sf%2BfvVf8AweXf/wAdo/4Q/Sf%2BfvVf/B5d/wDx2gDzXxH%2Bx94d8V%2BPNA1vV/iv4rHhDwrqmnal4c%2BFVlBpVr4f0%2B5sIkS0ZBBYpeFInRZlha6MQkVTs2qqDmr7/gnn4Y8SeJ/i1rHxC/aK%2BI/iTS/jHpTWHiPwzqB0W3s7FFUR20lnJZ6bBdRSW0X7uJnnkyDulErgOPb/APhD9J/5%2B9V/8Hl3/wDHaP8AhD9J/wCfvVf/AAeXf/x2gDwzxb/wTv0Hxz8GfiV8KPFH7TfxNutR%2BLdiNO8c%2BOm/sIaveaYLN7MWCINL%2BxQQ%2BTJKN0dqsu6V38zcd1aXxf8A2Jte%2BMvg7wD4W1n9sz4qabdeANYTVrbXdKsvDAu9Vvoyfs9xdrNoskGYlZ1VYIoUYOfMWQhSPYf%2BEP0n/n71X/weXf8A8do/4Q/Sf%2BfvVf8AweXf/wAdoA898TfsrQ%2BOvjBpHxP8ffHXxxrWl%2BHteTW9B8BXTaXHo9lqEdu8Mc4aCxjvZdnmSSLHLcyRiRg2z5EC4Xw%2B/Yr174b%2BJviX4v0b9sn4qT3/AMT9Vi1TU5rq18Nf8Su%2BitrO0iuLQR6MgBW1sLa32T%2BdGyKzMjSMZD6//wAIfpP/AD96r/4PLv8A%2BO0f8IfpP/P3qv8A4PLv/wCO0AeMRfsAeDYNKbUYPjf49Xxy/jxvGD/FEyaU2tHVG0pdHLeU1gdPER01VtfJFp5e1Q%2B3zh5tZVn/AME2PB/h3xt8P/Gvw9/aQ%2BJfh0/Dfw3NpOg6Zatol7avJcTvNfajINQ0y5db66LmOWeJoz5eUjEYeTf75/wh%2Bk/8/eq/%2BDy7/wDjtH/CH6T/AM/eq/8Ag8u//jtAHEXf7NNnr3x10743%2BOPi74u8QR%2BHr6a/8IeD9TOnppOgXstpJZyXUAt7OK5llNvNcxg3M84QXUuwLkbeW%2BGH7FHiH4Uy/Ea/0P8AbQ%2BK11qHxK1yLWdR1K%2Bs/DHm6ZqCQWlt59oseipGC1tZW8BSZJo9qFgokZpD7B/wh%2Bk/8/eq/wDg8u//AI7R/wAIfpP/AD96r/4PLv8A%2BO0AcJ8PPgHoHwB%2BFvjGx0/xdrniPVfE15e654n8TeJJbdr3Vb%2BS1jg82QW0MMEYWC3t4VSKKNFSFAFzknI8cf8AKQv4X/8AZGfHn/p28IV6ifBmhvhZ2vpkyCYrjVrmRG9mVpCrD2IIry7xx/ykL%2BF//ZGfHn/p28IUAezUUUUAFfP3/BS46YP2a7X/AITTy/8AhCv%2BFheF/wDhZH2j/j3/AOEe/tm0%2B2/as8fY/L/4%2Bd37v7N5/mfu99fQNFAHwX4ItPhf4%2B/YC%2BLXwv8Ah/8AGXwV4W8CR%2BO9S1bwE2ra1Ha6IfCMOsRSPE7I37nQ7qeDULMTRgwi1mPlBowinzDQ/iv%2Byr8N/wBlXxx4g/aZ%2BD3wO1jwh4j%2BOsth%2Bzd4JOpWsngppJNB05Jnsby%2BghgTT476PVppb4QRqCLpoEcyQpJ%2BodFAHk/7Omi%2BJ/h9%2BxX4E8MfC7x9onxS1XRPAGl2Wl%2BJ7/xI8Nh4kkhtYo/tZvYo7txHLtLiQJOxBGSxJasP/gnTceJbv9m6%2BuvGWk2Nhq8nxb%2BIbanY6ZqL3dtbznxnrXmRxTvDC0yBsgO0UZYAEoucD3SvGf2D/wDkiGuf9lm%2BI/8A6mut0AezUUUUAFFFBIAyTQAUy5ubayt5Ly8uEihiQvLLK4VUUDJJJ4AA718vfGv/AIKaeGIfHVx%2Bz/8AsXfDy7%2BNHxJj%2BS5sPDs6rpGikkr5l/qB/dRAHIKKScqUJQkVz1p/wTw%2BPn7U9zH4k/4KVftHXOvaczrKnwl%2BHksul%2BHYOchJ5ARcXuOxYqVPRiK8qeaKrN08HD2slo2naCfnPVXXVRUn6HiVM5Vao6WAputJaNppU4vtKo7q66xgpy72Z6V8XP8AgqD%2BwH8EpXs/G37UXhia8Rth07QLltVuQ/QIY7JZWViezAVwrf8ABar9iSYE6S/j7UDj5RZ/DrUiW9huiFe7fCL9lT9mn4BxInwY%2BA3hPw1Ii4%2B1aToUEVw/u0wXzHPuzE139L2Wdz1dWnHyUJS/GU1%2BSD2PEVTWValDyVOUvxlON/8AwFHyG37f/wC2F8Z1MH7JX/BNzxnJbTcQ%2BJfixfw%2BHbVB2lFu5aWdD22MCQc1Cn7A37Wn7TDDUv2%2Bf2y9SOlyndJ8NvhDv0fSQO8U103%2BkXaez4IIGGru/jp/wVA/ZO%2BCviUfDfSfE%2BoeP/GsjmO38D/DXTzrGpPIOqMsR8uJhxlXdW56GuMP7Rf/AAVX%2BOQMXwP/AGJvDHw006biHX/i94pM0xU/xfYLIebE4HRXJGevGa8urLA1Kjp4itPESW8IJ8t%2BzVO0flOp6o%2B4wfg/xTmGFhi84n7KhNXUsVVp4SlJd40241ase1qdRPpzHqPwU/4J1fsQfs9mKf4V/sz%2BFrO7hx5WqX1h9vvVPqLi6Mko/BhWh8aP26v2Of2dVlt/jB%2B0b4T0a5twRJpf9qJPeqB/06wb5j%2BCV42P%2BCaPxg%2BOR%2B3ft1ftzeOPGsEp3TeDvBrL4d0PH/PKSO3%2Be4UdA5KN61658Fv%2BCf37Fn7PXkzfCT9mrwppt1BjydTn00Xd6uPS5uPMm/8AH67aEcwjDkwuHhRj/etf/wAApq33zPew/D/hdw5T9nWxlTEyX2MHRjRpent8QlJ%2BsMP6X6%2BTD/gqpq/xWP2f9jP9iH4p/E5ZP%2BPbXbvTF0HRZs9Nt7efnzGOKcF/4LP/ABkO5pfg78GdOk6KFuPEOrQ57Hpatj2xzX1xRW/9nYqr/vGJm/KFqa/BSl/5Mb/65ZDl%2BmUZJh4W2niHUxdT1tUlTop%2BlFr1R8kf8O3/ANov4hDP7RP/AAVD%2BLmsq/M9r4FS18MQSeqlbdZMr2xxkVr%2BD/8Agjl/wT68M6l/wkHiD4LS%2BL9WbHnar421%2B81OWbH95JZTEf8AvivqCinHJMqUuaVJTfebc3/5O5fkZVfE/j2dN0qGOlQg944eNPDRt2th6dFteTmzk/h58BPgZ8I41i%2BFXwZ8KeGlQYX%2BwPD1tZ4H/bJFrrKKK9KFOnSjywSS7JJL8Ej4rFYvF46s62JqSqTe8pSlKT9XKUm/vCiiirOcKKKKACiiigAooooAKKKKACiiigAooooAKKKKACiiigArxn9l/wD5Lf8AtHf9lmsf/UK8L17NXjP7L/8AyW/9o7/ss1j/AOoV4XoA9mooooAKKKKACiiigAooooAKKKKACiiigAooooAKKKKACiiigAooooAKKKKACvzl/wCC4/8AoHx7/Z98X9P%2BEf8A7U1Hd/d2%2BIvCCZ/8iV%2BjVfnR/wAF9IJU0TSNetkLTaP8KfEN9CB1yni3wICfyY15We/8ibEPtBv7rP8AQ%2B/8KWv%2BIl5RB/bxFOH/AIM5qf8A7kP0XoplvPFdQJcwPuSRAyMO4IyDT69U%2BBaadmFFFFAgooooAKKKKACiiigAooooAKKKKACiiigAooooAKKKKACiiigAooooAKKKKACiiigAooooAKKKKACiiigAooooAK8Z8cf8pC/hf/2Rnx5/6dvCFezV4z44/wCUhfwv/wCyM%2BPP/Tt4QoA9mooooAKKKKACiiigArxn9g//AJIhrn/ZZviP/wCprrdezV4z%2Bwf/AMkQ1z/ss3xH/wDU11ugD2aiiigCpr%2Bv6H4U0K98T%2BJtXttP07TrWS5v768mEcVvDGpZ5HZuFVVBJJ4AFfE2reO/jl/wVs1e58FfBXU9Y%2BH/AOznDcPb6947WJrfVvHSq22S209XGYLM4KtMwywypB%2BeKp/jb4g1z/gqN%2B0Be/si/DLV7i3%2BCPgLU4/%2BFxeKbCYoPEeoRsHTQbaResasAZnU8Y6jCeZ9o%2BH/AA/ofhPQbLwv4Y0i20/TdOtY7awsbOERxW8MahUjRV4VVUAADgAV4cnPOKkoRbWHi7NrR1Gt0n0gtm1rN3Saim385Jzz%2BtKnGTWFi7NrR1ZLSUU1qqcdpNazd4pqKblznwR%2BAnwd/Zw8BWvwz%2BCHw903w5otqBttNPgCmV8AGSVzlpZDgZdyzHua6jVNU0zRNNn1jWdRgtLS1haW6urqZY44Y1GWdmYgKoAJJPArzP8Aa1/a8%2BFH7Hfw4Xxz8R7i4u7/AFC4Fn4Z8L6VH5uo67etgJbW0Q5diSoLdFyM8kA%2BB6R%2ByH%2B07%2B3xqNt4/wD%2BCimut4Y8DCZLnR/gL4U1JliYAhkbV7tCGuZBwTEhCggEFDuQ71sZDDSWEwlPmmkvdWkYro5O1orsknJ9I9T9U4e4Lo1MrjmeZ1o4PL03GMuW86rja8MNRXK6kldKUm4Uaba9pUv7j6Tx7/wVd%2BFmr%2BJrn4XfsZfDXxD8dfF8J2SW/gmHbpFm56G51OQeRGh/vpvXtkVhj9jH9s/9sYjU/wBvv9oM%2BF/Cs53f8Kg%2BE9y9rbyRn/lnf6gcy3GRgPGuUyMoy19XeAvh34B%2BFfhe28E/DPwVpXh/R7RcW2maNYR20Ef0SMAA%2Bpxk1s1H9m1sVrjqvMv5I3jD5680/wDt6SX909X/AF2yzIPd4WwSoTX/ADEVnGvifWDcfYYd/wDXmlKa6VU1c4T4E/sxfs/fsyeHP%2BEV%2BAnwj0TwxaMoWdtNswJ7nHQzTNmWZv8AakZj713dFFepSpUqNNQpxUYrZJJJfJWPg8dj8dmeLnisZVlVqzd5TnKU5N93KTk38392wUUUVocoUUUUAFFFFABRRRQAUUUUAFFFFABRRRQAUUUUAFFFFABRRRQAUUUUAFFFFABRRRQAV4z%2By/8A8lv/AGjv%2ByzWP/qFeF69mrxn9l//AJLf%2B0d/2Wax/wDUK8L0AezUUUUAFFFFABRRRQAUUUUAFFFFABRRRQAUUUUAFFFFABRRRQAUUUUAee/tXWnwDvf2d/Fdv%2B1BJ4XXwIdNzr58azwR6XtEimIXDXBEW0zCMAOcFto5zivkTwL8ZPh78Rf%2BCFPgTRvhN8VdJ12Sx%2BCPhKLxdaeFNcjury30e3TTrfXFK2ztIjR2q3kTgAOjgrwwxX37RQB8zf8ABN0/C4zfGL/hmw6H/wAKh/4WdF/wrb/hE/K/sTyf7B0n7d/Zvkfufsv9ofa8%2BT8n2j7VjndXgf8AwWDg%2BK/inU/E%2Bi%2BNvBHh6w0K0/Z58bT%2BGtQ0rxPPeXd%2BkWveDJpGubaSyhS0K%2BWmAk1wGycldo3forXxv/wVE0b%2B3ta1TTgm5v8Ahkz4ryovq0dz4VkUfmorhzSHtMsrx7wn/wCkyPq%2BBMT9T45yqv8Ay4nDv/yvS/zPqL4L6z/wkfwd8J%2BId%2B77f4ZsLjdnrvt0bP6101eW/sO6z/wkP7Fvwi1wtlrv4ZaDI5/2jp8G4fnmvUq3ws/aYWnPvGL%2B%2BMX%2Bp5OfYb6lnuLw/wDJVqx/8Bq1Y/8AtoUUUVueUFFFFABRRRQAUUUUAFFFFABRRRQAUUUUAFFFFABRRRQAUUUUAFFFFABRRRQAUUUUAFFFFABRRRQAUUUUAFFFFABXjPjj/lIX8L/%2ByM%2BPP/Tt4Qr2avGfHH/KQv4X/wDZGfHn/p28IUAezUUUUAFFFeIft/eJPEWhfBPRtI0TxXqWgWniT4l%2BFfD%2Bv65o%2BoSWd1Z6dfa1aW1wIrmJle2eZZPswmRleP7RuRkcKwAPb6K%2BQfCEX7QPjj9jX4r/AAv%2BC/j/AF7VdR8L/FfUtA8Jaze%2BKpP7V1HRbXVLdruwj1S4cyfaxEb/AE2K7lk8xJIo2eXejSV5V8KPHfxS%2BKnxGtf2YviHrfxJ8F/D4/tB61oenJefFK7k1%2BS1tfBlpqiaTPrtlfSzyMuoTajMwivJGUWP2ZpGSGVCAfonXjP7B/8AyRDXP%2ByzfEf/ANTXW6pfsZfF74jeK/2BvAfxe8RaRrPjrXp/CEE6DTpLSO%2B8RIvyQ3atczQW/mXEQScs0kaHzCQQCBSf8E6dWv8AXv2br7W9V8MX2iXN58W/iHNcaPqckD3Ni7eM9aJhla3llhLoTtJjkdMg7WYYJAPdK%2BaP%2BCl/7QXjnwD8OdF/Zv8AgFcbvin8YtRbw/4QEbkNp0DL/pupMRyiQQkneOVZlbkKa%2Bj9V1TTtD0u51rWL2O2tLO3ee6uJm2pFGilmdj2AAJJ9q%2BQf%2BCfGiav%2B1n8bfFf/BTz4i6dLHZ64svh34NaZeIQ2neHYJWV7vafuS3MoZj3A3gEo4ryszqVKijg6TtOre7X2YL45etnyx/vS8jxM4rVaihgKDtOtdNreNNfHLydnyx/vST%2ByfRH7MP7Onw%2B/ZR%2BBvh/4E/DSwWLTtDsVjlufLCyX1wRma6lx1kkfc59M4GAABg/tk/tgeBP2O/hlH4s1/T7jW/EOs3Q0/wV4N0z5r7X9RfAjt4lAJ27mXe%2BCFBHDMyq3QftM/tF/Dr9lL4J678dPijfmLTNFtdy28RHnXtwx2xW0IP3pJHIUDoM5OACR4Z%2Bxd%2BzF8TviJ8Rz/wUC/bWsUf4i61Z7PBfhFstbeBNJkBKW8at/wAvbq2ZZCAwLMvBLgziKsqPJgMEkp2WttKcNuZrq9LQj9p6v3VJv9R4R4byfCZW87ziPLgKD9nClF8ssTVjFNUKb3jCK5ZYiqr%2BzptRjetVglc/ZH/Yv8f3HxGP7an7cOp2viL4u6lb7dI0qH59N8D2bZIsrJCSPNAYiSfkklgGbLySfUdFFduEwdHBUfZ0/Vt6uTe7k%2Brf/ASSSS8biLiLM%2BJ8w%2Bt4xpWSjCEVy06VOPw06UFpCEVslq3eUpTnKU5FFFFdR4QUUUUAFFFFABRRRQAUUUUAFFFFABRRRQAUUUUAFFFFABRRRQAUUUUAFFFFABRRRQAUUUUAFFFFABXjP7L/APyW/wDaO/7LNY/%2BoV4Xr2avGf2X/wDkt/7R3/ZZrH/1CvC9AHs1FFFABRRRQAUUUUAFFFFABRRRQAUUUUAFFFFABRRRQAUUUUAFFFFABRRRQAV8x/tn6N/wkfx90/w9s3fb/wBmP4o2%2B3133XhVcfrX05XhvxZ0qPXf27Ph7okuNt58DfiDA2fR9U8Ir/Ws60PaUZQ7pr701%2Bp2ZdifqeYUcR/JOEv/AAGcJf8AtpT/AOCWOs/29/wTu%2BEF9v3bPBVrb5/645ix/wCOV79Xyv8A8EUNVk1b/gmN8MHmyJLa31S1kU9VMWq3kYB/BRX1RXDk8/aZRh5d6cP/AElH1HiRhvqfiJnFD%2BXFYhf%2BVqj/AFCiiivSPiwooooAKKKKACiiigAooooAKKKKACiiigAooooAKKKKACiiigAooooAKKKKACiiigAooooAKKKKACiiigAooooAK8Z8cf8AKQv4X/8AZGfHn/p28IV7NXjPjj/lIX8L/wDsjPjz/wBO3hCgD2aiiigArN8Y%2BDPB/wARPC1/4H%2BIHhTTdd0TVLZrfU9H1ixjurW8hYYaOWKQFJEI6qwINaVFAHFW/wCzX%2BznaeC3%2BG9r8AfBUXh2TQ/7Fk0CPwrZrZNpvmNJ9iMAj8s2%2B93fysbNzscZJNR6n%2BzB%2BzTrXwltvgFrH7PHga78CWbq9n4KufCVnJpMDK5dSlm0RhUh2ZgQvBJPU13NFAEOnadp%2BkafBpOk2MNra2sKw21tbxBI4Y1AVUVVwFUAAADgAV4/%2Bwf/AMkQ1z/ss3xH/wDU11uvZq8Z/YP/AOSIa5/2Wb4j/wDqa63QBwn/AAVt%2BJPiXQf2WR8Cvhxc7fF3xk8QWfgfw8ik5UXr7bmRgOQgtxKpbopkUmvoD4W/Dvwt8FfhZoHws8KRLb6P4X0O206xD4G2CCJY1Zj6kLknuSTXzAv/ABlP/wAFdi//AB8eGP2cPB%2BB3jbxJq6fk2y0X3KSJ2JroP8Agqd8W/GGlfB/Rv2V/g5e7PH/AMb9YHhbQWQndZWTgHUL4gchIrckFhyplDD7tfPxxUKc8TmEldR/dwXfleqXnKrKy9PIOB8ixHGPF7o0pKKqTVJTfwwpUrzr1Zf3YWqzk%2B1K27Rwnw4il/4Ki/tZx/HXVomm%2BBHwe1p4fAFnKP3Pi3xFGdsmqEdJLe3PyxdQW5B5lSvtuuX%2BCvwj8HfAT4SeHfgx8P7EW%2Bj%2BGtJhsLFMDcyxqAZHx1d2y7N3Zie9dRXoZdhJ4ak5VXerN80359l/divdiuyvu2fXcY8Q4fPMwhQwEXTwWGj7LDwe6pptuc%2Bjq1pXq1ZdZyUV7tOCRRRRXoHyIUUUUAFFFFABRRRQAUUUUAFFFFABRRRQAUUUUAFFFFABRRRQAUUUUAFFFFABRRRQAUUUUAFFFFABRRRQAV4z%2By//AMlv/aO/7LNY/wDqFeF69mrxn9l//kt/7R3/AGWax/8AUK8L0AezUUUUAFFFFABRRRQAUUUUAFFFFABRRRQAUUUUAFFFFABRRRQAUUUUAZvjPxj4V%2BHfg/VviB451%2B10rRNC02fUNY1S9lCQ2drDG0ks0jHhURFZiewBrkfhh%2B1J8D/i74G174i%2BE/FtzbaZ4Wlkj8TDxLoV7otzpBS2juibq11CGCeBTbyxzBnRVaORXUlSDVD9tT4Q%2BKvj5%2ByZ8Q/g74Fe1Gt%2BIPCl5a6PHfSlLea6MZMUUrAErE7hUdsHCsxwcYPkXh7wD%2B0p4%2BT48fEC4/Z9n8Ia18V/DA0rwnoXjO90m/trCWy0d4IZtVSzu543S4urqSMRwmfMFspl8suIwAe1fAr9qX4KftIPqVt8Kdf1Oa50i3tLm/0/XPC2o6PdJbXYkNrciDULeCV7ebyZvLnVTG5hkCsSjAc344/5SF/C/wD7Iz48/wDTt4QrzX/gm7%2Bzn8Q/gj4z8Z67q/wk8Y%2BDPDmp%2BEfC%2BmafpnxH8c2/iPWptSsV1BbyVLyK8vDHp/lz2awWxmVI5FunjtrcSt5nU3/gvxJ4e/4KbeC/EWrfFzxDrtnq3we8cPYaDqttpyWmihdW8JZS2a2tIp3D7hn7RLOfkG0r82QDkv8Agi3/AKB%2BxlP4Q6f8I/8AEXxHp23%2B7t1GV8f%2BRK%2BtK%2BS/%2BCSP/Ev8K/HbwieP7C/aX8W2aJ6Jvt3BHsd5r60ryci0yeiuyt90pR/Q/QPFX3vEbM6n89RT/wDBlOhU/wDcgUUUV6x%2BfhRRRQAUUUUAFFFFABRRRQAUUUUAFFFFABRRRQAUUUUAFFFFABRRRQAUUUUAFFFFABRRRQAUUUUAFFFFABRRRQAV4z44/wCUhfwv/wCyM%2BPP/Tt4Qr2avGfHH/KQv4X/APZGfHn/AKdvCFAHs1FFFABRRRQAUUUUAFeH/sV6vZeH/wBnfxRr2pSbLex%2BLnxLuJ29ETxnrjMfyBr3CvkBvGn/AArz/glz8dfGKTeXLZeI/i8bZs4xM3irX0i/8fZaxxFVUMPOq/spv7k3%2Bhhiq6w2FqVn9mMpfdFv9C7/AMEaPD97qP7IDftFeKhv8T/GDxdq3i3xHMRn95LdyQxRqTz5axQoVXoN7YrK/Y5z%2B2V%2B2v4//b01H/SPCXg8y%2BBPhCW5jljibOo6lH2PmynYkg6xsyH7tSXvjT/hjn/giLYeKY5fsl/o3wRsYrVs48vU7y0iijP4XNyp9TXt37DfwVX9nb9kH4dfBt7MQXOi%2BFLRdTjC4/02RBLcnHvPJKfxr57BUXOWEwstqdONSXnN6Rv/ANvSnP1t2Pt%2BCqT4X8KauYrSvi%2BTCQfVQ9nHEYuS/vT5qVFvopzX2j1Wiiivpz48KKKKACiiigAooooAKKKKACiiigAooooAKKKKACiiigAooooAKKKKACiiigAooooAKKKKACiiigAooooAKKKKACvGf2X/APkt/wC0d/2Wax/9QrwvXs1eM/sv/wDJb/2jv%2ByzWP8A6hXhegD2aiiigAooooAKKKKACiiigAooooAKKKKACiiigAooooAKKKKACiiigAooooAK8Z8cf8pC/hf/ANkZ8ef%2BnbwhXs1fPPxe8dWXhj/gp/8AArwpesoPiT4Q/Ea1tM9TNFfeErjH/fuKX8h6VMpRgrv%2Br6EznGmry8vxdvzZyP8AwTa/4lHx6/am8I9PJ%2BONxqO3/r7tYnz%2BO2vrSvkv9ir/AIlH/BRz9rrwmeAms%2BENRQev2nSZGYj8VFfWleXkumA5e0qi%2B6pP/M/QvE73uLXV/wCflDBz/wDA8HhX/wC2hRRRXrH5%2BFFFFABRRRQAUUUUAFFFFABRRRQAUUUUAFFFFABRRRQAUUUUAFFFFABRRRQAUUUUAFFFFABRRRQAUUUUAFFFFABXjPjj/lIX8L/%2ByM%2BPP/Tt4Qr2avGfHH/KQv4X/wDZGfHn/p28IUAezUUUUAFeYftbfGTxl8GPhhYX3w1s9Ml8S%2BJPGGi%2BGtAk1uCSWytbjUL%2BG2N1PHFJG8scMckk3lLJGZTEIw8e/evp9cb8ePgl4a/aB%2BHUvw78Taxqel7dSsdT0vWtEmjjvdL1Cyuoru0u4Gljkj3xzwxttkR43AKOjozKQDxLVf2yfjN4U/Y1%2BKHxT1zw/wCHL/x78LfE2oeH9Sewsp4tMvZYbiER30Vq1w87A2tzDP8AYlneV5Q1vHK7Mjny24/4KVftEf8ACsrS9jj0RL1/i5qXhSfxRB8FPEd3d/ZbbRF1JJH8GxXY1q2neRmhKSSHZDGl4yiG4jx9AR/sHeAZPgtrHwR1f4q%2BNb%2B017U/7a1PWrm5sE1GXXxqa6mmtCWK0RVukuY4CkYQWqJbRRrbhFKnKT/gnZ4UtbtfG%2BlftFfEmz%2BILeKrvXrz4nQTaO2rXk9xpttpksMkD6a2n%2BR9ksrOMRpaLtNqjgiQu7AHb/Az9ovS/GH7IPg39qL416x4a8Jwa14H07XfEV2fEMDaVpr3FtHJIBeM/lGJXcqH3kEY%2BY9T8YftJfEPR/En/BFb4i6h8NvEljq0Hjn4zeLbDw7qWmXaT219HefEXUdskUkZKyI8O8qykgggjIr73%2BC/wj8G/AT4TeHfgv8AD6C4TRfDOkw6fp32y5M0zxxqF3ySNy8jHLMx6sxPevgn42/8VT8Fvg18HY/m/wCEn/bs8Ttexf37K28a%2BIZp%2BPb5DXlZ23/ZFaK3lHl/8CcY/wDtx4vEbf8AYWIit5R5V/2%2B4w/9vPV/%2BCkuh2Xi/UP2d/2FtFXdbeM/iTZTapaAZ83Q9FhFzdIR6Y8k56fLX2NXyL4X/wCL5/8ABZPxLrv%2Bu0v4IfCy00qMdRFq%2BrSG4ZwfU2ilCPb8K%2BuqnLEqmIxGI6OfIv8ADTSj/wClOX3H63xmllmSZLksdPZYf281/wBPMXN1tfNUIYdejXRhRRRXrn58FFFFABRRRQAUUUUAFFFFABRRRQAUUUUAFFFFABRRRQAUUUUAFFFFABRRRQAUUUUAFFFFABRRRQAUUUUAFFFFABXjP7L/APyW/wDaO/7LNY/%2BoV4Xr2avGf2X/wDkt/7R3/ZZrH/1CvC9AHs1FFFABRRRQAUUUUAFFFFABRRRQAUUUUAFFFFABRRRQAUUUUAFFFFABRXHftB/GbQv2d/gd4s%2BOfiTTLq%2Bs/CmgXOpSafY7fPvGijLJbxbiF8yRgsa7iBucZIGTXD/AAv/AGtNTuNF%2BJUf7SHgDTvA%2BufCm2jv/FdpoviKTWbE6ZJY/bY7yC5a1tpJBtSeNkaBGWS2kA3qUdgD2mvgT/gqL45m%2BFn/AAU//Yn%2BIiuyQxav4r0m7lH3Y4dRk0GyZm9FHnDk%2B1fSv7GX7VGrftX%2BEtR8b3Oj%2BBLG0ge3FtZeEfiXH4hvbJpEMjWuqRxWsUdheRqYw8CS3ChmYCQhQzfLv/BcrwfqXiWTQ/EXh4Y1bwh8H/FniTSpQM%2BTLZeIvBUrv%2BEIl/OvNzhzjldWcN4rmX/brUv/AG1nkZ%2B6kMmr1Ke8I8y/7ccZ/lBr5nqnwD/4kn/BXz4/6Z0/tvwB4V1HH97yY5LfP64r60r4w0Txvp%2Bhf8FZPAnxa4GhfHn4CfZvD82et9ZSrflM9D/osin1yRX2fWWTyi6VaK6VJ/dJqa%2B9Suj9W8QGsRWyvHQ1hWwGEafR%2Bzpzoy/8BlS5X2dgooor1z4AKKKKACiiigAooooAKKKKACiiigAooooAKKKKACiiigAooooAKKKKACiiigAooooAKKKKACiiigAooooAKKKKACvGfHH/ACkL%2BF//AGRnx5/6dvCFezV4z44/5SF/C/8A7Iz48/8ATt4QoA9mooooAKKKKACiiigAr84vA7L4z/bQ/Z5%2BH%2B4Nb6J8X/jl4j1JD22eJ9Xit29sS7q/R2vy1%2BAfirb%2B2h8XvH/m/wCi/C34ZfFW43Z/1N5P8Qdfn3Z7ZgT9K8fO5qOGpxezqQ%2B6Lc3%2BEDzMxw1TH1cJgafxVsRQgvnUT/RH0l/wSEjf4h/DD4i/td3ylpvjB8VNY1jT5WHzLpcExtLSH6J5UoHsa%2BuK%2Bef%2BCTvhX/hDf%2BCcnwi0jy9nneEo77GP%2BfqSS5z%2BPnZ/Gvoatclg6eU0L7uKk/WXvP8AGTP0zxMxUMV4g5o6fwQrTpwXanRaoU18oUYr1u%2BoUUUV6Z8MFFFFABRRRQAUUUUAFFFFABRRRQAUUUUAFFFFABRRRQAUUUUAFFFFABRRRQAUUUUAFFFFABRRRQAUUUUAFFFFABXjP7L/APyW/wDaO/7LNY/%2BoV4Xr2avGf2X/wDkt/7R3/ZZrH/1CvC9AHs1FFFABRRRQAUUUUAFFFFABRRRQAUUUUAFFFFABRRRQAUUUUAFFFFAHHftCfBnQ/2ifgb4s%2BBniTVLqws/FegXOmyahY7fPs2ljKpcR7gV8yNisi7gRuQZBGRXm3gT9j7xvJb/ABBk/aA%2BLWieL7v4rWD6b47k0fwdNpMUmnpp62Vta2cbX9wbYKrXUsjSNOZJLptvlKqoPeqKAPCv2S/2PvE/7PPivUPG/jr4p6T4k1GXwNoHg7S00Dwd/Yltb6RpDXjWpmi%2B1XHn3TG%2Bl3yq0cQVUWOGIbt3CftAfsvfCDxL%2B2bFonhT4X%2BHNI1j4nfs7/EfTvFGs6bosFvdas0l94VhR7qaNA85XzX2lyxXccYya%2BsK8Z8cf8pC/hf/ANkZ8ef%2BnbwhUzhGpBwls00/Rpr9SKlOFWnKElo00/Rpp/g2fEdx4s1zXv8Agj38A/2x9FtJpPEX7P3iTTrm9t0H75rGxvH0u7tSOytCsTN/spX6c6LrOmeItGtPEGiXqXNlf20dxaXEZyssTqGRx7FSD%2BNfFv7Cfw00LxP4V/ar/YQ8WIBp1p8UNbhhg282%2Bk61bCS3AHqB5jA8c8jpXoX/AASO%2BJeu%2BOP2KNC8DeNXx4l%2BGmo3ngnxJAWyYbnTZTCiHPOfs/kZz3Jr5fJJyo1qcZf8vKaT/wAdFunL5uHK/kfW5LUnnvgxg5z1q5ZWdGXf2WI5uX5RxOGmvL2qXWx9M0UUV9UfKhRRRQAUUUUAFFFFABRRRQAUUUUAFFFFABRRRQAUUUUAFFFFABRRRQAUUUUAFFFFABRRRQAUUUUAFFFFABRRRQAV4z44/wCUhfwv/wCyM%2BPP/Tt4Qr2avGfHH/KQv4X/APZGfHn/AKdvCFAHs1FFFABRRXn/AO0v8cbn4A/DWLxZovhFfEGtar4h0vQfDehyaj9jjvdR1C9itIFln8uQwQq0vmSyCORlijcqkjBUYA9Aor5%2BvP25L7QP2TPHn7Qviz4Ri28QfDfV7/SPFfhSz10z2tte2twsTSi%2BNuh%2Bw%2BVJFdtctArR27M7QhkaOvO7X/grV4buPg7Z%2BPJND%2BHMWoap8Q7zwvo2tS/F6NPBV/Ha2KXlxqkXiBrEb7NN/wBkLLaM/wBtVoApVTKAD7Fr8ePhDf3Wg/Df/gpJ8Vb2T93H4t8SeF9Nk/uLPretLMmfd7tD%2BNfrj4B17UvFXgXRvE%2Bs2%2BlxXeo6Vb3V1FomrG/skkkjV2FvdGOI3EWSdkvlpvXDbFzgfk54g8L3Wm/8E3f2sbOPKX3xK/ba8TaVZyqPmaIeLUjCj15gnH4mvneJFL6lzr7KqP5%2BynFfjM%2Bh4Fy6OaeJ/DtCfwrGUpS9I%2B838lFv5H6e/sseFf8AhBP2Yvhz4IMew6P4D0iyKY6GKyijx/47XeVHa20Flax2drGEihjCRoOiqBgD8qkr3qVNUqUYLokvuSX6Hk5hi55hmFbFT3qTnN%2Bs5ym/xkwooorQ5AooooAKKKKACiiigAooooAKKKKACiiigAooooAKKKKACiiigAooooAKKKKACiiigAooooAKKKKACiiigAooooAK8Z/Zf/5Lf%2B0d/wBlmsf/AFCvC9ezV4z%2By/8A8lv/AGjv%2ByzWP/qFeF6APZqKKKACiiigAooooAKKKKACiiigAooooAKKKKACiiigAooooAKKKKACiiigArxnxx/ykL%2BF/wD2Rnx5/wCnbwhXs1eM%2BOP%2BUhfwv/7Iz48/9O3hCgDyXTtRi/Zv/wCCw%2BuReJkaz0X9oLwHYtot%2BeIbjXNIVomtmPZ/srbh671UZJxUHwx1m3/Y9/4Kg%2BOfhX4ujew8KftBpbeIfAt84Atjr9vF5eoWm7tNNlZsHr8ijlgD6f8A8FFf2Y9b/aa/Z1ubT4c3JsvH/g%2B/h8S/DrVYiFkttXtD5kShj0Eg3RHPALqxB2iuFn07wR/wV9/4J8aT4msro%2BHvFmEvNLv4tyXHhTxVZEqSP40CTBlI4ZoZARglSPlq1CvQxUqVL44ydan/AHk9KtP727f4ot7M9bw5zjLskz7G5Dm0nHBY%2BEk5pXdNSqRmqiX2nh8RGNRxWsqNSqlra/1lRXgn/BPz9q7W/wBpL4W33hf4s6YukfFH4f6gdC%2BJWgMArQ30eQt0ijgwzqpkRh8ud6qSFyfe6%2BiwuJpYzDxrU3pL7/NNdGndNdGmgz3Jcfw7m9bLcbG1Sk7OzvFqycZRktJQnFxnCS0lCUWt9CiiitzyQooooAKKKKACiiigAooooAKKKKACiiigAooooAKKKKACiiigAooooAKKKKACiiigAooooAKKKKACiiigArxnxx/ykL%2BF/wD2Rnx5/wCnbwhXs1eM%2BOP%2BUhfwv/7Iz48/9O3hCgD2aiiigArz79pf4HXXx%2B%2BGsXhPRfF6%2BH9a0rxDpeveG9ck077ZHZ6jp97FdwNLb%2BZGZ4WaLypYxJGzRSOFeNirr6DRQB84S/sLeONV/Z/8W/B3xF8drCbVfGfiL/hKNZ8R2fg54lfXhqkV8jfZnvXVtNCW1raGyZi7wROHuWMhYZMX/BPPx5DrifGxfjd4Xk%2BLCfFC68ax%2BIZ/hxI2hRTXGgQ6DLax6WNSEyI1nbxSGT7b5puFLljGxhr6looA8z%2BDf7LXw5%2BGP7Leg/soeKtOsvGPh3StAj0zULfxBpMEttqSj5n32rK0SxlySsOCqKFUcKK%2BGPGnw/8ABXhL9m74LfAT4d%2BGLLSNK1r9vPxCn9kabbLDbwWNt4y18tHFEgCxxokcSqigKqqAAABX6Z1%2Bcml/8VR%2B05%2BzR8OR8yf8NDfG3XLheyfYvEWsNGx%2BrOQPevJztKWXOP8ANKEf/AqkF%2BR9/wCGCUOM6WJf/Liliqvp7PCYmV/vcfnY/RuiiivWPgAooooAKKKKACiiigAooooAKKKKACiiigAooooAKKKKACiiigAooooAKKKKACiiigAooooAKKKKACiiigAooooAKKKKACvGf2X/APkt/wC0d/2Wax/9QrwvXs1eM/sv/wDJb/2jv%2ByzWP8A6hXhegD2aiiigAooooAKKKKACiiigAooooAKKKKACiiigAooooAKKKKACiiigDzD9tP4veKvgH%2ByZ8Q/jH4GjtTrfh/wpeXWjvfRF7eG6EZEUsqggtEjlXdcjKqwyM5Hn3wp%2BPXiP4B3Xxy8NftMfGzUPFugfB7TLLxFN451nSbK3vV0ybTHuriGePTreCB3he2ndTHCrGOaJWDspd/ffGng3wr8RfB2rfD7x1oFrquia7ps%2Bn6xpd7EHhvLWaNo5YZFPDI6MykdwTXIfBz9lv4N/AXe/wANNP16Ca4vZby/u9V8aarqdxqM7wQ2/mXc17cyyXZSG3gii85n8lIwsewZBAPB/wDglx%2B2rrf7W/ij4x2viv8AaB8GeL7jRvFunXWh6H4P1nTb2Lw5pd7o9lcpY%2BdZFvtXkzvcQvcuziSeGcIVRVjTs7/4neG/GP8AwU28F%2BDNJ03xDDeeHvg944jv5tV8I6jY2kpfVvCWDbXVzBHBegbTlrd5AuRuI3Ln2nwt8MfA/grxX4m8b%2BGdD%2Bzap4x1KC/8SXX2mV/tlxDaQ2cb7XYrHiC3hTCBQdm4gsST5v44/wCUhfwv/wCyM%2BPP/Tt4QoA9mr4j%2BJFx4q/4JaftL%2BKP2ibTwxPqfwC%2BKmrw3vjtNKhaSbwXrbDy31LyVBL21wSplK8hsYxtjST7cqtrOjaR4i0i68P%2BINLt76wvrd7e9sruFZIp4nUq8bowIZWBIIIwQa4sdg3ioRlCXLUg7xlvZ2tqusWtJLqtrNJnnZjgHjacZU5clWD5oSteztZprrGS0ktLrZppNfMf7Sv7Jeo/FzxDpf7df7B3xMsNB%2BKMelRSWeqwXAl0bxpp20MlnfKh2yIyBQkw5XC8/KjR9R%2Bx9%2B3v4G/aTuLv4V%2BPdFfwH8WfD7mDxX8NtcmCXcEqqC01sTj7VbsPmWRM4UgnAKs3kjfA/wDax/4Jn6zqWu/sf%2BFG%2BJ/wVu71768%2BEst4y6z4aLndKdJlbInizlvs7ZYnhQWZpDvTW/8AwTr/AOCvHhaHU7DUja%2BNtCJEFzbTf2R4v8LXEbdCP9Yux89RJCWBIyRkeHTq1qWKbpJU60tZUpO0Kj6ypy2v5rfapBNcx93kXHmS5/gaXD/GMJ06lJctGvBKVWlFfYXM4rFYXW6p88a9G79k0m6b%2BuqK%2BN7TxR/wU8/YljOleMvBUX7SHgGzOLfX9BlWy8W2luOgntmzHfMowB5ZMjnLMwzgelfAr/gp1%2Bxh8er4eGdK%2BLdv4a8TJJ5N34P8cxnSNTt5u8JiuCBI49Imf68GvVo5vhJzVOtelP8Aln7t/wDC/hl/27J%2BiPQzDw9z%2BhhpY3LuXHYVa%2B1wzdVRXT2lNL21F91VoxSd1zytd%2B/UUisrKGUggjII70teofChRRRQAUUUUAFFFFABRRRQAUUUUAFFFFABRRRQAUUUUAFFFFABRRRQAUUUUAFFFFABRRRQAUUUUAFeM%2BOP%2BUhfwv8A%2ByM%2BPP8A07eEK9mrxnxx/wApC/hf/wBkZ8ef%2BnbwhQB7NRRRQAUUUUAFFFFABX5v/sw39nrX/BSzwzp19OFi8G2Pxd1xyQTsN38RdZsgcDnJwAAOT0r9IK/ND/gnIP8AhLf%2BCiHxz8Q/e/4RHXda0Pd/c%2B1fEfWL3b%2BO3NeTmvvPD0/5qsP/ACXml%2BiP0DgD9zHOMX/z7wGJ%2B%2Bq6FBf%2BnJL5n6Nf8JhpP/Ppqn/gju//AI1S/wDCYaT/AM%2Bmq/8Agju//jVfO3j7/gsj/wAE3vhf471r4aeOf2jfsOt%2BHdWudM1iy/4RDWJfs91bytFLHvjtGR9row3KSpxkEjmsn/h%2BX/wS0/6Oh/8ALJ1v/wCQqqWeZLCTjLE001/fj/mZ0fC3xMxFGNWlkmLlGSTTWHqtNNJppqFmmmmn1TT6n0//AMJhpP8Az6ar/wCCO7/%2BNUf8JhpP/Ppqv/gju/8A41Xzt4B/4LI/8E3vih470X4aeBv2jft2t%2BItWttM0ey/4RDWIvtF1cSrFFHvktFRNzuo3MQozkkDmu%2B/b%2B%2BMHxM/Z9/Ym%2BKfxx%2BDdpps3ifwl4H1DVdHXV5mS3WWCFpN77Y5N21QzBNuHZQhZAxdevC43B42Llh6kZpb8rTt62Pn884Z4k4YrQpZxgquGlNNxVWnOm5JOzaU0m0no2uuh6X/AMJhpP8Az6ar/wCCO7/%2BNUf8JhpP/Ppqv/gju/8A41Xz3qf7bnxt8K/EPxz4L%2BIXwK8CaFp/wy%2BHlp4m8c%2BJ7v4qXRsbd7uLVGt7a2xo4lnUPp8YlldIiiXBaOOZ0EUnM/Db/gpVq/xV1TwzoerfCfV/C%2BtxfGiXwd4h0hZby2hkQ%2BD9Q1%2BGfbrGj2l68LpDEm37PaSCVAyyyQqVuOk8M%2Bqv%2BEw0n/n01X/wR3f/AMao/wCEw0n/AJ9NV/8ABHd//Gq%2Bef2Sv2%2BfiT%2B0Pp%2BiXHjn9mD/AIR%2B78WfCbRfiD4T0vw941h1We606%2BYI8E5uILKK3uIS8TFQ8iOj5DhlMddT%2B1X4s%2BKupfFr4X/s8fC34r6h4Ebxtdaxdat4r0bTbG6vYrewshIttAt/b3FurSTTQszPE58qCVV2swkQA9d/4TDSf%2BfTVf8AwR3f/wAao/4TDSf%2BfTVf/BHd/wDxqvnKD9oT9pH4n/8ABMjwh8f/AIfWlz/wnOu6R4dm8Q3fhXQ1vbi3tJb%2B0i1jUNOspFkE8qWZvLm3gKy7mWNdk5xG/F%2BAvjj%2B0r8aP2aviDqHgXxd8bdQ134Z/Eq/0PSrnw74U8L6Z4k8UWYsbS8t5byz16zhtINgvQjJHFbTN5A/dq5aKgD7B/4TDSf%2BfTVf/BHd/wDxqj/hMNJ/59NV/wDBHd//ABqvhaD9tD9pnxl4Ch/aC0n446fHZeBvAnw01XVvD3hvRLZtK8Z3GuyI%2BpSl7y3N5DC0Mgjs1ieB45VZphMD5S9n%2B0N8ff2jv2av2g/FVvcfFjW7XwjcfDDxf4g0nWPipY6GPDkN/ZWcV7bRac%2BkQLqIS1Qzm4XUAWkhgZoTMyM9AH1r/wAJhpP/AD6ap/4I7v8A%2BNVfsL%2B01O0S%2BsZxJFIMqwBHfBGDyCDkEHkEV8v/APBOr4yftG%2BNvGXjz4a/tI3/AIzh1PQ9E8N6rYaJ8StN0SDXbeK/ivFkuC2hItk1jJPZyxwKSbpHtboThf3Yr6R8H/8AIJm/7Cl9/wClctAGrRRRQAUUUUAFFFFABRRRQAUUUUAFFFFABRRRQAUUUUAFFFFABRRRQAUUUUAFeM/sv/8AJb/2jv8Ass1j/wCoV4Xr2avGf2X/APkt/wC0d/2Wax/9QrwvQB7NRRRQAUUUUAFFFFABRRRQAUUUUAFFFFABRRRQAUUUUAFFFFABRRRQAUUUUAFeM%2BOP%2BUhfwv8A%2ByM%2BPP8A07eEK9mrxnxx/wApC/hf/wBkZ8ef%2BnbwhQB7NRRRQAV4f%2B0p/wAE7P2Uf2pdWXxl4/8Ah6dN8WQlWs/HHhW6bTdYt5FGFcXEOPMKjhfNDgdhXuFFYYjDYfF0/Z1oKUezV/6fmrPzOfFYTC42i6WIgpx7NJ/PyfmmmujPkCH4Kf8ABVz9mdfs/wAEv2i/Cvxo8N25/caH8VrOSz1lIv8AnmmoW5xPJ/00nwOTxwK4P42/tOfCPx/pp0H/AIKb/wDBJzxro7wp5c3iO28NQ%2BItPtAOpTU7PbLF6jYM4zzX33RXmVcnfs3ClWaj/LNKrH7p6r5SObAYfOMjxUcTk2PrYepH4WpOVvRuUakflU%2BTPzK%2BF%2BlfsD3CpL%2BwB/wWF8SfChif9B8K%2BIfEouNKgbsi6drIiZj2wXYkCvctD8Qf8FhfAmmx6p4d1f4HfHLQwP3N9Y3U%2Bi6ldgd9yFrRc%2B2ea%2Bhfid%2Byt%2BzP8amkl%2BLf7P8A4N8RzS/futY8N2082fUSshdT7gg14jrX/BFv9gCfUX1zwL8N9c8E6jIcnUPBnjHULJwe2F85o1x7KK83%2ByMxw38Cy/691KlP/wAkmqsPkrI%2B3/4ib4g1dM4w2CzNdXXoqNV/9xYxp1b%2BbqzfW7epUH/BST9oL4fjy/2h/wDgl/8AGHRSnFxc%2BB0tvE1vH6sZLdo/l98Vd0T/AILR/wDBPm7vl0Xxn8VNW8Hak3XTfGHhDUbKRPXc3ktGMf79Ux/wTF%2BKnhHn4Of8FN/j1pCr/qbfxH4gg1uCL0ASaNfl9s1U1v8AZI/4Kk21g2lwf8FDPBvjey/hsPHXwaso0I9Ga3Zi31IzT9rxJQ%2BzKXrGlP8AGE6b/wDJQ/1x4OxP%2B/8ADFak%2B%2BExqa%2BUMRGp93N8z23wV%2B3L%2Bxj8RAi%2BC/2rPh7fySY220Xi%2BzE34xNIHH4ivTNL1fSdctF1DRdUt7yB/uT2s6yI30ZSQa/PDxp/wT8/bb1ku/i79kD9irxgrffurbwvqOlX8v1kjRVH515rqn/BNz4v6LeNqln/AMEf/DYve978O/2jbvSmP%2B6tzKyL/wB80f21nFL%2BJhr/APbtVfpUQv7T8JsRvPM8M/7%2BDo1199CvB28%2BW/kfrDRX5K/8KG/bB8FfNpP7PH7YvhDZ0tvCP7Rmn6rbj28swfOPbNL/AMLN/wCChfgnjS/FX7a2nbOhvfgtpXiUL9S08e6j/WeUP4mGmvT/AINOIey8M638LiJQ/wCv%2BAx9L73GnXX3H600V%2BS3/Dff/BRXwhxqHxr%2BJk2zr/wmv7Josf8Avr7HO%2BPwpR/wWX/bZ8Ln/ib/ABA%2BEEsa/fPiX4WeL7OTH/bvE6g/pR/rhlkf4kJx%2BS/%2BSQf2TwnU/g8S5c/8davR/wDT2Cjb5n60UV%2BTtp/wcHfFvT5PJ1WD4K6rIv349PuPEdiT%2BN1ZYH51uab/AMHFXi1GCX37Lng3UVP3prD4z2tqB77bm1B/Crjxlw%2B96jX/AG6/0bLjw1hq3%2B75xltT/DmWDX/pydI/Uaivzc07/g4j8KbQ2v8A7MUNv/e%2BxfFvRbjH0yyZrTi/4OOf2YbMZ8RfBDxjF6jTdW0e7P4bb1c1uuK%2BHnviEvVSX6GsOCs5rO1Crhqn%2BDHYCX5Y2J%2BiFFfBOjf8HFH7EmrgE/DH4r2%2Be8vhe0cf%2BQrxq6TT/wDgvT%2BwfeAG7i8fWYPU3PgqY4/79lq2jxLkE9sTD73%2BqKlwFxbF2WGUv8NbDT/9Ixkz7Sor5Dtv%2BC5//BN5gDqXxc1qwHf7Z4H1Tj/vi3atKw/4Laf8Ev8AUceR%2B1NbJntceF9Wi/8AQ7QVss%2BySW2Jp/8Agcf80NeH3HUleOWV5L%2B7TcvxhKZ9VUV832P/AAV5/wCCbWoY%2Bz/taeHFz/z3huYv/Q4hWvZf8FQf%2BCeeoY8j9sHwKuf%2Be%2BtpF/6HitY5tlUtsRD/AMDj/wDJES4B47gryyrE/wDhPW/Smz3mivHbP/gob%2BwZfY8j9s74XLn/AJ7eOrCP/wBDlFatn%2B2v%2BxrqGPsH7W3wynz08nx7pzfymrVY/AS2rQ/8Dj/8kcNThPiuj/Ey7EL1oV1/7hPTaK4a0/af/Zp1DH2D9ofwNPnp5Pi2zb%2BUtadp8avg3f4%2Bw/FrwzNnp5WvW7fyetViMPLacX81/mcNTJ84o/xMNUj606i/OmjpqKy7Xxx4KvsfYvGGlzZ6eVqEbfyatC3u7S6Xda3Mcg9Y3B/lWqlGWzOKdGtS%2BOLXqmvzSJKKKKZmFFFFABXjPjj/AJSF/C//ALIz48/9O3hCvZq8Z8cf8pC/hf8A9kZ8ef8Ap28IUAezUUUUAFcd8ePjZ4a/Z%2B%2BHUvxE8TaRqeqbtSsdM0zRdEhjkvdU1C9uorS0tIFlkjj8ySeaNd0jpGgJd3RFZh2NeX/tb/Bvxn8Z/hhYWPw1vNMi8TeGvGGi%2BJdAj1ueSKyurjT7%2BG5NrPJFHI8STRpJD5qxyGIyCQJJs2MAZn/Dbnwutf2bNe/aV17wv4j0u28MancaTr/hW9tbf%2B1rLVYbwWZsGWOdrcyNO0apIJzAyypL5vltvrH1b/gob8J/C37P/jz48eO/h94w0Kb4c68%2BheIfBN5a2U%2BsPqv2e2uIrK3%2By3UtrcSSxXlsyslwY1Eh814vKl8vjtR/ZA/aM8T/ALL/AMSvhVr0vgq28RfE3xLP4m1uKDXLufTJZJdQhaTQZC1mkjWUum2sVnLeBRIxuJ3W2TCqeIg/4JS%2BOvEPwc8S%2BH7T4iW/wfvZfEGv6r4C%2BHvwluLG68L%2BHf7R0O20trcf2lo7fK7xXtw0lta2zRnV7xUBLs7gH2b4D8Y6Z8Q/A2i%2BP9Fgnis9d0m21C0iulVZUimiWRQ4UkBgGGQCRnOCetfn7/wSE8Pk/Hr9sTx2y5%2B2/tNXmnI5/wCnbxFqDED/AMCBX2l8KPgXfeGv2XfDX7PfxK8da1rFzpnhOz0nVtd07WZNNvJ3iiRGeK505bR4cFcK8QibaBnknPy9/wAEfPhzZ/Dz4RfHaCykvZYbj9sTxnHaXGp6jPeXMlvb%2BIVtk824uHeWd8xOWkkdndiWZmJJrgxdP2mKw7/llJ/%2BSSX6n1vD%2BNWDyDOI31q0aVP78VSm/wD02j7nor5i8f8A/BTX/hAvHet%2BBf8Ah3z%2B09rX9i6vc2H9saB8J/tNhf8AkytH59tL9pHmwvt3o%2BBuVlOBmsj/AIew/wDWNT9rT/wzf/3VWUs6yyMnF1NV/dn/APKz85lxDk0JOMquq0%2BGp00/59H1pWL8R/h54M%2BLnw%2B1z4VfEbQYtV8P%2BJdIudL1zTJ2ZUurS4iaKaIlCGAZGYZUgjOQQea%2BfPAP/BTX/hPfHei%2BBf8Ah3z%2B09ov9tavbWH9sa/8J/s1hYedKsfn3Mv2k%2BVCm7e74O1VY4OK9m/aT8YfE74efALxf8Qfgz4ctNZ8T6DoFzqWj6Lewu6alJAhlNqAjoQ8qo0aNuwrurEMAVPXhsZhsZFyoyulvpJf%2BlRj%2Bp24PH4PMIuWHlzJaPSS8/tRj%2BFzGg/Y1/Z4Xwr4p8Han4Q1LV7Pxr4bt9B8VS%2BIvFep6ndalYQfafJjkubu5kn3p9rnxKHEo3L8/wAibc7wP%2BwV%2By18PdSXXPD/AIC1KbUh4uHiiXVta8Y6tqV5cauNIm0YXc1xeXUss7DT55bfEjMu0qcbkRl8N8R/8FH/AIm/Ejwtc%2BMf2XG0PVbDxH47m0j4USxeEl1RvEGnWGkLdareyNc63pVtDHFd%2BfAHa4XaLNwElaQeXxPg39ur4jfFzxHonx4svtNrp3jz4Zfs76rH4UbX737DpU/iLxdrttfyQfZp4tzmLyUZjlJ1tYVmSWJfKPSdh9h%2BGP2TvgR4JsdEsPB3hO90pfDnga08HaJNp3iPUIZrTRbV43gtVlScOdpijzIWMjAEM7BmB0fjf%2Bz18Kf2idE0/Q/ilo%2BozDSNRN9pF/oniK%2B0i%2BsbgwywM8N5YTQ3EW6GaaJwkgDpIysCpIr5N%2BCf7VP7UHxu/ak%2BEHjDU/FXhH%2BxPHfwt8f634c%2BHulXV7p7Wslnf6NBbQatKZrhLqWPzSjXCW0RtpHuEWKTOT7d%2B2/q3iSfTPhR8N5fFWq%2BHdI8d/Few0PxnqXhvXbjT7qGzOn390kEN7btFPb%2Bfe2tna%2BZG0cjLcFVKlxQB6FJ%2Bzv8LE8Bj4YaNY6xougReHLDQrLTPDPivUdKj0%2BxsyTbpafY7iI2bqDtMsBSV0REZ2WNFXnbv9iX9n6f4ead8LbGw8W6XpGm3V5cg6B8S9e027vZ7tzJcy3t3a3sdxfvK5Lu1zJKWY7iSea8v%2BEWo/tC/FP/AIJt%2BN9D%2BE/xJu5/GlnqXjvw54B8Waxqpa4uLfT9e1TT9MuJLyUOWlNrbQD7W4cu2J237jniv2fbP4q/FnTvjf8AAs%2BC/H1hYeEvFOjHwT4e8cftCataarDfy6VFPd6fd%2BINJur66SMbkuhCs11tW6TcqqyxRAH0Jqf7C/7K2p%2BJfC/ihvhSlpL4O03SdP0Kw0vWL2z08WulzGfTIZ7GCZLa8SzlJltxcRyCByXj2Mc09v2JP2brzxXrPjHxN4O1TxFda7pup6deW/i/xhqus2cFpqHF7b2tpfXMtvZRzLhHS3jjBQBMbBtr5i8EeIPHvij9nX9l34uaz8bPG0/iKz%2BLsfhjXjaeMr6Oz1BVvr%2B0ura6WKYR6vHG1oIo7q4EhmSMT4VpTXea1afEv4E/t9S/FL4uyavrfhH4l/Eez0T4cTaX8adaEegu3hqGJrWfw0QmnSwtc2WoTmdWllR7lJTGNhkjAPefgd%2BzH8G/2dW1S4%2BF%2Bi6qt3rKW0ep6p4g8U6jrV7PDbK628ButRuJ5hDEJJPLhDiNDLIVUF2J6vwf/wAgmb/sK33/AKVy1qVl%2BD/%2BQTN/2Fb7/wBK5aANSiiigAooooAKKKKACiiigAooooAKKKKACiiigAooooAKKKKACiiigAooooAK8Z/Zf/5Lf%2B0d/wBlmsf/AFCvC9ezV4z%2By/8A8lv/AGjv%2ByzWP/qFeF6APZqKKKACiiigAooooAKKKKACiiigAooooAKKKKACiiigAooooAKKKKACiiigArxnxx/ykL%2BF/wD2Rnx5/wCnbwhXs1fOH7R%2Br/GvR/28PhPP8Dvh/wCFvEWpN8I/Ha3dp4r8YXOiwRwf2p4SJdJbfT71nfdtGwxqMEnfkBSAfR9FeM/8Jx/wUL/6Nf8Agz/4fjVv/mXo/wCE4/4KF/8ARr/wZ/8AD8at/wDMvQB7NRXjP/Ccf8FC/wDo1/4M/wDh%2BNW/%2BZej/hOP%2BChf/Rr/AMGf/D8at/8AMvQB7NRXzjpP7R37dusfGfX/AIHW/wCyh8JF1Tw74X0jXby5f466p5EkGo3OpW8KIR4Y3F1bS5ywKgAPHgsSwXqP%2BE4/4KF/9Gv/AAZ/8Pxq3/zL0AezUV4z/wAJx/wUL/6Nf%2BDP/h%2BNW/8AmXo/4Tj/AIKF/wDRr/wZ/wDD8at/8y9AHs1FeM/8Jx/wUL/6Nf8Agz/4fjVv/mXrl/AP7R37dvxE8V%2BN/CGj/sofCSG48B%2BKItC1WS5%2BOuqBJ55NK0/Uw8W3wwSU8nUYVJYKd6OMYAZgD6Oorxn/AITj/goX/wBGv/Bn/wAPxq3/AMy9H/Ccf8FC/wDo1/4M/wDh%2BNW/%2BZegD2aivGf%2BE4/4KF/9Gv8AwZ/8Pxq3/wAy9H/Ccf8ABQv/AKNf%2BDP/AIfjVv8A5l6APZqK%2BcfhF%2B0d%2B3b8ZfCl34v8OfsofCS2t7PxRrehSR3vx11RXM%2Bl6rdaZO42%2BGGGxprSRkOclGUkKcqOo/4Tj/goX/0a/wDBn/w/Grf/ADL0Aev3um6dqSeXqOnwTr/dmiDD9RWJf/CH4T6rn%2B1Phh4duc9ftGiQPn80rzv/AITj/goX/wBGv/Bn/wAPxq3/AMy9H/Ccf8FC/wDo1/4M/wDh%2BNW/%2BZeplCE/iSfyX%2BREqdOfxRT9Un%2BaZ1d9%2By1%2BzHqef7S/Zz8B3Gevn%2BELJ8/nFWPe/sM/sT6ln%2B0P2PfhbPnvL8P9Nb%2BcNZn/AAnH/BQv/o1/4M/%2BH41b/wCZeuX%2BCP7R37dvx4%2BDHhD44%2BFf2UPhJa6X4z8L6frum22ofHXVFnhgu7aO4jSQJ4YZQ4WQBgrMMg4JHNYyweDlvSi/%2B3Y//InPLAYCfxUYP1hF/wDtp013/wAE5P2BL3PnfsZ/DNc/88fBlnH/AOgxisy7/wCCW/8AwTwvc%2Bd%2Bx94GGf8Anloyx/8AoOK1f%2BE4/wCChf8A0a/8Gf8Aw/Grf/MvR/wnH/BQv/o1/wCDP/h%2BNW/%2BZesnlmWy3oQ/8Aj/APImMsnyiW%2BGp/8AgEP/AJE5i6/4JHf8E3bvPm/sj%2BGBn/nkJ0/9BkFZ9z/wRp/4JmXf%2Bt/ZQ0gZ/wCeWrX6f%2Bg3Art/%2BE4/4KF/9Gv/AAZ/8Pxq3/zL1y/xu/aO/bt%2BA/wY8X/HHxV%2Byh8JLrS/BnhfUNd1K20/466o080FpbSXEiRh/DCqXKxkKGZRkjJA5rN5PlEt8PD/AMAj/kZPIMilvhaf/guH/wAiYVx/wRG/4JeXX%2Bs/ZYthn/nn4q1dP/QbsVTm/wCCF3/BLqT/AFP7Nk0P/XPxtrP9bw16j/wnH/BQv/o1/wCDP/h%2BNW/%2BZej/AITj/goX/wBGv/Bn/wAPxq3/AMy9ZvIske%2BGp/8AgEf8jP8A1c4evf6pS/8AAI/5HkVx/wAEG/8AgmPOML8DdSj/ANzxnqZ/9CuDVKf/AIIDf8E0Jf8AV/CrXIv9zxfe/wBZDXtX/Ccf8FC/%2BjX/AIM/%2BH41b/5l6P8AhOP%2BChf/AEa/8Gf/AA/Grf8AzL1D4fyJ/wDMLT/8BRvDJcpp/BRivS6/KSPC5v8Ag32/4Jtyfc8DeJo/9zxZcf1zVab/AIN5/wDgnNJ9zQfGEf8AueKX/qhr1X4u/tHft2/BrwpaeL/Ef7KHwkube88UaJoUcdl8ddUZxPqmq2umQOd3hhRsWa7jZznIRWIDHCnqP%2BE4/wCChf8A0a/8Gf8Aw/Grf/MvUvhzIH/zCw/8BRvHAYWHwpr0nUX5VUfPMv8Awbtf8E8JPuxeOU/3fE6/1hNQSf8ABuf/AME%2BmOY9T%2BIMZ7FPEsPH525r6N/4Tj/goX/0a/8ABn/w/Grf/MvR/wAJx/wUL/6Nf%2BDP/h%2BNW/8AmXqXwzw8/wDmFh93/BNo0eX4alRelauvyxCPnFP%2BDdr9h6D/AI8viL8Vbf08jxVbDH/kpU8X/Bvt%2ByZbf8eXx8%2BNdv6eT4ztRj/ySr6H/wCE4/4KF/8ARr/wZ/8AD8at/wDMvXL%2BPv2jv27fh34r8EeENY/ZQ%2BEk1x488US6FpUlt8ddUKQTx6VqGpl5d3hgEJ5OnTKCoY73QYwSyi4Z4fW2Gj%2BP/wAkDouW9Sp/4OxH/wA0HlcH/BBr9nu0/wCPH9rD9oCD08nx9bL/AO2VXYP%2BCInwssxiw/bg/aTh9PL%2BJUA/lZ17f/wnH/BQv/o1/wCDP/h%2BNW/%2BZej/AITj/goX/wBGv/Bn/wAPxq3/AMy9UuHckW1BffL/AOTMJ5fh6nxSm/8AuNX/APmg8Zj/AOCNHhy1/wCPH/goR%2B05D6bfieg/lbCn/AT9kA/so/8ABQnwcg/aT%2BKPxCXXfgz4ywPiT4p/tP8As/yNW8Lf8e37tPK8zzvn67vKj/u17H/wnH/BQv8A6Nf%2BDP8A4fjVv/mXqh4H8D/tWeMf2rPDnxu%2BN3w4%2BHvhnRvDPw98Q6HDD4V%2BId9rV1d3WpX2iXCMyXGkWKRRomlygsHdi0qALjJHRh8oy3C1VUpU7SXnL8nNr8CaWW4OhVVSCd13nUl%2BEqsl96Z7rRRRXpHeFFFFABRRRQAV85fsQ%2BGNN8Lfs8eLL2x8wi9/aG8f6nfOwzg/8J5qm9uB0VIx%2BC19G18lfsleLP2ztP8Ah74os/hj8A/hhq%2BhJ8afiL/Z%2Bo698XdR027mX/hM9ZLGS2i0C5SIhtwAEz5AByCdoTSbT7FxqVIwlBPSVr%2Bdndfc9T6g/wCE58E/9Dhpf/gwj/8AiqX/AITnwT/0OGlf%2BDCP/wCKry3/AITj/goX/wBGv/Bn/wAPxq3/AMy9H/Ccf8FC/wDo1/4M/wDh%2BNW/%2BZemQepf8Jz4J/6HDSv/AAYR/wDxVH/Cc%2BCf%2Bhw0r/wYR/8AxVeW/wDCcf8ABQv/AKNf%2BDP/AIfjVv8A5l6P%2BE4/4KF/9Gv/AAZ/8Pxq3/zL0Aal98DP2KNU%2BHGk/B3U/g78LbjwjoF79s0LwrP4e019N0253SN50FsU8qGTdLKd6KDmRzn5jnQ0/wCHH7KOk2trZaV4D%2BHttDZWmk2llDb6XYotvBpc8lxpkSAKAiWk8sstuowIJJHeMKzEnzP4I/tHft2/Hj4MeEPjj4V/ZQ%2BElrpfjPwvp%2Bu6bbah8ddUWeGC7to7iNJAnhhlDhZAGCswyDgkc11H/Ccf8FC/%2BjX/AIM/%2BH41b/5l6ANWx%2BB/7FWl%2BKdb8c6Z8IPhdb634lguofEesQeH9NS61WO6x9pS5lCb51l2r5gckPgbs4roPG%2BlfAD4meCLn4ZfEjTfB3iDw3eQpFd%2BHtchtLuxnjRlZEeCUNGyqyqQCuAVBHQVxX/Ccf8ABQv/AKNf%2BDP/AIfjVv8A5l6P%2BE4/4KF/9Gv/AAZ/8Pxq3/zL0AdUPBP7MI8PW/hEeEfAY0m08Nz%2BHrXS/sFl9nh0icRrNpyR7dq2sghiDwAeWwiQFTtGMO6/Z8/YYvvhba/A69%2BCHwnm8FWV%2Bb6z8Hy%2BGtMbS4Lo78zpaGPyUk/eP84UN87c8muJ%2BN37R37dvwH%2BDHi/44%2BKv2UPhJdaX4M8L6hrupW2n/HXVGnmgtLaS4kSMP4YVS5WMhQzKMkZIHNdR/wnH/BQv/o1/wCDP/h%2BNW/%2BZegCz8R/2bf2C/jFomgeGfi58A/hD4q03wpbNbeFtP8AEfhbS76DR4SEBjtY5o2W3QiOMFYwoxGv90Y1tP8Ahb%2ByNpPxXn%2BPGlfDn4cW3jm5jMdz4zt9IsE1aVDGsW1rsL5zDy1VMFvuqF6ACsD/AITj/goX/wBGv/Bn/wAPxq3/AMy9H/Ccf8FC/wDo1/4M/wDh%2BNW/%2BZegD1H/AITnwT/0OGl/%2BDCP/wCKo8GHfoZnUHZNfXcsRIxuR7mRlb6FSCPY15d/wnH/AAUL/wCjX/gz/wCH41b/AOZeuX%2BLv7R37dvwa8KWni/xH%2Byh8JLm3vPFGiaFHHZfHXVGcT6pqtrpkDnd4YUbFmu42c5yEViAxwpAPo6ivGf%2BE4/4KF/9Gv8AwZ/8Pxq3/wAy9H/Ccf8ABQv/AKNf%2BDP/AIfjVv8A5l6APZqK8Z/4Tj/goX/0a/8ABn/w/Grf/MvR/wAJx/wUL/6Nf%2BDP/h%2BNW/8AmXoA9mor5x8fftHft2/DvxX4I8Iax%2Byh8JJrjx54ol0LSpLb466oUgnj0rUNTLy7vDAITydOmUFQx3ugxgll6j/hOP8AgoX/ANGv/Bn/AMPxq3/zL0AezUV4z/wnH/BQv/o1/wCDP/h%2BNW/%2BZej/AITj/goX/wBGv/Bn/wAPxq3/AMy9AHs1FeM/8Jx/wUL/AOjX/gz/AOH41b/5l65fVv2jv27dH%2BM%2BgfA64/ZQ%2BEjap4i8L6vrtncp8ddU8iODTrnTbeZHJ8Mbg7NqkBUBSCEkyVIUMAfR1FeM/wDCcf8ABQv/AKNf%2BDP/AIfjVv8A5l6P%2BE4/4KF/9Gv/AAZ/8Pxq3/zL0AezUV4z/wAJx/wUL/6Nf%2BDP/h%2BNW/8AmXo/4Tj/AIKF/wDRr/wZ/wDD8at/8y9AHs1FfOOk/tHft26x8Z9f%2BB1v%2Byh8JF1Tw74X0jXby5f466p5EkGo3OpW8KIR4Y3F1bS5ywKgAPHgsSwXqP8AhOP%2BChf/AEa/8Gf/AA/Grf8AzL0AezUV4z/wnH/BQv8A6Nf%2BDP8A4fjVv/mXo/4Tj/goX/0a/wDBn/w/Grf/ADL0AezUV4z/AMJx/wAFC/8Ao1/4M/8Ah%2BNW/wDmXrl/AP7R37dvxE8V%2BN/CGj/sofCSG48B%2BKItC1WS5%2BOuqBJ55NK0/Uw8W3wwSU8nUYVJYKd6OMYAZgD6Oorxn/hOP%2BChf/Rr/wAGf/D8at/8y9H/AAnH/BQv/o1/4M/%2BH41b/wCZegD2avGf2X/%2BS3/tHf8AZZrH/wBQrwvR/wAJx/wUL/6Nf%2BDP/h%2BNW/8AmXq3%2Byt8OfjT4P1j4oeO/jpoHhfSdU8ffEKLXLPSvCfiW51a3tbWLQdH0xVe4uLKzZpGk06Vyoi2hZEG5jnAB63RRRQAUUUUAFFFFABRRRQAUUUUAFFFFABRRRQAUUUUAFFFFABRRRQAUUUUAFfK/wC09%2B1p8XPhh8Y/FmteAfDvg%2BTwx8H/AA/4fvfGp1rSLibVdUt9Xv5UuYLC4juI0svItrOO4zJFOLmQpGRD5fmn6orxn4z/ALEPw4%2BN3xSPxM1zxz4q0uLUbXSLXxf4a0a6tU07xTBpd7Je2MV8stvJMFjmmlz9nlgMschimMsYVAAezUUUUAFFFFAHzH4c/aV%2BJkP7f/ij4P8AxG1jw94T8Nr4gtNE8GRaj8ItZS68YwDQINRxB4ja7XTmlju7nUALQQvJ5dpMAoLNIv05Xlfiz9lqDx/8ZNI%2BKfj343%2BNdX0rw9rsetaB4AuDpkWjWOoR27wRzhobJL2XZ5kkipNdSRiR92z5EC%2BqUAFFFFAHi/8AwUF%2BLvxw/Z%2B/ZH8afHr4BXvhSPWPBOhXeuXUHjDRbm%2Btru0tbaWZ7dEtrq2ZJXZEUSFyqAsSj8CvP/Hn7Wnxc8F/HjxbqfhTw74Qi%2BHnhD4x%2BEfh94ys5tIuDreq6rrsGipHqEN2lwsMccH9uaTGYpLeV5EhnxLHtQV7D%2B1j%2BzjZftafAjXv2fda%2BKvinwjpPieylsdcv/CC6d9rubKWJ4prbdf2l1GiOr8siLICo2uvOeLg/YB8HT/EWz%2BIvir44%2BPtdY6zpOueJtG1CXSorHxPrmmJGljq17HbWETLcRCC0wts0EDGxti8TGPJAPe6KKKACvF/2yfi78cPgla%2BAfGPwsvfCn9jah8TPDnh7xfY%2BINFubm6ubXVdZsdNBs5YbqFLaSNbmWTfIk6koi7OSa9oryr9q79lt/2qvDeheF5/j7438DW%2BheJLDXUbwXDo7Pd3tjeQXlm0p1LT7wbYri3jcLGEDcrJvU7QAecfs8/tK/EzW/2qvFvwR%2BKGr%2BHvCenQ%2BKdbt/BPhKT4Razplzr1tC6Sm/t9auLv7BqDsZJpZYraAvyXYrhifpyvJdJ/ZRD/GTRfjL8R/2gPHfjWbwvd3l34T0LxCNJhsNHurm3ktZLiJbDT7aWV/s808K%2BfJKqLO%2B0AkEetUAFFFFAHh/7d3xc%2BPH7P3wa1f46/Cjxj4FsdP8AC2i3N5e6L4s8M3t/c%2BIb3KLZ6ZZyW17B9nmuJSLdG8q6ZpZ4gsLH5W8/%2BCP7X3xn1z4l%2BCv7W8GeEtI%2BGnjf4n%2BKPht4V8Nadpc0er6Jf6BDq2%2Bee5Fw1vNBI3h/U0WGO3iMatbHzJMsB6f%2B0r%2ByDB%2B0l488EfECb9oHx34QufAN3c3ui2PhiLRp7OS9lQRreTQanp14jzwx%2BYsMgCmMTykfM2RV8B/sNfD3wH8Zbf4uw/EXxdqUGna7qevaJ4Q1K5sv7J0rW9RjePUNUgSK1Sfz5xPdlleZ4Ua%2BuTHFH5nAB7XRRRQAV8v/ALXPx4/aX%2BC3xE0/wppUPgDxro/jmHWrbRfhzF4PvpNYS1tNDuruS/uJxevFdWwuore2khFrED9vhQTGRkST6grw6b9ia4j/AGj/ABX%2B01on7VfxL07V/Fumw6dc6XDB4fntNPs4YGjhtrNrnSZbm3iWV3utizbXncu4cHbQAz9hD9oPxv8AHv4e3l18V/H2jX3i7ThZtr/huy%2BF2r%2BEbzQHntllEFzZavdT3Dgtv8u4ASORUO0NtJr3SvN/gd%2Bzdp3wZ8T%2BJPiHrHxS8U%2BOPFXiuKxt9Y8T%2BLmsFuXtLMTfZbVItPtbW2jija5uXG2EMzXEhZmyMekUAFFFFAHxz/wUE/bj%2BKn7GHjn%2B09c0XQPGPhF9G1HW7fwrL8OdTspbdNN0a%2B1JJP%2BEimun0ye7%2B16aNlisCXQjmWUDbC0jevfs0fF3456t8VPG/7PX7R1z4U1DxP4R0nQ9aj1rwVpFzYWNzY6oLyNIjBc3Ny6yxXGnXal/NxIhibZGSVFb46/sJeCP2nNaurX4/8Axb8a%2BKPBdzJcSL8MryTTYdFikmsZrJm329lHfSAR3EzBJbp0Dvu2/IgXp/2fP2ZtI%2BAd5r3iK7%2BKHizxx4j8SGzj1bxV41uLN76W2tIjFa2o%2Bx21vCsUQeVhiPezzyu7Ozk0AelUUUUAFfEf7U/7ZX7Wfwb%2BNXiD4UeDvDfhzxrqdhotxrvhgJ8D/EEcmigajplqhhb7c48TSCx1S487%2By/KeFoSsojEwjr7crw/Xv2LdT8S%2BPT8Tta/a5%2BKM2t6fBeReDbwpoAHhVbqaGSf7JGNJ2Ts0cC2%2B69W6ZYmcKVd2cgHVfssfFh/jJ8I4PFl78TNG8VX8Oo3Vlql9o3gy%2B8Oi2uIpWVrWbTdQuJ7qznjGFeOZw%2Bfm2qGAr0auG%2BAfwF8PfADwzqejaV4p1vxBqOv69ca34k8SeI5oGvdVv5giNPKLeKGBMRxQxKkMUcapEgCjBJ7mgAooooAKKKKACiiigAooooAo%2BKPENh4S8Naj4r1UObXTLGa7uREuW8uNC7YHc4U185/sTftJ/Gvx/4p0fwZ8bPD3gyzHjr4W2XxG8Mw%2BDNKuLQaZHeXBN3p92ZriUXc0b3Ns/2xBAJ2lmJgj2gv9LXdpa39rLY3tuk0M0bRzRSqGV1IwVIPBBHGK8h/Zm/Yr8Bfswaq%2Br6B8QfFviWW28MWPhnw6PFl7azDQNCs3ke3021Nvbwlo1MnzSzma4kEcXmTP5a4APYqKKKACuF/ag8efEX4Wfs0fET4nfB/wouveLfDngXV9U8LaG1jNdDUdRt7OWW2tjDAyyzCSVETy42DtuwpBINd1Wd4t0S/8S%2BGNQ8P6X4r1HQrm9tJIbfWtIWBrqxdlIE0QuIpYi6nkCSN0yPmVhkEA8u/Yp%2BLU/xQ%2BGd9Zat8QvD%2Bs6n4d1VdOvNM0T4Yan4OfQ0FtBJFZ3Glapcz3MLhHEiu3lo8UsWxMDe/sVeefAf9nbSfgdeeJfEdz8RPEnjHxJ4v1GG88ReKfFb2Yu7ow26W8EQjsba2tooo40AVY4UyWdmLMzMfQ6ACiiigD5c/ao/ax%2BKH7OHxe8cWXxK0bwl4i%2BF9h%2Bzv4v8AHttoVvolwmqu2iDS1ntri5kuXt5op1vpwEFshUImXfLCu3/Zn%2BL/AMfNU%2BLnjL9nX9pZ/CV54o8MeGPD3iWPVfBWk3NjZSWWrPqVutsYbm5uXMsNxpF2DKJAsiPE3lxnctQfGP8AYV8O/HT46t8ZfHnx28cy6bN4K1PwjffD2GDRf7Eu9G1Jbb7faSF9Na9Ina0gdnF0HUoQjIjMh6T9nf8AZd0P9n2%2B1rxHP8UPFvjfxDr9rYWV/wCJ/G1zaSXpsLFJFs7MfZLa3j8qIz3DglDI73Mru7s2aAPT6KKKACvkT41/tL/tbeDNd/aA8CW/hXwZ4svfAXh/wp4k%2BG1jpPw/1O/nWPUdV1KEJeWsV48uozwLpsc6m2FuS5IVflVq%2Bu68Ll/Yo8QxfHTxt8f9C/bQ%2BK2lat430ix0y5sbKz8MNaabbWVxcz2aWwl0V5P3RvLpQZnlLrORJ5hVCoB1f7Knxbm%2BMvwpHibUfido3inUbXVbmx1a60fwRf8Ahs2dxE3zWs%2BmajcT3VpOildyTMGIZW2qrCvSa4T4B/APQPgDoWs2On%2BLdc8R6r4m8QS654n8TeJJbdr3Vb%2BSGGDzZBbQwwRhYLe3hVIoo0VIUAXOSe7oAKKKKAPjb9pb9rv9pb9nj4zQfDbWU%2BGfjW%2B1uCCbwjDp3ha9tJfBd5qXiHTPD2kTanK99MLqKdtXnBaJbORxY3Sxhl8wxe4/sq/F/wCJHxGHj/4ffGI6JP4q%2BGnjxvDWs6r4a06azsNT8zS9O1a3uIbeaeeS3za6pbo8bTS4kjkwxBGOFtv%2BCavhJrr4hv4h/aX%2BJ2s2/wASdeOuaxb6kdC8yz1KK4hn0%2B5trqLS0ulNg9vbi0jeaSKJYUDI/OfWPgH8BdD%2BAfh7VtNsvF%2BueJNW8Ra9NrXifxR4le2N/q99JHFD50wtYIIF2QQW8CJFFGixwRqF4JIB3VFFFADLn7T9mk%2Bx7PO2HyvNzt3Y4zjnGa%2BIPit%2B1z%2B2n8NPiJrnw2t7bwH4z17wxe%2BGrfVvHXgj4K6/q0fhy31Zrx72wl0qz1Ke7uZo4bKxuiYp0/d3ULSwIDE0n29dwyXFrLbw3UkDyRsqzxBS8ZIwGXcCuR1GQR6g189/Bj9gLxB8BPhtcfDT4d/t1fGKKO61Z9Tm1m8svCc%2BoS3cryyXM80z6EftMk7y7pJJxI%2BY02FAMEA9Z%2BAnxDsvit8HfD/xCsPiBo3ipNT08SPr/h/SZrC0u5ASshS1nmmltirqyNDJI7xsrKx3KQOvrkvgX8F/CX7Pvwv074U%2BCrm/uLKwluria%2B1W5E11fXd1cy3V1dTOFUNLNcTzSvtVV3SHaqrhR1tABVHxPD4kufDeoW/g3U7Gy1eSylXS7zU7B7q2guChEcksMcsTTRq2CyLJGWAIDqTuF6s3xjoN/wCKPC1/4d0vxbqWg3N5avFBrWjiA3Vi5HE0QuIpYi6nkCSN0OPmVhkUAfD3w3/bs/a1%2BMHxT1v4JfCzTfh8njPTbXXb6Txn4r%2BF2taGuqaZpFrosqWMuiXl8moafK934h2JNPM8flQyXCQus6A/Y3wC%2BLWm/Hz4E%2BCvjro2my2dn418Jabr1pZzPueCK8tY7hY2IAyVEgBPqK8W1f8A4JkeB9a1y%2B%2BIt3%2B0p8U0%2BIGrJeWutfEm2vdIh1a/0y6trW2m0wommizhtillaMPItopVkgWVZQ5Zj9B%2BC/B/hr4eeDtJ8AeDNJi0/R9D0yDT9JsIc7La2hjWOKNc84VFVR9KANOiiigDl/jTqPjjRvhbrWt/DnxDY6Xq1hZm6hvtQ8H3viBEjjIeUDTrGeC5vJGiV1SKGQOXZcK5%2BRvi34S/8FEfj94k8aaHqfje48I%2BBPBmpTzr4g8cXnwM8RTW2sX8Ov3WkIlzKt9GnhmeS1tLX9xqjSSwPKsb52BK%2B2/iZ4M13x74Sm8OeG/ilr/g28kljeLX/DMVi93BtYEqq39tcwMGAKkPE3BOMHBHit1/wTm8Kah4PuPhtq37SHxNu/DGuahNf%2BPNAmuNHEXjC7nvGuria%2BlXTRcReaWWFo7OW1iEMSRqijduAPomiiigAooooAKKKKACiiigAooooAKKKKACiiigAooooAKKKKACiiigAooooAKKKKACiiigAooooAKKKKACiiigAooooAKKKKACiiigAooooAKKKKACiiigAooooAKKKKACiiigAooooAKKKKACiiigAooooAKKKKACiiigAooooAKKKKACiiigAooooAKKKKACiiigAooooAKKKKACiiigAooooAKKKKACiiigAooooAKKKKACiiigAooooAKKKKACiiigAooooAKKKKACiiigAooooAKKKKACiiigAooooAKKKKACiiigAooooAKKKKACiiigD//Z\">"
            ]
          },
          "metadata": {
            "tags": []
          }
        }
      ]
    },
    {
      "cell_type": "markdown",
      "metadata": {
        "id": "IFYBFchn-ixq",
        "colab_type": "text"
      },
      "source": [
        "# Submit a linear model"
      ]
    },
    {
      "cell_type": "code",
      "metadata": {
        "id": "g8ptq9e2-ixr",
        "colab_type": "code",
        "colab": {}
      },
      "source": [
        "## GRADED PART, DO NOT CHANGE!\n",
        "# Testing shapes \n",
        "grader.set_answer(\"9XaAS\", grading_utils.get_tensors_shapes_string([W, b, input_X, input_y, logits, probas, classes]))\n",
        "# Validation loss\n",
        "grader.set_answer(\"vmogZ\", s.run(loss, {input_X: X_val_flat, input_y: y_val_oh}))\n",
        "# Validation accuracy\n",
        "grader.set_answer(\"RMv95\", accuracy_score(y_val, s.run(classes, {input_X: X_val_flat})))"
      ],
      "execution_count": null,
      "outputs": []
    },
    {
      "cell_type": "code",
      "metadata": {
        "id": "RWZf_XMp-ix0",
        "colab_type": "code",
        "colab": {
          "base_uri": "https://localhost:8080/",
          "height": 33
        },
        "outputId": "fbce7159-9cf2-446d-e522-5100e52e61fa"
      },
      "source": [
        "# you can make submission with answers so far to check yourself at this stage\n",
        "grader.submit(COURSERA_EMAIL, COURSERA_TOKEN)"
      ],
      "execution_count": null,
      "outputs": [
        {
          "output_type": "stream",
          "text": [
            "Submitted to Coursera platform. See results on assignment page!\n"
          ],
          "name": "stdout"
        }
      ]
    },
    {
      "cell_type": "markdown",
      "metadata": {
        "id": "R_nKoz07-ix6",
        "colab_type": "text"
      },
      "source": [
        "# MLP with hidden layers"
      ]
    },
    {
      "cell_type": "markdown",
      "metadata": {
        "id": "OTfiuJKm-ix7",
        "colab_type": "text"
      },
      "source": [
        "Previously we've coded a dense layer with matrix multiplication by hand. \n",
        "But this is not convenient, you have to create a lot of variables and your code becomes a mess. \n",
        "In TensorFlow there's an easier way to make a dense layer:\n",
        "```python\n",
        "hidden1 = tf.layers.dense(inputs, 256, activation=tf.nn.sigmoid)\n",
        "```\n",
        "\n",
        "That will create all the necessary variables automatically.\n",
        "Here you can also choose an activation function (remember that we need it for a hidden layer!).\n",
        "\n",
        "Now define the MLP with 2 hidden layers and restart training with the cell above.\n",
        "\n",
        "You're aiming for ~0.97 validation accuracy here."
      ]
    },
    {
      "cell_type": "code",
      "metadata": {
        "id": "VLkL6jlK-ix8",
        "colab_type": "code",
        "colab": {
          "base_uri": "https://localhost:8080/",
          "height": 525
        },
        "outputId": "40a11205-2b74-42cf-8b61-724a2a47a3a3"
      },
      "source": [
        "# write the code here to get a new `step` operation and then run the cell with training loop above.\n",
        "# name your variables in the same way (e.g. logits, probas, classes, etc) for safety.\n",
        "### YOUR CODE HERE ###\n",
        "\n",
        "\n",
        "s = reset_tf_session()\n",
        "\n",
        "input_X = tf.placeholder(tf.float32, [None, input_size])        \n",
        "input_y = tf.placeholder(tf.float32, [None, output_size])  \n",
        "\n",
        "hidden1 = tf.layers.dense(input_X, 256, activation=tf.nn.relu, kernel_initializer=tf.contrib.layers.xavier_initializer())\n",
        "batch_norm1 = tf.layers.batch_normalization(hidden1)\n",
        "drop_out1 = tf.layers.dropout(batch_norm1, rate=0.2)\n",
        "\n",
        "hidden2 = tf.layers.dense(drop_out1, 256, activation=tf.nn.relu, kernel_initializer=tf.contrib.layers.xavier_initializer())\n",
        "batch_norm2 = tf.layers.batch_normalization(hidden2)\n",
        "drop_out2 = tf.layers.dropout(batch_norm2, rate=0.2)\n",
        "\n",
        "probas = tf.layers.dense(drop_out2, 10, activation=tf.nn.softmax, kernel_initializer=tf.contrib.layers.xavier_initializer())\n",
        "classes = tf.argmax(probas, 1)\n",
        "\n",
        "loss = tf.reduce_mean(tf.nn.softmax_cross_entropy_with_logits(logits=probas, labels=input_y))### YOUR CODE HERE ### cross-entropy loss\n",
        "\n",
        "# Use a default tf.train.AdamOptimizer to get an SGD step\n",
        "step = tf.train.AdamOptimizer(learning_rate=0.001).minimize(loss)### YOUR CODE HERE ### optimizer step that minimizes the loss"
      ],
      "execution_count": null,
      "outputs": [
        {
          "output_type": "stream",
          "text": [
            "WARNING:tensorflow:From /content/keras_utils.py:68: The name tf.get_default_session is deprecated. Please use tf.compat.v1.get_default_session instead.\n",
            "\n",
            "WARNING:tensorflow:From /usr/local/lib/python3.6/dist-packages/keras/backend/tensorflow_backend.py:79: The name tf.reset_default_graph is deprecated. Please use tf.compat.v1.reset_default_graph instead.\n",
            "\n",
            "WARNING:tensorflow:From /usr/local/lib/python3.6/dist-packages/keras/backend/tensorflow_backend.py:82: The name tf.placeholder is deprecated. Please use tf.compat.v1.placeholder instead.\n",
            "\n",
            "WARNING:tensorflow:From /usr/local/lib/python3.6/dist-packages/keras/backend/tensorflow_backend.py:84: The name tf.get_default_graph is deprecated. Please use tf.compat.v1.get_default_graph instead.\n",
            "\n",
            "WARNING:tensorflow:From /content/keras_utils.py:77: The name tf.InteractiveSession is deprecated. Please use tf.compat.v1.InteractiveSession instead.\n",
            "\n",
            "WARNING:tensorflow:From <ipython-input-10-27f9d8bec118>:11: dense (from tensorflow.python.layers.core) is deprecated and will be removed in a future version.\n",
            "Instructions for updating:\n",
            "Use keras.layers.Dense instead.\n",
            "WARNING:tensorflow:From /tensorflow-1.15.2/python3.6/tensorflow_core/python/layers/core.py:187: Layer.apply (from tensorflow.python.keras.engine.base_layer) is deprecated and will be removed in a future version.\n",
            "Instructions for updating:\n",
            "Please use `layer.__call__` method instead.\n",
            "WARNING:tensorflow:From <ipython-input-10-27f9d8bec118>:12: batch_normalization (from tensorflow.python.layers.normalization) is deprecated and will be removed in a future version.\n",
            "Instructions for updating:\n",
            "Use keras.layers.BatchNormalization instead.  In particular, `tf.control_dependencies(tf.GraphKeys.UPDATE_OPS)` should not be used (consult the `tf.keras.layers.batch_normalization` documentation).\n",
            "WARNING:tensorflow:From <ipython-input-10-27f9d8bec118>:13: dropout (from tensorflow.python.layers.core) is deprecated and will be removed in a future version.\n",
            "Instructions for updating:\n",
            "Use keras.layers.dropout instead.\n",
            "WARNING:tensorflow:From <ipython-input-10-27f9d8bec118>:22: softmax_cross_entropy_with_logits (from tensorflow.python.ops.nn_ops) is deprecated and will be removed in a future version.\n",
            "Instructions for updating:\n",
            "\n",
            "Future major versions of TensorFlow will allow gradients to flow\n",
            "into the labels input on backprop by default.\n",
            "\n",
            "See `tf.nn.softmax_cross_entropy_with_logits_v2`.\n",
            "\n"
          ],
          "name": "stdout"
        }
      ]
    },
    {
      "cell_type": "code",
      "metadata": {
        "id": "d53HCCn8X19K",
        "colab_type": "code",
        "colab": {
          "base_uri": "https://localhost:8080/",
          "height": 308
        },
        "outputId": "cfb0fd45-8d9f-4a73-804b-80858dcd2e7b"
      },
      "source": [
        "s.run(tf.global_variables_initializer())\n",
        "\n",
        "BATCH_SIZE = 864\n",
        "EPOCHS = 40\n",
        "prev_val_loss = None\n",
        "\n",
        "# for logging the progress right here in Jupyter (for those who don't have TensorBoard)\n",
        "simpleTrainingCurves = matplotlib_utils.SimpleTrainingCurves(\"cross-entropy\", \"accuracy\")\n",
        "\n",
        "for epoch in range(EPOCHS):  # we finish an epoch when we've looked at all training samples\n",
        "    \n",
        "    batch_losses = []\n",
        "    for batch_start in range(0, X_train_flat.shape[0], BATCH_SIZE):  # data is already shuffled\n",
        "        _, batch_loss = s.run([step, loss], {input_X: X_train_flat[batch_start:batch_start+BATCH_SIZE], \n",
        "                                             input_y: y_train_oh[batch_start:batch_start+BATCH_SIZE]})\n",
        "        # collect batch losses, this is almost free as we need a forward pass for backprop anyway\n",
        "        batch_losses.append(batch_loss)\n",
        "\n",
        "\n",
        "\n",
        "    train_loss = np.mean(batch_losses)\n",
        "    val_loss = s.run(loss, {input_X: X_val_flat, input_y: y_val_oh})  # this part is usually small\n",
        "    train_accuracy = accuracy_score(y_train, s.run(classes, {input_X: X_train_flat}))  # this is slow and usually skipped\n",
        "    valid_accuracy = accuracy_score(y_val, s.run(classes, {input_X: X_val_flat}))  \n",
        "    simpleTrainingCurves.add(train_loss, val_loss, train_accuracy, valid_accuracy)\n"
      ],
      "execution_count": null,
      "outputs": [
        {
          "output_type": "display_data",
          "data": {
            "text/html": [
              "<img src=\"data:image/jpeg;base64,/9j/4AAQSkZJRgABAQEASABIAAD/2wBDAAIBAQEBAQIBAQECAgICAgQDAgICAgUEBAMEBgUGBgYFBgYGBwkIBgcJBwYGCAsICQoKCgoKBggLDAsKDAkKCgr/2wBDAQICAgICAgUDAwUKBwYHCgoKCgoKCgoKCgoKCgoKCgoKCgoKCgoKCgoKCgoKCgoKCgoKCgoKCgoKCgoKCgoKCgr/wAARCAEgA2ADASIAAhEBAxEB/8QAHwAAAQUBAQEBAQEAAAAAAAAAAAECAwQFBgcICQoL/8QAtRAAAgEDAwIEAwUFBAQAAAF9AQIDAAQRBRIhMUEGE1FhByJxFDKBkaEII0KxwRVS0fAkM2JyggkKFhcYGRolJicoKSo0NTY3ODk6Q0RFRkdISUpTVFVWV1hZWmNkZWZnaGlqc3R1dnd4eXqDhIWGh4iJipKTlJWWl5iZmqKjpKWmp6ipqrKztLW2t7i5usLDxMXGx8jJytLT1NXW19jZ2uHi4%2BTl5ufo6erx8vP09fb3%2BPn6/8QAHwEAAwEBAQEBAQEBAQAAAAAAAAECAwQFBgcICQoL/8QAtREAAgECBAQDBAcFBAQAAQJ3AAECAxEEBSExBhJBUQdhcRMiMoEIFEKRobHBCSMzUvAVYnLRChYkNOEl8RcYGRomJygpKjU2Nzg5OkNERUZHSElKU1RVVldYWVpjZGVmZ2hpanN0dXZ3eHl6goOEhYaHiImKkpOUlZaXmJmaoqOkpaanqKmqsrO0tba3uLm6wsPExcbHyMnK0tPU1dbX2Nna4uPk5ebn6Onq8vP09fb3%2BPn6/9oADAMBAAIRAxEAPwD9/KKKKACiiigAooooAKKKKACiiigAooooAKKKKACiiigAooooAKKKKACiiigAooooAKKKKACiiigAooooAKKKKACiiigAooooAKKKKACiiigAooooAKKKKACiiigAooooAKKKKACiiigAooooAKKKKACiiigAooooAKKKKACiiigAooooAKKKKACiiigAooooAKKKKACiiigAooooAKKKKACiiigAooooAKKKKACiiigAooooAKKKKACiiigAooooAKKKKACiiigAooooAKKKKACiiigAooooAKKKKACiiigAooooAKKKKACiiigAooooAKKKKACiiigAooooAKKKKACiiigAooooAKKKKACuN%2BOP7QHwm/Zx8JW/jT4veJ5dPtL7U4dN0u2stLub%2B91K9lDGO1tLO0jluLudlR2EUMbvtR2xhWI7KvFv2u/gP8VPiX4h%2BGfxl%2BBd14fl8X/CrxjPrWmaJ4tu57bTdYhudLvdMubaW4ghmktH8q9aSOdYZtrR7TGyu2ACjpH/AAUr/Y71rxm3w8tvHviCDW7fSodU1bTtR%2BHOvWkmi2EhuAt3qXn2SDTIAbWcNLdmFEKYYqWUGbwn/wAFH/2NfGfg/wAQ%2BOtM%2BLFza6f4Y0e11fVBrnhPVdMuJNPuXMdreWtvd2sU19bzyAxwy2ySpM5CRlmIB86vP2GPjP8AHW0/aRP7Qt74V8My/tB/CPTvBskfgrWLrUzo7RWusWsr%2BbcWtqZ1VNRiZDsXeyygogxuy9Y/Y2/at%2BM%2Btaz8UP2lPh38G9X1e0%2BE6eBtB8E6d4n1QaRrSy6jaXt5fXd2bBJ9PYmyg%2BzxQw3BtnDP50hIwAeyX/7fP7N2k%2BAbH4h6tdeOLSHVPED6Jpeh3Xwj8SR67e3yW5uXjh0dtPGoShYAZTIluUCKzFsA49P8JeOfDfjbwTY/EPRbi5i0rULBbyCTVNPnsZY4iu7MsFykcsDAfeSRVZSCGAIIr41tv2Gf2tJfgpJ4W8feGPCnjS%2Bh%2BIcut%2BC9B1n9ofxXb3fgOxOmxWoi0/xbHp7atcSGUXcreZDGBHeGENsjGfUvB/7Bmq%2BKfgJo3hb9pz46%2BOPEfj5PhtdeFtf8Q6T8Q9at9Muhc2tzbyTPpa3SWN5MiXTBbq4tmmdoopWKuibADc8Mf8FJP2MvF/h7xJ4s0b4tXK6Z4W8GXni6/vr7wlqtpFe6BaruuNU09p7VBqtogK5nsvPQmSMAkyIG4n40f8FdP2YfAf7M/wATf2gfhW%2Bs%2BM7v4b%2BDYfEjeGW8L6xps2r2Nw7R2t3avNYFrixlkRh9vgjmtkVWdnCqSPHfC/8AwSh%2BNC/BPxf8LPFnh3w9J4h/4UL4j8A%2BC/Hmo/tD%2BNvECSXGpWEdp5h0jVUkttGtpDDE8scEl0yeVGqFggz6P%2B1L/wAE5vih%2B0BYeKtE0Pxj4d0q2179le%2B%2BGlrLM87GDVpLiOWGdo1iANqNhBIbzBnhO9AHqkv/AAUU/ZZt/E3hrwJeav41tvEni7TpdQ0HwpefCTxLDq8tnFd/Y5LmSwk08XNvCkxG6SaNEVGWUkRsrmXwN/wUT/Y7%2BJGqarpXhD4tyXB0rQ9Q1lbufw1qVvaapp1iwS8u9NuZrdYdVhhYqHeyedVLqCfmGcXwR8APjz4x/apsf2oPjn4f8HeH5JPg5f8Ag/VNE8J%2BK7vVTBcy6tHcpJDcz6fZl4mgiUsTGjJIdoV1USHwGb9hz9pf4bfs8%2BF/Cnxo1rwIPCP7N3wP8SaB4L1PwrfXcmpeKd2hHTLe4vbeW2ii04JZozSQxS3QknZXDxqgQgH0D4U/4Kl/sL%2BNPBus/ELQ/jLdrouheDj4tutRv/BmsWcdzoIKB9Vs/PtEN/ZxmRBJPbCWOLcPMZc167a/GD4c3vxcuPgVZ%2BIxN4qtPDUGv3emRWsrCHTp55beGd5QnlL5ksE6ohfe3kyEKQjEfFX7I/7P3xC8WfBL4Q/Hb9t/Uvhlovww%2BG/7L9z4fgk07W5wmr6bqmnaWby%2B1X7VBDDpkEVppyq0CS3CZleRplWNVrsP%2BCK3wr8d6P8As76n8evit4tbxFrHjW%2Bg03w54hlgaOS%2B8I6JF/ZWiXBD8/6VDDNqhPd9WcgKCFAB9lUUUUAFFFFABRRRQAUUUUAFFFFABRRRQAUUUUAFFFFABRRRQAUUUUAFFFFABRRRQAUUUUAFFFFABRRRQAUUUUAFFFFABRRRQAV4jpH/AAUY/Y91K716z1P4pXnh5vDnhy58QahJ418I6roMc2k27pHPf2smpWsC31ujyRK0tsZUBljGcuufab2K5ms5YbO6EEzxMsUxj3%2BWxHDbT1wecd6/MTV/%2BCOX7cvxf1bwvrnxu%2BOOhvrfhrwfqFnqHijUPit4m8TjxDrf2zSr611E6XfRQ2Wk20lzpi%2BfYWQCiOTassgVAoB9sv8At/8A7MNr8NG%2BLGseIPFWlaW2uQaNY2eufDLX7DVNTv5kMkMFlptxYpe37SIGdfs8MgZUdgSEYjovAf7VnwP%2BI%2Bv2XhPw54h1SHV7/wAKT%2BJIdI1rwrqWmXaabDd/ZJZZYby3ikgdZ/kMMirL32bea8m%2BJ3wc/bd%2BMTfD342654N%2BFWh/EP4UeOptY8P%2BGbXxxqV/ouuWdxpN3plzHcXz6VDNYzFL2SSN0tbgRmIKfMEjYq/En4Dftwa/8ZfDv7TXgfRvhXaeLL74Yar4L8Y6FqXivUpLDSFuL%2BG6tb%2ByuE04SagYhG6yW8sVoJS4xLFjkA7jSf8Ago3%2ByB4j17wL4W8K/EbVdZ1P4k%2BDdK8W%2BDdO0TwPrN7PeaHqL7LXUZEgtGa1t92PMknEa24ZTN5QYE7Hw1/bc/Zu%2BK/xGufhP4Z8X6tZ6/b6Xc6nDZeJ/BmraIt/Y28iRz3dlLqNrBHfwRvLEHltmkRfMQkgMpPlH7Cn7CXxY/Zh1/4caz488QeGrs%2BDv2UvCPwxv30i5nlZtW0t5muZovMgj3Wrb02MxV22/NGmBXjXw0/4JV/tjeJ/ij4X8TftTfGGz1SLT/AHivwv408TQfF/xJrV54il1exS2/tO10y%2Bhj0/QjlSxtLRSi5UCZxGq0AfUvhP/gov%2ByP410WPxVoPjvXP7DuNV0vT9P8AEt78P9btdK1GXUr2OyspLS%2Bns0tryCW5mijFxBI8IMqFnCsCfS/C3xd%2BHnjX4geKfhd4X8Q/a9c8FyWcfie0S0mC2Ml1B9ogjMrII3doSshRGZkWSMsFEibvmHxx4E%2BIvhX/AIJ7eNPgR/wUM8T/AAq8EeAtB%2BGkWgW3xM8O%2BLbsM06RpbWupPaXVnAmmzLMLeSGCO4umM5REcnaG7X/AIJX/D74seG/2RNK%2BKv7RVglv8TvixfS%2BOviJCtu0X2e/v1jMNpsb5k%2By2MdlZ7TkgWuDQB9G0UUUAFFFFABRRRQAUUUUAFFFFABRRRQAUUUUAFFFFABRRRQAUUUUAFFFFABRRRQAUUUUAFFFFABRRRQAUUUUAFFFFABRRRQAUUUUAFeL/Hrx/8AtF/8NF%2BBfgR8BfGfgrw%2Bmv8AgrxLr2r6n4v8F3etEnTrvQ7eGGGO31Kx8sN/akrMzM%2BfLQALyT7RXhfxF1pbP/gpV8IdFkUYvfgn8Q2Ru%2B6PVvBpx%2BTMfwpNpblwhKo7R7N/dqy9/wAIP/wUL/6Og%2BDP/hh9W/8Amoo/4Qf/AIKF/wDR0HwZ/wDDD6t/81FezUUyDxn/AIQf/goX/wBHQfBn/wAMPq3/AM1FH/CD/wDBQv8A6Og%2BDP8A4YfVv/mor2aigDxn/hB/%2BChf/R0HwZ/8MPq3/wA1FH/CD/8ABQv/AKOg%2BDP/AIYfVv8A5qK9mooA8Z/4Qf8A4KF/9HQfBn/ww%2Brf/NRR/wAIP/wUL/6Og%2BDP/hh9W/8Amor2aigDxn/hB/8AgoX/ANHQfBn/AMMPq3/zUUf8IP8A8FC/%2BjoPgz/4YfVv/mor2aigDxn/AIQf/goX/wBHQfBn/wAMPq3/AM1FH/CD/wDBQv8A6Og%2BDP8A4YfVv/mor2aigDxn/hB/%2BChf/R0HwZ/8MPq3/wA1FH/CD/8ABQv/AKOg%2BDP/AIYfVv8A5qK9mooA8Z/4Qf8A4KF/9HQfBn/ww%2Brf/NRR/wAIP/wUL/6Og%2BDP/hh9W/8Amor1TxjPNa%2BEdVuraVkkj02do3U4KsI2II9815z43/aA/Ya%2BFvie58B/Ev44fCnw/rdgIxe6Rr/ifTbW8g3xrInmRzSB1LI6uCw5VgeQQazq1qNGPNUkorzaX5tHZgsuzHM6rpYOjOrJK7UITm0tr2hCbtdrW1tVrqUf%2BEH/AOChf/R0HwZ/8MPq3/zUUf8ACD/8FC/%2BjoPgz/4YfVv/AJqKr/8ADX//AATg/wCjovgj/wCFto//AMdo/wCGv/8AgnB/0dF8Ef8AwttH/wDjtYfX8B/z%2Bh/4HD/5I9T/AFS4s/6F2I/8J6//AMoLH/CD/wDBQv8A6Og%2BDP8A4YfVv/moo/4Qf/goX/0dB8Gf/DD6t/8ANRXoXivSPh94Q8Lal4s1DwPaTW%2Bl6fNdzxWWifaJnSNC7LHFFGzyOQpARFZmOAASQK8K%2BBn7fH7HXxu8L/DC%2BtfAuvaVr/xV8OW%2Bs%2BH/AArefCnV2ult3%2BxrLO5Ww2i0ikvrdGviRakPvEuzLDrPnzs/%2BEH/AOChf/R0HwZ/8MPq3/zUUf8ACD/8FC/%2BjoPgz/4YfVv/AJqKyp/2r/2WL3Q9Q1DQNFhtb3Sde8OadqOl%2BNPAuraBcRrrOqxabZzrDdad58kcszyJFKsRgeWJkeaFVkljsfDz9rf9iH4peN734f8AhDW7E31g2tLLc6n4LvbCwlfSLs2mppDe3VrHbXDW0ylZVilcoBvI2fNQBd/4Qf8A4KF/9HQfBn/ww%2Brf/NRR/wAIP/wUL/6Og%2BDP/hh9W/8AmorY%2BOmsweA/gPrPxe%2BDPwe8J%2BM77T9I/tLTtOvdWj06zvrcKJHf7ZHa3JVfK3OpWJ92AB97I0PhNrHw8%2BJXwR8M/GrUvAejaPb6/wCFbLW7i3njhdLFJ7ZJ2VpSihggYguQoIXOB0oA5f8A4Qf/AIKF/wDR0HwZ/wDDD6t/81FH/CD/APBQv/o6D4M/%2BGH1b/5qK8Y0n/gpH8KNR%2BEPxA%2BLOpfs86HokHh34naf4R8GL4j1u3sbfXob/TNO1Kz1W7nktwNKtmtb/wC0yB1mkiggZirSnyBB%2B0R/wUU8Jfs7fDDwR458QfB/4OXk3jDw1retQ6hB8Vo18P3q6fJAItO0rVDpR/tTUruO4V7e08iHzPJuAH/d5YA9u/4Qf/goX/0dB8Gf/DD6t/8ANRR/wg//AAUL/wCjoPgz/wCGH1b/AOaivOL39tjwhp3xnk8H6r%2BzloOmeErH4h6D4E1bWtY1mKDWYNf1fTLO/tIo9LFqyywf8TC1heU3KuH84rE8cRc2P2Uf2qJf2tLDxzc%2BBvg78F/tvhbUdW06w0Cz%2BKn2zU1u7TULmyiXVbePSAdKSb7MZQwNywVxhH60Ad//AMIP/wAFC/8Ao6D4M/8Ahh9W/wDmoo/4Qf8A4KF/9HQfBn/ww%2Brf/NRXkd3%2B178XbD9nv44/GWX9iP4dXWofBbWr2ylsNO%2BJMr6frUdjpkV9fyxXkmiRyRmFpGtdn2dt08Eq7lC7jN%2B2p%2B3r4B/ZCj8Mmb4E%2BDb1/EHg288QwReJfFMejNqbwG3A0bSP9Cn/ALU1eY3A8qz/AHO/A%2BcbuAD1b/hB/wDgoX/0dB8Gf/DD6t/81FH/AAg//BQv/o6D4M/%2BGH1b/wCaiuM%2BHf7U3hz4jftr%2BMv2TLP4X/CnTovBepW9reJqnxASPxPexy6HZaoLq30MacRJbq98lu0huwAYpX5KiMr4M/aK13Tfjz44%2BFH7Rn7O/wAM/CWheAPhzB4v8ReMfD/jmXVoLCCe4uY4IbiO40ez8pmisb2ZirvsWFcjEitQB2X/AAg//BQv/o6D4M/%2BGH1b/wCaij/hB/8AgoX/ANHQfBn/AMMPq3/zUV4Lqv8AwUm0bS/gjoXxX1/9l3wL4Mute%2BNl94B%2Bx/FHx7FoVjpMcGm32oR3l/eDTpxbSvHZpEbURuEmnCec%2B3c3qfx7%2BN/jH4EfDjSvjZdfsxfDzWvB8WkaXdeLtR0rxzuuIp7u4jgaHSoTpezVADKhjaSS0M%2B9FVAzbQAdP/wg/wDwUL/6Og%2BDP/hh9W/%2Baij/AIQf/goX/wBHQfBn/wAMPq3/AM1Fcf48/aj8OfDD9rTSf2a/F3wd%2BH15Dr1ve3Vgnhfxct/4ksrK2064vDqF/op0%2BP7LZM9q9qtwtzKDPPax4zMdnP8AwS/bQh%2BMeg3aT/s9fDXQtfvvhVpvxG8H2N/8QkewuvD95I6%2BbqF4mmk6dLCEzIEiuYvnHlzSbXKAHqH/AAg//BQv/o6D4M/%2BGH1b/wCaiqHgfxx%2B1Z4O/as8OfBH43fEf4e%2BJtG8TfD3xDrkM3hX4eX2i3VpdabfaJborPcavfJLG6apKSoRGDRIQ2Mg1/2Yfjp4P/ak/Z91v4v6H8P/AA3psul6pqenWureEdYTVdJ1CS04F7pmorBAbu2LfKJREn7yOVMHZuOv44/5SF/C/wD7Iz48/wDTt4QoA9mooooAKKKKACiiigAr5x%2BE3ir9u/466Pr3jvwv8b/hJoGl2/xC8VaHpelX/wAH9Uv7iK10vXr/AEyFpbhPEUCyyPHZq7MsUa7nICgAV9HV4z%2Bwf/yRDXP%2ByzfEf/1NdboAP%2BEH/wCChf8A0dB8Gf8Aww%2Brf/NRR/wg/wDwUL/6Og%2BDP/hh9W/%2BaivZqKAPGf8AhB/%2BChf/AEdB8Gf/AAw%2Brf8AzUUf8IP/AMFC/wDo6D4M/wDhh9W/%2BaivZqKAPGf%2BEH/4KF/9HQfBn/ww%2Brf/ADUUf8IP/wAFC/8Ao6D4M/8Ahh9W/wDmor2aigDxn/hB/wDgoX/0dB8Gf/DD6t/81FH/AAg//BQv/o6D4M/%2BGH1b/wCaivZqKAPGf%2BEH/wCChf8A0dB8Gf8Aww%2Brf/NRR/wg/wDwUL/6Og%2BDP/hh9W/%2BaivZqKAPGf8AhB/%2BChf/AEdB8Gf/AAw%2Brf8AzUUf8IP/AMFC/wDo6D4M/wDhh9W/%2BaivZqKAPGf%2BEH/4KF/9HQfBn/ww%2Brf/ADUUf8IP/wAFC/8Ao6D4M/8Ahh9W/wDmor2aigDxn/hB/wDgoX/0dB8Gf/DD6t/81FH/AAg//BQv/o6D4M/%2BGH1b/wCaivZqKAPGf%2BEH/wCChf8A0dB8Gf8Aww%2Brf/NRR/wg/wDwUL/6Og%2BDP/hh9W/%2BaivZqKAPGf8AhB/%2BChf/AEdB8Gf/AAw%2Brf8AzUUf8IP/AMFC/wDo6D4M/wDhh9W/%2BaivZqKAPGf%2BEH/4KF/9HQfBn/ww%2Brf/ADUUf8IP/wAFC/8Ao6D4M/8Ahh9W/wDmor2aigDxn/hB/wDgoX/0dB8Gf/DD6t/81FH/AAg//BQv/o6D4M/%2BGH1b/wCaivZqKAPGf%2BEH/wCChf8A0dB8Gf8Aww%2Brf/NRR/wg/wDwUL/6Og%2BDP/hh9W/%2BaivZqKAPGf8AhB/%2BChf/AEdB8Gf/AAw%2Brf8AzUUf8IP/AMFC/wDo6D4M/wDhh9W/%2BaivZqKAPGf%2BEH/4KF/9HQfBn/ww%2Brf/ADUUf8IP/wAFC/8Ao6D4M/8Ahh9W/wDmor2aigDxn/hB/wDgoX/0dB8Gf/DD6t/81FH/AAg//BQv/o6D4M/%2BGH1b/wCaivZqh1DULDSbGbVNVvoba2tomkuLm4lCRxIoyzMx4UADJJ4FDaQ0nJpJXbPH/wDhB/8AgoX/ANHQfBn/AMMPq3/zUUf8IP8A8FC/%2BjoPgz/4YfVv/moqj4e/4Kbf8E/vFHjK68BaR%2B1x4JOo2k/kyC61hbeCR/SK4l2wzemY3YE8Vo/tC/t9fsofsyeH7XWfiT8W9PmutTjDaJoOhSC/1HVCxwgt7eEszhm%2BUOcJk4LCuL%2B0su9lKr7aHLHd80bL7m/62ufS/wCpXGX1%2BlgnluIVarrCDo1VKSte6Uqcbq2rd0ktZOK1Gf8ACD/8FC/%2BjoPgz/4YfVv/AJqKP%2BEH/wCChf8A0dB8Gf8Aww%2Brf/NRXlNp/wAFQPi5o1uvir4nf8EyfjhpHhi7zJp2q6XpEOpXKwZ4kurNGWS0PcqxYgetSH/gsJ8H/F3/ABLPgB%2Bzj8ZfiLq33JrDw/8AD%2BeNLOXulzLcFFix0JG4Cub%2B3cq61LPs4zTfonC7%2BSfyPcfhVx/e8MFzxW84VcPOnHup1I4lwg1s1OUdU0uZo9S/4Qf/AIKF/wDR0HwZ/wDDD6t/81FW/wBlb4jfGnxhrHxQ8CfHTX/C%2Brap4B%2BIUWh2eq%2BE/DVzpNvdWsug6Pqas9vcXt4yyLJqMqFhLtKxodqnOfJU/au/4Km%2BKl87wl/wS3sNHtpOYLnxR8YNP3lexeGKPfGfVTzXRf8ABOzV/jJr2ufHnVv2gfB%2BkaB4um%2BM0B1bSNC1Brq1t8eEfDYiCSsAXJhEbN6MzDoK6MNmFHFz5YRmtL3lCUV98kvyPFzvhHMuH8Kq2KrYeV5cvLSxNCtNOzd3GlOdkrWbcrJ2W7PpOiiiu4%2BXCiiigAooooAKKKKACiiigAooooAKKKKACiiigAooooAKKKKACiuF%2BAv7SPwh/aX0XWtf%2BD%2Bt6leQeHtffRdZj1bw3f6VPa3q28FwYzDfQQylTDcwSLIFKOsqlWYVy1l%2B3r%2BzLN421n4fa14j8S%2BHtR8P%2BE9R8T6s3jH4c67odrDo9hJFHd3outQsoYJIo2mjyUdshty5UEgA9jr5g/aA1j%2BzP%2BCsn7NVlvx/aHwu%2BJlvj1xL4Xlx/wCQv0r2r4IftCfCr9ojRNQ134W6xqMy6RqAsdWsNb8O32kX1jcGGKdUns7%2BGG4i3QzQyoXjAdJUdSVYGvmz9sLVzpf/AAWN/YzgLYW%2B8MfFC3Y/9uOjOB%2BaCubFz9nR5vOP4yiv1Pc4ew/1vM/Zf9O6z/8AAaFaX/tp9kUUUV0nhhRRRQAUUUUAFFFFABRRRQAUUUUAFFFFAGX45/5EnWP%2BwVcf%2Bi2rkPHP7Iv7KHxQ8U3Xjn4l/sw/DzxFrd9s%2B26xrvgqwu7q42Isab5ZYmd9qIqDJOFUAcAV1/jn/kSdY/7BVx/6LavDPjn/AMFWv2Bv2a/inqnwU%2BNfx6/sXxNovkf2npn/AAi2q3Pk%2BdBHPH%2B8gtXjbMUsbfKxxuwcEEDjxtXL6NJSxjgo3%2B3y2v8A9vJq%2B/mVHP6nDr%2Bswxbwzfu8yqSpN315eaM4N3te17aXtpp13/DA/wCwr/0ZZ8Jf/Dc6Z/8AGKP%2BGB/2Ff8Aoyz4S/8AhudM/wDjFeSf8Pzf%2BCWX/R0X/lk65/8AIVH/AA/N/wCCWX/R0X/lk65/8hV5f17hX/n5Q/8AKf8AkX/xFLE/9D2f/hZV/wDmg%2Br76zh1Gxm0%2B5z5c8TRybTg7WGD/OvnT9m/9hHxn8FR4GXxf8eLXWm8AfBu5%2BHGi3OheE30udtPZ9O%2Bz3Tu97cj7VGunjcyhUd5QypEE2N9CeINVm0LQb7W7fRrzUpLOzlnTTtPVDcXRRCwiiDsql2xtXcyjJGSBzXhV/8A8FIPgSPAVz8SfDWk6vq%2BlWnw20Dxvc3gv9K06CHTtZnlisY5LnU762t4Z2EE8jJJKqqsX3izxo/0BkeOfBv/AII1P8LUv5Lj40eFEuL638AwXM3hX4VLpJv28M%2BIk1r7bfN9vmkvb%2B92GGa5dxgkSBDgxt7H8P8A9h3UPhzf%2BCdY0b4rwS3fgnxV461y1Nx4dJjuZPEV/e3ixuq3IIW3a7CkhszCPP7rd8vnfin/AIKseFNa8H6R8ZvhG1tL4Gvvgh8SPGGo3cunRapfWmo%2BGNV0TTzBGttqCWt1GJL6%2BDCO58ucxQtFcrGd79b47/4KB3a/tB%2BB/g58MPhLrlzomtfGG48D67481OwgOky3NtpGoXl1a2hjuxcrPFNaJGZZbcW5Mc8auzgYAPY/jV4D%2BJvxH%2BBOt/DfwX490LRfEms6MbA%2BINU8LzX9jEZAEuH%2BxR3sEjbozKEX7SNjMjMZApV%2BN8AfsteKD%2Bypo/7JP7QXjvw/4w8Op4Hn8K%2BKzonhu%2B0NtYsTAltCImTU5pLQi3DrKVkcyM4ZDABsPomr6x4q8ZfDKbWvhDeW2navqGnmTQ5/F3h%2B7SK3lYfK1zZs1vcYHUxFon7ZXrXG/sX/ABr8X/Hb9knwR8cfiqdHtta1zw8l5rb6PbSW1ikoLB2ijmlleKP5cgPI5A6setAHkNp/wSh8D%2BFh461XwJ8WtefVvEPxS8PeOvCd1461fV/E8GhX2kWNjawJNHqOpO96HNrOXlWSCbyriKJXUWkDLW1D/gmV8Q7fw%2BT4Q/aQ0O213W9J8Zad40n1j4bG%2B0u7i8SajHf3rWFgNQj%2BwOkkYVPMluVZCfOWdvnrCvv%2BClHxzvdG%2BOHj3w38PvDq%2BHPC3hfwlr3wrkubK6kvL3S9X1LUrBtQu4VmVrvelh9ttrO3EU80U0UGfPlATOT/AIKEftVaz8MtF8R6NDo0EUXxY1jw14r8Yx/ALxRqJsdMtNKa7ivLnw3BerqWjyPcGOArdykCMpPgJPHgA9X8Qf8ABO7w/wCK/jD4E8Y%2BIdT8G3OgfD1dGbSJH%2BHiN4ru30tEa0iutee6YvbLdRx3RhS2jZpIlBkK71fq/AX7NXxTh/aTtv2kvjN8XfDet32h%2BENU8N%2BF9O8K%2BBJNGSGzv7yyupmvHlv7truVW0%2B3CbPIjXdO3lkyDZ4h%2B0R/wU5134JeN7G%2Bg%2BIvw5l8JW/hPwprliJtKupL34kW2qXkkN3caDJHe%2BXFHawIlwRsvDtlXzWgjKzt6L4z%2BNn7WXgf9s3Tvg7Z%2BKvh54k8LXPgvxD4s1TR4PBt5puo6XYWphg0%2BCTUpdWltzLPc3GPMNqiNHZ3LBUwMAFrU/2JPHVn/wAE/NZ/Yv8AAnxr0m01/wAU6Hq1p4r8e634NlvY7%2B81eS4m1a/Wxiv4Gjkmnu7mVFNw4iLqD5oXnA%2BL37Anxt%2BMPhW20/Wf2lPC0Gran8KdQ%2BHvje5HwvlnsbzSrqUMZtOtZdUY6fdiMBWeWW7ikKxs8JEaIPHvh1/wVx%2BMEnwV8U%2BPviJpfhya/i0jwI3h6Q/D/WtCFpqPiTUZbDyXsbuee61eztWEcqX9lthv/wB5DbZkQkep6Z%2B1t%2B0T8Tn8FfB34AfE34ca5451/S/Fer6x4i1z4aazpVjZxaJcadbSabLo1xqK3tleNcavZIxmnOxEkk8ltyJQB6H4r/ZT%2BJHjv4s%2BCtZ8V/GLQn8D/D3xJb674b0Ky8FSprb3cGny2aC51aS/kSWMiaRn8u0id12xl9u/zJ4/2Ivh74p0v4r6T8adXvPE0fxa8ZW%2Btau9hd3ejzWltaQ2cOn2UM9pcLPGsC2MT745E3yyTPtUSsteX6h%2B3n8W9T0b4A/GzwZDpJ8J/G%2B38KTweEb74eaq01lDq4tzNJL4kW6Gm2kkKXO%2BK1ngEt08PkRFpJk2t%2BLH7fXxT/Zl%2BMHxM0T4tLpHibw14H%2BEXifx6w074fap4bmtotM%2ByywWUN7qF1Pba4ZYbllluLJUS1khXzlQ3CIADrvhF%2Bw18Qf2YvBfinw7%2BzV8e4Ir3xV8Qb3xFdXvxS0/WvFyQ29xHsFqi3Otxy%2BapwWufO/ejO%2BMkhhzsf8AwTr%2BL/hVPg54V%2BHH7SfhtvB3wf0OJLDwp4z%2BGs%2BpQ32tq5I1cm01WyRGhjJW2tzG8VsztIoZ1hMV74X/ALTnxp%2BI/wAC/Ffiiy%2BPXgq48VeG7izuNSt9L/Z68VSyaXazReYIxoz36ahqYl5MF5AI45lVmWFtpA8%2Bi/4KJ/tS%2BOPgvY%2BPPhr4X8C2ureH/hFrfj/xlBrel3jx6vb2N/Pa21jaxJdpJpU10lpcySfaTcSWL7IJIZXWQqAe/wDiv9nX4v8AxI/aA8JfEv4h/GnQJfCvgPxRc694W8O6L4HltNT%2B0S6dd2Aiu9Re/lSaFY72ZikVtAzssW5iqusnG/Bn9g7xn8FPEvjD4w%2BDvGvwu0j4heI9Mt9P03UPCvwZOlaJaQrdm5uZrjTotTM17dXLELLObuPiGDYqbH8x3jD9q34t%2BF/2rfhh4D0zUdI1Twd8Up4zYaZL8N9VsZ9Ms20q6uvPbxBJdvptzc%2BdaEf2ckKXJim3gFYmkbT/AGePit%2B1Nr/7Wvj/AOB/xW8c/D/xL4b8EeFdInutW8KeAr7Rp49Zv5LiQWTG41a9WQRWcMMz4VD/AKfBg43CgDo/g98Bte%2BBfwu8fzeMvHtt4i8QeM9c1HxH4gvdM0Q6ZYJdTWkUHl2loZ52t4hHbRsQ00jPK0srMWkOIPHH/KQv4X/9kZ8ef%2BnbwhXqXjn/AJEnWP8AsFXH/otq8t8cf8pC/hf/ANkZ8ef%2BnbwhQB7NRRRQAUUUUAFFFFABXjP7B/8AyRDXP%2ByzfEf/ANTXW69mrxn9g/8A5Ihrn/ZZviP/AOprrdAHs1FFFABRRRQAUUUUAFFFFABRRRQAUUUUAFFFFABRXhH7QP8AwUw/Ym/Zl8Rr4M%2BKXxxsf7bDlbnRtDtptTurQKCWaeO1SQwBQMkPg46A1c%2BFv/BR79hH4zLGPAH7VfgueaUDy7PUNYSwuW%2BkN15ch/75rh/tPLfbOj7aHOunNG/5n1D4H40WWRzH%2BzMR9Xkrqp7Cq4Nd01TenZ2Se6bWp7XRWTqnjzwPofhG58f6z4x0u10KztmuLvWbi/jS1hiUZaRpSdiqPUnFfJk/7aH7U/7bfiO58Lf8E3fCWmaR4KspXg1P42ePdNl%2BxXEinBTS7ThrllIP7yQbMghgvyszxWYYfCcsXeUpfDGKvJ%2Bi7d22orq%2Bgsh4RzjiBVatNRpUKP8AFrVpezo077KU2neb%2BzThGdWX2adk5L7JqvqWr6To1ubvWNUt7SJRlpbmdY1H4sQK%2BTLb/gkZ4L%2BJ8n9v/ts/tIfEX4w6y4yUv9el0nS7Zj1NtZWTqIM9xvIPoKv6d/wRH/4Jh6bcC8H7McdxKDkve%2BLNXmDfVXuyp/KuZYjOamscPGK/vVNfmowkvld%2Bp7Usm8NcK%2BSvm9erJbujg1yN/wB2VfE0ptebpxvvypHpvxp/b3/Y8%2BAPhm48T/Eb9oPwzGIPlTTdN1WO8vriQ9I4raAtK7E8cLgdSQOa8c0r9oL/AIKkftSTN4u/Zn%2BAPgz4XeC9v/EsvfjWt22raupPEy2dmf8ARUx/DJndkFWIPHsfwq/YB/Yq%2BCOv2viz4Xfsx%2BD9J1axbdZarHo6SXNu395JZNzo3uCDXr9L6rmeKf8AtFXkj2p3TfrOSb%2BUYrzfQtZ7wPkNP/hHwDxVV71MaoShFdoYajOMG3/PVqza%2BzBfEfJf/Ctf%2BC0Gp/LfftL/AAR0sHq2m%2BDb2cj6ec3NH/DN3/BW2/8A3t3/AMFKPClgx6xWPwds5VH4ySZr60op/wBj0H8VWq/%2B4s/0sZ/8RGzOP8LA4GHpgcO//S/aHyZ/wyz/AMFXZOH/AOCqekR%2B8fwO0w/zlqnqnwx/4LCfAvZ4%2B8L/ALUfg/45xwZ%2B3%2BBNf8D2nhuS4i/6dbu2YgTdh5pEY6kN0r6/ooeTUEvdqVE%2Bj9rN2%2BTbT9GmioeJGbOVq%2BCwVSm/ig8FhoqS6rmpwp1I/wCKFSMk7NPTX45j/wCCwfh25T/hW9l%2Bx/8AFub4vKfLn%2BFa%2BG2E8B/57vdkeULQnpP6fNsA5q1Y%2BB/%2BCw/x7VvEfiT45%2BAvgPY3J/0Tw3oXhiLxLqFrH6XE9wwhaXtmI7enAOa%2BvKKSy3FVtMTiJSS2Uf3fzk43k36OK7IuXGuRZcubI8mo0Zy1lOu3jGn/AC0o11GnCC6c1OrUtpKemvySf%2BCZHxV8bnd8eP8Agpd8cdeVv9dZ%2BGtZg0C1m9Q0VujZX2BH1o/4cvfsh2X/ABMvC/ij4naHrbcy%2BJdJ%2BJF8l/KexZnZkyP9wV9bUU/7Cyl/FSUn3k5Sf3yk2vlYz/4ip4gw0oY%2BVKP8tKFGlD0cKdCEZLykpryPkpf%2BCcP7RnhYeR8Lf%2BCqHxms4U/1CeKmtNbZR6M0yIWqBv8Agl54/wDjLq0C/t4ftueL/i94esHVrDwdbaTD4d02ZgchryOyfN2wPRiUI6ZIOK%2BvKKP7Dy16OLa/lc5uL9YubT9HdeQLxS42hecK9ONTpVjh8LCtG%2B7jWhh4VIN/zRcZdpLc821X9jf9kvXfA1p8NNZ/Zp8C3Wg2EPlWGlz%2BFrVorZf%2BmYKfIc5O5cHJznPNZHwG/YC/Y2/Zj8TXXjT4Hfs%2B6DoWr3bEvqapJcTxAjBWGSd3aBD3SMqp7ivYKK7PqOB9pGp7KPNHZ8sbr0dtD5xcVcULBVcH9fr%2Byq/HD21Xlnd3fNF1GpXerutXvcKKKK6jwQrxn9l//kt/7R3/AGWax/8AUK8L17NXjP7L/wDyW/8AaO/7LNY/%2BoV4XoA9mooooAKKKKACiiigAooooAKKKKACiiigAooooAKKKKACiiigAooooA%2Baf2Pb748eHvix8aNT%2BIv7IPjvwvYeOPizBrmg6hqus%2BHJ42sjoek6c0jrZ6tPIhSXTpXZdu4xyRlQzFkTD%2BNv7Jfxn%2BPtr%2B034n1PRLWx1zxl4TtfBnwqttRv42hn0qxs2u0klaIv9nW61S%2BvY5ARv8m3gZl4VR9ZUUAeG/sp%2BE/itqXxa%2BKH7Q/xS%2BE%2Bo%2BAz42utHtdI8KazqVjdXsVvYWXltcztYXFxbq0k00yqqSufKgiZtrMY0%2BZf27vD/iPwJ/wWQ/Y%2B8aav8W/EGuWmsX3jSHT9D1W205LXRFkh0eJo7Vra0hndX8wbvtEs7fIu0r8279DK/PL/AIK6amdF/wCCkn7DmqbsD/hOdXtifaa/8PRf%2BzV5uby5MvnLs4/%2Bl0z7Xw7ofWuMMPR/mjXX34XF/wCR%2BhtFFFekfFBRRRQAUUUUAFFFFABRRRQAUUUUAFFFFAGX45/5EnWP%2BwVcf%2Bi2rUps8ENzC9vcRK8cilXRhkMCMEEelZi%2BDNGRQkdxqaqBhVTW7oAD0AEnFAGrRWX/AMIfpP8Az96r/wCDy7/%2BO0f8IfpP/P3qv/g8u/8A47QBqV83aF/wS9%2BBXhLwJ4l8FeDPHfjPSp/EHxQh8dWOuw3tlNd6BfW8sclraWS3FpJbiyt9jLFbzQzBRLIcliGHvv8Awh%2Bk/wDP3qv/AIPLv/47R/wh%2Bk/8/eq/%2BDy7/wDjtAHzwP8AglX8CZ/h3e/DvWPiX4%2B1FNS8J%2BPtA1HVr7VbN7y5i8X6raapqtwzC0CeetxZx%2BSQgREd1ZJPlK9FN/wT9%2BHbfG/SvjFbfFrx3bWGi/EO58cad4Dgv7IaLFrtzY3Nnc3WDaG6YSrd3EjRG4MQlkaRUUk59l/4Q/Sf%2BfvVf/B5d/8Ax2j/AIQ/Sf8An71X/wAHl3/8doAqXvg/xDdfDmXwRB8VdfttTk05rZPGENvp51GKUrgXSo9q1p5oPzANbmLI5jI4rgf2c/2RrP8AZ0%2BCei/AC3%2BOXjLxf4e0W6mCxeMLPRZHvNPktZIP7Mn%2By6dAj2weTzwQqzmRQrTNCWhb0n/hD9J/5%2B9V/wDB5d//AB2j/hD9J/5%2B9V/8Hl3/APHaAPn2X/gkn%2Bw/pWveL/E/wu%2BEGlfD%2B/8AF2leH7T7V8P9A03Sm0ibRtUbVbK8s/KtcJP9tFtNIJBJFKbC1DxkRkN02j/sWaj4W8M6vpngv9rf4o6NrnifxLNrvjLxlZroD6lr929na2S%2Bes2lSW0Kx2tlawxi1ggKrAvJJYt65/wh%2Bk/8/eq/%2BDy7/wDjtH/CH6T/AM/eq/8Ag8u//jtAHk1/%2Bwv4AuPCPgf4Q6b8S/GGn/DbwLo%2BjadZ/DG0uLFtK1KPS5Eks2vJpbR7%2BUhooN6LdJHMIVWRHVpA/VXH7Mnw01Tx78QviF4l%2B36tdfErwzY%2BHdetr64XyYdKtY7pUs7fy1V442a%2BvJWyzMXuGIIAVV6//hD9J/5%2B9V/8Hl3/APHaP%2BEP0n/n71X/AMHl3/8AHaAPCdF/4Js/DS18NajpHi740/EHxRqc%2Bk6Dpug%2BJtevNN%2B3%2BHbfRb37fpf2P7PYxQs8F3tnMlxFO8rIqzNKg2U69/4JyeBZNJgvdG%2BPnxI0nxkdV1e%2B1X4laZe6Ymtap/akVvDfQTBrBrRIpI7OxULDbRGP7DbtGUZCx90/4Q/Sf%2BfvVf8AweXf/wAdo/4Q/Sf%2BfvVf/B5d/wDx2gDyfV/2HPBmrJ4U8IJ8WvGdn8PfBs2gzaJ8KrJ9NTRUfRpLeXT90n2I35WOa0tpfL%2B1iN2hAZSrOrRa7%2Bwj4H%2BI3iPWNa%2BP3xZ8afEey1Pwprfhq00HxVJpsVlpemassaX0EK6fZW0kpkiijiElw80iopCsC8hb13/hD9J/5%2B9V/wDB5d//AB2j/hD9J/5%2B9V/8Hl3/APHaAPIvDf7FOoeE49c13Rv2t/ikPGPiFtNi1L4gXH9gzam9hYJcLa6eI5NKNl5Cm7uZCTbGZnmZmlJxjnvEX/BMH4La34HsfAum/E/x9o0Z0bXNI8XajpWq2guvF9jrN%2B2oarBqLy2rgfaLuSeYy2ot5YjcTCB4VcrXv3/CH6T/AM/eq/8Ag8u//jtH/CH6T/z96r/4PLv/AOO0Aeda9%2Bybp/i74saJ8RPF/wAavGepaJ4Z1uLWPDfw7kGlw6Lp17FbvBFKhgsY7yQRiSR1jluZIw7A7PkQL0/wi%2BCHhT4NXni/VPD%2Boaje33jjxjc%2BJNfv9UljeWW6lihgSMFEQCKG2tra3jUgsIoEDMzZY73/AAh%2Bk/8AP3qv/g8u/wD47R/wh%2Bk/8/eq/wDg8u//AI7QAnjn/kSdY/7Bdx/6LavLvHH/ACkL%2BF//AGRnx5/6dvCFeonwZob4Wdr6ZMgmK41a5kRvZlaQqw9iCK8u8cf8pC/hf/2Rnx5/6dvCFAHs1FFFABWb4w8ZeEPh54Xv/HHj/wAV6boei6XbNcanrGsX0dta2cKjLSSyyEJGgHVmIArSrxD9v7w34i134J6Nq2ieFNS1%2B08N/Evwrr/iDQ9H06S8urzTbHWrS5uDFbRK0ly8Kx/aRCitJJ9n2oruVUgHpmmfGH4R618Mh8a9H%2BKXhy78GnT3vx4tttct5NMNogJe4%2B1K5i8pQrZfdtG05PFYl/8AtW/suaV8KbX476n%2B0l4BtvA97c/Z7PxlP4xsk0qebcy%2BWl2ZfJd9yOu0MTlGHY182eGvh7afEn9k/wCLfh7xfoXjrwjp3if4l3/jzwnbf8Ky1S6u7O1i1mC7tZX00W/mTNcXtm95Jp2FuXhuyHjjaQ48jHw0/aKmuI/j58RtW%2BJekWXiL9ovUvE%2Bn%2BPPh38H7qPXNBsv%2BELttGWWLw1dW2pT2sF3dW90hF1b3EiJIkziKS482IA/STRda0fxHo9p4h8PatbX%2Bn39tHcWN9ZTrLDcQuoZJI3UlXRlIIYEgggivIv2D/8AkiGuf9lm%2BI//AKmut1R/Yu8CfFrwZ/wT8%2BHfw7sNE03wP4s0zwLZWdtaa7o095Dp8iRhUNzaC7jlLlAGeH7QGR3Zd528n/BOm38S2n7N19a%2BMtWsb/V4/i38Q11O%2B0zTntLa4nHjPWvMkigeaZoULZIRpZCoIBdsZIB7pRRRQAUUUUAFFFFABRRRQAUVyHxk%2BP3wU/Z68LyeM/jd8UdE8MaciMyz6vfpE0xUZKxITvlf0RAzHsDXy/D%2B0N%2B2t/wUJuls/wBjnRrj4R/Ct5B5vxc8W6SH1XWYs8/2XYScLGw6TS9QcgoylTwYrMcPhpqkrzqPaEdZer6RX96TivXY%2BtyHgzN88w0sdNxw%2BDg7SxFZuFJP%2BWLs5Vaj6UqMatR9VBXkvsq9vbPTrWS%2B1C7iggiUtLNNIFRB6kngCvIfiJ/wUJ/Yc%2BFUxtPHP7V3gW1uFba9nB4ihuZ0P%2B1FCzuv4gV5dZf8EeP2fPFt3HrH7UPxV%2BJvxjvkcSbfHnja5a0jf/plb2xiVF9EJYV7B8Ov2HP2OPhNEqfDz9l/wLpkirt%2B1R%2BGbZ7hh6GZ0MjfixrD2md1vhpwpr%2B9KU390El/5Mz1PqXhhl2lbGYrFy/6c0aVCHyliJ1KjXn7KPocVqn/AAVn/wCCc%2BleH7zxG37WXhWeKztmme2tbh5LiUKM7Y4Qu%2BRj0CgEmvMLHQv2wf8Agp9dJrnjC/8AEnwO%2BBTnfYaHp9x9l8U%2BLoj92S5kGfsNsw58sZLgnO8Msi/U3/DOn7Pn9oQ6v/wonwb9rt5Vlt7r/hGLTzIpFOVdW8vKsCAQRyK7KplgcdjHy4youT%2BWClHm/wATbvb%2B7FpPq7aG9LirhXh2DrcN4KosU9q2KlRquiu9GnCmqaqP/n7VjOUP%2BXcFL315t%2Bzr%2ByB%2BzX%2ByhoJ0D4BfCHSfD4kjCXd/DCZL27HX99cyFpZeecMxA7AUz4o/sY/slfGp3uPip%2Bzd4K1u4kJ3X174ctzc89cTBBIPwavTKK71gsGqCo%2BzjyLaPKrfdax8lLiXiOWZyzJ42t9Ylq6ntaiqP1mpqT9L27JLQ%2BVX/wCCKv8AwThXXoda0/4DzWcK3ST3WkW/ifUfsF6yEMomt3nZHUEA7QADjkEZB%2BoNE0TRvDWj2vh7w5pFrYWFlAsFnY2VusUMESjCoiKAqqAAAAAABVqipw2AwOCbeHpRhfflSV/uNc74s4o4lhTjm%2BOrYhU78vtak58t97czersk3q7JK9kkFFFFdZ8%2BFFFFABRRRQAUUUUAFFFFABRRRQAUUUUAFFFFABRRRQAV4z%2By/wD8lv8A2jv%2ByzWP/qFeF69mrxb9li4gufjZ%2B0dJbTpIo%2BNNmhZGBAZfBfhhWHHcEEEdiCKAPaaKKKACiiigAooooAKKKKACiiigAooooAKKKKACiiigAooooAKKKKACiiigAr85f%2BC3H%2Bg/tW/steLOn9g63qOobv7u3XfCiZ/8iV%2BjVfnL/wAF6f8AQdU8CeLOn9g%2BB9b1Dd/d2%2BKvBCZ/8iV5Oe/8iau%2B0W/ucX%2Bh%2BgeFOviRlUP560Yf%2BDI1af8A7kP0aooor1j8/CiiigAooooAKKKKACiiigAooooAKKKKACiiigAooooAKKKKACiiigAooooAKKKKACiiigAooooAKKKKACiiigAooooAK8Z8cf8AKQv4X/8AZGfHn/p28IV7NXjPjj/lIX8L/wDsjPjz/wBO3hCgD2aiiigAooooAKKKKACvGf2D/wDkiGuf9lm%2BI/8A6mut17NXjP7B/wDyRDXP%2ByzfEf8A9TXW6APZqKKKACiiigAooooAK%2BbP%2BClvx5%2BJPw8%2BHPhn4D/s%2Ba41j8Tfi54mh8PeE7yFQ0mnQble91DB/hhh6sOVMqsPu19J18c/sqf8Zjft9fEH9tG9/wBI8I/DYS%2BAfhcx5jmuEO7VNQj7Hc7eUsg4aNyP4K8rNalSVOGFpO06r5brdRWs5eVo6J/zSR97wDg8JSxmIz3HU1PD4CHtXGSTjUrSfJhqTT0kp1mpTjrenRqXVmzs/g9/wSl/ZF%2BGniJfiJ468Nal8TvGTENceL/ihqT6zdyOOQwSb9yhByQRHuH97ivpJESNBHGgVVGFUDAA9KWiuzDYPCYOHLQgorrZb%2Bbe7fm22fOZ3xJn/EuIVfNcVOvJKy55NqK7QjpCEf7sIQj5BRWH49%2BJ/wANfhXpI1/4ofEPQ/Ddiz7Vvde1aGzhLem%2BVlGfbNY3h79pL9nbxbPFa%2BFPj54K1OWZwsMen%2BKbSZpGJwAoSQ5JPYVpKvQjPklNJ9rq/wB17/gfPyxGHhU5JTipdnJJ/c3f8DtaKKg1LU9N0bT5tW1jUILS1t4zJcXNzKI44kHJZmYgKB6mtW0ldmraSuyeivmD4m/8FhP2FPh14jk8K6T8Sb7xpd2YMmrt4A0WbV4NNgB%2Ba4mnhBiEa/xbGZhj7teyfAj9pz9n/wDac8Nf8Jb8BPi3oviizCgzjTbsGa2z0E0LYlhb/ZkVT7VxUcxy/EVnSpVYykuikm/%2BD52vbrY4MPm2V4qu6FGvCU10Uk3%2Betutm7dbHd0UV83ftTft73vw%2B%2BJMP7Lf7K3w2PxM%2BMN9bec2gW90I7Dw/AQMXWp3GcQoNykR5DuCBlN6FtMVi6GDpe0quy2XVtvZJLVt9EvwV2tcbjsNl9H2teVleySTbbeyildyb6JL7km19HSXEEMkcUs6K0rFYlZgC5AJIHqcAn6Cn18YWP8AwSd1T49iX4qft9ftE%2BKPFfxHmTdol54O1eXStP8ABr5DAaXGmPnUgAyyqd%2BASm4bja0/wp/wWB/ZwmPw78A%2BJfAXxu8Pyrs0XxR45uZNL1XSwDwt6ISRdqBwHUmRjksV4FcCzLGQ9%2BthpKD25bTkv8UVZq/k5JbNpnmLNsfT9/EYOag9nFqcl/jhGzi3/dc0tpNO59i0V8kR/A//AILFePz/AGr4u/bk%2BG3w/mIyNK8D/DQatbjPYyaiyycU26/Yi/4KKeOkHh34s/8ABWHWm0GY/wCnReCvhpp2iahIv92O8idnh%2BoB%2BlV/aOKl8GEqPtfkj995tr7n6Ff2tjJfw8FVfa/s4/feo2vmn6HtP7S37ZX7N/7I/h0a98c/ibY6XNMP%2BJfosLefqN%2B54VILWPMkhJwN2NoJG5gOa8Isv2v/APgp/wDEcN8X/g7/AME%2BdNh8Ax4%2BxeGfG3igab4o1eI8/aEQkw2gx/yylDMcgqWBr1H9nX/gm3%2ByJ%2BzN4gHjzwV8Njq3i5mMk/jXxbevqeqyykYMvnTkiJyOCYlTP417tS%2Br5pi3zVqvsl0jTs3/ANvTlF39IxS7tk/VM6xz5q9b2K6RpWb/AO3pzi0/8MYKPds%2BRLT/AILN/sy%2BD92iftPeAviJ8JPEMPFxoni3wReS7vV4ZbWOVZY/R8LnsK9A%2BAH/AAU//YR/ag8dR/DL4K/tB2Gpa/NGz22lXul3uny3GOqxfa4YhK4GTsQs2ATjAJr3uvLv2qf2Pfgf%2B2H4FXwZ8XvDjNcWcnn6F4h02TyNS0a5GCs9rcAbo2BCnHKttG5TgUOlndGN41YVLdHBxb8uaMmk/PltfdWuOVHiKhG8K1OrbpKDg5eXNGbin58jV91a9vUa%2BWvG/wDwVh%2BDum/EDWfh18FPgP8AFr4vT%2BH7kWms6t8KvBg1TTbS6xk273Pmou9e%2B0Fe2SQced3v7MX/AAVW%2BJMafsbfFr4/6WvwrgYnVvjBozCLxJ4g0vhV0toyx8mcjIknwQyEZeQ70k%2Bvvgp8Efhb%2Bzt8NdN%2BEfwa8HWmh6BpMOy1srRep/ikdj80kjHlnYlmJySaiOIzLHytSi6MVu5xTk32jG9rLrNuz05VuzOOKzfNJctCDw8Y/FKcVKTl/LGLly8q61G7PTkW7XzjJ/wV08GeBrmO%2B/aU/ZI%2BNHwt8PzsFh8VeKfBTvYxtnGJjbtI8R5GBtbPPTFem6r/AMFIP2C9F8Cw/Ee//a38Cf2VcqTA8PiCKWeQjqot0JmLDIyuzcMjIFe1TwQXUL21zCkkcilZI3UFWUjBBB6ivMNG/Yh/Y58O%2BOJviTof7LngK112dw76lF4VtRIr/wB9fkwjHuygE9ya09jnVLSFWE0%2BsouLX/gDs/R29TX2HENF2p16dRPrODi1/wCC5Wl6NR9Txlf%2BC2X7DBzqj6j44TQWP%2BjeKW%2BHupf2fcAdWRxEXIHugpdS/wCCzn7JXifytE/Zi0rxr8YvEd1Hug8PeBPB140sYJwGne5jiWFMg5Y5KgZK4r61VVRQiKAoGAAOAKitNN06wkllsbCGFp33ztFEFMjdMtgcn3NH1fOXp9Yh6qnqvS82vvTD6rxA9HioWe7VHVel6jj/AOBJ/M%2BQZv8Agop%2B1j8GWHjP9sP/AIJ3eJfC/gi8Hmxa/wCDNcg8QTaNH/1EIIAGjUDDGReADt2lgRW14x/4LC/sjNp%2Bmab%2Bzzf6z8XvFeu23m6L4O8AaRNcXjDON1xvRRaKDjd5mHUfNsIr6qrC8I/C74Z/D/UNR1XwH8O9C0S61i48/VrnSNIhtpL2X/npM0agyt7tk0vqmbU/dp4lOL6ygnJenK4xf/b0dPPYX1HPKXuUsWnF7udNOcf8Li4xfkpx089j5YT9ur9vj4QIvjH9qf8A4Jx6qvhO9Hnrd/DHX4tb1DRIj/yzu7UEGVlHzNLGVQDtnIGm3/Bb3/gmitjBMfj/AHJu51/5BKeDtVe6jccGN0W2IVgQQQTjjgkc19Y1XtdK0uyuZbyz023hmnbdPLFCqtIfViBkn601hM1o6UsTzL%2B/BSa9HFw%2B5rToxrA51Q0o4tSX/TympNejg6f3NadGfGOs/tKftU/8FGNSl%2BHP7Eek6z8M/hsCIvEvxn8TaTJbX90pHz2%2BkWsmG34ODO2NpzgoyqX7v/gmt8BvBH7Ml18c/gh8O59Rm0rRPjHbmO61e9a4urmabwj4buJ55ZD955JpZJDgAAuQAAAB9N14z%2By//wAlv/aO/wCyzWP/AKhXhetsLgXRquvWm51Hpd6JLtGKdorvu31b0S6MFlrw9Z4ivUdSq1bmeiS35YRTtFaK%2B8pNXlJ6JezUUUV6B6gUUUUAFFFFABRRRQAUUUUAFFFFABRRRQAUUUUAFFFFABRRRQB5P%2Byl%2B0H8QPjuvj/R/il8J9N8H674A8et4bvdP0nxS2rwXAOmafqMc4na1tirGPUERo9hCtG2HcEGvI9M/wCCodj4l%2BF/xj%2BOHgvwn4E1fw58LvA/iDxDZaTZfFRJPEmoLpqymI3mmJZMNMt7sQSPDM00r%2BW0TNCGdkTvP2cP2cP2mvgv8QPiF4w8bftB%2BBPEFr8QvHUPiS9sdK%2BFt7p0loy6fZafJAksmtXAIaCwtyrFPlkMjEMrKict8KP%2BCePin4MeLLTWPA/xj8Ow6Z4P0TxRYfC7Sm%2BHzA6Z/bl9Fez/ANpyrfqdUjjkhRUjjFmWXJkaSQLKoB6x%2Byr8c9S/aI%2BFv/CyL%2B6%2BHVxHLqEkFpcfDH4jN4o06SNUTO68NlabZg5dWiEbBQqneSxVfkH/AILs6P8A254SlstmdnwH8W3GP%2BuXijwLLn/xyvrL9m39nrxZ8H/Efjr4kfEr4iaX4j8VfELXLbUNbuPD3hltH06L7NZQ2cKw2r3V1IH8uEF5ZJ5GckD5UREX5V/4KnfAv4UaD4s8W%2BMPBPwv8PaRrviT9mP4jXviXWdK0WC3u9We21LwlLG9zNGgecr8%2B0uWI3HHU152bw9plOIj3hP/ANJkfZeHWJ%2Bp%2BIOT1/5cVh3/AOVqX%2BZ92eC9Y/4SHwdpOv7t327TILjd6741b%2BtadcH%2ByzrH/CQ/sxfDjX9277d4D0e43eu%2Byhb%2Btd5XZQn7ShCfdJ/ek/1Pm80w/wBTzPEYf%2BSpOP8A4DOcf/bQooorU4QooooAKKKKACiiigAooooAKKKKACiiigAooooAKKKKACiiigAooooAKKKKACiiigAooooAKKKKACiiigAooooAK8Z8cf8AKQv4X/8AZGfHn/p28IV7NXjPjj/lIX8L/wDsjPjz/wBO3hCgD2aiiigAooooAKKKKACvGf2D/wDkiGuf9lm%2BI/8A6mut17NXjP7B/wDyRDXP%2ByzfEf8A9TXW6APZqKKKACiivPP2rP2kPBX7JXwC8RfHvx4rTWmh2e620%2BOQLLqF05CQWsZwfmkkZVzg7QSxGFNZ1qtOhSlVqO0Yptvslqzsy7L8bm2PpYLB03OrVlGEIreUpNRil6tryWrbSTa9Drz748ftXfs4fsxaP/bXx6%2BM2g%2BGYzGXht9Qvh9puFH/ADyt0zLL9EVq%2BeNL%2BEX/AAVG/a90y31r43/H7TPgV4W1GBJh4R%2BGdo0%2BveU6giO41C4/49phnkwgjjBUGvSvgR/wTH/Y0%2BAOsf8ACY6L8Ko/Efih5BLceMPHFw2r6nNN/wA9fNuMrG/vEqV5axmY4tf7NR5Y/wA1TT7oRvL/AMCcT7mXDnBmQSazvMvb1VvRwSU9V0liqqjQWuj9lCv5N6N%2BWeIP2vv2x/239CvfB/7BX7PV34W8LataSWzfGP4n%2BZp8QikUqZ9Os0zNM2CWjlOVDAblFe7fBn4e/Bv/AIJ7/siaP4H1nxZZaV4X8CaEv9sa/f4hjllLbp7pxk4aWd2baMnMgUZ4r1uvjf8Abkd/2xf2tfh//wAE7NHYz%2BGdMaLxv8ZChyjadbyD7Fp0nY%2BfPtZkOGCiNxwDWNanUy6DxM5urXlaEb2SvJ6RjFbK%2BsndytHV7HzXGPHMZZEssynBww2H9pFwpqU5zq1mnThKvWk%2Bao4xcnaMKdOEedwgm%2BY7e7/4K9f8E2bO1ku5P2tfDjLFGXZYorl2IAzgKsRLH0AGTXnlv8WP24v%2BCjtyifs9W%2Bp/A34OSOC3xB1myH/CSeI4c5zp9s3FpCw6TN8xBVlY/NHX1anwT%2BDUbB4/hJ4YUqcqRoFuMf8AjldOAAMAVvLB5jivdxNZKHVU1KLfk5OTaXlGzfVpHwUsvzXGPkxldKn1VJSg5eTm5OSXlDlb6ySPmD4f/wDBIP8AYq8M6z/wmPxN8I6x8UvEjri48RfFTXZtZnm9d0chEB5yf9Xn3rb8V/8ABKT/AIJ1eMdPuNO1P9kbwfbrcRMjSaTYGykTIxlHt2QoR2IIxX0JRW0coyqMORUIW84p/e2m382zeOQ5JCnyLDU7ecIu/q2m2/Nyb8z41j/Za/4KL/sgv/ZP7FXx/wBI%2BIngyUGG08F/GmWaS40MEYV7e/gxJLEhx%2B5fACLhQWOat6T/AMEwfFXx71KDxn/wUj/aM1n4o3KSCaDwLosr6T4XsXHIC28JV7kqekjlSw4ZWr6/orFZJgb8suaUFtByk4L/ALdb18lJyS6JGC4cy2/LPmlTW1OU5Spr0i3quyk5RXSKOd%2BGfwj%2BFnwX8NR%2BDvhH8OtE8M6VHjbYaHpkVrETjG4rGo3N6sck9zXi/wAdf%2BCXf7KXxo8TH4l%2BH/D2o/DvxwjF7fxz8NNQbSNQSQ9Xfyh5cpJxlnQsQMbhX0VRXbWwODxFFUqlNOK2Vlp6Wtb5NHoYjLsBiqCo1aUXBbKy0/w2tyvzi4vzPjDX/gl/wWS8BaXJ8Ifhx%2B1R4E8Y6DrBFpF8QPFGgtaeIPDsJI3TCOEmC7dU3BWbLs5UnaMke7/sjfsc/Cb9jnwDN4V%2BH8VzqGr6rP8Aa/Ffi7WJPO1LXr0kl7i4lOS3zMxVM7V3HGSzM3rFFYYfK8Nh63tbyk1pHmk5cq6qN9r9Xq7aXtoc2EybCYTEe2TlOSVo88nPkT3UebVX6ttytpzW0CiiivRPWCiiigAooooAKKKKACiiigAooooAKKKKACiiigAooooAK8Z/Zf8A%2BS3/ALR3/ZZrH/1CvC9ezV4z%2By//AMlv/aO/7LNY/wDqFeF6APZqKKKACiiigAooooAKKKKACiiigAooooAKKKKACiiigAooooAKKKKACiiigAr5K/4KJaP/AMJB4/u9DCbjefsm/FqFR7tN4XA/U19a186ftP6P/wAJD%2B1V4a0DZu%2B3fs6fEu32%2Bu%2B%2B8Jrj9awxUPaYWpDvGS%2B%2BMl%2Bp6uRYj6nnmExH8lWlL/wGrTl/7adN/wAE69X/ALc/YK%2BDV9u3FfhnosLHPUxWUUZ/VK9lr5w/4JFax/bn/BNz4SXu7Ozw21vn/rlcTRf%2ByV9H1z5XP2mV0Jd4Q/8ASYnrceYf6px1mtD%2BXFYhf%2BV6v%2BYUUUV3nygUUUUAFFFFABRRRQAUUUUAFFFFABRRRQAUUUUAFFFFABRRRQAUUUUAFFFFABRRRQAUUUUAFFFFABRRRQAUUUUAFeM%2BOP8AlIX8L/8AsjPjz/07eEK9mrxnxx/ykL%2BF/wD2Rnx5/wCnbwhQB7NRRRQAVzvxX%2BK/gH4I%2BAr34mfE3XG0/R7B4I5porOa5lklmmSCCCKCBHlnmlmljijijRpJJJERFZmAPRV5B%2B2v8N/H3xD%2BE%2BkX3wy8MtruseE/H/h3xPD4dS7hgfVotP1O3uJ7aOSd0iWYwpIYvNdIzKsYd0Ul1ANuy/at%2BAl98C7r9pFPHTQ%2BELGSeG%2BvbzSLu3uba5huTaSWkllLEt0l0LlTB9laITGXEYQuQpz5P21P2dYvhmvxXk8Vautg%2BvnQk0pvBmrDW21TaZPsI0j7L/aBufKBm8n7Pv8AJHnY8v568j8K/Anx34n/AGdvih4e%2BMn7P3jO2u/Hfje88cafoHhzX9GXUtLuEv4JNOt4Z2vfsy6lEbC1vSWc2glk2edKA2fI4f2Ef2izb2vx68baT8VfEF9qHx9vPGev%2BDbPx9pemeLZdMl8IReHYt1/p91ZWMNyJbSCdo7S5gjW2leFZHKMkoB99%2BEvFGl%2BNvC%2Bn%2BL9Eivo7PU7OO5to9T0u4sblUdQwEtvcpHNA4B5jkRXU5DKCCK8q/YP/wCSIa5/2Wb4j/8Aqa63V/8AZ%2B8BfHz/AIZI8O%2BAPjT8StY0jx4dCEOpeItOnsrzUbF95Me6W4gmtri4SLy45JWidJJFdwDuBrC/4J06Tf6D%2BzdfaJqvie%2B1u5s/i38Q4bjWNTjgS5vnXxnrQM0q28UUIdyNxEcaJknaqjAAB7pRRRQAV8Y%2BMf8AjYH/AMFD7T4bRD7V8Kv2dr6PUfEZ6waz4uYH7PbHs62i7mYdn3oww6mvW/8AgoR%2B1NqP7LH7P8%2BreBbIaj488VX0Xh/4daKihnvNXuTsiO09UjyZGzgHYFJBcV8h/s66R8T/AIk/DaH/AIJ/fsIeOZrPQdMupJvj7%2B0XbEv9v1e4w97baVIebi4YnZ9oz8kaoQfuu/zWcY2nPFwwdnK1pSit5PeEPRtc829FCKvuk/usszGlwHwrV4jqJvGYrnw2CgvjbcbYnER7KlTn7GE3aMalacr3po%2Bxv2kv%2BCg/7J37K10NA%2BKHxTtpfEUrBLPwfoEbahq9zI33UW2h3MhbsZNin1qx%2BzJ%2B3j%2BzB%2B1skth8IviPCddtNw1LwjrMRstXsXXh1ktZcOdp4LJuQHjdUn7M/wCwp%2Byx%2ByRZAfBT4TafZ6o6EXviW%2BX7Vql4x%2B%2B0l1LmT5jklVKpknCjpVX9pv8AYB/Ze/awni1/4meAfsnia0KtpvjXw5cGw1mydfuMl1Fhm2/wrIHUdQua7v8AhdX7z93/AIPe/wDTnf8A7c5fzPyf/jJV%2B%2B/dP/p3723/AF9/m/7h8n5nSftEftVfAP8AZZ8GXnjP42fE7RtFS2sZbi20671GJLu/KKW8q3hZg8ztjAVQea8d/wCCWPwo8YxfDHX/ANr/AOM1gYvH3xy1j/hJNVjkyW0/TCCum2Kk87I7chgDyPN2n7tb/wAFf%2BCWX7EvwT1j/hL7b4QxeKvEruJLjxV49uX1m/mlH/LXdc7kR/8AajRDX0MAFAVQAAOAKqjhsZiMXHEYpRSgnyxi27N6OTbSTdtFZWV3rqXQwmYYrHQxWNUYqCfJCLcrOWjlKTSTaj7q5VZXk7tsKKKK9U9sKKKKACiiigAooooAKKKKACiiigAooooAKKKKACiiigAooooAKKKKACiiigAooooAKKKKACvGf2X/APkt/wC0d/2Wax/9QrwvXs1eM/sv/wDJb/2jv%2ByzWP8A6hXhegD2aiiigAooooAKKKKACiiigAooooAKKKKACiiigAooooAKKKKACiiigAorwj9h/wAUfF7UdW%2BMvw%2B%2BMHxi1LxxP4H%2BLh0bRta1bSrCznWyfQNFvxCUsbeCIqk19PtYqX2lQzuRmvmXw5/wUa%2BMyfBfx1%2B0H4j8Q%2BOtN1vXPA/ivVfhh4a8S%2BGtFj8KJ/Z9%2BlskkD26nVHltVeAzi9ljS5D3EkCeWqmIA/RGvFviFbxXf8AwUC%2BGdpOu5Jfgt49Rx6g6r4QBqv%2Byp4t%2BKum/Fr4ofs8fFL4r6j47bwTdaPdaT4r1nTbG1vZbe/svMa2nWwt7e3Zo5oZmVkiQ%2BVPErbmUyPk3/xO8N%2BMf%2BCm3gvwZpOm%2BIYbzw98HvHEd/NqvhHUbG0lL6t4Swba6uYI4L0DactbvIFyNxG5cg02ndHK/wDBEO4l/wCHafgHRrlszaVea3ZTZ9U1e8IH5EV9Y18l/wDBGr/Qf2XfEvhTp/YPxc8Taft/u7b0vj/yJX1pXlZF/wAiXDrtBL7rr9D77xWS/wCIl5xJfaxFSf8A4Mcan/uQKKKK9U%2BACiiigAooooAKKKKACiiigAooooAKKKKACiiigAooooAKKKKACiiigAooooAKKKKACiiigAooooAKKKKACiiigArxnxx/ykL%2BF/8A2Rnx5/6dvCFezV4z44/5SF/C/wD7Iz48/wDTt4QoA9mooooAKKKKACiiigArxn9g/wD5Ihrn/ZZviP8A%2BprrdezV4z%2Bwf/yRDXP%2ByzfEf/1NdboA9mpGZUUu7AADJJPSlr5Y/wCCyP7Ug/Za/YT8U6rpOpfZ9f8AFqDw54fKvh1lulYTSrjkGO3WZww6OE9RXLjsXSwGDqYmp8ME2/l0%2BbsvmehlWBWZZjSw0qipxk/enL4YQV5TqS/u04RnOXlB9Wr/ABN%2B0F8VPHv/AAVD/b5g%2BH3wP1aRdLWO88OeB9UiBaLSdEVvL1zxJ6bpsGzt26ONwykiIT%2BrHwY%2BDfw7/Z%2B%2BF%2Bi/B74U%2BHYdL0HQbFLaxtYUAJAHMjkAb5HbLu55ZmLHk18w/wDBGr9hmb9lb9nqD4l/EbSvL8e%2BOrC2n1KOaMB9J05EH2TTxwNpVCHl4BaVyG3FAa%2Bxq8Th3AVqdKWOxS/fVvef91PVR8ul/SK6BnmcU%2BJc7lmNKDp4eEI0MLTlvSwtNv2akulWtJyxOIfWrW5W2qUbFFFFfSnnhRRRQAUUUUAFFFFABRRRQAUUUUAFFFFABRRRQAUUUUAFFFFABRRRQAUUUUAFFFFABRRRQAUUUUAFFFFABXjP7L//ACW/9o7/ALLNY/8AqFeF69mrxn9l/wD5Lf8AtHf9lmsf/UK8L0AezUUUUAFFFFABRRRQAUUUUAFFFFABRRRQAUUUUAFFFFABRRRQAUUUUAeTfCP9if4D/A3xRrnjH4dS%2BO4b/wAS65FrGvPqvxb8R6lHe3scaRLM8V5fyxk%2BVFFEw27WjhjRgVjUBtj%2Bwt%2ByvZa/4i8QyfC37a3inTNW07VdP1bXL6909LTVJBLqUFtZXE721kl1IA8620cQmYAvuNet0UAcV8EP2evhT%2BztomoaH8LdI1GEavqIvtXv9b8RX2r319cCGKBXmvL%2Baa4l2wwwxIHkIRI1VQFAFcd44/5SF/C//sjPjz/07eEK9mrxnxx/ykL%2BF/8A2Rnx5/6dvCFAHmP/AASe/wCJdbftD%2BE24/sv9p7xWkK%2BkLm2dD%2BOTX1pXyX/AME5f%2BJV%2B0j%2B1T4U6eT8Zf7Q2/8AX1Zxvn8dtfWleTkemWQj2c191Soj9A8Ufe44xNX/AJ%2BRw8//AAPCYR/ncKKKK9Y/PwooooAKKKKACiiigAooooAKKKKACiiigAooooAKKKKACiiigAooooAKKKKACiiigAooooAKKKKACiiigAooooAK8Z8cf8pC/hf/ANkZ8ef%2BnbwhXs1eM%2BOP%2BUhfwv8A%2ByM%2BPP8A07eEKAPZqKKKACiiigAooooAK8Z/YP8A%2BSIa5/2Wb4j/APqa63Xs1eM/sH/8kQ1z/ss3xH/9TXW6APZq/Pz4r%2BFbP/gpN/wVk074aXIW/wDhh%2BzbZpe%2BJVBDwah4huGDpanBwwUxIrKwOPslwhxvFfXv7Xfx0tP2Z/2YvHXx3upIhJ4a8N3N1YpP9yW72bLaI/787RJ/wKvGf%2BCM3wNu/hH%2Bw14f8aeKZZrrxT8S55fGHifU7ty813LekPCzM3zH/RxCxBP33c/xGvCzJLH4%2BjgH8P8AEn5qLtGP/b09X5ROKt7bE1ZYaDtDlTqecZSsqfpNwbn3pwcdps%2BrKKKK907QooooAKKKKACiiigAooooAKKKKACiiigAooooAKKKKACiiigAooooAKKKKACiiigAooooAKKKKACiiigAooooAK8Z/Zf/AOS3/tHf9lmsf/UK8L17NXjP7L//ACW/9o7/ALLNY/8AqFeF6APZqKKKACiiigAooooAKKKKACiiigAooooAKKKKACiiigAooooAKKKKACiiigArxnxx/wApC/hf/wBkZ8ef%2BnbwhXs1eKePb20h/wCCivwqsZbhVmm%2BC/j5oYyeXC6t4P3Y9cZFAXSPNv2MP%2BJT/wAFJv2uvDB4X%2B0vBuoRD%2B95%2BkSFiPxUV9aV8l/AX/iTf8Ffvj7pvT%2B2vh/4W1DH97yY5IM/rivrSvJybTCzj2qVV/5Uk/1P0DxJ9/PcNW/nweBl/wCWlKL/ABpsKKKK9Y/PwooooAKKKKACiiigAooooAKKKKACiiigAooooAKKKKACiiigAooooAKKKKACiiigAooooAKKKKACiiigAooooAK8Z8cf8pC/hf8A9kZ8ef8Ap28IV7NXjPjj/lIX8L/%2ByM%2BPP/Tt4QoA9mooooAK534r/FfwD8EfAV78TPibrjafo9g8Ec00VnNcyySzTJBBBFBAjyzzSzSxxRxRo0kkkiIiszAHoq8g/bX%2BG/j74h/CfSL74ZeGW13WPCfj/wAO%2BJ4fDqXcMD6tFp%2Bp29xPbRyTukSzGFJDF5rpGZVjDuikuoBt2X7VvwEvvgXdftIp46aHwhYyTw317eaRd29zbXMNybSS0kspYlukuhcqYPsrRCYy4jCFyFNcftgfs8x/A3xB%2B0ZqXji403wr4U89fEk2s%2BH7%2BxvdNlhClreawuIEvEnIePZAYfNl86Ly1fzE3eN%2BFfgT478T/s7fFDw98ZP2fvGdtd%2BO/G95440/QPDmv6MupaXcJfwSadbwzte/Zl1KI2Freks5tBLJs86UBs%2BYQf8ABPf9sPxz8KPG/iz/AIW1JpWt%2BLfiTqHjOTwl8WNBtNfvNRlTw5p%2Bi6et62j6hY2MFxG1g11GsDSW0LyWp2s9qr0Afdvgzxf4d%2BIXg/SfH3hDUftmk65pkGoaXd%2BS8fn200ayRvtcBlyjKcMARnBAPFeV/sH/APJENc/7LN8R/wD1Ndbq7%2Bzn8Kvi74b/AGLfA3wb%2BInjuXw/4x0zwJpumanrfhTTrVJNPuYreNCIY7s30DOgXYWfzUchmAAYAYn/AATp0m/0H9m6%2B0TVfE99rdzZ/Fv4hw3GsanHAlzfOvjPWgZpVt4ooQ7kbiI40TJO1VGAAD53/wCC8fjPV/G3gj4V/sNeDb5k1f4wfEG0trlY%2BSLKGWNfmHYfaJ7dwTx%2B4b0OPu/w34f0jwl4dsPCugWa29hpllFaWVunSKGNAiKPYKAPwr84fDmqf8Nk/wDBwZe6jG/2rw78B/C01vB3iN5GvlPnsJFu72THc/ZR/dxX6V189k0vrmOxeM6Oapx/w01Z/fNy%2B40pUPY5ZTry%2BLESnU/7hwboUvk/Z16i/wASfXUooor6EzCiiigAooooAKKKKACiiigAooooAKKKKACiiigAooooAKKKKACiiigAooooAKKKKACiiigAooooAKKKKACiiigArxn9l/8A5Lf%2B0d/2Wax/9QrwvXs1eM/sv/8AJb/2jv8Ass1j/wCoV4XoA9mooooAKKKKACiiigAooooAKKKKACiiigAooooAKKKKACiiigAooooA%2BL/%2BCYfxZ/Yl8M%2BPv2gfhN%2Bzx8WPhnb6Ynx3jfRdA8K%2BI7AowuPDmhR74ooZDuMt3FdqWAJeaOYZLq%2BPHPhr8Of2d9N0v46fsk%2BC/jF8CNX0j4h/Cf4gXvjT44eCPDFva6h4Ka91AhbTxFdJeSpdHGqTvH5klqwXSJgYsAvH%2BmdFAHzB/wAEw/E/gG68IeOvh58JvDPwnfwz4Z8WRRaf41%2BCHhiPSfDnieSXT7aSWaOCOadDcwkrbzOk8ynykG5WDRR%2BAf8ABUb4sftE/Av9vr4F/tN3/gbRLTwf8MtI8VXmoXWieJ7i%2BvNS8P3d/wCGbC%2Be5tHsYUt3Q3UDIqTXAJyxKeWM/o9Xz1%2B0b8NvC3xk/a/8HfCfxvZfaNI8SfAH4iabqUXGTDNqXhGNip7MA2QexAPauTHUKmIwc6dN2k1o%2BzVmvldK/k2cOZYeri8BUpUpcs2vdfaStKPy5oq/k2ef%2BO/Eln8Bf%2BCsfg740a7NFL4O%2BOHw5TwlpGtwSZhg1m3uPtVujsOCJ4mVIz/EzHHCk19i1%2BfPwK%2BFXiP9sP8A4J2%2BMv2CPiNrH2b4pfAvX30PR9XLmOS3vLBjJo2oRt1SOSECEP1KLIR1FfTv7AX7T837WH7NOkeP/EVp9i8V6XLLonjvSXTZJYa1akR3MbJ/BuOJQvZZVHUGvIyjFJ1nFqyq3qR8paKrB%2BcZK/o32P0fG4qnxn4f5dxFQVquGjDCYiP8qjzvDVLdE17XDz6e1ox/nV/aaKKK%2BiPhgooooAKKKKACiiigAooooAKKKKACiiigAooooAKKKKACiiigAooooAKKKKACiiigAooooAKKKKACiiigAooooAK8Z8cf8pC/hf8A9kZ8ef8Ap28IV7NXjPjj/lIX8L/%2ByM%2BPP/Tt4QoA9mooooAKKKKACiiigArwX9kfxVYeBf2XPGnjfVTi10b4pfE%2B%2BuSTj93D4x12Rv0U171Xw58XPiF/wrH/AIJBfHnxQJ/KaXxp8T9NjfOCHvfG2s2a4Prm4GPeubGV1hcJUrP7MZP7k3%2BhyY/ErB4GriH9iMpfdFv9EcD/AMG6Hw91vWfhh8T/ANrTxqzT6z4/8ZGBruZfmlWANPNKp9Hnu5AfUw%2B1fpDXzV/wR98Bp8PP%2BCbXwp0b7OI3vNAfVJDtwXN5cy3QY%2Bvyyr%2BAFfStedw7hvqmR4eHVxUn6y95/jI%2BhzqE8NjVg5K31eFKhbt7ClTpP5ucarfeUpN6thRRRXtHkhRRRQAUUUUAFFFFABRRRQAUUUUAFFFFABRRRQAUUUUAFFFFABRRRQAUUUUAFFFFABRRRQAUUUUAFFFFABRRRQAV4z%2By/wD8lv8A2jv%2ByzWP/qFeF69mrxn9l/8A5Lf%2B0d/2Wax/9QrwvQB7NRRRQAUUUUAFFFFABRRRQAUUUUAFFFFABRRRQAUUUUAFFFFABRRRQAUUUUAFeM%2BOP%2BUhfwv/AOyM%2BPP/AE7eEK9mrxnxx/ykL%2BF//ZGfHn/p28IUAeRfti%2BBvir%2Bx/8AtAXH/BSb4A6BP4g0a80q30/43%2BB7SMGe/wBNt8iLVbb1uLZOCp4Ma/wje1cZ4h%2BKWk/smfFhv%2BClnwDu18V/s%2BfGZLOb4nw6PCzy6BfD91HrUcY52liUuY8Bw%2B7cC20L96uqupR1BUjBBHBFfEXxL/Zv%2BNv7AvijxR8TP2Tfhrb/ABD%2BC/i%2BWS5%2BIXwKMQM1i0ilbi60lWyjq6532hGGA2qpG3yvmMzwVXCzdajfk5ufRXdOfWajvKElpUgtdeaOt0b8NcQVOBM2rV6lB4jLsVFwxVBXvyyak507XcZRlFVIuKbp1YqooyjKtCX2j4b8SeH/ABj4esfFnhTWbbUdM1O0jutPv7KYSQ3MLqGSRGXhlZSCCOoNXa/NP9lv9q3SP2OPDd58QfgVeah8Rf2Wb7U2mubW0Dy%2BIPhLdSktNa3do2ZGsw5Y552jLBmJBm/RH4cfEnwD8XvBOn/Ef4YeLrHXdC1WATafqmm3AkimTpwR0IOQVOCpBBAIIr08szSjmFO2imldq99P5ov7UH0kvSSjJNH0nEPDUMuw9PNMsrLFZbXf7nERtZ6X9nVSb9lXgnapSlZ3TnTc6bjJbdFFFeofKBRRRQAUUUUAFFFFABRRRQAUUUUAFFFFABRRRQAUUUUAFFFFABRRRQAUUUUAFFFFABRRRQAUUUUAFFFFABXjPjj/AJSF/C//ALIz48/9O3hCvZq8Z8cf8pC/hf8A9kZ8ef8Ap28IUAezUUUUAFFFFABRRRQAV%2BVP/BTj4g/8Ij/wSL1vwpHPh/Ff7TnjXT2jB5aOPxp4gvCfoGtk/Eiv1Wr8aP8AgoFcf8LNl%2BA/7MVuwkHiP9pr4kyXtvn73m%2BP760h47582cfhXz/FVWVPIK6jvJKK9ZyjH9TXC4KlmmZYTAVVeFevQpy/wSrU/af%2BUoVb%2BV30P1m/Z28D/wDCsv2f/A3w38ny/wDhH/B2maaY8Y2%2BRaxxY/8AHa7GiivdpwjSpxhHZJL7kl%2BhpjMVVx2Mq4mr8VSUpv1lKUn%2BMmFFFFWcwUUUUAFFFFABRRRQAUUUUAFFFFABRRRQAUUUUAFFFFABRRRQAUUUUAFFFFABRRRQAUUUUAFFFFABRRRQAUUUUAFeM/sv/wDJb/2jv%2ByzWP8A6hXhevZq8Z/Zf/5Lf%2B0d/wBlmsf/AFCvC9AHs1FFFABRRRQAUUUUAFFFFABRRRQAUUUUAFFFFABRRRQAUUUUAFFFFAHC/AX9pH4Q/tL6LrWv/B/W9SvIPD2vvousx6t4bv8ASp7W9W3guDGYb6CGUqYbmCRZApR1lUqzCsLwP%2B2x%2Bzp8QtC8U%2BLtC8S65baD4Lt9Rn8ReJ9d8DaxpekwRWE0sN48d/e2kVtciJ4JgxhkfiNm5UZrgP2Pb748eHvix8aNT%2BIv7IPjvwvYeOPizBrmg6hqus%2BHJ42sjoek6c0jrZ6tPIhSXTpXZdu4xyRlQzFkTyHxR%2Bx38dfGWh/FD4U/Af4QeOPh14L8R/DbxPDdeHviV8RYNV07XPFV3qEF3ZT2EMOo35021Y/2mLjAtlYX0X%2BjuyHywD6/%2BCH7Qnwq/aI0TUNd%2BFusajMukagLHVrDW/Dt9pF9Y3BhinVJ7O/hhuIt0M0MqF4wHSVHUlWBrjvHH/KQv4X/APZGfHn/AKdvCFU/2U/CfxW1L4tfFD9of4pfCfUfAZ8bXWj2ukeFNZ1Kxur2K3sLLy2uZ2sLi4t1aSaaZVVJXPlQRM21mMaZV/4L8SeHv%2BCm3gvxFq3xc8Q67Z6t8HvHD2Gg6rbaclpooXVvCWUtmtrSKdw%2B4Z%2B0Szn5BtK/NkA%2Bh6KKKAPm79o3/gmZ8HvjJ44ufjj8KPFetfCv4lzoRL408FTeV9vJ6rfWpIivEP8AEGCs4wGcjivhXXPhf/wVO/4JTePr/wCKnwr%2BHdl4l8JXV19o8SWvgezebQdVHG6ebS0xLpU%2B0Fmlth5I2qoUICD%2BvdFeBj%2BHcHi5%2B1oydGondShpr3cdnfrtfrc3ybHZlw3XrVcpq%2ByVZWq03GNTD11e9q2Hn%2B7m09Yzj7KtB%2B9CtGW/yb%2ByL/wWZ/Yp/ai8KRXOv/EzS/h74kjQDUfDXjTVYrTY/APkXEhSK4UnONpD4GWRa91b9qn9mBYRcN%2B0f4CEbDhz4wssH8fNrm/jR/wT8/Yq/aDOoXPxY/Zm8Iajfaoc32sw6RHa6hK3943cASbd776%2BP/FP/BBG0%2BFuuz%2BJ/wBlPxh4J1m0aQyJ4L%2BM3gi31O2Ynnb9vgRblEHQAKTg8sSMnGpW4nwVNJ04VrbyjzRl6uGz8%2BWXojrwWXV8/wATUticJgpP4Y1Xi/ZPvaqoVnTV9lUjJRWntGld/cNn%2B1h%2ByzqMpg0/9pb4fzyA4KQ%2BMrFiPwEtdh4b8WeFfGVgdV8IeJtP1W1DlDc6bepPGGwDt3ISM4I496/N%2B7%2BGfgv4QQ/2f%2B13/wAEI9HuLODibxV8F9OtdZt5V7yfZV2XEKDqd7E45rCsfFv7AWh%2BKR8U/wDgmL%2B15o3wK%2BIlqixav4A8epdaboWvbckWt9BehVjk5wJYWJXJwAx3jKPEFenJe2jDzjecJ/JVYxjJrsp69Htfsxnh74q4DDvFwy6GMw8dXPBVPrKt3Xs3P/wGcaTey97Q/U2ivjHwH/wVu8TQeGoP%2BFz/ALBHxmj1ODMWpav8PfDCeINAlkU4MlvfQTBZI24YYDYzjc2Nx6DSf%2BC0f7B41FNG%2BI/i/wATeA76U4itPG/gnULIt/wJYnRfxYV6kM9yiSTdZRv/ADXj/wClRS/FnxEuIMnpz5K1VU5LRqopU2n2aqQhZrZpvc%2BrqK8v8DfttfsdfEtY/wDhBP2pfh/qckgG22t/Ftp5wz6xGQOp9iBXpNjqem6pAtzpmoQXMbDKyQSh1I9QQa9GlXoV1enNSXk0/wAmz06OJw2JjzUZxkvJp/k2T0VgeOPit8Lvhla/bviT8SdA8PQbd3na5rEFomPXMrKMVz/gb9q39l74nz/ZPhv%2B0d4E1%2Bbft8nR/Ftncvn02xyE0pYjDxnySmlLtdX%2B69/wFLFYWFT2cqkVLs5RT%2B69/wADv6KAQRkGitjcKK5bxd8cvgn8P93/AAnnxh8LaJs%2B/wD2v4gtrbb9fMcYrQ8DfEf4efE/Rh4i%2BGvjzRfEOnscLf6HqkN3CT/vxMy/rWarUnPkUlftdX%2B69/wMlXoSqezU1zdrq/3Xv%2BBs0UUVoahRRRQAUUUUAFFFFABRRRQAUUUUAFFFFABRRRQAUUUUAFeM%2BOP%2BUhfwv/7Iz48/9O3hCvZq8Z8cf8pC/hf/ANkZ8ef%2BnbwhQB7NRRRQAVx3x4%2BNnhr9n74dS/ETxNpGp6pu1Kx0zTNF0SGOS91TUL26itLS0gWWSOPzJJ5o13SOkaAl3dEVmHY15f8Atb/Bvxn8Z/hhYWPw1vNMi8TeGvGGi%2BJdAj1ueSKyurjT7%2BG5NrPJFHI8STRpJD5qxyGIyCQJJs2MAZsP7bHwyX9nfVf2hdW8J%2BJdPXRNfbw/qvg%2B6s7dtYg1v%2B0E06PTNkU7wNNLdSwxxusxgcTxyCXy231Bpn7Y954j8Jahq3gv9ln4la34h0HxNJoXizwJYNoa6poN2tpDej7TJNqkdkyvbXVpMhhuZS63UeBncF5bwd%2BzB8V1%2BBPxF8D/ABc%2BGfgLxPqfxG1zUPE2q6KPGd/b6emoz3CeRYpdJp/nxRwW9vaFdQSMTfaEaRbeLC482tv2G/2wPhn8AvFPgf4FT%2BEbDW/i18Tzr/xQhvPirrZmstI/sy009rHT9cn0%2B6vJ7uaLT7cSX08KSJ9ouGiEbCFowD63%2BDnxY8GfHj4S%2BGfjZ8Or2a40DxboNpq%2BjTXFu0Uj21xEssZeNvmRtrDKnkHIPSvx38I6tYfFn/gs/wDDzwNd3X%2BjeCPib46nmjIJVJYfGPijUy3H8RH2cAdSdoHJr9ePC/wt024%2BAulfB7XfCUHhKzg8PW2mvoXgLxReW0OkxRRqi29lfW62lwkcaoESRFhbao%2BVelfkD/wSj%2BG2l3f/AAWO%2BMA077fPb%2BBviB4z%2BzXWq6nPfTlV8VrYxiS4uHeaaQrJKTJI7O53FmJJNfNcSRdWOEoLadenf0jeX/tp7fDNGVTiKjWtpQhia78vZYSuoP8A8GV6f4H7O/8ACYaT/wA%2Bmqf%2BCO7/APjVL/wmGk/8%2Bmq/%2BCO7/wDjVfO3j7/gsj/wTe%2BF/jvWvhp45/aN%2Bw634d1a50zWLL/hENYl%2Bz3VvK0Use%2BO0ZH2ujDcpKnGQSOayf8Ah%2BX/AMEtP%2Bjof/LJ1v8A%2BQq9GWeZLCTjLE001/fj/mfQ0fC3xMxFGNWlkmLlGSTTWHqtNNJppqFmmmmn1TT6n0//AMJhpP8Az6ar/wCCO7/%2BNUf8JhpP/Ppqv/gju/8A41Xzt4B/4LI/8E3vih470X4aeBv2jft2t%2BItWttM0ey/4RDWIvtF1cSrFFHvktFRNzuo3MQozkkDmu%2B/b%2B%2BMHxM/Z9/Ym%2BKfxx%2BDdpps3ifwl4H1DVdHXV5mS3WWCFpN77Y5N21QzBNuHZQhZAxdevC43B42Llh6kZpb8rTt62Pn884Z4k4YrQpZxgquGlNNxVWnOm5JOzaU0m0no2uuh6X/AMJhpP8Az6ar/wCCO7/%2BNUf8JhpP/Ppqv/gju/8A41Xz3qf7bnxt8K/EPxz4L%2BIXwK8CaFp/wy%2BHlp4m8c%2BJ7v4qXRsbd7uLVGt7a2xo4lnUPp8YlldIiiXBaOOZ0EUnM/Db/gpVq/xV1TwzoerfCfV/C%2BtxfGiXwd4h0hZby2hkQ%2BD9Q1%2BGfbrGj2l68LpDEm37PaSCVAyyyQqVuOk8M%2Bqv%2BEw0n/n01X/wR3f/AMao/wCEw0n/AJ9NV/8ABHd//Gq%2Bef2Sv2%2BfiT%2B0Pp%2BiXHjn9mD/AIR%2B78WfCbRfiD4T0vw941h1We606%2BYI8E5uILKK3uIS8TFQ8iOj5DhlMddT%2B1X4s%2BKupfFr4X/s8fC34r6h4Ebxtdaxdat4r0bTbG6vYrewshIttAt/b3FurSTTQszPE58qCVV2swkQA9d/4TDSf%2BfTVf8AwR3f/wAao/4TDSf%2BfTVf/BHd/wDxqvnKD9oT9pH4n/8ABMjwh8f/AIfWlz/wnOu6R4dm8Q3fhXQ1vbi3tJb%2B0i1jUNOspFkE8qWZvLm3gKy7mWNdk5xG/kvhr9qv9qf4i%2BHH8P2Hjb4u2Phjwt8Udd8N678RdD%2BElvd%2BLLyOPTLG%2B0k3OknTJEto5WvpYpZBYxFTawiQWxlkKgH3P/wmGk/8%2Bmq/%2BCO7/wDjVH/CYaT/AM%2Bmq/8Agju//jVfHOm/tL/tD/E34D/s6ftD%2BE/jTq2m%2BO/i1pXhOeD4N2Gh6XNpWpxytbT67ezu9tJexW8NlLPKJ4rqOOMrbLiV5kjm2PgH%2B1548%2BI/7WeowfEjxJ8RNC8O3vxU8SeA/BOjxeHtFHhfULvSY7vdFJcFH1VrySOwu7wS7orPaogG6RGDgH1rpviHS9VuGs7Zp0mVN5iubSWFiucbgJFUkZ4yPWrtZV3/AMjtp/8A2Crz/wBGW1atABRRRQAUUUUAFFFFABRRRQAUUUUAFFFFABRRRQAUUUUAFFFFABRRRQAUUUUAFeM/sv8A/Jb/ANo7/ss1j/6hXhevZq8Z/Zf/AOS3/tHf9lmsf/UK8L0AezUUUUAFFFFABRRRQAUUUUAFFFFABRRRQAUUUUAFFFFABRRRQAUUUUAFFFFABXjPjj/lIX8L/wDsjPjz/wBO3hCvZq8Z8cf8pC/hf/2Rnx5/6dvCFAHs1FFFABRRRQAUUUUAFcp8TPgT8EvjRZ/YPi98IfDPiiHbtCeINCt7vaPYyoxX6jGK6uionTp1Y8s0muzSa%2B5pnRhcXi8DXVbDVJU5raUZSjJekoyi18mj5V8Sf8Eb/wBjFtVk8T/Bu08X/CrWpOTrHwz8Y3enSg9sIzSRLj0VBWLrP7J//BS/4U2Mlj8If2yfDPxV0TH/ACKXxx8KBy6jqDfWv72ViOm8AA/U19iUV5ksky7V0oum%2B8G4fgnyv5wZ9vDxN4wq01SzGtHG07W5cXTp4lW7c1SPtV/27XVulj84fGvgu8G9P2oP%2BDf/AETUGBP2nX/hVc6XfPd%2BsiQwLFcL7B3LV51deHP%2BCCGl3PmfHH9iz4n/AApuC3z/APCZaN4lsvKYnpi1upVHPtiv1jpHRJUMciBlYYZWGQR6V59XhyMndShL/HRpy/GKgzzK2I8K81lzZlwxSjJ7yw9apS%2B6FWGIh%2BNvkfn58B/gz/wbzapeJe/D/Uvhdqd5MwKx%2BMvF080sh7AQapPzxgYCdq%2Bgdf8A%2BCbf/BNn40aMl8P2WPh3c2cqbYrzwxpsVkHAGOJbEx5%2Bua7r4g/sb/sl/Ffe/wAR/wBmjwJrMsmd1zfeFbV5h7iXy96n3BFeN63/AMEZ/wBiePUpNf8AhDp3jH4Y6rIctqnw58bXthKD2IV3kjXHsgFEcsr0Icn1ShOPZLkf/k0Jr8Qjw14JYyn7OksRhL9KmHw2Ih83RdGpbz5W/Irf8OW/2PtD/wCSU%2BIviZ4D2/6r/hEPiRfw%2BX6bfOeWg/8ABGf9mTxB8vxh%2BK/xh%2BIanh08a/E68nDj0PkeVxQP2Cf22/A//JF/%2BCrnjuGOP/V2/jzwnYeIN4/utJLsb/gQGaX/AIQ//gtb4LH/ABI/jF8AvGsadf8AhJPD%2BpadNIPb7ISgb68Vl9UwENKmXSS/uqM4/dGol/5KYf8AEJuBsT/uWa4GS/lqfWcP98alGVP8X6nUeEf%2BCR3/AATd8E7P7G/ZH8MT7On9r%2BfqGfr9qkkz%2BNZfjn/gj3%2Bw/wCItZbxd8OfBWs/DPxBj91r/wAMPENxo88Pf5I0JgXnniOs0fF3/gslo/8AyEv2QfhHrOOv9keP57fd9PPQ4/GkP7Uf/BWCw/4%2Bv%2BCWWi3%2BOv2H436bFn6eZHWj/sFw5JYOSX/XiS/GKuvkzSXgzRqU%2BSnPLpL%2B7i8JH7nJ0pL1uhn/AAwh%2B3R4C5%2BCX/BVnxmIo/uWfxB8IWGveaP7rTSbHH%2B8Bml/4Ym/4KG%2BNPm%2BKv8AwVb12GJ/vWPgn4c6dpfl%2BoWcMzn6kZpw/bh/4KC6V/yNn/BI3xNDj739j/FHSr/8tirml/4eLftM23/IR/4JV/GBfX7NNZzfycVnfIlo3VS7f7Ql91v1M/8AiCOePSn7OUe0MxoSj9yxq/Mb/wAMAftn6J/yI/8AwVm%2BItvj7n9veFNO1PH18zbmj/hnH/grn4Z/5AX/AAUe8H%2BJQv3V8SfCG1s93sTauaX/AIeq6po3y%2BOv%2BCcP7S%2BmY%2B/Pa/DdbuBPrJHOP5Uf8Pmf2U9O/wCR08B/Fbw3j7/9ufDS%2Bj2/Xy1ej2nDsdq8of8AcStH/wBKVg/4gXxp/wAw%2BBry/wCvWIVT7lTxdX/0kQ%2BFP%2BC3Olc2HxY/Zz1XHQanoWsQbvr5J4/Cm/8ADQP/AAV5%2BHh8vxz%2BwN4D8dqvEl34A%2BJiaeP94R6gpcj261IP%2BC4H/BNSA41f466jp57i98C6yuPytDXT%2BG/%2BCuH/AATe8VhTpf7W3hiLd0/tLz7L8/tEaYqoVspbtRzFp/8AX2EvwnEwxHgv4mYKHtPqGYwXd0qk1%2BNGa/E5b/hpX/grZ4k/5Af/AATT8L%2BHQ33W8RfGKzuse5FtGD%2BFI3in/gtxrymLTfhV%2BzvoG/gS6rrmr3Riz3xCMEivSI/%2BClX/AAT%2Bl%2B7%2B2P8ADof73im3H82qxD/wUW/YHn%2B5%2B2X8Mhn%2B/wCNbJf5yCt0sHL4swk/SpSj%2BSPMl4Zcdf8ALyhj3/3BqR/9Jwh5Wf2Kv%2BChvxR/4mXx0/4Kb6torj57fRvhd4RttNt7aTqM3DkyzpnGVcDIGM80R/C3/gsb8GHFr4B/aT%2BFnxc05TtUfETwxPo99GnbD6eSkhHGWfk8nqa9jtP28f2Hr8hbP9sn4VyMeir8QtNz%2BXnZrpNF/aN/Z68SAN4e%2BPHgy/B6Gy8UWkuf%2B%2BZDWkMFlcneliJc3dVm2/W85J/%2BAnDX8Ps3wa554bF0pfzNYlN%2BvPT5X/4CfPv/AAmH/Bbb7o%2BD37PGT0b/AISDVsD9KPt//Bc26/e2%2Bg/ss2ijnyrm68RSMfbKcV9Q2njnwVqC77Dxhpc4x1h1CNh%2BjUsvjTwdACZ/FmmIB1338Y/rW/8AZyf/ADFVf/Bi/wDkDznw3jOazr4m/wDia/8AcNz5d/4S3/gtvYfu7v4Rfs6356eZY69q8Sj3xIM0f8Jl/wAFtB%2B/PwZ/Z6KryYB4i1be3sDjAP1r6Um%2BLXwqtnEVx8TfD0bE4CvrUAP6vVq3%2BIPgK7TzLXxvpEq4%2B9HqUTD9GpLARe2Lqf8Agcf/AJAuXDGYxV3WxKXq/wA3QPmH/he3/BYTTv8ARL39g74c6lIeBd6f8UFhiX3KypuI%2BlI3xc/4LMKP7UH7IfwhaCPl9KXx9P8AaZR/dWUr5an3PFfTv/Cx/h55wt/%2BE80bzGOFT%2B1Icn8N1a1vdW15EJ7S4SWNvuvG4YH8RTWX1JbYuo/%2B3ofpD8zKpkGPpK9TFV0ul%2BVfnRVz5LH7eX7dOgH%2ByPHn/BJrxsmqHiL/AIR3xvp2o2cnuZ0CiMH0IJpw/a8/4Ki6uftegf8ABJhbe1H3Rq/xs0qKaT/gAj%2BT8a%2BtaKr%2Bz8a9Hi52/wANNP5vkd/uRl/ZeYPR46pbyjST%2Bb9m7/cj5KP7Zv8AwUv0n994n/4JDX4t1%2B/LpHxq0e7k/CJYwT%2BdU/gn%2B0j8RP2gP%2BChfgy2%2BIv7K3jb4Y3OifBnxlsTxZHEYtR87VvCufs8kTESeX5Q38DHmp619g14z44/5SF/C/8A7Iz48/8ATt4QrWhhMVRqqUsRKa7SUNfmoxaN8NgMbQrKUsXOcesZRp6/OMYtdz2aiiivQPUCiiigAooooAK/L3/gj94HL/ts/te%2BPLi3QNp3xw1HTIJl6SfafGeq3TjPqAsIPvX6hV8K/wDBJTwc%2BmaX%2B0v48uots2t/tleLoY2x96C28QlEP/fbyj8K8zHUfbYvC/3ZuX3U5fqz63huth8LlGb1pr33h404Ps6uIoqf306bT8mfdVFfMXj/AP4Ka/8ACBeO9b8C/wDDvn9p7Wv7F1e5sP7Y0D4T/abC/wDJlaPz7aX7SPNhfbvR8DcrKcDNZH/D2H/rGp%2B1p/4Zv/7qpSzrLIycXU1X92f/AMrPzmXEOTQk4yq6rT4anTT/AJ9H1pWL8R/h54M%2BLnw%2B1z4VfEbQYtV8P%2BJdIudL1zTJ2ZUurS4iaKaIlCGAZGYZUgjOQQea%2BfPAP/BTX/hPfHei%2BBf%2BHfP7T2i/21q9tYf2xr/wn%2BzWFh50qx%2Bfcy/aT5UKbt7vg7VVjg4r2b9pPxh8Tvh58AvF/wAQfgz4ctNZ8T6DoFzqWj6Lewu6alJAhlNqAjoQ8qo0aNuwrurEMAVPXhsZhsZFyoyulvpJf%2BlRj%2Bp24PH4PMIuWHlzJaPSS8/tRj%2BFzGg/Y1/Z4Xwr4p8Han4Q1LV7Pxr4bt9B8VS%2BIvFep6ndalYQfafJjkubu5kn3p9rnxKHEo3L8/yJtzvA/wCwV%2By18PdSXXPD/gLUptSHi4eKJdW1rxjq2pXlxq40ibRhdzXF5dSyzsNPnlt8SMy7SpxuRGXw3xH/AMFH/ib8SPC1z4x/ZcbQ9VsPEfjubSPhRLF4SXVG8QadYaQt1qt7I1zrelW0McV358Adrhdos3ASVpB5fE%2BDf26viN8XPEeifHiy%2B02unePPhl%2BzvqsfhRtfvfsOlT%2BIvF2u21/JB9mni3OYvJRmOUnW1hWZJYl8o9J2H2H4Y/ZO%2BBHgmx0Sw8HeE73Sl8OeBrTwdok2neI9QhmtNFtXjeC1WVJw52mKPMhYyMAQzsGYHR%2BN/wCz18Kf2idE0/Q/ilo%2BozDSNRN9pF/oniK%2B0i%2BsbgwywM8N5YTQ3EW6GaaJwkgDpIysCpIr5N%2BCf7VP7UHxu/ak%2BEHjDU/FXhH%2BxPHfwt8f634c%2BHulXV7p7Wslnf6NBbQatKZrhLqWPzSjXCW0RtpHuEWKTOT7d%2B2/q3iSfTPhR8N5fFWq%2BHdI8d/Few0PxnqXhvXbjT7qGzOn390kEN7btFPb%2Bfe2tna%2BZG0cjLcFVKlxQB6FJ%2Bzv8LE8Bj4YaNY6xougReHLDQrLTPDPivUdKj0%2BxsyTbpafY7iI2bqDtMsBSV0REZ2WNFXAv/2Kv2fb74VWfwWi0nxNY%2BH7S/ub2WLR/iHrdjdahPcs7XL313b3iXOoGZpHaT7VJKJGbL7iAR5Z8ItR/aF%2BKf8AwTb8b6H8J/iTdz%2BNLPUvHfhzwD4s1jVS1xcW%2Bn69qmn6ZcSXkoctKbW2gH2tw5dsTtv3HPmvw78f2ul/C79o%2BL4/6N8XPD3w9%2BD93Z65pem6j8atTn8R2k66Gt1d6dJqumapLNLuYxzJam8nH%2BnRcLmOKIA%2BldZ/YW/Zt1f4s6V8bbbw94j0fxDonh2y0DS5fC3xC1vR7WDS7SUywWX2OxvIbZoA7ZMbRlXAUOGCqBrWH7JHwB0z41/8NBWngy6HiYX82oQs/iC/ewt76a2NpNfQ6e05s4buS3Z4nuY4VmdJJFZyJH3fIfxH%2BDf7TH7Nv7N3wt%2BNXxg8aeK/GGgfCP4Nazqnxo0g/tEeItC1S41SWWw1CS5hmgkb%2B1TbJb6lbwwXtxGmyVE8wc4941GHUNH/AOCn/gLVdE8e%2BLjpnjf4F%2BMr/VfDd94mvX0oTWGp%2BEIrSaPTpJPs9vMiX12DIkayN9okDMRgAA94u/8AkdtP/wCwVef%2BjLatSsu7/wCR20//ALBV5/6Mtq1KACiiigAooooAKKKKACiiigAooooAKKKKACiiigAooooAKKKKACiiigAooooAK8Z/Zf8A%2BS3/ALR3/ZZrH/1CvC9ezV4z%2By//AMlv/aO/7LNY/wDqFeF6APZqKKKACiiigAooooAKKKKACiiigAooooAKKKKACiiigAooooAKKKKACiiigArxnxx/ykL%2BF/8A2Rnx5/6dvCFezV84ftH6v8a9H/bw%2BE8/wO%2BH/hbxFqTfCPx2t3aeK/GFzosEcH9qeEiXSW30%2B9Z33bRsMajBJ35AUgH0fRXjP/Ccf8FC/wDo1/4M/wDh%2BNW/%2BZej/hOP%2BChf/Rr/AMGf/D8at/8AMvQB7NRXjP8AwnH/AAUL/wCjX/gz/wCH41b/AOZej/hOP%2BChf/Rr/wAGf/D8at/8y9AHs1FfOOk/tHft26x8Z9f%2BB1v%2Byh8JF1Tw74X0jXby5f466p5EkGo3OpW8KIR4Y3F1bS5ywKgAPHgsSwXqP%2BE4/wCChf8A0a/8Gf8Aw/Grf/MvQB7NRXjP/Ccf8FC/%2BjX/AIM/%2BH41b/5l6P8AhOP%2BChf/AEa/8Gf/AA/Grf8AzL0AezUV4z/wnH/BQv8A6Nf%2BDP8A4fjVv/mXrl/AP7R37dvxE8V%2BN/CGj/sofCSG48B%2BKItC1WS5%2BOuqBJ55NK0/Uw8W3wwSU8nUYVJYKd6OMYAZgD6Oorxn/hOP%2BChf/Rr/AMGf/D8at/8AMvR/wnH/AAUL/wCjX/gz/wCH41b/AOZegD2aivGf%2BE4/4KF/9Gv/AAZ/8Pxq3/zL0f8ACcf8FC/%2BjX/gz/4fjVv/AJl6APZqK%2BcfhF%2B0d%2B3b8ZfCl34v8OfsofCS2t7PxRrehSR3vx11RXM%2Bl6rdaZO42%2BGGGxprSRkOclGUkKcqOo/4Tj/goX/0a/8ABn/w/Grf/MvQB7NRXjP/AAnH/BQv/o1/4M/%2BH41b/wCZej/hOP8AgoX/ANGv/Bn/AMPxq3/zL0AezUV4z/wnH/BQv/o1/wCDP/h%2BNW/%2BZeuX%2BCP7R37dvx4%2BDHhD44%2BFf2UPhJa6X4z8L6frum22ofHXVFnhgu7aO4jSQJ4YZQ4WQBgrMMg4JHNAH0dRXjP/AAnH/BQv/o1/4M/%2BH41b/wCZej/hOP8AgoX/ANGv/Bn/AMPxq3/zL0AezEBgVYAg9Qa5jxJ8Efgx4yLN4w%2BEXhfVS33jqWgW0%2BfrvQ1wH/Ccf8FC/wDo1/4M/wDh%2BNW/%2BZeuX%2BN37R37dvwH%2BDHi/wCOPir9lD4SXWl%2BDPC%2Boa7qVtp/x11Rp5oLS2kuJEjD%2BGFUuVjIUMyjJGSBzUzhCorSSa80n%2BaZvh8VisJPnoVJQfeMpRf3xlF/iekyfsgfsly/639l34dN/veCbA/%2B0qrzfsUfsaXH%2Bv8A2Sfhi%2Bf7/gLTj/OGsb/hOP8AgoX/ANGv/Bn/AMPxq3/zL0f8Jx/wUL/6Nf8Agz/4fjVv/mXrB4PBvelH/wABj/8AInpx4l4kj8OOrr/uPW/%2BXFq8/YB/YUvgRc/sZfCs56snw/05T%2Bawg1zWs/8ABKn/AIJ1a8Sb79kLwbHk8/YrA23/AKJZa2/%2BE4/4KF/9Gv8AwZ/8Pxq3/wAy9H/Ccf8ABQv/AKNf%2BDP/AIfjVv8A5l6zllmWz%2BKhB/8Abkf/AJE7aHG/GuFd6OaYmPpiK/8A8uZw13/wRi/4JlXrbpv2U9LU5/5Y63qMf/oNyKbF/wAEX/8AgmRCQU/ZU004/v67qTfzua0/i7%2B0d%2B3b8GvClp4v8R/sofCS5t7zxRomhRx2Xx11RnE%2Bqara6ZA53eGFGxZruNnOchFYgMcKeo/4Tj/goX/0a/8ABn/w/Grf/MvWP9iZNf8A3an/AOAR/wAj0v8AiJ/iUo2/trF2/wCwmt/8sOSh/wCCQH/BNeCMxp%2ByZ4fIIxl7m7Y/mZiarXH/AARq/wCCZty/mSfso6QCD/yz1a/QfktwBXbf8Jx/wUL/AOjX/gz/AOH41b/5l6P%2BE4/4KF/9Gv8AwZ/8Pxq3/wAy9N5Nk7/5hqf/AIBH/IiPiX4jRd1nOL/8Ka3/AMsOL/4c3/8ABM/yTB/wyho21hgn%2B077d%2Bfn5FZNx/wRC/4JnNMbjTf2fLnT5G%2B82n%2BNNYjz%2BH2sj9K9K/4Tj/goX/0a/wDBn/w/Grf/ADL1y/j79o79u34d%2BK/BHhDWP2UPhJNcePPFEuhaVJbfHXVCkE8elahqZeXd4YBCeTp0ygqGO90GMEssvJMmlvhqf/gEf8jWn4o%2BJdJtwzrFq/8A1EVX%2Bc2vwOa/4co/sGxf8g/w14wtB2Fv8QtUH85zQf8AgjH%2ByRbfPofi34oaXKPuT2HxKv1dPpudhXpv/Ccf8FC/%2BjX/AIM/%2BH41b/5l6P8AhOP%2BChf/AEa/8Gf/AA/Grf8AzL1P9hZN/wBA8Put%2BTRr/wARW8S3vm%2BIfrPm/wDSoS/E8x/4dLaHZfJ4Z/4KAftQaPD2ttP%2BLjCMfg1ux/WqfwV/ZVvf2Zf%2BChfgsXf7TPxS%2BIo1r4M%2BMtn/AAsvxSNTOn%2BTq3hXP2ciNPL8zzRv67vKj6Y59a/4Tj/goX/0a/8ABn/w/Grf/MvVDwP4H/as8Y/tWeHPjd8bvhx8PfDOjeGfh74h0OGHwr8Q77Wrq7utSvtEuEZkuNIsUijRNLlBYO7FpUAXGSNqGVZfhqqqUoWa85fk5tfgefmnH3F%2Bd4GeDx2K9pTna6dOgm7NNe9HDQnultUV9ndXT91ooor0D48KKKKACiiigAr5x/Yg8LaX4V/Z58W31gr/AOnftD%2BP9T1ByM4YePNU3twOixxD8Fr6Or5K/ZK8Wftnaf8AD3xRZ/DH4B/DDV9CT40/EX%2Bz9R174u6jpt3Mv/CZ6yWMltFoFykRDbgAJnyADkE7QnFNpvoXGpUhCUE9JWuu9ndfc9T6g/4TnwT/ANDhpf8A4MI//iqX/hOfBP8A0OGlf%2BDCP/4qvLf%2BE4/4KF/9Gv8AwZ/8Pxq3/wAy9H/Ccf8ABQv/AKNf%2BDP/AIfjVv8A5l6ZB6l/wnPgn/ocNK/8GEf/AMVR/wAJz4J/6HDSv/BhH/8AFV5b/wAJx/wUL/6Nf%2BDP/h%2BNW/8AmXo/4Tj/AIKF/wDRr/wZ/wDD8at/8y9AGpffAz9ijVPhxpPwd1P4O/C248I6Be/bNC8Kz%2BHtNfTdNud0jedBbFPKhk3Syneig5kc5%2BY50NP%2BHH7KOk2trZaV4D%2BHttDZWmk2llDb6XYotvBpc8lxpkSAKAiWk8sstuowIJJHeMKzEnzP4I/tHft2/Hj4MeEPjj4V/ZQ%2BElrpfjPwvp%2Bu6bbah8ddUWeGC7to7iNJAnhhlDhZAGCswyDgkc11H/Ccf8FC/wDo1/4M/wDh%2BNW/%2BZegDVsfgf8AsVaX4p1vxzpnwg%2BF1vrfiWC6h8R6xB4f01LrVY7rH2lLmUJvnWXavmByQ%2BBuziug8b6V8APiZ4Iufhl8SNN8HeIPDd5CkV34e1yG0u7GeNGVkR4JQ0bKrKpAK4BUEdBXFf8ACcf8FC/%2BjX/gz/4fjVv/AJl6P%2BE4/wCChf8A0a/8Gf8Aw/Grf/MvQB1Q8E/swjw9b%2BER4R8BjSbTw3P4etdL%2BwWX2eHSJxGs2nJHt2rayCGIPAB5bCJAVO0Yr%2BHvhr%2Byd4R%2BG4%2BDfhTwB8O9M8ILOJ18KafpVhDpolEwmD/ZkURbhKqyZ253qG6jNea/G79o79u34D/Bjxf8cfFX7KHwkutL8GeF9Q13UrbT/jrqjTzQWltJcSJGH8MKpcrGQoZlGSMkDmuo/wCE4/4KF/8ARr/wZ/8AD8at/wDMvQB0HxF%2BF/7JPxf8SaT4y%2BLXw7%2BHPijV9AfdoWq%2BItIsL2501t6vmCWZWaE71VsoRyoPUCqmu/A/9irxR8X7T9oTxL8IPhbqPj7TzGbDxxfeH9Nm1i2MYATy7x0MybQABhxgDisr/hOP%2BChf/Rr/AMGf/D8at/8AMvR/wnH/AAUL/wCjX/gz/wCH41b/AOZegD0m21fS9c8Y2txouowXcdvplys8ttKHVGeSAqCVyASEbj2rdrxn/hOP%2BChf/Rr/AMGf/D8at/8AMvXL/F39o79u34NeFLTxf4j/AGUPhJc2954o0TQo47L466ozifVNVtdMgc7vDCjYs13GznOQisQGOFIB9HUV4z/wnH/BQv8A6Nf%2BDP8A4fjVv/mXo/4Tj/goX/0a/wDBn/w/Grf/ADL0AezUV4z/AMJx/wAFC/8Ao1/4M/8Ah%2BNW/wDmXo/4Tj/goX/0a/8ABn/w/Grf/MvQB7NRXzj4%2B/aO/bt%2BHfivwR4Q1j9lD4STXHjzxRLoWlSW3x11QpBPHpWoamXl3eGAQnk6dMoKhjvdBjBLL1H/AAnH/BQv/o1/4M/%2BH41b/wCZegD2aivGf%2BE4/wCChf8A0a/8Gf8Aw/Grf/MvR/wnH/BQv/o1/wCDP/h%2BNW/%2BZegD2aivGf8AhOP%2BChf/AEa/8Gf/AA/Grf8AzL1y%2BrftHft26P8AGfQPgdcfsofCRtU8ReF9X12zuU%2BOuqeRHBp1zptvMjk%2BGNwdm1SAqApBCSZKkKGAPo6ivGf%2BE4/4KF/9Gv8AwZ/8Pxq3/wAy9H/Ccf8ABQv/AKNf%2BDP/AIfjVv8A5l6APZqK8Z/4Tj/goX/0a/8ABn/w/Grf/MvR/wAJx/wUL/6Nf%2BDP/h%2BNW/8AmXoA9mor5x0n9o79u3WPjPr/AMDrf9lD4SLqnh3wvpGu3ly/x11TyJINRudSt4UQjwxuLq2lzlgVAAePBYlgvUf8Jx/wUL/6Nf8Agz/4fjVv/mXoA9morxn/AITj/goX/wBGv/Bn/wAPxq3/AMy9H/Ccf8FC/wDo1/4M/wDh%2BNW/%2BZegD2aivGf%2BE4/4KF/9Gv8AwZ/8Pxq3/wAy9cv4B/aO/bt%2BInivxv4Q0f8AZQ%2BEkNx4D8URaFqslz8ddUCTzyaVp%2Bph4tvhgkp5OowqSwU70cYwAzAH0dRXjP8AwnH/AAUL/wCjX/gz/wCH41b/AOZej/hOP%2BChf/Rr/wAGf/D8at/8y9AHs1eM/sv/APJb/wBo7/ss1j/6hXhej/hOP%2BChf/Rr/wAGf/D8at/8y9W/2Vvhz8afB%2BsfFDx38dNA8L6Tqnj74hRa5Z6V4T8S3OrW9raxaDo%2BmKr3FxZWbNI0mnSuVEW0LIg3Mc4APW6KKKACiiigAooooAKKKKACiiigAooooAKKKKACiiigAooooAKKKKACiiigAr5X/ae/a0%2BLnww%2BMfizWvAPh3wfJ4Y%2BD/h/w/e%2BNTrWkXE2q6pb6vfypcwWFxHcRpZeRbWcdxmSKcXMhSMiHy/NP1RXjPxn/Yh%2BHHxu%2BKR%2BJmueOfFWlxaja6Ra%2BL/DWjXVqmneKYNLvZL2xivllt5Jgsc00ufs8sBljkMUxljCoAD2aiiigAooooA%2BY/Dn7SvxMh/b/wDFHwf%2BI2seHvCfhtfEFpongyLUfhFrKXXjGAaBBqOIPEbXa6c0sd3c6gBaCF5PLtJgFBZpF%2BnK8r8WfstQeP8A4yaR8U/Hvxv8a6vpXh7XY9a0DwBcHTItGsdQjt3gjnDQ2SXsuzzJJFSa6kjEj7tnyIF9UoAKKKKAPF/%2BCgvxd%2BOH7P37I/jT49fAK98KR6x4J0K71y6g8YaLc31td2lrbSzPboltdWzJK7IiiQuVQFiUfgV5/wCPP2tPi54L%2BPHi3U/Cnh3whF8PPCHxj8I/D7xlZzaRcHW9V1XXYNFSPUIbtLhYY44P7c0mMxSW8ryJDPiWPagr2H9rH9nGy/a0%2BBGvfs%2B618VfFPhHSfE9lLY65f8AhBdO%2B13NlLE8U1tuv7S6jRHV%2BWRFkBUbXXnPFwfsA%2BDp/iLZ/EXxV8cfH2usdZ0nXPE2jahLpUVj4n1zTEjSx1a9jtrCJluIhBaYW2aCBjY2xeJjHkgHvdFFFABXi/7ZPxd%2BOHwStfAPjH4WXvhT%2BxtQ%2BJnhzw94vsfEGi3NzdXNrqus2Omg2csN1CltJGtzLJvkSdSURdnJNe0V5V%2B1d%2By2/wC1V4b0LwvP8ffG/ga30LxJYa6jeC4dHZ7u9sbyC8s2lOpafeDbFcW8bhYwgblZN6naADzj9nn9pX4ma3%2B1V4t%2BCPxQ1fw94T06HxTrdv4J8JSfCLWdMudetoXSU39vrVxd/YNQdjJNLLFbQF%2BS7FcMT9OV5LpP7KIf4yaL8ZfiP%2B0B478azeF7u8u/CeheIRpMNho91c28lrJcRLYafbSyv9nmnhXz5JVRZ32gEgj1qgAooooA8P8A27vi58eP2fvg1q/x1%2BFHjHwLY6f4W0W5vL3RfFnhm9v7nxDe5RbPTLOS2vYPs81xKRbo3lXTNLPEFhY/K3n/AMEf2vvjPrnxL8Ff2t4M8JaR8NPG/wAT/FHw28K%2BGtO0uaPV9Ev9Ah1bfPPci4a3mgkbw/qaLDHbxGNWtj5kmWA9P/aV/ZBg/aS8eeCPiBN%2B0D478IXPgG7ub3RbHwxFo09nJeyoI1vJoNT068R54Y/MWGQBTGJ5SPmbIq%2BA/wBhr4e%2BA/jLb/F2H4i%2BLtSg07XdT17RPCGpXNl/ZOla3qMbx6hqkCRWqT%2BfOJ7ssrzPCjX1yY4o/M4APa6KKKACvl/9rn48ftL/AAW%2BImn%2BFNKh8AeNdH8cw61baL8OYvB99JrCWtpod1dyX9xOL14rq2F1Fb20kItYgft8KCYyMiSfUFeHTfsTXEf7R/iv9prRP2q/iXp2r%2BLdNh0650uGDw/PaafZwwNHDbWbXOky3NvEsrvdbFm2vO5dw4O2gBn7CH7Qfjf49/D28uviv4%2B0a%2B8XacLNtf8ADdl8LtX8I3mgPPbLKILmy1e6nuHBbf5dwAkciodobaTXuleb/A79m7Tvgz4n8SfEPWPil4p8ceKvFcVjb6x4n8XNYLcvaWYm%2By2qRafa2ttHFG1zcuNsIZmuJCzNkY9IoAKKKKAPjn/goJ%2B3H8VP2MPHP9p65ougeMfCL6NqOt2/hWX4c6nZS26abo19qSSf8JFNdPpk939r00bLFYEuhHMsoG2FpG9e/Zo%2BLvxz1b4qeN/2ev2jrnwpqHifwjpOh61HrXgrSLmwsbmx1QXkaRGC5ubl1liuNOu1L%2BbiRDE2yMkqK3x1/YS8EftOa1dWvx/%2BLfjXxR4LuZLiRfhleSabDosUk1jNZM2%2B3so76QCO4mYJLdOgd9235EC9P%2Bz5%2BzNpHwDvNe8RXfxQ8WeOPEfiQ2cereKvGtxZvfS21pEYrW1H2O2t4ViiDysMR72eeV3Z2cmgD0qiiigAr4j/AGp/2yv2s/g38avEHwo8HeG/DnjXU7DRbjXfDAT4H%2BII5NFA1HTLVDC325x4mkFjqlx539l%2BU8LQlZRGJhHX25Xh%2BvfsW6n4l8en4na1%2B1z8UZtb0%2BC8i8G3hTQAPCq3U0Mk/wBkjGk7J2aOBbfderdMsTOFKu7OQDqv2WPiw/xk%2BEcHiy9%2BJmjeKr%2BHUbqy1S%2B0bwZfeHRbXEUrK1rNpuoXE91ZzxjCvHM4fPzbVDAV6NXDfAP4C%2BHvgB4Z1PRtK8U634g1HX9euNb8SeJPEc0DXuq38wRGnlFvFDAmI4oYlSGKONUiQBRgk9zQAUUUUAFFFFABRRRQAUUUUAUfFHiGw8JeGtR8V6qHNrpljNd3IiXLeXGhdsDucKa%2Bc/2Jv2k/jX4/8U6P4M%2BNnh7wZZjx18LbL4jeGYfBmlXFoNMjvLgm70%2B7M1xKLuaN7m2f7YggE7SzEwR7QX%2Blru0tb%2B1lsb23SaGaNo5opVDK6kYKkHggjjFeQ/szfsV%2BAv2YNVfV9A%2BIPi3xLLbeGLHwz4dHiy9tZhoGhWbyPb6bam3t4S0amT5pZzNcSCOLzJn8tcAHsVFFFABXC/tQePPiL8LP2aPiJ8Tvg/4UXXvFvhzwLq%2BqeFtDaxmuhqOo29nLLbWxhgZZZhJKiJ5cbB23YUgkGu6rO8W6Jf8AiXwxqHh/S/Feo6Fc3tpJDb61pCwNdWLspAmiFxFLEXU8gSRumR8ysMggHl37FPxan%2BKHwzvrLVviF4f1nU/Duqrp15pmifDDU/Bz6GgtoJIrO40rVLme5hcI4kV28tHili2Jgb39irzz4D/s7aT8DrzxL4jufiJ4k8Y%2BJPF%2Bow3niLxT4rezF3dGG3S3giEdjbW1tFFHGgCrHCmSzsxZmZj6HQAUUUUAfLn7VH7WPxQ/Zw%2BL3jiy%2BJWjeEvEXwvsP2d/F/j220K30S4TVXbRBpaz21xcyXL280U6304CC2QqETLvlhXb/sz/ABf%2BPmqfFzxl%2Bzr%2B0s/hK88UeGPDHh7xLHqvgrSbmxspLLVn1K3W2MNzc3LmWG40i7BlEgWRHiby4zuWoPjH%2Bwr4d%2BOnx1b4y%2BPPjt45l02bwVqfhG%2B%2BHsMGi/2Jd6NqS232%2B0kL6a16RO1pA7OLoOpQhGRGZD0n7O/7Luh/s%2B32teI5/ih4t8b%2BIdftbCyv/E/ja5tJL02Fiki2dmPsltbx%2BVEZ7hwShkd7mV3d2bNAHp9FFFABXyJ8a/2l/wBrbwZrv7QHgS38K%2BDPFl74C8P%2BFPEnw2sdJ%2BH%2Bp386x6jqupQhLy1ivHl1GeBdNjnU2wtyXJCr8qtX13Xhcv7FHiGL46eNvj/oX7aHxW0rVvG%2BkWOmXNjZWfhhrTTbayuLmezS2EuivJ%2B6N5dKDM8pdZyJPMKoVAOr/ZU%2BLc3xl%2BFI8Taj8TtG8U6ja6rc2OrXWj%2BCL/w2bO4ib5rWfTNRuJ7q0nRSu5JmDEMrbVVhXpNcJ8A/gHoHwB0LWbHT/FuueI9V8TeIJdc8T%2BJvEktu17qt/JDDB5sgtoYYIwsFvbwqkUUaKkKALnJPd0AFFFFAHxt%2B0t%2B13%2B0t%2Bzx8ZoPhtrKfDPxrfa3BBN4Rh07wte2kvgu81LxDpnh7SJtTle%2BmF1FO2rzgtEtnI4sbpYwy%2BYYvcf2Vfi/8SPiMPH/w%2B%2BMR0SfxV8NPHjeGtZ1Xw1p01nYan5ml6dq1vcQ28088lvm11S3R42mlxJHJhiCMcLbf8E1fCTXXxDfxD%2B0v8TtZt/iTrx1zWLfUjoXmWepRXEM%2Bn3NtdRaWl0psHt7cWkbzSRRLCgZH5z6x8A/gLofwD8Patptl4v1zxJq3iLXpta8T%2BKPEr2xv9XvpI4ofOmFrBBAuyCC3gRIoo0WOCNQvBJAO6ooooAZc/afs0n2PZ52w%2BV5udu7HGcc4zXxB8Vv2uf20/hp8RNc%2BG1vbeA/GeveGL3w1b6t468EfBXX9Wj8OW%2BrNePe2EulWepT3dzNHDZWN0TFOn7u6haWBAYmk%2B3ruGS4tZbeG6kgeSNlWeIKXjJGAy7gVyOoyCPUGvnv4MfsBeIPgJ8Nrj4afDv8Abq%2BMUUd1qz6nNrN5ZeE59Qlu5XlkuZ5pn0I/aZJ3l3SSTiR8xpsKAYIB6z8BPiHZfFb4O%2BH/AIhWHxA0bxUmp6eJH1/w/pM1haXcgJWQpazzTS2xV1ZGhkkd42VlY7lIHX1yXwL%2BC/hL9n34X6d8KfBVzf3FlYS3VxNfarcia6vru6uZbq6upnCqGlmuJ5pX2qq7pDtVVwo62gAqj4nh8SXPhvULfwbqdjZavJZSrpd5qdg91bQXBQiOSWGOWJpo1bBZFkjLAEB1J3C9Wb4x0G/8UeFr/wAO6X4t1LQbm8tXig1rRxAbqxcjiaIXEUsRdTyBJG6HHzKwyKAPh74b/t2fta/GD4p638EvhZpvw%2BTxnptrrt9J4z8V/C7WtDXVNM0i10WVLGXRLy%2BTUNPle78Q7EmnmePyoZLhIXWdAfsb4BfFrTfj58CfBXx10bTZbOz8a%2BEtN160s5n3PBFeWsdwsbEAZKiQAn1FeLav/wAEyPA%2Bta5ffEW7/aU%2BKafEDVkvLXWviTbXukQ6tf6ZdW1rbTaYUTTRZw2xSytGHkW0UqyQLKsocsx%2Bg/Bfg/w18PPB2k%2BAPBmkxafo%2Bh6ZBp%2Bk2EOdltbQxrHFGuecKiqo%2BlAGnRRRQBy/xp1Hxxo3wt1rW/hz4hsdL1awszdQ32oeD73xAiRxkPKBp1jPBc3kjRK6pFDIHLsuFc/I3xb8Jf8Agoj8fvEnjTQ9T8b3HhHwJ4M1KedfEHji8%2BBniKa21i/h1%2B60hEuZVvo08MzyWtpa/uNUaSWB5VjfOwJX238TPBmu%2BPfCU3hzw38Utf8ABt5JLG8Wv%2BGYrF7uDawJVVv7a5gYMAVIeJuCcYOCPFbr/gnN4U1DwfcfDbVv2kPibd%2BGNc1Ca/8AHmgTXGjiLxhdz3jXVxNfSrpouIvNLLC0dnLaxCGJI1RRu3AH0TRRRQAUUUUAFFFFABRRRQAUUUUAFFFFABRRRQAUUUUAFFFFABRRRQAUUUUAFFFFABRRRQAUUUUAFFFFABRRRQAUUUUAFFFFABRRRQAUUUUAFFFFABRRRQAUUUUAFFFFABRRRQAUUUUAFFFFABRRRQAUUUUAFFFFABRRRQAUUUUAFFFFABRRRQAUUUUAFFFFABRRRQAUUUUAFFFFABRRRQAUUUUAFFFFABRRRQAUUUUAFFFFABRRRQAUUUUAFFFFABRRRQAUUUUAFFFFABRRRQAUUUUAFFFFABRRRQAUUUUAFFFFABRRRQAUUUUAFFFFABRRRQB//9k%3D\">"
            ]
          },
          "metadata": {
            "tags": []
          }
        }
      ]
    },
    {
      "cell_type": "markdown",
      "metadata": {
        "id": "UcQgqYOJ-iyD",
        "colab_type": "text"
      },
      "source": [
        "# Submit the MLP with 2 hidden layers\n",
        "Run these cells after training the MLP with 2 hidden layers"
      ]
    },
    {
      "cell_type": "code",
      "metadata": {
        "id": "bdz22zyF-iyE",
        "colab_type": "code",
        "colab": {}
      },
      "source": [
        "## GRADED PART, DO NOT CHANGE!\n",
        "# Validation loss for MLP\n",
        "grader.set_answer(\"i8bgs\", s.run(loss, {input_X: X_val_flat, input_y: y_val_oh}))\n",
        "# Validation accuracy for MLP\n",
        "grader.set_answer(\"rE763\", accuracy_score(y_val, s.run(classes, {input_X: X_val_flat})))"
      ],
      "execution_count": null,
      "outputs": []
    },
    {
      "cell_type": "code",
      "metadata": {
        "id": "HAs0T6U6-iyJ",
        "colab_type": "code",
        "colab": {
          "base_uri": "https://localhost:8080/",
          "height": 33
        },
        "outputId": "570be158-7f98-4640-fdd2-83ef504c2282"
      },
      "source": [
        "# you can make submission with answers so far to check yourself at this stage\n",
        "grader.submit(COURSERA_EMAIL, COURSERA_TOKEN)"
      ],
      "execution_count": null,
      "outputs": [
        {
          "output_type": "stream",
          "text": [
            "Submitted to Coursera platform. See results on assignment page!\n"
          ],
          "name": "stdout"
        }
      ]
    },
    {
      "cell_type": "code",
      "metadata": {
        "id": "_n7RVNphU1sq",
        "colab_type": "code",
        "colab": {}
      },
      "source": [
        ""
      ],
      "execution_count": null,
      "outputs": []
    },
    {
      "cell_type": "code",
      "metadata": {
        "id": "xYPE3-DImyte",
        "colab_type": "code",
        "colab": {}
      },
      "source": [
        ""
      ],
      "execution_count": null,
      "outputs": []
    }
  ]
}
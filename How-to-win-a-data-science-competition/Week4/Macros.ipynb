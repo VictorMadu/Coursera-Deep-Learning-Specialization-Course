{
  "nbformat": 4,
  "nbformat_minor": 0,
  "metadata": {
    "kernelspec": {
      "display_name": "Python 3",
      "language": "python",
      "name": "python3"
    },
    "language_info": {
      "codemirror_mode": {
        "name": "ipython",
        "version": 3
      },
      "file_extension": ".py",
      "mimetype": "text/x-python",
      "name": "python",
      "nbconvert_exporter": "python",
      "pygments_lexer": "ipython3",
      "version": "3.6.0"
    },
    "colab": {
      "name": "Macros.ipynb",
      "provenance": [],
      "include_colab_link": true
    }
  },
  "cells": [
    {
      "cell_type": "markdown",
      "metadata": {
        "id": "view-in-github",
        "colab_type": "text"
      },
      "source": [
        "<a href=\"https://colab.research.google.com/github/VictorMadu/Coursera-Deep-Learning-Specialization-Course/blob/master/How-to-win-a-data-science-competition/Week4/Macros.ipynb\" target=\"_parent\"><img src=\"https://colab.research.google.com/assets/colab-badge.svg\" alt=\"Open In Colab\"/></a>"
      ]
    },
    {
      "cell_type": "markdown",
      "metadata": {
        "id": "9fbYx07e50hA",
        "colab_type": "text"
      },
      "source": [
        "# Macros"
      ]
    },
    {
      "cell_type": "markdown",
      "metadata": {
        "id": "lOLm1hV450hE",
        "colab_type": "text"
      },
      "source": [
        "This notebook shows how to use *macros* commands in Jupyter.\n",
        "\n",
        "What is *macro*? It is just a named code snippet. Similarly to functions, we can use macros to wrap frequently used code. For example, we can define a macro, that will load all the libraries for us.\n",
        "\n",
        "### Step 1: Define macro \n",
        "\n",
        "To save some code as a macro we need to put that code in a cell and run it. "
      ]
    },
    {
      "cell_type": "code",
      "metadata": {
        "id": "qtRrIo-h50hG",
        "colab_type": "code",
        "colab": {},
        "outputId": "d889b851-48e4-40cb-c9bf-4e099721ca72"
      },
      "source": [
        "import numpy as np\n",
        "import pandas as pd \n",
        "from tqdm import tqdm_notebook\n",
        "import os\n",
        "import sys\n",
        "import os.path\n",
        "\n",
        "import matplotlib.pyplot as plt\n",
        "import matplotlib as mpl\n",
        "from matplotlib import rc\n",
        "from cycler import cycler\n",
        "%matplotlib inline\n",
        "\n",
        " \n",
        "mpl.rcParams['axes.prop_cycle'] = cycler('color', ['#ff0000', '#0000ff',   '#00ffff','#ffA300', '#00ff00', \n",
        "     '#ff00ff', '#990000', '#009999', '#999900', '#009900', '#009999'])\n",
        "\n",
        "rc('font', size=16)\n",
        "rc('font',**{'family':'serif','serif':['Computer Modern']})\n",
        "rc('text', usetex=False)\n",
        "rc('figure', figsize=(12, 10))\n",
        "rc('axes', linewidth=.5)\n",
        "rc('lines', linewidth=1.75)\n",
        "\n",
        "print('The libraries have been loaded!')"
      ],
      "execution_count": null,
      "outputs": [
        {
          "output_type": "stream",
          "text": [
            "The libraries have been loaded!\n"
          ],
          "name": "stdout"
        }
      ]
    },
    {
      "cell_type": "markdown",
      "metadata": {
        "id": "tGbV-LMb50hT",
        "colab_type": "text"
      },
      "source": [
        "Now you need to remember the number inside squre brackets of `In [<number>]`. Now, to save the code, in that cell you need to use macro magic:\n",
        "\n",
        "```\n",
        "%macro __imp <number>\n",
        "```"
      ]
    },
    {
      "cell_type": "code",
      "metadata": {
        "id": "mmxk_PVv50hV",
        "colab_type": "code",
        "colab": {}
      },
      "source": [
        "%macro -q __imp 1"
      ],
      "execution_count": null,
      "outputs": []
    },
    {
      "cell_type": "markdown",
      "metadata": {
        "id": "Ff2b5YHZ50hc",
        "colab_type": "text"
      },
      "source": [
        "Now try it!"
      ]
    },
    {
      "cell_type": "code",
      "metadata": {
        "id": "mKw6231h50he",
        "colab_type": "code",
        "colab": {},
        "outputId": "8b48e5cd-11ac-441b-e0f6-9b8b93ede379"
      },
      "source": [
        "__imp"
      ],
      "execution_count": null,
      "outputs": [
        {
          "output_type": "stream",
          "text": [
            "The libraries have been loaded!\n"
          ],
          "name": "stdout"
        }
      ]
    },
    {
      "cell_type": "markdown",
      "metadata": {
        "id": "f0aaL26y50hj",
        "colab_type": "text"
      },
      "source": [
        "### Step 2: save macro\n",
        "\n",
        "To this end we've only created a macro, but it will be lost, when the kernel is restarted. We need to somehow store it, so than we can load it easily later. In can be done with `%store` macro."
      ]
    },
    {
      "cell_type": "code",
      "metadata": {
        "id": "DmxxR91P50hk",
        "colab_type": "code",
        "colab": {},
        "outputId": "a9152cf1-104b-4f0d-8914-c9dce806b4c2"
      },
      "source": [
        "%store __imp"
      ],
      "execution_count": null,
      "outputs": [
        {
          "output_type": "stream",
          "text": [
            "Stored '__imp' (Macro)\n"
          ],
          "name": "stdout"
        }
      ]
    },
    {
      "cell_type": "markdown",
      "metadata": {
        "id": "dtGOYlpW50hr",
        "colab_type": "text"
      },
      "source": [
        "Now `__imp` is saved in a kind of Jupyter's global memory. You can list all the stored variables like that:"
      ]
    },
    {
      "cell_type": "code",
      "metadata": {
        "id": "ddvivOxj50ht",
        "colab_type": "code",
        "colab": {},
        "outputId": "8b14a384-783e-43dc-d87e-fca0352da171"
      },
      "source": [
        "%store"
      ],
      "execution_count": null,
      "outputs": [
        {
          "output_type": "stream",
          "text": [
            "Stored variables and their in-db values:\n",
            "__imp             -> IPython.macro.Macro(\"import numpy as np\\nimport pa\n"
          ],
          "name": "stdout"
        }
      ]
    },
    {
      "cell_type": "markdown",
      "metadata": {
        "id": "LLBH_bXi50h1",
        "colab_type": "text"
      },
      "source": [
        "Now **restart the kernel** and get back to this cell without running the previous ones. To run the stored macro you need to retrieve the macro first with the following line: "
      ]
    },
    {
      "cell_type": "code",
      "metadata": {
        "id": "elnCdf5d50h3",
        "colab_type": "code",
        "colab": {}
      },
      "source": [
        "%store -r __imp"
      ],
      "execution_count": null,
      "outputs": []
    },
    {
      "cell_type": "markdown",
      "metadata": {
        "id": "Vbvw-Nzz50h_",
        "colab_type": "text"
      },
      "source": [
        "And only then call the macro:"
      ]
    },
    {
      "cell_type": "code",
      "metadata": {
        "id": "CN6nINPt50iA",
        "colab_type": "code",
        "colab": {},
        "outputId": "291b1cbd-9cc7-469d-f1c3-d8d1c5ffb39f"
      },
      "source": [
        "__imp"
      ],
      "execution_count": null,
      "outputs": [
        {
          "output_type": "stream",
          "text": [
            "The libraries have been loaded!\n"
          ],
          "name": "stdout"
        }
      ]
    },
    {
      "cell_type": "markdown",
      "metadata": {
        "id": "YzKyRqU650iF",
        "colab_type": "text"
      },
      "source": [
        "### Step 3: auto restore macro"
      ]
    },
    {
      "cell_type": "markdown",
      "metadata": {
        "id": "3fjOcDZy50iH",
        "colab_type": "text"
      },
      "source": [
        "So you need to use as many as 2 cells! But, fortunately, Jupyer can load the stored variables (and macros) automatically. To enable it you need to update you `.ipython_profile` [config](http://ipython.readthedocs.io/en/stable/development/config.html). If you've never heared of it, then it is not yet created, otherwise you should know where it lives. \n",
        "\n",
        "On Coursera's notebooks we will create it here: `~/.ipython/profile_default/ipython_profile.py` and notify the ipython, that we want it to automatically restore stored variables.\n",
        "\n",
        "```\n",
        "c.StoreMagics.autorestore = True\n",
        "```"
      ]
    },
    {
      "cell_type": "code",
      "metadata": {
        "id": "5P2_qI6h50iI",
        "colab_type": "code",
        "colab": {},
        "outputId": "7f2c145b-64d7-4a4d-e432-4586bee8cb1d"
      },
      "source": [
        "!echo \"c = get_config()\\nc.StoreMagics.autorestore = True\" > ~/.ipython/profile_default/ipython_config.py\n",
        "!cat ~/.ipython/profile_default/ipython_config.py"
      ],
      "execution_count": null,
      "outputs": [
        {
          "output_type": "stream",
          "text": [
            "c = get_config()\r\n",
            "c.StoreMagics.autorestore = True\r\n"
          ],
          "name": "stdout"
        }
      ]
    },
    {
      "cell_type": "markdown",
      "metadata": {
        "id": "Y0AHWqVm50iQ",
        "colab_type": "text"
      },
      "source": [
        "That's it! Now **restart your notebook (kernel)** and **define and store macro** again (step 1 and first code cell from step 2). And finally, to test it, **restart the kernel** again. Now you can immediately access `__imp` macro, so that all the libraries are loaded with a 5 char line of code."
      ]
    },
    {
      "cell_type": "code",
      "metadata": {
        "id": "D4tGNs0Q50iR",
        "colab_type": "code",
        "colab": {},
        "outputId": "a0253a51-4950-48a2-abaa-012a799d82e7"
      },
      "source": [
        "__imp"
      ],
      "execution_count": null,
      "outputs": [
        {
          "output_type": "stream",
          "text": [
            "The libraries have been loaded!\n"
          ],
          "name": "stdout"
        }
      ]
    }
  ]
}
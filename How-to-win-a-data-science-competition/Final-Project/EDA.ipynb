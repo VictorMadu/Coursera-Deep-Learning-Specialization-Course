{
  "nbformat": 4,
  "nbformat_minor": 0,
  "metadata": {
    "hw_version": "1.0.0",
    "kernelspec": {
      "display_name": "Python 3",
      "language": "python",
      "name": "python3"
    },
    "language_info": {
      "codemirror_mode": {
        "name": "ipython",
        "version": 3
      },
      "file_extension": ".py",
      "mimetype": "text/x-python",
      "name": "python",
      "nbconvert_exporter": "python",
      "pygments_lexer": "ipython3",
      "version": "3.7.7"
    },
    "colab": {
      "name": "Project EDA.ipynb",
      "provenance": [],
      "include_colab_link": true
    }
  },
  "cells": [
    {
      "cell_type": "markdown",
      "metadata": {
        "id": "view-in-github",
        "colab_type": "text"
      },
      "source": [
        "<a href=\"https://colab.research.google.com/github/VictorMadu/Coursera-Deep-Learning-Specialization-Course/blob/master/How-to-win-a-data-science-competition/Final-Project/EDA.ipynb\" target=\"_parent\"><img src=\"https://colab.research.google.com/assets/colab-badge.svg\" alt=\"Open In Colab\"/></a>"
      ]
    },
    {
      "cell_type": "markdown",
      "metadata": {
        "id": "_6-WGfNT7Th6",
        "colab_type": "text"
      },
      "source": [
        "## Mount G-drive"
      ]
    },
    {
      "cell_type": "code",
      "metadata": {
        "id": "CioQK7Zn7R25",
        "colab_type": "code",
        "colab": {}
      },
      "source": [
        ""
      ],
      "execution_count": null,
      "outputs": []
    },
    {
      "cell_type": "markdown",
      "metadata": {
        "id": "j9S5dQTc7fTg",
        "colab_type": "text"
      },
      "source": [
        "## Download the dataset we need"
      ]
    },
    {
      "cell_type": "code",
      "metadata": {
        "id": "bWLFafm07e51",
        "colab_type": "code",
        "colab": {}
      },
      "source": [
        ""
      ],
      "execution_count": null,
      "outputs": []
    },
    {
      "cell_type": "markdown",
      "metadata": {
        "id": "0fqvLKBDzzmG",
        "colab_type": "text"
      },
      "source": [
        "# EDA"
      ]
    },
    {
      "cell_type": "code",
      "metadata": {
        "id": "kc8g-_2PzzmJ",
        "colab_type": "code",
        "colab": {}
      },
      "source": [
        "import pandas as pd\n",
        "import numpy as np\n",
        "import os\n",
        "import seaborn as sns\n",
        "import matplotlib.pyplot as plt\n",
        "import re\n",
        "%matplotlib inline \n"
      ],
      "execution_count": null,
      "outputs": []
    },
    {
      "cell_type": "code",
      "metadata": {
        "id": "a0T6iEmKzzmW",
        "colab_type": "code",
        "colab": {}
      },
      "source": [
        "DATA_FOLDER = '../input/'\n",
        "\n",
        "# Load all files available\n",
        "sales_train     = pd.read_csv(os.path.join(DATA_FOLDER, 'sales_train.csv'))\n",
        "test            = pd.read_csv(os.path.join(DATA_FOLDER, 'test.csv'))\n",
        "items           = pd.read_csv(os.path.join(DATA_FOLDER, 'items.csv'))\n",
        "item_categories = pd.read_csv(os.path.join(DATA_FOLDER, 'item_categories.csv'))\n",
        "shops           = pd.read_csv(os.path.join(DATA_FOLDER, 'shops.csv'))\n",
        "\n",
        "# Translations from https://www.kaggle.com/c/competitive-data-science-predict-future-sales/discussion/133809\n",
        "items_en = pd.read_csv(os.path.join(DATA_FOLDER, 'compressed_items_en.csv.zip'))\n",
        "item_categories_en = pd.read_csv(os.path.join(DATA_FOLDER, 'item_categories_en.csv'))\n",
        "shops_en           = pd.read_csv(os.path.join(DATA_FOLDER, 'shops_en.csv'))"
      ],
      "execution_count": null,
      "outputs": []
    },
    {
      "cell_type": "markdown",
      "metadata": {
        "id": "jf1662oQzzmf",
        "colab_type": "text"
      },
      "source": [
        "## sales_train\n",
        "Describe's, heads and outliers"
      ]
    },
    {
      "cell_type": "code",
      "metadata": {
        "id": "8Al3EePizzmh",
        "colab_type": "code",
        "colab": {},
        "outputId": "282df21c-a2f6-4024-ca6a-e5f91a1417f8"
      },
      "source": [
        "sales_train.describe().T"
      ],
      "execution_count": null,
      "outputs": [
        {
          "output_type": "execute_result",
          "data": {
            "text/html": [
              "<div>\n",
              "<style scoped>\n",
              "    .dataframe tbody tr th:only-of-type {\n",
              "        vertical-align: middle;\n",
              "    }\n",
              "\n",
              "    .dataframe tbody tr th {\n",
              "        vertical-align: top;\n",
              "    }\n",
              "\n",
              "    .dataframe thead th {\n",
              "        text-align: right;\n",
              "    }\n",
              "</style>\n",
              "<table border=\"1\" class=\"dataframe\">\n",
              "  <thead>\n",
              "    <tr style=\"text-align: right;\">\n",
              "      <th></th>\n",
              "      <th>count</th>\n",
              "      <th>mean</th>\n",
              "      <th>std</th>\n",
              "      <th>min</th>\n",
              "      <th>25%</th>\n",
              "      <th>50%</th>\n",
              "      <th>75%</th>\n",
              "      <th>max</th>\n",
              "    </tr>\n",
              "  </thead>\n",
              "  <tbody>\n",
              "    <tr>\n",
              "      <th>date_block_num</th>\n",
              "      <td>2935849.0</td>\n",
              "      <td>14.569911</td>\n",
              "      <td>9.422988</td>\n",
              "      <td>0.0</td>\n",
              "      <td>7.0</td>\n",
              "      <td>14.0</td>\n",
              "      <td>23.0</td>\n",
              "      <td>33.0</td>\n",
              "    </tr>\n",
              "    <tr>\n",
              "      <th>shop_id</th>\n",
              "      <td>2935849.0</td>\n",
              "      <td>33.001728</td>\n",
              "      <td>16.226973</td>\n",
              "      <td>0.0</td>\n",
              "      <td>22.0</td>\n",
              "      <td>31.0</td>\n",
              "      <td>47.0</td>\n",
              "      <td>59.0</td>\n",
              "    </tr>\n",
              "    <tr>\n",
              "      <th>item_id</th>\n",
              "      <td>2935849.0</td>\n",
              "      <td>10197.227057</td>\n",
              "      <td>6324.297354</td>\n",
              "      <td>0.0</td>\n",
              "      <td>4476.0</td>\n",
              "      <td>9343.0</td>\n",
              "      <td>15684.0</td>\n",
              "      <td>22169.0</td>\n",
              "    </tr>\n",
              "    <tr>\n",
              "      <th>item_price</th>\n",
              "      <td>2935849.0</td>\n",
              "      <td>890.853233</td>\n",
              "      <td>1729.799631</td>\n",
              "      <td>-1.0</td>\n",
              "      <td>249.0</td>\n",
              "      <td>399.0</td>\n",
              "      <td>999.0</td>\n",
              "      <td>307980.0</td>\n",
              "    </tr>\n",
              "    <tr>\n",
              "      <th>item_cnt_day</th>\n",
              "      <td>2935849.0</td>\n",
              "      <td>1.242641</td>\n",
              "      <td>2.618834</td>\n",
              "      <td>-22.0</td>\n",
              "      <td>1.0</td>\n",
              "      <td>1.0</td>\n",
              "      <td>1.0</td>\n",
              "      <td>2169.0</td>\n",
              "    </tr>\n",
              "  </tbody>\n",
              "</table>\n",
              "</div>"
            ],
            "text/plain": [
              "                    count          mean          std   min     25%     50%  \\\n",
              "date_block_num  2935849.0     14.569911     9.422988   0.0     7.0    14.0   \n",
              "shop_id         2935849.0     33.001728    16.226973   0.0    22.0    31.0   \n",
              "item_id         2935849.0  10197.227057  6324.297354   0.0  4476.0  9343.0   \n",
              "item_price      2935849.0    890.853233  1729.799631  -1.0   249.0   399.0   \n",
              "item_cnt_day    2935849.0      1.242641     2.618834 -22.0     1.0     1.0   \n",
              "\n",
              "                    75%       max  \n",
              "date_block_num     23.0      33.0  \n",
              "shop_id            47.0      59.0  \n",
              "item_id         15684.0   22169.0  \n",
              "item_price        999.0  307980.0  \n",
              "item_cnt_day        1.0    2169.0  "
            ]
          },
          "metadata": {
            "tags": []
          },
          "execution_count": 3
        }
      ]
    },
    {
      "cell_type": "code",
      "metadata": {
        "id": "XVU2EJ8_zzmr",
        "colab_type": "code",
        "colab": {},
        "outputId": "1e1f4fa1-9f7e-48e8-e768-98336fa171bd"
      },
      "source": [
        "sales_train.head()"
      ],
      "execution_count": null,
      "outputs": [
        {
          "output_type": "execute_result",
          "data": {
            "text/html": [
              "<div>\n",
              "<style scoped>\n",
              "    .dataframe tbody tr th:only-of-type {\n",
              "        vertical-align: middle;\n",
              "    }\n",
              "\n",
              "    .dataframe tbody tr th {\n",
              "        vertical-align: top;\n",
              "    }\n",
              "\n",
              "    .dataframe thead th {\n",
              "        text-align: right;\n",
              "    }\n",
              "</style>\n",
              "<table border=\"1\" class=\"dataframe\">\n",
              "  <thead>\n",
              "    <tr style=\"text-align: right;\">\n",
              "      <th></th>\n",
              "      <th>date</th>\n",
              "      <th>date_block_num</th>\n",
              "      <th>shop_id</th>\n",
              "      <th>item_id</th>\n",
              "      <th>item_price</th>\n",
              "      <th>item_cnt_day</th>\n",
              "    </tr>\n",
              "  </thead>\n",
              "  <tbody>\n",
              "    <tr>\n",
              "      <th>0</th>\n",
              "      <td>02.01.2013</td>\n",
              "      <td>0</td>\n",
              "      <td>59</td>\n",
              "      <td>22154</td>\n",
              "      <td>999.00</td>\n",
              "      <td>1.0</td>\n",
              "    </tr>\n",
              "    <tr>\n",
              "      <th>1</th>\n",
              "      <td>03.01.2013</td>\n",
              "      <td>0</td>\n",
              "      <td>25</td>\n",
              "      <td>2552</td>\n",
              "      <td>899.00</td>\n",
              "      <td>1.0</td>\n",
              "    </tr>\n",
              "    <tr>\n",
              "      <th>2</th>\n",
              "      <td>05.01.2013</td>\n",
              "      <td>0</td>\n",
              "      <td>25</td>\n",
              "      <td>2552</td>\n",
              "      <td>899.00</td>\n",
              "      <td>-1.0</td>\n",
              "    </tr>\n",
              "    <tr>\n",
              "      <th>3</th>\n",
              "      <td>06.01.2013</td>\n",
              "      <td>0</td>\n",
              "      <td>25</td>\n",
              "      <td>2554</td>\n",
              "      <td>1709.05</td>\n",
              "      <td>1.0</td>\n",
              "    </tr>\n",
              "    <tr>\n",
              "      <th>4</th>\n",
              "      <td>15.01.2013</td>\n",
              "      <td>0</td>\n",
              "      <td>25</td>\n",
              "      <td>2555</td>\n",
              "      <td>1099.00</td>\n",
              "      <td>1.0</td>\n",
              "    </tr>\n",
              "  </tbody>\n",
              "</table>\n",
              "</div>"
            ],
            "text/plain": [
              "         date  date_block_num  shop_id  item_id  item_price  item_cnt_day\n",
              "0  02.01.2013               0       59    22154      999.00           1.0\n",
              "1  03.01.2013               0       25     2552      899.00           1.0\n",
              "2  05.01.2013               0       25     2552      899.00          -1.0\n",
              "3  06.01.2013               0       25     2554     1709.05           1.0\n",
              "4  15.01.2013               0       25     2555     1099.00           1.0"
            ]
          },
          "metadata": {
            "tags": []
          },
          "execution_count": 4
        }
      ]
    },
    {
      "cell_type": "markdown",
      "metadata": {
        "id": "Vz4-J8uDzzm1",
        "colab_type": "text"
      },
      "source": [
        "The outliers will be removed in feature engineering."
      ]
    },
    {
      "cell_type": "code",
      "metadata": {
        "id": "OPkBbxTKzzm2",
        "colab_type": "code",
        "colab": {},
        "outputId": "5d74f668-f1d8-4dec-da79-0fcc62ddff02"
      },
      "source": [
        "plt.figure(figsize=(10,4))\n",
        "plt.xlim(sales_train.item_cnt_day.min(), sales_train.item_cnt_day.max()*1.1)\n",
        "sns.boxplot(x=sales_train.item_cnt_day)\n",
        "\n",
        "plt.figure(figsize=(10,4))\n",
        "plt.xlim(sales_train.item_price.min(), sales_train.item_price.max()*1.1)\n",
        "sns.boxplot(x=sales_train.item_price)"
      ],
      "execution_count": null,
      "outputs": [
        {
          "output_type": "execute_result",
          "data": {
            "text/plain": [
              "<matplotlib.axes._subplots.AxesSubplot at 0x21710dd1b08>"
            ]
          },
          "metadata": {
            "tags": []
          },
          "execution_count": 5
        },
        {
          "output_type": "display_data",
          "data": {
            "image/png": "[encoded data removed]",
            "text/plain": [
              "<Figure size 720x288 with 1 Axes>"
            ]
          },
          "metadata": {
            "tags": [],
            "needs_background": "light"
          }
        },
        {
          "output_type": "display_data",
          "data": {
            "image/png": "[encoded data removed]",
            "text/plain": [
              "<Figure size 720x288 with 1 Axes>"
            ]
          },
          "metadata": {
            "tags": [],
            "needs_background": "light"
          }
        }
      ]
    },
    {
      "cell_type": "markdown",
      "metadata": {
        "id": "RrEs2ZZ3zznC",
        "colab_type": "text"
      },
      "source": [
        "The rest of features will considered as categorical features (date_block_num, shop_id and item_id), so we'll need transform in encodings (mean encodings with target item_cnt_month)\n"
      ]
    },
    {
      "cell_type": "markdown",
      "metadata": {
        "id": "FW8n0CXPzznE",
        "colab_type": "text"
      },
      "source": [
        "## test"
      ]
    },
    {
      "cell_type": "code",
      "metadata": {
        "id": "F3M12QnUzznF",
        "colab_type": "code",
        "colab": {},
        "outputId": "d3b5a726-1131-4fc7-d45c-2f73c6ef306e"
      },
      "source": [
        "test.describe().T"
      ],
      "execution_count": null,
      "outputs": [
        {
          "output_type": "execute_result",
          "data": {
            "text/html": [
              "<div>\n",
              "<style scoped>\n",
              "    .dataframe tbody tr th:only-of-type {\n",
              "        vertical-align: middle;\n",
              "    }\n",
              "\n",
              "    .dataframe tbody tr th {\n",
              "        vertical-align: top;\n",
              "    }\n",
              "\n",
              "    .dataframe thead th {\n",
              "        text-align: right;\n",
              "    }\n",
              "</style>\n",
              "<table border=\"1\" class=\"dataframe\">\n",
              "  <thead>\n",
              "    <tr style=\"text-align: right;\">\n",
              "      <th></th>\n",
              "      <th>count</th>\n",
              "      <th>mean</th>\n",
              "      <th>std</th>\n",
              "      <th>min</th>\n",
              "      <th>25%</th>\n",
              "      <th>50%</th>\n",
              "      <th>75%</th>\n",
              "      <th>max</th>\n",
              "    </tr>\n",
              "  </thead>\n",
              "  <tbody>\n",
              "    <tr>\n",
              "      <th>ID</th>\n",
              "      <td>214200.0</td>\n",
              "      <td>107099.500000</td>\n",
              "      <td>61834.358168</td>\n",
              "      <td>0.0</td>\n",
              "      <td>53549.75</td>\n",
              "      <td>107099.5</td>\n",
              "      <td>160649.25</td>\n",
              "      <td>214199.0</td>\n",
              "    </tr>\n",
              "    <tr>\n",
              "      <th>shop_id</th>\n",
              "      <td>214200.0</td>\n",
              "      <td>31.642857</td>\n",
              "      <td>17.561933</td>\n",
              "      <td>2.0</td>\n",
              "      <td>16.00</td>\n",
              "      <td>34.5</td>\n",
              "      <td>47.00</td>\n",
              "      <td>59.0</td>\n",
              "    </tr>\n",
              "    <tr>\n",
              "      <th>item_id</th>\n",
              "      <td>214200.0</td>\n",
              "      <td>11019.398627</td>\n",
              "      <td>6252.644590</td>\n",
              "      <td>30.0</td>\n",
              "      <td>5381.50</td>\n",
              "      <td>11203.0</td>\n",
              "      <td>16071.50</td>\n",
              "      <td>22167.0</td>\n",
              "    </tr>\n",
              "  </tbody>\n",
              "</table>\n",
              "</div>"
            ],
            "text/plain": [
              "            count           mean           std   min       25%       50%  \\\n",
              "ID       214200.0  107099.500000  61834.358168   0.0  53549.75  107099.5   \n",
              "shop_id  214200.0      31.642857     17.561933   2.0     16.00      34.5   \n",
              "item_id  214200.0   11019.398627   6252.644590  30.0   5381.50   11203.0   \n",
              "\n",
              "               75%       max  \n",
              "ID       160649.25  214199.0  \n",
              "shop_id      47.00      59.0  \n",
              "item_id   16071.50   22167.0  "
            ]
          },
          "metadata": {
            "tags": []
          },
          "execution_count": 6
        }
      ]
    },
    {
      "cell_type": "markdown",
      "metadata": {
        "id": "ijeVtE1XzznP",
        "colab_type": "text"
      },
      "source": [
        "We can see that items and shops in test are not the same that in sales, so we need to generate a training and validation data with test values in order to obtain information about this combinations. Furthermore there are 210284 pairs different."
      ]
    },
    {
      "cell_type": "code",
      "metadata": {
        "id": "hgXOzw8BzznQ",
        "colab_type": "code",
        "colab": {},
        "outputId": "767d50db-2f42-4240-bbcd-c6a61f8609e7"
      },
      "source": [
        "# Find differences between train and test\n",
        "sales_train[['shop_id', 'item_id']].merge(test[['shop_id', 'item_id']],\n",
        "                        indicator = True, how='left').loc[lambda x : x['_merge']!='both']. \\\n",
        "                        drop_duplicates(keep=False)"
      ],
      "execution_count": null,
      "outputs": [
        {
          "output_type": "execute_result",
          "data": {
            "text/html": [
              "<div>\n",
              "<style scoped>\n",
              "    .dataframe tbody tr th:only-of-type {\n",
              "        vertical-align: middle;\n",
              "    }\n",
              "\n",
              "    .dataframe tbody tr th {\n",
              "        vertical-align: top;\n",
              "    }\n",
              "\n",
              "    .dataframe thead th {\n",
              "        text-align: right;\n",
              "    }\n",
              "</style>\n",
              "<table border=\"1\" class=\"dataframe\">\n",
              "  <thead>\n",
              "    <tr style=\"text-align: right;\">\n",
              "      <th></th>\n",
              "      <th>shop_id</th>\n",
              "      <th>item_id</th>\n",
              "      <th>_merge</th>\n",
              "    </tr>\n",
              "  </thead>\n",
              "  <tbody>\n",
              "    <tr>\n",
              "      <th>3</th>\n",
              "      <td>25</td>\n",
              "      <td>2554</td>\n",
              "      <td>left_only</td>\n",
              "    </tr>\n",
              "    <tr>\n",
              "      <th>6</th>\n",
              "      <td>25</td>\n",
              "      <td>2565</td>\n",
              "      <td>left_only</td>\n",
              "    </tr>\n",
              "    <tr>\n",
              "      <th>55</th>\n",
              "      <td>25</td>\n",
              "      <td>2522</td>\n",
              "      <td>left_only</td>\n",
              "    </tr>\n",
              "    <tr>\n",
              "      <th>73</th>\n",
              "      <td>25</td>\n",
              "      <td>2845</td>\n",
              "      <td>left_only</td>\n",
              "    </tr>\n",
              "    <tr>\n",
              "      <th>132</th>\n",
              "      <td>25</td>\n",
              "      <td>2149</td>\n",
              "      <td>left_only</td>\n",
              "    </tr>\n",
              "    <tr>\n",
              "      <th>...</th>\n",
              "      <td>...</td>\n",
              "      <td>...</td>\n",
              "      <td>...</td>\n",
              "    </tr>\n",
              "    <tr>\n",
              "      <th>2935670</th>\n",
              "      <td>25</td>\n",
              "      <td>7904</td>\n",
              "      <td>left_only</td>\n",
              "    </tr>\n",
              "    <tr>\n",
              "      <th>2935802</th>\n",
              "      <td>25</td>\n",
              "      <td>7583</td>\n",
              "      <td>left_only</td>\n",
              "    </tr>\n",
              "    <tr>\n",
              "      <th>2935804</th>\n",
              "      <td>25</td>\n",
              "      <td>7610</td>\n",
              "      <td>left_only</td>\n",
              "    </tr>\n",
              "    <tr>\n",
              "      <th>2935811</th>\n",
              "      <td>25</td>\n",
              "      <td>7635</td>\n",
              "      <td>left_only</td>\n",
              "    </tr>\n",
              "    <tr>\n",
              "      <th>2935813</th>\n",
              "      <td>25</td>\n",
              "      <td>7640</td>\n",
              "      <td>left_only</td>\n",
              "    </tr>\n",
              "  </tbody>\n",
              "</table>\n",
              "<p>107488 rows × 3 columns</p>\n",
              "</div>"
            ],
            "text/plain": [
              "         shop_id  item_id     _merge\n",
              "3             25     2554  left_only\n",
              "6             25     2565  left_only\n",
              "55            25     2522  left_only\n",
              "73            25     2845  left_only\n",
              "132           25     2149  left_only\n",
              "...          ...      ...        ...\n",
              "2935670       25     7904  left_only\n",
              "2935802       25     7583  left_only\n",
              "2935804       25     7610  left_only\n",
              "2935811       25     7635  left_only\n",
              "2935813       25     7640  left_only\n",
              "\n",
              "[107488 rows x 3 columns]"
            ]
          },
          "metadata": {
            "tags": []
          },
          "execution_count": 7
        }
      ]
    },
    {
      "cell_type": "code",
      "metadata": {
        "id": "TK9ZiOhDzznY",
        "colab_type": "code",
        "colab": {},
        "outputId": "bd1d6db1-b8f2-4955-c297-cef6feb0a715"
      },
      "source": [
        "# Find differences between test and train\n",
        "test[['shop_id', 'item_id']].merge(sales_train[['shop_id', 'item_id']],\n",
        "                        indicator = True, how='left').loc[lambda x : x['_merge']!='both']. \\\n",
        "                        drop_duplicates(keep=False)"
      ],
      "execution_count": null,
      "outputs": [
        {
          "output_type": "execute_result",
          "data": {
            "text/html": [
              "<div>\n",
              "<style scoped>\n",
              "    .dataframe tbody tr th:only-of-type {\n",
              "        vertical-align: middle;\n",
              "    }\n",
              "\n",
              "    .dataframe tbody tr th {\n",
              "        vertical-align: top;\n",
              "    }\n",
              "\n",
              "    .dataframe thead th {\n",
              "        text-align: right;\n",
              "    }\n",
              "</style>\n",
              "<table border=\"1\" class=\"dataframe\">\n",
              "  <thead>\n",
              "    <tr style=\"text-align: right;\">\n",
              "      <th></th>\n",
              "      <th>shop_id</th>\n",
              "      <th>item_id</th>\n",
              "      <th>_merge</th>\n",
              "    </tr>\n",
              "  </thead>\n",
              "  <tbody>\n",
              "    <tr>\n",
              "      <th>13</th>\n",
              "      <td>5</td>\n",
              "      <td>5320</td>\n",
              "      <td>left_only</td>\n",
              "    </tr>\n",
              "    <tr>\n",
              "      <th>24</th>\n",
              "      <td>5</td>\n",
              "      <td>5268</td>\n",
              "      <td>left_only</td>\n",
              "    </tr>\n",
              "    <tr>\n",
              "      <th>96</th>\n",
              "      <td>5</td>\n",
              "      <td>5003</td>\n",
              "      <td>left_only</td>\n",
              "    </tr>\n",
              "    <tr>\n",
              "      <th>342</th>\n",
              "      <td>5</td>\n",
              "      <td>4874</td>\n",
              "      <td>left_only</td>\n",
              "    </tr>\n",
              "    <tr>\n",
              "      <th>414</th>\n",
              "      <td>5</td>\n",
              "      <td>5002</td>\n",
              "      <td>left_only</td>\n",
              "    </tr>\n",
              "    <tr>\n",
              "      <th>...</th>\n",
              "      <td>...</td>\n",
              "      <td>...</td>\n",
              "      <td>...</td>\n",
              "    </tr>\n",
              "    <tr>\n",
              "      <th>1327197</th>\n",
              "      <td>45</td>\n",
              "      <td>9500</td>\n",
              "      <td>left_only</td>\n",
              "    </tr>\n",
              "    <tr>\n",
              "      <th>1327198</th>\n",
              "      <td>45</td>\n",
              "      <td>16007</td>\n",
              "      <td>left_only</td>\n",
              "    </tr>\n",
              "    <tr>\n",
              "      <th>1327212</th>\n",
              "      <td>45</td>\n",
              "      <td>18027</td>\n",
              "      <td>left_only</td>\n",
              "    </tr>\n",
              "    <tr>\n",
              "      <th>1327222</th>\n",
              "      <td>45</td>\n",
              "      <td>16188</td>\n",
              "      <td>left_only</td>\n",
              "    </tr>\n",
              "    <tr>\n",
              "      <th>1327230</th>\n",
              "      <td>45</td>\n",
              "      <td>19648</td>\n",
              "      <td>left_only</td>\n",
              "    </tr>\n",
              "  </tbody>\n",
              "</table>\n",
              "<p>102796 rows × 3 columns</p>\n",
              "</div>"
            ],
            "text/plain": [
              "         shop_id  item_id     _merge\n",
              "13             5     5320  left_only\n",
              "24             5     5268  left_only\n",
              "96             5     5003  left_only\n",
              "342            5     4874  left_only\n",
              "414            5     5002  left_only\n",
              "...          ...      ...        ...\n",
              "1327197       45     9500  left_only\n",
              "1327198       45    16007  left_only\n",
              "1327212       45    18027  left_only\n",
              "1327222       45    16188  left_only\n",
              "1327230       45    19648  left_only\n",
              "\n",
              "[102796 rows x 3 columns]"
            ]
          },
          "metadata": {
            "tags": []
          },
          "execution_count": 8
        }
      ]
    },
    {
      "cell_type": "markdown",
      "metadata": {
        "id": "HTvxhmy6zzne",
        "colab_type": "text"
      },
      "source": [
        "## items and items_categories"
      ]
    },
    {
      "cell_type": "code",
      "metadata": {
        "id": "hkQv6Pflzznf",
        "colab_type": "code",
        "colab": {},
        "outputId": "903aff23-2c3a-4022-a8b3-ef53773008f6"
      },
      "source": [
        "items.describe().T"
      ],
      "execution_count": null,
      "outputs": [
        {
          "output_type": "execute_result",
          "data": {
            "text/html": [
              "<div>\n",
              "<style scoped>\n",
              "    .dataframe tbody tr th:only-of-type {\n",
              "        vertical-align: middle;\n",
              "    }\n",
              "\n",
              "    .dataframe tbody tr th {\n",
              "        vertical-align: top;\n",
              "    }\n",
              "\n",
              "    .dataframe thead th {\n",
              "        text-align: right;\n",
              "    }\n",
              "</style>\n",
              "<table border=\"1\" class=\"dataframe\">\n",
              "  <thead>\n",
              "    <tr style=\"text-align: right;\">\n",
              "      <th></th>\n",
              "      <th>count</th>\n",
              "      <th>mean</th>\n",
              "      <th>std</th>\n",
              "      <th>min</th>\n",
              "      <th>25%</th>\n",
              "      <th>50%</th>\n",
              "      <th>75%</th>\n",
              "      <th>max</th>\n",
              "    </tr>\n",
              "  </thead>\n",
              "  <tbody>\n",
              "    <tr>\n",
              "      <th>item_id</th>\n",
              "      <td>22170.0</td>\n",
              "      <td>11084.500000</td>\n",
              "      <td>6400.072070</td>\n",
              "      <td>0.0</td>\n",
              "      <td>5542.25</td>\n",
              "      <td>11084.5</td>\n",
              "      <td>16626.75</td>\n",
              "      <td>22169.0</td>\n",
              "    </tr>\n",
              "    <tr>\n",
              "      <th>item_category_id</th>\n",
              "      <td>22170.0</td>\n",
              "      <td>46.290753</td>\n",
              "      <td>15.941486</td>\n",
              "      <td>0.0</td>\n",
              "      <td>37.00</td>\n",
              "      <td>40.0</td>\n",
              "      <td>58.00</td>\n",
              "      <td>83.0</td>\n",
              "    </tr>\n",
              "  </tbody>\n",
              "</table>\n",
              "</div>"
            ],
            "text/plain": [
              "                    count          mean          std  min      25%      50%  \\\n",
              "item_id           22170.0  11084.500000  6400.072070  0.0  5542.25  11084.5   \n",
              "item_category_id  22170.0     46.290753    15.941486  0.0    37.00     40.0   \n",
              "\n",
              "                       75%      max  \n",
              "item_id           16626.75  22169.0  \n",
              "item_category_id     58.00     83.0  "
            ]
          },
          "metadata": {
            "tags": []
          },
          "execution_count": 9
        }
      ]
    },
    {
      "cell_type": "code",
      "metadata": {
        "id": "qGvzmGnyzznn",
        "colab_type": "code",
        "colab": {},
        "outputId": "d10181a2-2d2d-404a-d353-ad9eb9a31454"
      },
      "source": [
        "items"
      ],
      "execution_count": null,
      "outputs": [
        {
          "output_type": "execute_result",
          "data": {
            "text/html": [
              "<div>\n",
              "<style scoped>\n",
              "    .dataframe tbody tr th:only-of-type {\n",
              "        vertical-align: middle;\n",
              "    }\n",
              "\n",
              "    .dataframe tbody tr th {\n",
              "        vertical-align: top;\n",
              "    }\n",
              "\n",
              "    .dataframe thead th {\n",
              "        text-align: right;\n",
              "    }\n",
              "</style>\n",
              "<table border=\"1\" class=\"dataframe\">\n",
              "  <thead>\n",
              "    <tr style=\"text-align: right;\">\n",
              "      <th></th>\n",
              "      <th>item_name</th>\n",
              "      <th>item_id</th>\n",
              "      <th>item_category_id</th>\n",
              "    </tr>\n",
              "  </thead>\n",
              "  <tbody>\n",
              "    <tr>\n",
              "      <th>0</th>\n",
              "      <td>! ВО ВЛАСТИ НАВАЖДЕНИЯ (ПЛАСТ.)         D</td>\n",
              "      <td>0</td>\n",
              "      <td>40</td>\n",
              "    </tr>\n",
              "    <tr>\n",
              "      <th>1</th>\n",
              "      <td>!ABBYY FineReader 12 Professional Edition Full...</td>\n",
              "      <td>1</td>\n",
              "      <td>76</td>\n",
              "    </tr>\n",
              "    <tr>\n",
              "      <th>2</th>\n",
              "      <td>***В ЛУЧАХ СЛАВЫ   (UNV)                    D</td>\n",
              "      <td>2</td>\n",
              "      <td>40</td>\n",
              "    </tr>\n",
              "    <tr>\n",
              "      <th>3</th>\n",
              "      <td>***ГОЛУБАЯ ВОЛНА  (Univ)                      D</td>\n",
              "      <td>3</td>\n",
              "      <td>40</td>\n",
              "    </tr>\n",
              "    <tr>\n",
              "      <th>4</th>\n",
              "      <td>***КОРОБКА (СТЕКЛО)                       D</td>\n",
              "      <td>4</td>\n",
              "      <td>40</td>\n",
              "    </tr>\n",
              "    <tr>\n",
              "      <th>...</th>\n",
              "      <td>...</td>\n",
              "      <td>...</td>\n",
              "      <td>...</td>\n",
              "    </tr>\n",
              "    <tr>\n",
              "      <th>22165</th>\n",
              "      <td>Ядерный титбит 2 [PC, Цифровая версия]</td>\n",
              "      <td>22165</td>\n",
              "      <td>31</td>\n",
              "    </tr>\n",
              "    <tr>\n",
              "      <th>22166</th>\n",
              "      <td>Язык запросов 1С:Предприятия  [Цифровая версия]</td>\n",
              "      <td>22166</td>\n",
              "      <td>54</td>\n",
              "    </tr>\n",
              "    <tr>\n",
              "      <th>22167</th>\n",
              "      <td>Язык запросов 1С:Предприятия 8 (+CD). Хрустале...</td>\n",
              "      <td>22167</td>\n",
              "      <td>49</td>\n",
              "    </tr>\n",
              "    <tr>\n",
              "      <th>22168</th>\n",
              "      <td>Яйцо для Little Inu</td>\n",
              "      <td>22168</td>\n",
              "      <td>62</td>\n",
              "    </tr>\n",
              "    <tr>\n",
              "      <th>22169</th>\n",
              "      <td>Яйцо дракона (Игра престолов)</td>\n",
              "      <td>22169</td>\n",
              "      <td>69</td>\n",
              "    </tr>\n",
              "  </tbody>\n",
              "</table>\n",
              "<p>22170 rows × 3 columns</p>\n",
              "</div>"
            ],
            "text/plain": [
              "                                               item_name  item_id  \\\n",
              "0              ! ВО ВЛАСТИ НАВАЖДЕНИЯ (ПЛАСТ.)         D        0   \n",
              "1      !ABBYY FineReader 12 Professional Edition Full...        1   \n",
              "2          ***В ЛУЧАХ СЛАВЫ   (UNV)                    D        2   \n",
              "3        ***ГОЛУБАЯ ВОЛНА  (Univ)                      D        3   \n",
              "4            ***КОРОБКА (СТЕКЛО)                       D        4   \n",
              "...                                                  ...      ...   \n",
              "22165             Ядерный титбит 2 [PC, Цифровая версия]    22165   \n",
              "22166    Язык запросов 1С:Предприятия  [Цифровая версия]    22166   \n",
              "22167  Язык запросов 1С:Предприятия 8 (+CD). Хрустале...    22167   \n",
              "22168                                Яйцо для Little Inu    22168   \n",
              "22169                      Яйцо дракона (Игра престолов)    22169   \n",
              "\n",
              "       item_category_id  \n",
              "0                    40  \n",
              "1                    76  \n",
              "2                    40  \n",
              "3                    40  \n",
              "4                    40  \n",
              "...                 ...  \n",
              "22165                31  \n",
              "22166                54  \n",
              "22167                49  \n",
              "22168                62  \n",
              "22169                69  \n",
              "\n",
              "[22170 rows x 3 columns]"
            ]
          },
          "metadata": {
            "tags": []
          },
          "execution_count": 10
        }
      ]
    },
    {
      "cell_type": "markdown",
      "metadata": {
        "id": "hGTYfVFozznu",
        "colab_type": "text"
      },
      "source": [
        "For some people and me, easier way, :-). Any way there is something at first characters that we could use as a categorical feature."
      ]
    },
    {
      "cell_type": "code",
      "metadata": {
        "id": "2-9u8pBlzznv",
        "colab_type": "code",
        "colab": {},
        "outputId": "c27a87f4-0668-4f8e-f14e-cedf6ce1b3b3"
      },
      "source": [
        "items_en.head(20)"
      ],
      "execution_count": null,
      "outputs": [
        {
          "output_type": "execute_result",
          "data": {
            "text/html": [
              "<div>\n",
              "<style scoped>\n",
              "    .dataframe tbody tr th:only-of-type {\n",
              "        vertical-align: middle;\n",
              "    }\n",
              "\n",
              "    .dataframe tbody tr th {\n",
              "        vertical-align: top;\n",
              "    }\n",
              "\n",
              "    .dataframe thead th {\n",
              "        text-align: right;\n",
              "    }\n",
              "</style>\n",
              "<table border=\"1\" class=\"dataframe\">\n",
              "  <thead>\n",
              "    <tr style=\"text-align: right;\">\n",
              "      <th></th>\n",
              "      <th>item_name</th>\n",
              "      <th>item_id</th>\n",
              "      <th>item_category_id</th>\n",
              "    </tr>\n",
              "  </thead>\n",
              "  <tbody>\n",
              "    <tr>\n",
              "      <th>0</th>\n",
              "      <td>! POWER IN glamor (PLAST.) D</td>\n",
              "      <td>0</td>\n",
              "      <td>40</td>\n",
              "    </tr>\n",
              "    <tr>\n",
              "      <th>1</th>\n",
              "      <td>! ABBYY FineReader 12 Professional Edition Ful...</td>\n",
              "      <td>1</td>\n",
              "      <td>76</td>\n",
              "    </tr>\n",
              "    <tr>\n",
              "      <th>2</th>\n",
              "      <td>*** In the glory (UNV) D</td>\n",
              "      <td>2</td>\n",
              "      <td>40</td>\n",
              "    </tr>\n",
              "    <tr>\n",
              "      <th>3</th>\n",
              "      <td>*** BLUE WAVE (Univ) D</td>\n",
              "      <td>3</td>\n",
              "      <td>40</td>\n",
              "    </tr>\n",
              "    <tr>\n",
              "      <th>4</th>\n",
              "      <td>*** BOX (GLASS) D</td>\n",
              "      <td>4</td>\n",
              "      <td>40</td>\n",
              "    </tr>\n",
              "    <tr>\n",
              "      <th>5</th>\n",
              "      <td>*** NEW American Graffiti (UNI) D</td>\n",
              "      <td>5</td>\n",
              "      <td>40</td>\n",
              "    </tr>\n",
              "    <tr>\n",
              "      <th>6</th>\n",
              "      <td>*** shot on goal (UNI) D</td>\n",
              "      <td>6</td>\n",
              "      <td>40</td>\n",
              "    </tr>\n",
              "    <tr>\n",
              "      <th>7</th>\n",
              "      <td>*** shot on goal-2 (UNI) D</td>\n",
              "      <td>7</td>\n",
              "      <td>40</td>\n",
              "    </tr>\n",
              "    <tr>\n",
              "      <th>8</th>\n",
              "      <td>*** Tea with Mussolini D</td>\n",
              "      <td>8</td>\n",
              "      <td>40</td>\n",
              "    </tr>\n",
              "    <tr>\n",
              "      <th>9</th>\n",
              "      <td>*** SHUGARLENDSKY EXPRESS (UNI) D</td>\n",
              "      <td>9</td>\n",
              "      <td>40</td>\n",
              "    </tr>\n",
              "    <tr>\n",
              "      <th>10</th>\n",
              "      <td>* BEYOND DEATH D</td>\n",
              "      <td>10</td>\n",
              "      <td>40</td>\n",
              "    </tr>\n",
              "    <tr>\n",
              "      <th>11</th>\n",
              "      <td>* LINE SERM D</td>\n",
              "      <td>11</td>\n",
              "      <td>40</td>\n",
              "    </tr>\n",
              "    <tr>\n",
              "      <th>12</th>\n",
              "      <td>* Micah Jumanji Amores Perros</td>\n",
              "      <td>12</td>\n",
              "      <td>55</td>\n",
              "    </tr>\n",
              "    <tr>\n",
              "      <th>13</th>\n",
              "      <td>* SAVING EMILY D</td>\n",
              "      <td>13</td>\n",
              "      <td>40</td>\n",
              "    </tr>\n",
              "    <tr>\n",
              "      <th>14</th>\n",
              "      <td>* Nutty Professor / MAGIC / D</td>\n",
              "      <td>14</td>\n",
              "      <td>40</td>\n",
              "    </tr>\n",
              "    <tr>\n",
              "      <th>15</th>\n",
              "      <td>// Crank: One against all (Region)</td>\n",
              "      <td>15</td>\n",
              "      <td>40</td>\n",
              "    </tr>\n",
              "    <tr>\n",
              "      <th>16</th>\n",
              "      <td>// OF THE S.Bodrov (the regional)</td>\n",
              "      <td>16</td>\n",
              "      <td>40</td>\n",
              "    </tr>\n",
              "    <tr>\n",
              "      <th>17</th>\n",
              "      <td>// Untraceable (Region)</td>\n",
              "      <td>17</td>\n",
              "      <td>40</td>\n",
              "    </tr>\n",
              "    <tr>\n",
              "      <th>18</th>\n",
              "      <td>/ BOMB FOR BRIDE / 2DVD / D</td>\n",
              "      <td>18</td>\n",
              "      <td>40</td>\n",
              "    </tr>\n",
              "    <tr>\n",
              "      <th>19</th>\n",
              "      <td>/ GOLDEN COLLECTION m / p-72</td>\n",
              "      <td>19</td>\n",
              "      <td>40</td>\n",
              "    </tr>\n",
              "  </tbody>\n",
              "</table>\n",
              "</div>"
            ],
            "text/plain": [
              "                                            item_name  item_id  \\\n",
              "0                        ! POWER IN glamor (PLAST.) D        0   \n",
              "1   ! ABBYY FineReader 12 Professional Edition Ful...        1   \n",
              "2                            *** In the glory (UNV) D        2   \n",
              "3                              *** BLUE WAVE (Univ) D        3   \n",
              "4                                   *** BOX (GLASS) D        4   \n",
              "5                   *** NEW American Graffiti (UNI) D        5   \n",
              "6                            *** shot on goal (UNI) D        6   \n",
              "7                          *** shot on goal-2 (UNI) D        7   \n",
              "8                            *** Tea with Mussolini D        8   \n",
              "9                   *** SHUGARLENDSKY EXPRESS (UNI) D        9   \n",
              "10                                   * BEYOND DEATH D       10   \n",
              "11                                      * LINE SERM D       11   \n",
              "12                      * Micah Jumanji Amores Perros       12   \n",
              "13                                   * SAVING EMILY D       13   \n",
              "14                      * Nutty Professor / MAGIC / D       14   \n",
              "15                 // Crank: One against all (Region)       15   \n",
              "16                  // OF THE S.Bodrov (the regional)       16   \n",
              "17                            // Untraceable (Region)       17   \n",
              "18                        / BOMB FOR BRIDE / 2DVD / D       18   \n",
              "19                       / GOLDEN COLLECTION m / p-72       19   \n",
              "\n",
              "    item_category_id  \n",
              "0                 40  \n",
              "1                 76  \n",
              "2                 40  \n",
              "3                 40  \n",
              "4                 40  \n",
              "5                 40  \n",
              "6                 40  \n",
              "7                 40  \n",
              "8                 40  \n",
              "9                 40  \n",
              "10                40  \n",
              "11                40  \n",
              "12                55  \n",
              "13                40  \n",
              "14                40  \n",
              "15                40  \n",
              "16                40  \n",
              "17                40  \n",
              "18                40  \n",
              "19                40  "
            ]
          },
          "metadata": {
            "tags": []
          },
          "execution_count": 11
        }
      ]
    },
    {
      "cell_type": "code",
      "metadata": {
        "id": "D5681dP1zzn4",
        "colab_type": "code",
        "colab": {},
        "outputId": "bf238f33-47c3-4310-c781-c33e3251d5e6"
      },
      "source": [
        "meta_item = items_en['item_name'].str.split(' ').map(lambda x: x[0])\n",
        "meta_item.drop_duplicates().head()"
      ],
      "execution_count": null,
      "outputs": [
        {
          "output_type": "execute_result",
          "data": {
            "text/plain": [
              "0       !\n",
              "2     ***\n",
              "10      *\n",
              "15     //\n",
              "18      /\n",
              "Name: item_name, dtype: object"
            ]
          },
          "metadata": {
            "tags": []
          },
          "execution_count": 12
        }
      ]
    },
    {
      "cell_type": "code",
      "metadata": {
        "id": "Djc11Jqyzzn_",
        "colab_type": "code",
        "colab": {}
      },
      "source": [
        "# Russian version, replace and search\n",
        "def extract(x):\n",
        "    m = re.match(r'^([!\\*\\/]+).*$', x)\n",
        "    if m:\n",
        "        return m.group(1)\n",
        "    else:\n",
        "        return ''\n",
        "\n",
        "def clean(x):\n",
        "    m = re.match(r'^[!\\*\\/]+(.*$)', x)\n",
        "    if m:\n",
        "        return m.group(1)\n",
        "    else:\n",
        "        return x\n",
        "\n",
        "    \n",
        "meta_item = items['item_name'].map(extract)\n",
        "items['meta_item'] = meta_item\n",
        "items['item_name'] = items['item_name'].map(clean)"
      ],
      "execution_count": null,
      "outputs": []
    },
    {
      "cell_type": "code",
      "metadata": {
        "id": "wUH8IpCrm6bJ",
        "colab_type": "code",
        "colab": {}
      },
      "source": [
        "items['item_name'].map(extract)"
      ],
      "execution_count": null,
      "outputs": []
    },
    {
      "cell_type": "code",
      "metadata": {
        "id": "S46UvnTuzzoG",
        "colab_type": "code",
        "colab": {},
        "outputId": "d7549565-4ba2-4f52-fb9d-b29ac5727950"
      },
      "source": [
        "items"
      ],
      "execution_count": null,
      "outputs": [
        {
          "output_type": "execute_result",
          "data": {
            "text/html": [
              "<div>\n",
              "<style scoped>\n",
              "    .dataframe tbody tr th:only-of-type {\n",
              "        vertical-align: middle;\n",
              "    }\n",
              "\n",
              "    .dataframe tbody tr th {\n",
              "        vertical-align: top;\n",
              "    }\n",
              "\n",
              "    .dataframe thead th {\n",
              "        text-align: right;\n",
              "    }\n",
              "</style>\n",
              "<table border=\"1\" class=\"dataframe\">\n",
              "  <thead>\n",
              "    <tr style=\"text-align: right;\">\n",
              "      <th></th>\n",
              "      <th>item_name</th>\n",
              "      <th>item_id</th>\n",
              "      <th>item_category_id</th>\n",
              "      <th>meta_item</th>\n",
              "    </tr>\n",
              "  </thead>\n",
              "  <tbody>\n",
              "    <tr>\n",
              "      <th>0</th>\n",
              "      <td>ВО ВЛАСТИ НАВАЖДЕНИЯ (ПЛАСТ.)         D</td>\n",
              "      <td>0</td>\n",
              "      <td>40</td>\n",
              "      <td>!</td>\n",
              "    </tr>\n",
              "    <tr>\n",
              "      <th>1</th>\n",
              "      <td>ABBYY FineReader 12 Professional Edition Full ...</td>\n",
              "      <td>1</td>\n",
              "      <td>76</td>\n",
              "      <td>!</td>\n",
              "    </tr>\n",
              "    <tr>\n",
              "      <th>2</th>\n",
              "      <td>В ЛУЧАХ СЛАВЫ   (UNV)                    D</td>\n",
              "      <td>2</td>\n",
              "      <td>40</td>\n",
              "      <td>***</td>\n",
              "    </tr>\n",
              "    <tr>\n",
              "      <th>3</th>\n",
              "      <td>ГОЛУБАЯ ВОЛНА  (Univ)                      D</td>\n",
              "      <td>3</td>\n",
              "      <td>40</td>\n",
              "      <td>***</td>\n",
              "    </tr>\n",
              "    <tr>\n",
              "      <th>4</th>\n",
              "      <td>КОРОБКА (СТЕКЛО)                       D</td>\n",
              "      <td>4</td>\n",
              "      <td>40</td>\n",
              "      <td>***</td>\n",
              "    </tr>\n",
              "    <tr>\n",
              "      <th>...</th>\n",
              "      <td>...</td>\n",
              "      <td>...</td>\n",
              "      <td>...</td>\n",
              "      <td>...</td>\n",
              "    </tr>\n",
              "    <tr>\n",
              "      <th>22165</th>\n",
              "      <td>Ядерный титбит 2 [PC, Цифровая версия]</td>\n",
              "      <td>22165</td>\n",
              "      <td>31</td>\n",
              "      <td></td>\n",
              "    </tr>\n",
              "    <tr>\n",
              "      <th>22166</th>\n",
              "      <td>Язык запросов 1С:Предприятия  [Цифровая версия]</td>\n",
              "      <td>22166</td>\n",
              "      <td>54</td>\n",
              "      <td></td>\n",
              "    </tr>\n",
              "    <tr>\n",
              "      <th>22167</th>\n",
              "      <td>Язык запросов 1С:Предприятия 8 (+CD). Хрустале...</td>\n",
              "      <td>22167</td>\n",
              "      <td>49</td>\n",
              "      <td></td>\n",
              "    </tr>\n",
              "    <tr>\n",
              "      <th>22168</th>\n",
              "      <td>Яйцо для Little Inu</td>\n",
              "      <td>22168</td>\n",
              "      <td>62</td>\n",
              "      <td></td>\n",
              "    </tr>\n",
              "    <tr>\n",
              "      <th>22169</th>\n",
              "      <td>Яйцо дракона (Игра престолов)</td>\n",
              "      <td>22169</td>\n",
              "      <td>69</td>\n",
              "      <td></td>\n",
              "    </tr>\n",
              "  </tbody>\n",
              "</table>\n",
              "<p>22170 rows × 4 columns</p>\n",
              "</div>"
            ],
            "text/plain": [
              "                                               item_name  item_id  \\\n",
              "0                ВО ВЛАСТИ НАВАЖДЕНИЯ (ПЛАСТ.)         D        0   \n",
              "1      ABBYY FineReader 12 Professional Edition Full ...        1   \n",
              "2             В ЛУЧАХ СЛАВЫ   (UNV)                    D        2   \n",
              "3           ГОЛУБАЯ ВОЛНА  (Univ)                      D        3   \n",
              "4               КОРОБКА (СТЕКЛО)                       D        4   \n",
              "...                                                  ...      ...   \n",
              "22165             Ядерный титбит 2 [PC, Цифровая версия]    22165   \n",
              "22166    Язык запросов 1С:Предприятия  [Цифровая версия]    22166   \n",
              "22167  Язык запросов 1С:Предприятия 8 (+CD). Хрустале...    22167   \n",
              "22168                                Яйцо для Little Inu    22168   \n",
              "22169                      Яйцо дракона (Игра престолов)    22169   \n",
              "\n",
              "       item_category_id meta_item  \n",
              "0                    40         !  \n",
              "1                    76         !  \n",
              "2                    40       ***  \n",
              "3                    40       ***  \n",
              "4                    40       ***  \n",
              "...                 ...       ...  \n",
              "22165                31            \n",
              "22166                54            \n",
              "22167                49            \n",
              "22168                62            \n",
              "22169                69            \n",
              "\n",
              "[22170 rows x 4 columns]"
            ]
          },
          "metadata": {
            "tags": []
          },
          "execution_count": 14
        }
      ]
    },
    {
      "cell_type": "code",
      "metadata": {
        "id": "k0Ukg-xszzoP",
        "colab_type": "code",
        "colab": {},
        "outputId": "b24b4cd7-b63b-414c-d676-e0f1ff1a136c"
      },
      "source": [
        "item_categories_en.describe().T"
      ],
      "execution_count": null,
      "outputs": [
        {
          "output_type": "execute_result",
          "data": {
            "text/html": [
              "<div>\n",
              "<style scoped>\n",
              "    .dataframe tbody tr th:only-of-type {\n",
              "        vertical-align: middle;\n",
              "    }\n",
              "\n",
              "    .dataframe tbody tr th {\n",
              "        vertical-align: top;\n",
              "    }\n",
              "\n",
              "    .dataframe thead th {\n",
              "        text-align: right;\n",
              "    }\n",
              "</style>\n",
              "<table border=\"1\" class=\"dataframe\">\n",
              "  <thead>\n",
              "    <tr style=\"text-align: right;\">\n",
              "      <th></th>\n",
              "      <th>count</th>\n",
              "      <th>mean</th>\n",
              "      <th>std</th>\n",
              "      <th>min</th>\n",
              "      <th>25%</th>\n",
              "      <th>50%</th>\n",
              "      <th>75%</th>\n",
              "      <th>max</th>\n",
              "    </tr>\n",
              "  </thead>\n",
              "  <tbody>\n",
              "    <tr>\n",
              "      <th>item_category_id</th>\n",
              "      <td>84.0</td>\n",
              "      <td>41.5</td>\n",
              "      <td>24.392622</td>\n",
              "      <td>0.0</td>\n",
              "      <td>20.75</td>\n",
              "      <td>41.5</td>\n",
              "      <td>62.25</td>\n",
              "      <td>83.0</td>\n",
              "    </tr>\n",
              "  </tbody>\n",
              "</table>\n",
              "</div>"
            ],
            "text/plain": [
              "                  count  mean        std  min    25%   50%    75%   max\n",
              "item_category_id   84.0  41.5  24.392622  0.0  20.75  41.5  62.25  83.0"
            ]
          },
          "metadata": {
            "tags": []
          },
          "execution_count": 15
        }
      ]
    },
    {
      "cell_type": "code",
      "metadata": {
        "id": "ewFk4P3JzzoW",
        "colab_type": "code",
        "colab": {},
        "outputId": "5ef83220-31e2-4bfa-e7c3-ce0697188d15"
      },
      "source": [
        "item_categories_en.head()"
      ],
      "execution_count": null,
      "outputs": [
        {
          "output_type": "execute_result",
          "data": {
            "text/html": [
              "<div>\n",
              "<style scoped>\n",
              "    .dataframe tbody tr th:only-of-type {\n",
              "        vertical-align: middle;\n",
              "    }\n",
              "\n",
              "    .dataframe tbody tr th {\n",
              "        vertical-align: top;\n",
              "    }\n",
              "\n",
              "    .dataframe thead th {\n",
              "        text-align: right;\n",
              "    }\n",
              "</style>\n",
              "<table border=\"1\" class=\"dataframe\">\n",
              "  <thead>\n",
              "    <tr style=\"text-align: right;\">\n",
              "      <th></th>\n",
              "      <th>item_category_name</th>\n",
              "      <th>item_category_id</th>\n",
              "    </tr>\n",
              "  </thead>\n",
              "  <tbody>\n",
              "    <tr>\n",
              "      <th>0</th>\n",
              "      <td>PC - Headsets / Headphones</td>\n",
              "      <td>0</td>\n",
              "    </tr>\n",
              "    <tr>\n",
              "      <th>1</th>\n",
              "      <td>Accessories - PS2</td>\n",
              "      <td>1</td>\n",
              "    </tr>\n",
              "    <tr>\n",
              "      <th>2</th>\n",
              "      <td>Accessories - PS3</td>\n",
              "      <td>2</td>\n",
              "    </tr>\n",
              "    <tr>\n",
              "      <th>3</th>\n",
              "      <td>Accessories - PS4</td>\n",
              "      <td>3</td>\n",
              "    </tr>\n",
              "    <tr>\n",
              "      <th>4</th>\n",
              "      <td>Accessories - PSP</td>\n",
              "      <td>4</td>\n",
              "    </tr>\n",
              "  </tbody>\n",
              "</table>\n",
              "</div>"
            ],
            "text/plain": [
              "           item_category_name  item_category_id\n",
              "0  PC - Headsets / Headphones                 0\n",
              "1           Accessories - PS2                 1\n",
              "2           Accessories - PS3                 2\n",
              "3           Accessories - PS4                 3\n",
              "4           Accessories - PSP                 4"
            ]
          },
          "metadata": {
            "tags": []
          },
          "execution_count": 16
        }
      ]
    },
    {
      "cell_type": "markdown",
      "metadata": {
        "id": "j2nupD2vzzof",
        "colab_type": "text"
      },
      "source": [
        "Clearly we can get more information about the item splitting the data in item_category_name:"
      ]
    },
    {
      "cell_type": "code",
      "metadata": {
        "id": "aIDE0lKkzzoh",
        "colab_type": "code",
        "colab": {},
        "outputId": "f3ff6bd1-e9cb-4f62-bf00-dd8380845aa6"
      },
      "source": [
        "item_categories_en['meta'] = item_categories_en['item_category_name'].str.split(' ').map(lambda x: x[0])\n",
        "item_categories_en.meta.drop_duplicates().head()"
      ],
      "execution_count": null,
      "outputs": [
        {
          "output_type": "execute_result",
          "data": {
            "text/plain": [
              "0              PC\n",
              "1     Accessories\n",
              "8         Tickets\n",
              "9        Delivery\n",
              "10           Game\n",
              "Name: meta, dtype: object"
            ]
          },
          "metadata": {
            "tags": []
          },
          "execution_count": 17
        }
      ]
    },
    {
      "cell_type": "code",
      "metadata": {
        "id": "2iGSw8ZRzzon",
        "colab_type": "code",
        "colab": {},
        "outputId": "708c0930-c2a0-45eb-b08f-e3f9839757ba"
      },
      "source": [
        "# Russian version\n",
        "item_categories['meta_category'] = item_categories['item_category_name'].str.split(' ').map(lambda x: x[0])\n",
        "item_categories.meta_category.drop_duplicates().head()"
      ],
      "execution_count": null,
      "outputs": [
        {
          "output_type": "execute_result",
          "data": {
            "text/plain": [
              "0             PC\n",
              "1     Аксессуары\n",
              "8         Билеты\n",
              "9       Доставка\n",
              "10       Игровые\n",
              "Name: meta_category, dtype: object"
            ]
          },
          "metadata": {
            "tags": []
          },
          "execution_count": 18
        }
      ]
    },
    {
      "cell_type": "code",
      "metadata": {
        "id": "Q9KRG3uqzzow",
        "colab_type": "code",
        "colab": {},
        "outputId": "4af9c779-f1c6-4a39-88e9-0c7459e674ce"
      },
      "source": [
        "item_categories.head()"
      ],
      "execution_count": null,
      "outputs": [
        {
          "output_type": "execute_result",
          "data": {
            "text/html": [
              "<div>\n",
              "<style scoped>\n",
              "    .dataframe tbody tr th:only-of-type {\n",
              "        vertical-align: middle;\n",
              "    }\n",
              "\n",
              "    .dataframe tbody tr th {\n",
              "        vertical-align: top;\n",
              "    }\n",
              "\n",
              "    .dataframe thead th {\n",
              "        text-align: right;\n",
              "    }\n",
              "</style>\n",
              "<table border=\"1\" class=\"dataframe\">\n",
              "  <thead>\n",
              "    <tr style=\"text-align: right;\">\n",
              "      <th></th>\n",
              "      <th>item_category_name</th>\n",
              "      <th>item_category_id</th>\n",
              "      <th>meta_category</th>\n",
              "    </tr>\n",
              "  </thead>\n",
              "  <tbody>\n",
              "    <tr>\n",
              "      <th>0</th>\n",
              "      <td>PC - Гарнитуры/Наушники</td>\n",
              "      <td>0</td>\n",
              "      <td>PC</td>\n",
              "    </tr>\n",
              "    <tr>\n",
              "      <th>1</th>\n",
              "      <td>Аксессуары - PS2</td>\n",
              "      <td>1</td>\n",
              "      <td>Аксессуары</td>\n",
              "    </tr>\n",
              "    <tr>\n",
              "      <th>2</th>\n",
              "      <td>Аксессуары - PS3</td>\n",
              "      <td>2</td>\n",
              "      <td>Аксессуары</td>\n",
              "    </tr>\n",
              "    <tr>\n",
              "      <th>3</th>\n",
              "      <td>Аксессуары - PS4</td>\n",
              "      <td>3</td>\n",
              "      <td>Аксессуары</td>\n",
              "    </tr>\n",
              "    <tr>\n",
              "      <th>4</th>\n",
              "      <td>Аксессуары - PSP</td>\n",
              "      <td>4</td>\n",
              "      <td>Аксессуары</td>\n",
              "    </tr>\n",
              "  </tbody>\n",
              "</table>\n",
              "</div>"
            ],
            "text/plain": [
              "        item_category_name  item_category_id meta_category\n",
              "0  PC - Гарнитуры/Наушники                 0            PC\n",
              "1         Аксессуары - PS2                 1    Аксессуары\n",
              "2         Аксессуары - PS3                 2    Аксессуары\n",
              "3         Аксессуары - PS4                 3    Аксессуары\n",
              "4         Аксессуары - PSP                 4    Аксессуары"
            ]
          },
          "metadata": {
            "tags": []
          },
          "execution_count": 19
        }
      ]
    },
    {
      "cell_type": "markdown",
      "metadata": {
        "id": "45jgwnV0zzo2",
        "colab_type": "text"
      },
      "source": [
        "## shops"
      ]
    },
    {
      "cell_type": "code",
      "metadata": {
        "id": "N51g3UwAzzo3",
        "colab_type": "code",
        "colab": {},
        "outputId": "48643c16-4c85-40de-fb31-4f2e614c9783"
      },
      "source": [
        "shops.describe().T"
      ],
      "execution_count": null,
      "outputs": [
        {
          "output_type": "execute_result",
          "data": {
            "text/html": [
              "<div>\n",
              "<style scoped>\n",
              "    .dataframe tbody tr th:only-of-type {\n",
              "        vertical-align: middle;\n",
              "    }\n",
              "\n",
              "    .dataframe tbody tr th {\n",
              "        vertical-align: top;\n",
              "    }\n",
              "\n",
              "    .dataframe thead th {\n",
              "        text-align: right;\n",
              "    }\n",
              "</style>\n",
              "<table border=\"1\" class=\"dataframe\">\n",
              "  <thead>\n",
              "    <tr style=\"text-align: right;\">\n",
              "      <th></th>\n",
              "      <th>count</th>\n",
              "      <th>mean</th>\n",
              "      <th>std</th>\n",
              "      <th>min</th>\n",
              "      <th>25%</th>\n",
              "      <th>50%</th>\n",
              "      <th>75%</th>\n",
              "      <th>max</th>\n",
              "    </tr>\n",
              "  </thead>\n",
              "  <tbody>\n",
              "    <tr>\n",
              "      <th>shop_id</th>\n",
              "      <td>60.0</td>\n",
              "      <td>29.5</td>\n",
              "      <td>17.464249</td>\n",
              "      <td>0.0</td>\n",
              "      <td>14.75</td>\n",
              "      <td>29.5</td>\n",
              "      <td>44.25</td>\n",
              "      <td>59.0</td>\n",
              "    </tr>\n",
              "  </tbody>\n",
              "</table>\n",
              "</div>"
            ],
            "text/plain": [
              "         count  mean        std  min    25%   50%    75%   max\n",
              "shop_id   60.0  29.5  17.464249  0.0  14.75  29.5  44.25  59.0"
            ]
          },
          "metadata": {
            "tags": []
          },
          "execution_count": 20
        }
      ]
    },
    {
      "cell_type": "code",
      "metadata": {
        "id": "qQO0Au--zzo9",
        "colab_type": "code",
        "colab": {},
        "outputId": "49048f93-f516-41cd-eeb5-e5f133dff4f7"
      },
      "source": [
        "shops_en.head(20)"
      ],
      "execution_count": null,
      "outputs": [
        {
          "output_type": "execute_result",
          "data": {
            "text/html": [
              "<div>\n",
              "<style scoped>\n",
              "    .dataframe tbody tr th:only-of-type {\n",
              "        vertical-align: middle;\n",
              "    }\n",
              "\n",
              "    .dataframe tbody tr th {\n",
              "        vertical-align: top;\n",
              "    }\n",
              "\n",
              "    .dataframe thead th {\n",
              "        text-align: right;\n",
              "    }\n",
              "</style>\n",
              "<table border=\"1\" class=\"dataframe\">\n",
              "  <thead>\n",
              "    <tr style=\"text-align: right;\">\n",
              "      <th></th>\n",
              "      <th>shop_name</th>\n",
              "      <th>shop_id</th>\n",
              "    </tr>\n",
              "  </thead>\n",
              "  <tbody>\n",
              "    <tr>\n",
              "      <th>0</th>\n",
              "      <td>! Yakutsk Ordzhonikidze, 56 Franc</td>\n",
              "      <td>0</td>\n",
              "    </tr>\n",
              "    <tr>\n",
              "      <th>1</th>\n",
              "      <td>! Yakutsk TC \"Central\" Franc</td>\n",
              "      <td>1</td>\n",
              "    </tr>\n",
              "    <tr>\n",
              "      <th>2</th>\n",
              "      <td>Adygea TC \"Mega\"</td>\n",
              "      <td>2</td>\n",
              "    </tr>\n",
              "    <tr>\n",
              "      <th>3</th>\n",
              "      <td>Balashikha TRC \"October-Kinomir\"</td>\n",
              "      <td>3</td>\n",
              "    </tr>\n",
              "    <tr>\n",
              "      <th>4</th>\n",
              "      <td>Volzhsky mall \"Volga Mall\"</td>\n",
              "      <td>4</td>\n",
              "    </tr>\n",
              "    <tr>\n",
              "      <th>5</th>\n",
              "      <td>Vologda SEC \"Marmalade\"</td>\n",
              "      <td>5</td>\n",
              "    </tr>\n",
              "    <tr>\n",
              "      <th>6</th>\n",
              "      <td>Voronezh (Plekhanovskaya, 13)</td>\n",
              "      <td>6</td>\n",
              "    </tr>\n",
              "    <tr>\n",
              "      <th>7</th>\n",
              "      <td>Voronezh TRC \"Maksimir\"</td>\n",
              "      <td>7</td>\n",
              "    </tr>\n",
              "    <tr>\n",
              "      <th>8</th>\n",
              "      <td>Voronezh TRC City-Park \"City\"</td>\n",
              "      <td>8</td>\n",
              "    </tr>\n",
              "    <tr>\n",
              "      <th>9</th>\n",
              "      <td>Itinerant trade</td>\n",
              "      <td>9</td>\n",
              "    </tr>\n",
              "    <tr>\n",
              "      <th>10</th>\n",
              "      <td>Zhukovsky Street. Chkalov 39m?</td>\n",
              "      <td>10</td>\n",
              "    </tr>\n",
              "    <tr>\n",
              "      <th>11</th>\n",
              "      <td>Zhukovsky Street. Chkalov 39m²</td>\n",
              "      <td>11</td>\n",
              "    </tr>\n",
              "    <tr>\n",
              "      <th>12</th>\n",
              "      <td>Shop Online Emergencies</td>\n",
              "      <td>12</td>\n",
              "    </tr>\n",
              "    <tr>\n",
              "      <th>13</th>\n",
              "      <td>Kazan shopping center \"Bahetle\"</td>\n",
              "      <td>13</td>\n",
              "    </tr>\n",
              "    <tr>\n",
              "      <th>14</th>\n",
              "      <td>Kazan shopping mall of \"Parkhouse\" II of</td>\n",
              "      <td>14</td>\n",
              "    </tr>\n",
              "    <tr>\n",
              "      <th>15</th>\n",
              "      <td>Kaluga SEC \"XXI Century\"</td>\n",
              "      <td>15</td>\n",
              "    </tr>\n",
              "    <tr>\n",
              "      <th>16</th>\n",
              "      <td>Kolomna TC \"Rio\"</td>\n",
              "      <td>16</td>\n",
              "    </tr>\n",
              "    <tr>\n",
              "      <th>17</th>\n",
              "      <td>Krasnoyarsk TC \"Vzletka Plaza\"</td>\n",
              "      <td>17</td>\n",
              "    </tr>\n",
              "    <tr>\n",
              "      <th>18</th>\n",
              "      <td>Krasnoyarsk SC \"June\"</td>\n",
              "      <td>18</td>\n",
              "    </tr>\n",
              "    <tr>\n",
              "      <th>19</th>\n",
              "      <td>Kursk TC \"Pushkin\"</td>\n",
              "      <td>19</td>\n",
              "    </tr>\n",
              "  </tbody>\n",
              "</table>\n",
              "</div>"
            ],
            "text/plain": [
              "                                   shop_name  shop_id\n",
              "0          ! Yakutsk Ordzhonikidze, 56 Franc        0\n",
              "1               ! Yakutsk TC \"Central\" Franc        1\n",
              "2                           Adygea TC \"Mega\"        2\n",
              "3           Balashikha TRC \"October-Kinomir\"        3\n",
              "4                 Volzhsky mall \"Volga Mall\"        4\n",
              "5                    Vologda SEC \"Marmalade\"        5\n",
              "6              Voronezh (Plekhanovskaya, 13)        6\n",
              "7                    Voronezh TRC \"Maksimir\"        7\n",
              "8              Voronezh TRC City-Park \"City\"        8\n",
              "9                            Itinerant trade        9\n",
              "10            Zhukovsky Street. Chkalov 39m?       10\n",
              "11            Zhukovsky Street. Chkalov 39m²       11\n",
              "12                   Shop Online Emergencies       12\n",
              "13           Kazan shopping center \"Bahetle\"       13\n",
              "14  Kazan shopping mall of \"Parkhouse\" II of       14\n",
              "15                  Kaluga SEC \"XXI Century\"       15\n",
              "16                          Kolomna TC \"Rio\"       16\n",
              "17            Krasnoyarsk TC \"Vzletka Plaza\"       17\n",
              "18                     Krasnoyarsk SC \"June\"       18\n",
              "19                        Kursk TC \"Pushkin\"       19"
            ]
          },
          "metadata": {
            "tags": []
          },
          "execution_count": 21
        }
      ]
    },
    {
      "cell_type": "markdown",
      "metadata": {
        "id": "4l3EySQ1zzpD",
        "colab_type": "text"
      },
      "source": [
        "We can see that first characters are cities, but there are cities with '!', so it is possible to obtain city and and indicator."
      ]
    },
    {
      "cell_type": "code",
      "metadata": {
        "id": "YYltAcptzzpE",
        "colab_type": "code",
        "colab": {},
        "outputId": "1b4db748-6a1f-4b16-9a67-4274312167e8"
      },
      "source": [
        "shops_en.shop_name.str[0].drop_duplicates()"
      ],
      "execution_count": null,
      "outputs": [
        {
          "output_type": "execute_result",
          "data": {
            "text/plain": [
              "0     !\n",
              "2     A\n",
              "3     B\n",
              "4     V\n",
              "9     I\n",
              "10    Z\n",
              "12    S\n",
              "13    K\n",
              "20    M\n",
              "34    N\n",
              "38    O\n",
              "39    R\n",
              "48    T\n",
              "52    U\n",
              "55    D\n",
              "56    C\n",
              "57    Y\n",
              "Name: shop_name, dtype: object"
            ]
          },
          "metadata": {
            "tags": []
          },
          "execution_count": 22
        }
      ]
    },
    {
      "cell_type": "code",
      "metadata": {
        "id": "Fv59k4qUzzpO",
        "colab_type": "code",
        "colab": {}
      },
      "source": [
        "# Russian version\n",
        "shops['city'] = shops['shop_name'].str.split(' ').map(lambda x: x[0])\n",
        "shops['flag_city'] = (shops['city'].str[0] == '!')*1\n",
        "shops['city'] = shops['city'].str.replace('!','')"
      ],
      "execution_count": null,
      "outputs": []
    },
    {
      "cell_type": "code",
      "metadata": {
        "id": "hsr7jP81zzpW",
        "colab_type": "code",
        "colab": {},
        "outputId": "8d2de475-36a4-4066-a09f-d35b050c279d"
      },
      "source": [
        "shops.head()"
      ],
      "execution_count": null,
      "outputs": [
        {
          "output_type": "execute_result",
          "data": {
            "text/html": [
              "<div>\n",
              "<style scoped>\n",
              "    .dataframe tbody tr th:only-of-type {\n",
              "        vertical-align: middle;\n",
              "    }\n",
              "\n",
              "    .dataframe tbody tr th {\n",
              "        vertical-align: top;\n",
              "    }\n",
              "\n",
              "    .dataframe thead th {\n",
              "        text-align: right;\n",
              "    }\n",
              "</style>\n",
              "<table border=\"1\" class=\"dataframe\">\n",
              "  <thead>\n",
              "    <tr style=\"text-align: right;\">\n",
              "      <th></th>\n",
              "      <th>shop_name</th>\n",
              "      <th>shop_id</th>\n",
              "      <th>city</th>\n",
              "      <th>flag_city</th>\n",
              "    </tr>\n",
              "  </thead>\n",
              "  <tbody>\n",
              "    <tr>\n",
              "      <th>0</th>\n",
              "      <td>!Якутск Орджоникидзе, 56 фран</td>\n",
              "      <td>0</td>\n",
              "      <td>Якутск</td>\n",
              "      <td>1</td>\n",
              "    </tr>\n",
              "    <tr>\n",
              "      <th>1</th>\n",
              "      <td>!Якутск ТЦ \"Центральный\" фран</td>\n",
              "      <td>1</td>\n",
              "      <td>Якутск</td>\n",
              "      <td>1</td>\n",
              "    </tr>\n",
              "    <tr>\n",
              "      <th>2</th>\n",
              "      <td>Адыгея ТЦ \"Мега\"</td>\n",
              "      <td>2</td>\n",
              "      <td>Адыгея</td>\n",
              "      <td>0</td>\n",
              "    </tr>\n",
              "    <tr>\n",
              "      <th>3</th>\n",
              "      <td>Балашиха ТРК \"Октябрь-Киномир\"</td>\n",
              "      <td>3</td>\n",
              "      <td>Балашиха</td>\n",
              "      <td>0</td>\n",
              "    </tr>\n",
              "    <tr>\n",
              "      <th>4</th>\n",
              "      <td>Волжский ТЦ \"Волга Молл\"</td>\n",
              "      <td>4</td>\n",
              "      <td>Волжский</td>\n",
              "      <td>0</td>\n",
              "    </tr>\n",
              "  </tbody>\n",
              "</table>\n",
              "</div>"
            ],
            "text/plain": [
              "                        shop_name  shop_id      city  flag_city\n",
              "0   !Якутск Орджоникидзе, 56 фран        0    Якутск          1\n",
              "1   !Якутск ТЦ \"Центральный\" фран        1    Якутск          1\n",
              "2                Адыгея ТЦ \"Мега\"        2    Адыгея          0\n",
              "3  Балашиха ТРК \"Октябрь-Киномир\"        3  Балашиха          0\n",
              "4        Волжский ТЦ \"Волга Молл\"        4  Волжский          0"
            ]
          },
          "metadata": {
            "tags": []
          },
          "execution_count": 24
        }
      ]
    },
    {
      "cell_type": "code",
      "metadata": {
        "id": "L876Rpvwzzpf",
        "colab_type": "code",
        "colab": {}
      },
      "source": [
        "# Save new features\n",
        "items.to_pickle(os.path.join(DATA_FOLDER, 'items.pkl'))\n",
        "item_categories.to_pickle(os.path.join(DATA_FOLDER, 'item_categories.pkl'))\n",
        "shops.to_pickle(os.path.join(DATA_FOLDER, 'shops.pkl'))                "
      ],
      "execution_count": null,
      "outputs": []
    }
  ]
}
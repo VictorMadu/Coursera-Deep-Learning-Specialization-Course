{
  "nbformat": 4,
  "nbformat_minor": 0,
  "metadata": {
    "colab": {
      "name": "Data_leakages (1).ipynb",
      "provenance": [],
      "include_colab_link": true
    },
    "kernelspec": {
      "display_name": "Python 3",
      "language": "python",
      "name": "python3"
    },
    "language_info": {
      "codemirror_mode": {
        "name": "ipython",
        "version": 3
      },
      "file_extension": ".py",
      "mimetype": "text/x-python",
      "name": "python",
      "nbconvert_exporter": "python",
      "pygments_lexer": "ipython3",
      "version": "3.7.7"
    }
  },
  "cells": [
    {
      "cell_type": "markdown",
      "metadata": {
        "id": "view-in-github",
        "colab_type": "text"
      },
      "source": [
        "<a href=\"https://colab.research.google.com/github/VictorMadu/Coursera-Deep-Learning-Specialization-Course/blob/master/How-to-win-a-data-science-competition/Week2/Data_leakages_(1).ipynb\" target=\"_parent\"><img src=\"https://colab.research.google.com/assets/colab-badge.svg\" alt=\"Open In Colab\"/></a>"
      ]
    },
    {
      "cell_type": "markdown",
      "metadata": {
        "colab_type": "text",
        "id": "y3sYfaLApXBy"
      },
      "source": [
        "Version 1.0.0"
      ]
    },
    {
      "cell_type": "markdown",
      "metadata": {
        "colab_type": "text",
        "id": "_WPRICxRpXBz"
      },
      "source": [
        "# Introduction"
      ]
    },
    {
      "cell_type": "markdown",
      "metadata": {
        "colab_type": "text",
        "id": "uN7083BopXB1"
      },
      "source": [
        "In this programming assignment we will illustrate a very severe data leakage, that can often be found in competitions, where the pairs of object should be scored, e.g. predict $1$ if two objects belong to the same class and $0$ otherwise. \n",
        "\n",
        "The data in this assignment is taken from a real competition, and the funniest thing is that *we will not use training set at all* and achieve almost 100% accuracy score! We will just exploit the leakage.\n",
        "\n",
        "Now go through the notebook and complete the assignment."
      ]
    },
    {
      "cell_type": "code",
      "metadata": {
        "colab_type": "code",
        "id": "zSoavSt-pXB2",
        "colab": {}
      },
      "source": [
        "import numpy as np\n",
        "import pandas as pd \n",
        "import scipy.sparse"
      ],
      "execution_count": null,
      "outputs": []
    },
    {
      "cell_type": "markdown",
      "metadata": {
        "colab_type": "text",
        "id": "A2xPYn7vpXB_"
      },
      "source": [
        "# Load the data"
      ]
    },
    {
      "cell_type": "markdown",
      "metadata": {
        "colab_type": "text",
        "id": "RzaeMlqNpXCA"
      },
      "source": [
        "Let's load the test data. Note, that we don't have any training data here, just test data. Moreover, *we will not even use any features* of test objects. All we need to solve this task is the file with the indices for the pairs, that we need to compare."
      ]
    },
    {
      "cell_type": "markdown",
      "metadata": {
        "colab_type": "text",
        "id": "5iIVCgALpXCB"
      },
      "source": [
        "Let's load the data with test indices."
      ]
    },
    {
      "cell_type": "code",
      "metadata": {
        "colab_type": "code",
        "id": "Flikq3J9piq8",
        "colab": {}
      },
      "source": [
        "! wget https://github.com/hse-aml/competitive-data-science/raw/master/readonly/data_leakages_data/test_pairs.csv -O test_pairs.csv"
      ],
      "execution_count": null,
      "outputs": []
    },
    {
      "cell_type": "code",
      "metadata": {
        "colab_type": "code",
        "id": "N0e879ohpXCC",
        "colab": {},
        "outputId": "f32054ce-c737-4a3d-8260-d38fe636876e"
      },
      "source": [
        "test = pd.read_csv('test_pairs.csv')\n",
        "test.head(10)"
      ],
      "execution_count": null,
      "outputs": [
        {
          "output_type": "execute_result",
          "data": {
            "text/html": [
              "<div>\n",
              "<style>\n",
              "    .dataframe thead tr:only-child th {\n",
              "        text-align: right;\n",
              "    }\n",
              "\n",
              "    .dataframe thead th {\n",
              "        text-align: left;\n",
              "    }\n",
              "\n",
              "    .dataframe tbody tr th {\n",
              "        vertical-align: top;\n",
              "    }\n",
              "</style>\n",
              "<table border=\"1\" class=\"dataframe\">\n",
              "  <thead>\n",
              "    <tr style=\"text-align: right;\">\n",
              "      <th></th>\n",
              "      <th>pairId</th>\n",
              "      <th>FirstId</th>\n",
              "      <th>SecondId</th>\n",
              "    </tr>\n",
              "  </thead>\n",
              "  <tbody>\n",
              "    <tr>\n",
              "      <th>0</th>\n",
              "      <td>0</td>\n",
              "      <td>1427</td>\n",
              "      <td>8053</td>\n",
              "    </tr>\n",
              "    <tr>\n",
              "      <th>1</th>\n",
              "      <td>1</td>\n",
              "      <td>17044</td>\n",
              "      <td>7681</td>\n",
              "    </tr>\n",
              "    <tr>\n",
              "      <th>2</th>\n",
              "      <td>2</td>\n",
              "      <td>19237</td>\n",
              "      <td>20966</td>\n",
              "    </tr>\n",
              "    <tr>\n",
              "      <th>3</th>\n",
              "      <td>3</td>\n",
              "      <td>8005</td>\n",
              "      <td>20765</td>\n",
              "    </tr>\n",
              "    <tr>\n",
              "      <th>4</th>\n",
              "      <td>4</td>\n",
              "      <td>16837</td>\n",
              "      <td>599</td>\n",
              "    </tr>\n",
              "    <tr>\n",
              "      <th>5</th>\n",
              "      <td>5</td>\n",
              "      <td>3657</td>\n",
              "      <td>12504</td>\n",
              "    </tr>\n",
              "    <tr>\n",
              "      <th>6</th>\n",
              "      <td>6</td>\n",
              "      <td>2836</td>\n",
              "      <td>7582</td>\n",
              "    </tr>\n",
              "    <tr>\n",
              "      <th>7</th>\n",
              "      <td>7</td>\n",
              "      <td>6136</td>\n",
              "      <td>6111</td>\n",
              "    </tr>\n",
              "    <tr>\n",
              "      <th>8</th>\n",
              "      <td>8</td>\n",
              "      <td>23295</td>\n",
              "      <td>9817</td>\n",
              "    </tr>\n",
              "    <tr>\n",
              "      <th>9</th>\n",
              "      <td>9</td>\n",
              "      <td>6621</td>\n",
              "      <td>7672</td>\n",
              "    </tr>\n",
              "  </tbody>\n",
              "</table>\n",
              "</div>"
            ],
            "text/plain": [
              "   pairId  FirstId  SecondId\n",
              "0       0     1427      8053\n",
              "1       1    17044      7681\n",
              "2       2    19237     20966\n",
              "3       3     8005     20765\n",
              "4       4    16837       599\n",
              "5       5     3657     12504\n",
              "6       6     2836      7582\n",
              "7       7     6136      6111\n",
              "8       8    23295      9817\n",
              "9       9     6621      7672"
            ]
          },
          "metadata": {
            "tags": []
          },
          "execution_count": 2
        }
      ]
    },
    {
      "cell_type": "markdown",
      "metadata": {
        "colab_type": "text",
        "id": "5pjGSjNApXCJ"
      },
      "source": [
        "For example, we can think that there is a test dataset of images, and each image is assigned a unique `Id` from $0$ to $N-1$ (N -- is the number of images). In the dataframe from above `FirstId` and `SecondId` point to these `Id`'s and define pairs, that we should compare: e.g. do both images in the pair belong to the same class or not. So, for example for the first row: if images with `Id=1427` and `Id=8053` belong to the same class, we should predict $1$, and $0$ otherwise. \n",
        "\n",
        "But in our case we don't really care about the images, and how exactly we compare the images (as long as comparator is binary).  "
      ]
    },
    {
      "cell_type": "markdown",
      "metadata": {
        "colab_type": "text",
        "id": "O9F0CBWppXCK"
      },
      "source": [
        "**We suggest you to try to solve the puzzle yourself first.** You need to submit a `.csv` file with columns `pairId` and `Prediction` to the grader. The number of submissions allowed is made pretty huge to let you explore the data without worries. The returned score should be very close to $1$."
      ]
    },
    {
      "cell_type": "markdown",
      "metadata": {
        "colab_type": "text",
        "id": "pErsa6pYpXCL"
      },
      "source": [
        "**If you do not want to think much** -- scroll down and follow the instructions below."
      ]
    },
    {
      "cell_type": "code",
      "metadata": {
        "colab_type": "code",
        "id": "sM2WTQuHpXCM",
        "colab": {}
      },
      "source": [
        ""
      ],
      "execution_count": null,
      "outputs": []
    },
    {
      "cell_type": "code",
      "metadata": {
        "colab_type": "code",
        "id": "aONvhLdipXCR",
        "colab": {}
      },
      "source": [
        ""
      ],
      "execution_count": null,
      "outputs": []
    },
    {
      "cell_type": "code",
      "metadata": {
        "colab_type": "code",
        "id": "lqSf0hdZpXCW",
        "colab": {}
      },
      "source": [
        ""
      ],
      "execution_count": null,
      "outputs": []
    },
    {
      "cell_type": "code",
      "metadata": {
        "colab_type": "code",
        "id": "SI5_MWR_pXCc",
        "colab": {}
      },
      "source": [
        ""
      ],
      "execution_count": null,
      "outputs": []
    },
    {
      "cell_type": "code",
      "metadata": {
        "colab_type": "code",
        "id": "h9cCUbxfpXCi",
        "colab": {}
      },
      "source": [
        ""
      ],
      "execution_count": null,
      "outputs": []
    },
    {
      "cell_type": "markdown",
      "metadata": {
        "colab_type": "text",
        "id": "aRM5WBkTpXCr"
      },
      "source": [
        "# EDA and leakage intuition"
      ]
    },
    {
      "cell_type": "markdown",
      "metadata": {
        "colab_type": "text",
        "id": "m60pWVUqpXCt"
      },
      "source": [
        "As we already know, the key to discover data leakages is careful EDA. So let's start our work with some basic data exploration and build an intuition about the leakage."
      ]
    },
    {
      "cell_type": "markdown",
      "metadata": {
        "colab_type": "text",
        "id": "lJXQF3iApXCu"
      },
      "source": [
        "First, check, how many different `id`s are there: concatenate `FirstId` and `SecondId` and print the number of unique elements. Also print minimum and maximum value for that vector."
      ]
    },
    {
      "cell_type": "code",
      "metadata": {
        "colab_type": "code",
        "id": "bT77ZW8KpXCv",
        "colab": {},
        "outputId": "ca0ce10b-524b-4e39-de23-545494ba6e8a"
      },
      "source": [
        "test['joined_ID'] = test['FirstId'].astype(str) + '_' + test['SecondId'].astype(str)\n",
        "print(test['joined_ID'].nunique())\n",
        "value_counts = test['joined_ID'].value_counts()\n",
        "print(value_counts.argmax(), value_counts.max())\n",
        "print(value_counts)"
      ],
      "execution_count": null,
      "outputs": [
        {
          "output_type": "stream",
          "text": [
            "368538\n",
            "2627_10404 2\n",
            "2627_10404     2\n",
            "1980_8046      2\n",
            "1420_8046      2\n",
            "332_10404      2\n",
            "5641_8046      2\n",
            "3505_8046      2\n",
            "6291_10404     2\n",
            "504_2799       2\n",
            "10008_10404    2\n",
            "4155_10404     2\n",
            "256_2551       2\n",
            "6957_10404     2\n",
            "14165_3713     1\n",
            "9402_4373      1\n",
            "10348_6641     1\n",
            "21582_608      1\n",
            "18485_11917    1\n",
            "3559_24716     1\n",
            "7833_9172      1\n",
            "12729_25037    1\n",
            "119_3754       1\n",
            "9454_2870      1\n",
            "10229_23804    1\n",
            "3861_25017     1\n",
            "22702_3218     1\n",
            "3904_8446      1\n",
            "14229_22627    1\n",
            "3003_3286      1\n",
            "2371_6781      1\n",
            "5508_26041     1\n",
            "              ..\n",
            "2040_24722     1\n",
            "18633_21697    1\n",
            "3342_22564     1\n",
            "15281_21548    1\n",
            "7841_6441      1\n",
            "22127_22525    1\n",
            "2576_15136     1\n",
            "7110_15340     1\n",
            "17586_5694     1\n",
            "20119_23979    1\n",
            "3183_14008     1\n",
            "13607_3368     1\n",
            "14422_6937     1\n",
            "21177_9004     1\n",
            "8420_3380      1\n",
            "20169_9222     1\n",
            "227_11930      1\n",
            "12703_10078    1\n",
            "3609_20909     1\n",
            "1053_3998      1\n",
            "7318_16823     1\n",
            "15267_2557     1\n",
            "13106_19831    1\n",
            "20531_2281     1\n",
            "6627_10344     1\n",
            "1739_6063      1\n",
            "8576_12003     1\n",
            "23155_2691     1\n",
            "2368_10982     1\n",
            "15388_23784    1\n",
            "Name: joined_ID, Length: 368538, dtype: int64\n"
          ],
          "name": "stdout"
        }
      ]
    },
    {
      "cell_type": "markdown",
      "metadata": {
        "colab_type": "text",
        "id": "7Yoh7TPxpXC0"
      },
      "source": [
        "and then print how many pairs we need to classify (it is basically the number of rows in the test set)"
      ]
    },
    {
      "cell_type": "code",
      "metadata": {
        "colab_type": "code",
        "id": "k0etdQdRpXC1",
        "colab": {},
        "outputId": "2b295f74-434f-4875-87c6-a4697b88230a"
      },
      "source": [
        "value_counts.shape[0]"
      ],
      "execution_count": null,
      "outputs": [
        {
          "output_type": "execute_result",
          "data": {
            "text/plain": [
              "368538"
            ]
          },
          "metadata": {
            "tags": []
          },
          "execution_count": 4
        }
      ]
    },
    {
      "cell_type": "markdown",
      "metadata": {
        "colab_type": "text",
        "id": "urvT22frpXC8"
      },
      "source": [
        "Now print, how many distinct pairs it would be possible to create out of all \"images\" in the dataset?   "
      ]
    },
    {
      "cell_type": "code",
      "metadata": {
        "colab_type": "code",
        "id": "n8sCxLoApXC9",
        "colab": {},
        "outputId": "d50e6257-1e72-422a-d45f-a2a9a416481a"
      },
      "source": [
        "test['FirstId'].shape[0] * test['SecondId'].shape[0]"
      ],
      "execution_count": null,
      "outputs": [
        {
          "output_type": "execute_result",
          "data": {
            "text/plain": [
              "135829102500"
            ]
          },
          "metadata": {
            "tags": []
          },
          "execution_count": 5
        }
      ]
    },
    {
      "cell_type": "markdown",
      "metadata": {
        "colab_type": "text",
        "id": "osPdmxhPpXDC"
      },
      "source": [
        "So the number of pairs we are given to classify is very very small compared to the total number of pairs. \n",
        "\n",
        "To exploit the leak we need to **assume (or prove)**, that the total number of positive pairs is small, compared to the total number of pairs. For example: think about an image dataset with $1000$ classes, $N$ images per class. Then if the task was to tell whether a pair of images belongs to the same class or not, we would have $1000\\frac{N(N-1)}{2}$ positive pairs, while total number of pairs was $\\frac{1000N(1000N - 1)}{2}$.\n",
        "\n",
        "Another example: in [Quora competitition](https://www.kaggle.com/c/quora-question-pairs) the task was to classify whether a pair of qustions are duplicates of each other or not. Of course, total number of question pairs is very huge, while number of duplicates (positive pairs) is much much smaller."
      ]
    },
    {
      "cell_type": "markdown",
      "metadata": {
        "colab_type": "text",
        "collapsed": true,
        "id": "FcTJoAsGpXDD"
      },
      "source": [
        "Finally, let's get a fraction of pairs of class `1`. We just need to submit a constant prediction \"all ones\" and check the returned accuracy. Create a dataframe with columns `pairId` and `Prediction`, fill it and export it to `.csv` file. Then submit to grader and examine grader's output. "
      ]
    },
    {
      "cell_type": "code",
      "metadata": {
        "colab_type": "code",
        "id": "iP_c9HRfpXDD",
        "colab": {}
      },
      "source": [
        "test['Prediction'] = [1]*test.shape[0]\n",
        "df = test.loc[:, ['pairId', 'Prediction']]\n",
        "df.to_csv('submission.csv', index=False)"
      ],
      "execution_count": null,
      "outputs": []
    },
    {
      "cell_type": "markdown",
      "metadata": {
        "colab_type": "text",
        "id": "JavtdW_LpXDH"
      },
      "source": [
        "So, we assumed the total number of pairs is much higher than the number of positive pairs, but it is not the case for the test set. It means that the test set is constructed not by sampling random pairs, but with a specific sampling algorithm. Pairs of class `1` are oversampled.\n",
        "\n",
        "Now think, how we can exploit this fact? What is the leak here? If you get it now, you may try to get to the final answer yourself, othewise you can follow the instructions below.   "
      ]
    },
    {
      "cell_type": "code",
      "metadata": {
        "colab_type": "code",
        "id": "OBR244QTpXDI",
        "colab": {},
        "outputId": "3daf5dbb-4964-4b9b-e96f-eb85a43c700c"
      },
      "source": [
        "print(test['FirstId'].value_counts().unique())\n",
        "print(test['SecondId'].value_counts().unique())"
      ],
      "execution_count": null,
      "outputs": [
        {
          "output_type": "stream",
          "text": [
            "[21 20 19 18 17 16 15 14 13 12 11 10  9  8  7]\n",
            "[23 22 21 20 19 18 17 16 15 14 13 12 11 10  9  8  7  6  5  4  3  2  1]\n"
          ],
          "name": "stdout"
        }
      ]
    },
    {
      "cell_type": "code",
      "metadata": {
        "colab_type": "code",
        "id": "ik4jXC7jpXDN",
        "colab": {}
      },
      "source": [
        ""
      ],
      "execution_count": null,
      "outputs": []
    },
    {
      "cell_type": "code",
      "metadata": {
        "colab_type": "code",
        "id": "_ftsZSTdpXDR",
        "colab": {}
      },
      "source": [
        ""
      ],
      "execution_count": null,
      "outputs": []
    },
    {
      "cell_type": "code",
      "metadata": {
        "colab_type": "code",
        "id": "1VY6L-_tpXDX",
        "colab": {}
      },
      "source": [
        ""
      ],
      "execution_count": null,
      "outputs": []
    },
    {
      "cell_type": "markdown",
      "metadata": {
        "colab_type": "text",
        "id": "3f_aBk3wpXDb"
      },
      "source": [
        "# Building a magic feature"
      ]
    },
    {
      "cell_type": "markdown",
      "metadata": {
        "colab_type": "text",
        "id": "v7NqvwzLpXDb"
      },
      "source": [
        "In this section we will build a magic feature, that will solve the problem almost perfectly. The instructions will lead you to the correct solution, but please, try to explain the purpose of the steps we do to yourself -- it is very important."
      ]
    },
    {
      "cell_type": "markdown",
      "metadata": {
        "colab_type": "text",
        "id": "t4oN6daGpXDc"
      },
      "source": [
        "## Incidence matrix"
      ]
    },
    {
      "cell_type": "markdown",
      "metadata": {
        "colab_type": "text",
        "id": "bExYsCLppXDd"
      },
      "source": [
        "First, we need to build an [incidence matrix](https://en.wikipedia.org/wiki/Incidence_matrix). You can think of pairs `(FirstId, SecondId)` as of edges in an undirected graph. \n",
        "\n",
        "The incidence matrix is a matrix of size `(maxId + 1, maxId + 1)`, where each row (column) `i` corresponds `i-th` `Id`. In this matrix we put the value `1` to the position `[i, j]`, if and only if a pair `(i, j)` or `(j, i)` is present in  a given set of pais `(FirstId, SecondId)`. All the other elements in the incidence matrix are zeros.   \n",
        "\n",
        "**Important!** The incidence matrices are typically very very sparse (small number of non-zero values). At the same time incidence matrices are usually huge in terms of total number of elements, and it is **impossible to store them in memory in dense format**. But due to their sparsity incidence matrices **can be easily represented as sparse matrices**. If you are not familiar with sparse matrices, please see [wiki](https://en.wikipedia.org/wiki/Sparse_matrix) and [scipy.sparse reference](https://docs.scipy.org/doc/scipy/reference/sparse.html). Please, use any of `scipy.sparse` constructors to build incidence matrix. \n",
        "\n",
        "For example, you can use this constructor: `scipy.sparse.coo_matrix((data, (i, j)))`. We highly recommend to learn to use different `scipy.sparse` constuctors, and matrices types, but if you feel you don't want to use them, you can always build this matrix with a simple `for` loop. You will need first to create a matrix using `scipy.sparse.coo_matrix((M, N), [dtype])` with an appropriate shape `(M, N)` and then iterate through `(FirstId, SecondId)` pairs and fill corresponding elements in matrix with ones. \n",
        "\n",
        "**Note**, that the matrix should be symmetric and consist only of zeros and ones. It is a way to check yourself."
      ]
    },
    {
      "cell_type": "code",
      "metadata": {
        "colab_type": "code",
        "id": "fh6_1k9BpXDd",
        "colab": {},
        "outputId": "0970cf03-14f9-49f6-b21c-591eb771d01d"
      },
      "source": [
        "first_second = test[['FirstId', 'SecondId']].values\n",
        "second_first = test[['SecondId', 'FirstId']].values\n",
        "\n",
        "pairs = np.concatenate([first_second, second_first])\n",
        "unique_pairs = np.unique(pairs, axis=0)\n",
        "\n",
        "data = np.ones(len(unique_pairs))\n",
        "\n",
        "inc_mat = scipy.sparse.coo_matrix((data, (unique_pairs[:, 0], unique_pairs[:, 1])))\n",
        "   \n",
        "print(inc_mat.max())\n",
        "print(inc_mat.sum())\n",
        "    \n",
        "# Sanity checks\n",
        "assert inc_mat.max() == 1\n",
        "assert inc_mat.sum() == 736872"
      ],
      "execution_count": null,
      "outputs": [
        {
          "output_type": "stream",
          "text": [
            "1.0\n",
            "736872.0\n"
          ],
          "name": "stdout"
        }
      ]
    },
    {
      "cell_type": "markdown",
      "metadata": {
        "colab_type": "text",
        "id": "Rq7un3-ZpXDh"
      },
      "source": [
        "It is convenient to have matrix in `csr` format eventually."
      ]
    },
    {
      "cell_type": "code",
      "metadata": {
        "colab_type": "code",
        "id": "U6byjqGXpXDi",
        "colab": {}
      },
      "source": [
        "inc_mat = inc_mat.tocsr()"
      ],
      "execution_count": null,
      "outputs": []
    },
    {
      "cell_type": "markdown",
      "metadata": {
        "colab_type": "text",
        "id": "sOjPueE0pXDn"
      },
      "source": [
        "## Now build the magic feature"
      ]
    },
    {
      "cell_type": "markdown",
      "metadata": {
        "colab_type": "text",
        "id": "5Tx-rLCRpXDo"
      },
      "source": [
        "Why did we build the incidence matrix? We can think of the rows in this matix as of representations for the objects. `i-th` row is a representation for an object with `Id = i`. Then, to measure similarity between two objects we can measure similarity between their representations. And we will see, that such representations are very good."
      ]
    },
    {
      "cell_type": "markdown",
      "metadata": {
        "colab_type": "text",
        "id": "h22vKL6ppXDo"
      },
      "source": [
        "Now select the rows from the incidence matrix, that correspond to `test.FirstId`'s, and `test.SecondId`'s."
      ]
    },
    {
      "cell_type": "code",
      "metadata": {
        "colab_type": "code",
        "id": "wPaG_xh2pXDp",
        "colab": {}
      },
      "source": [
        "# Note, scipy goes crazy if a matrix is indexed with pandas' series. \n",
        "# So do not forget to convert `pd.series` to `np.array`\n",
        "# These lines should normally run very quickly \n",
        "\n",
        "rows_FirstId   = inc_mat[np.array(test['FirstId'].values)]\n",
        "rows_SecondId  = inc_mat[np.array(test['SecondId'].values)]"
      ],
      "execution_count": null,
      "outputs": []
    },
    {
      "cell_type": "markdown",
      "metadata": {
        "colab_type": "text",
        "id": "r9eszGNipXDt"
      },
      "source": [
        "Our magic feature will be the *dot product* between representations of a pair of objects. Dot product can be regarded as similarity measure -- for our non-negative representations the dot product is close to 0 when the representations are different, and is huge, when representations are similar. \n",
        "\n",
        "Now compute dot product between corresponding rows in `rows_FirstId` and `rows_SecondId` matrices."
      ]
    },
    {
      "cell_type": "code",
      "metadata": {
        "colab_type": "code",
        "id": "w5j5RTZrpXDu",
        "colab": {},
        "outputId": "fe448f55-8af1-43a2-ea19-d9ec6f6a9675"
      },
      "source": [
        "# Note, that in order to do pointwise multiplication in scipy.sparse you need to use function `multiply`\n",
        "# regular `*` corresponds to matrix-matrix multiplication\n",
        "\n",
        "f = np.array(rows_FirstId.multiply(rows_SecondId).sum(axis=1)).reshape((f.shape[0],))\n",
        "print(f.shape)\n",
        "\n",
        "# Sanity check\n",
        "assert f.shape == (368550, )"
      ],
      "execution_count": null,
      "outputs": [
        {
          "output_type": "stream",
          "text": [
            "(368550,)\n"
          ],
          "name": "stdout"
        }
      ]
    },
    {
      "cell_type": "markdown",
      "metadata": {
        "colab_type": "text",
        "id": "y4rTQcCupXD1"
      },
      "source": [
        "That is it! **We've built our magic feature.** "
      ]
    },
    {
      "cell_type": "markdown",
      "metadata": {
        "colab_type": "text",
        "id": "pBy_mapUpXD2"
      },
      "source": [
        "# From magic feature to binary predictions"
      ]
    },
    {
      "cell_type": "markdown",
      "metadata": {
        "colab_type": "text",
        "id": "c39w9Tg1pXD3"
      },
      "source": [
        "But how do we convert this feature into binary predictions? We do not have a train set to learn a model, but we have a piece of information about test set: the baseline accuracy score that you got, when submitting constant. And we also have a very strong considerations about the data generative process, so probably we will be fine even without a training set. "
      ]
    },
    {
      "cell_type": "markdown",
      "metadata": {
        "colab_type": "text",
        "id": "2S0X_YOGpXD3"
      },
      "source": [
        "We may try to choose a thresold, and set the predictions to 1, if the feature value `f` is higer than the threshold, and 0 otherwise. What threshold would you choose? "
      ]
    },
    {
      "cell_type": "markdown",
      "metadata": {
        "colab_type": "text",
        "id": "ARwRAGcWpXD4"
      },
      "source": [
        "How do we find a right threshold? Let's first examine this feature: print frequencies (or counts) of each value in the feature `f`."
      ]
    },
    {
      "cell_type": "code",
      "metadata": {
        "colab_type": "code",
        "id": "VIugLOZ1pXD5",
        "colab": {},
        "outputId": "eacf8598-aa04-41a5-c6f2-e39e6836c207"
      },
      "source": [
        "# For example use `np.unique` function, check for flags\n",
        "\n",
        "print(np.unique(f, return_counts=True))"
      ],
      "execution_count": null,
      "outputs": [
        {
          "output_type": "stream",
          "text": [
            "(array([ 14.,  15.,  19.,  20.,  21.,  28.,  35.]), array([183279,    852,    546, 183799,      6,     54,     14]))\n"
          ],
          "name": "stdout"
        }
      ]
    },
    {
      "cell_type": "markdown",
      "metadata": {
        "colab_type": "text",
        "id": "Vp06zeAlpXD9"
      },
      "source": [
        "Do you see how this feature clusters the pairs? Maybe you can guess a good threshold by looking at the values? \n",
        "\n",
        "In fact, in other situations it can be not that obvious, but in general to pick a threshold you only need to remember the score of your baseline submission and use this information. Do you understand why and how?  "
      ]
    },
    {
      "cell_type": "markdown",
      "metadata": {
        "colab_type": "text",
        "id": "UXYwc5C8pXD9"
      },
      "source": [
        "Choose a threshold below: "
      ]
    },
    {
      "cell_type": "code",
      "metadata": {
        "colab_type": "code",
        "id": "Ned6GHcgpXD-",
        "colab": {}
      },
      "source": [
        "pred = f > 19"
      ],
      "execution_count": null,
      "outputs": []
    },
    {
      "cell_type": "markdown",
      "metadata": {
        "colab_type": "text",
        "id": "W-sqG55SpXEC"
      },
      "source": [
        "# Finally, let's create a submission"
      ]
    },
    {
      "cell_type": "code",
      "metadata": {
        "colab_type": "code",
        "id": "Xb8n-ELXpXED",
        "colab": {},
        "outputId": "eb1d18cb-8a51-48e4-8604-9c8251234f66"
      },
      "source": [
        "submission = test.loc[:,['pairId']]\n",
        "submission['Prediction'] = pred.astype(int)\n",
        "print(submission['Prediction'].value_counts())\n",
        "\n",
        "submission.to_csv('submission.csv', index=False)"
      ],
      "execution_count": null,
      "outputs": [
        {
          "output_type": "stream",
          "text": [
            "0    184677\n",
            "1    183873\n",
            "Name: Prediction, dtype: int64\n"
          ],
          "name": "stdout"
        }
      ]
    },
    {
      "cell_type": "markdown",
      "metadata": {
        "colab_type": "text",
        "id": "oPZ2bPF6pXEH"
      },
      "source": [
        "Now submit it to the grader! It is not possible to submit directly from this notebook, as we need to submit a `csv` file, not a single number (limitation of Coursera platform). \n",
        "\n",
        "To download `submission.csv` file that you've just produced <a href='./submission.csv'>click here</a> (if the link opens in browser, right-click on it and shoose \"Save link as\"). Then go to [assignment page](https://www.coursera.org/learn/competitive-data-science/programming/KsASv/data-leakages/submission) and submit your `.csv` file in 'My submission' tab.\n",
        "\n",
        "\n",
        "If you did everything right, the score should be very high."
      ]
    },
    {
      "cell_type": "markdown",
      "metadata": {
        "colab_type": "text",
        "id": "OauNwEERpXEH"
      },
      "source": [
        "**Finally:** try to explain to yourself, why the whole thing worked out. In fact, there is no magic in this feature, and the idea to use rows in the incidence matrix can be intuitively justified."
      ]
    },
    {
      "cell_type": "markdown",
      "metadata": {
        "colab_type": "text",
        "id": "GbcgZ1SQpXEI"
      },
      "source": [
        "# Bonus"
      ]
    },
    {
      "cell_type": "markdown",
      "metadata": {
        "colab_type": "text",
        "id": "pPe0QbeapXEJ"
      },
      "source": [
        "Interestingly, it is not the only leak in this dataset. There is another totally different way to get almost 100% accuracy. Try to find it!"
      ]
    }
  ]
}
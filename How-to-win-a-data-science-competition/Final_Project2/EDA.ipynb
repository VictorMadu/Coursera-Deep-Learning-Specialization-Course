{
  "nbformat": 4,
  "nbformat_minor": 0,
  "metadata": {
    "colab": {
      "name": "Untitled11.ipynb",
      "provenance": [],
      "authorship_tag": "ABX9TyN/Jc1oC76FcE6pnwJE77lg",
      "include_colab_link": true
    },
    "kernelspec": {
      "name": "python3",
      "display_name": "Python 3"
    }
  },
  "cells": [
    {
      "cell_type": "markdown",
      "metadata": {
        "id": "view-in-github",
        "colab_type": "text"
      },
      "source": [
        "<a href=\"https://colab.research.google.com/github/VictorMadu/Coursera-Deep-Learning-Specialization-Course/blob/master/How-to-win-a-data-science-competition/Final_Project2/EDA.ipynb\" target=\"_parent\"><img src=\"https://colab.research.google.com/assets/colab-badge.svg\" alt=\"Open In Colab\"/></a>"
      ]
    },
    {
      "cell_type": "markdown",
      "metadata": {
        "id": "Sgd9OjEFHq_2",
        "colab_type": "text"
      },
      "source": [
        "## Mount G-drive"
      ]
    },
    {
      "cell_type": "code",
      "metadata": {
        "id": "HOA4-ji3GaAP",
        "colab_type": "code",
        "colab": {
          "base_uri": "https://localhost:8080/",
          "height": 124
        },
        "outputId": "d2809e84-e3c1-4ad5-a552-d0314b56f4e0"
      },
      "source": [
        "from google.colab import drive\n",
        "drive.mount('/content/drive')"
      ],
      "execution_count": 1,
      "outputs": [
        {
          "output_type": "stream",
          "text": [
            "Go to this URL in a browser: https://accounts.google.com/o/oauth2/auth?client_id=947318989803-6bn6qk8qdgf4n4g3pfee6491hc0brc4i.apps.googleusercontent.com&redirect_uri=urn%3aietf%3awg%3aoauth%3a2.0%3aoob&scope=email%20https%3a%2f%2fwww.googleapis.com%2fauth%2fdocs.test%20https%3a%2f%2fwww.googleapis.com%2fauth%2fdrive%20https%3a%2f%2fwww.googleapis.com%2fauth%2fdrive.photos.readonly%20https%3a%2f%2fwww.googleapis.com%2fauth%2fpeopleapi.readonly&response_type=code\n",
            "\n",
            "Enter your authorization code:\n",
            "··········\n",
            "Mounted at /content/drive\n"
          ],
          "name": "stdout"
        }
      ]
    },
    {
      "cell_type": "markdown",
      "metadata": {
        "id": "y6hiTgRWJykQ",
        "colab_type": "text"
      },
      "source": [
        "## Download needed datasets from Kaggle"
      ]
    },
    {
      "cell_type": "code",
      "metadata": {
        "id": "Anw8sEkkHuWk",
        "colab_type": "code",
        "colab": {
          "resources": {
            "http://localhost:8080/nbextensions/google.colab/files.js": {
              "data": "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",
              "ok": true,
              "headers": [
                [
                  "content-type",
                  "application/javascript"
                ]
              ],
              "status": 200,
              "status_text": ""
            }
          },
          "base_uri": "https://localhost:8080/",
          "height": 89
        },
        "outputId": "121a8954-4e05-4e07-a0d9-9cc2ee351b0e"
      },
      "source": [
        "! pip install -q kaggle\n",
        "\n",
        "from google.colab import files\n",
        "files.upload()"
      ],
      "execution_count": 2,
      "outputs": [
        {
          "output_type": "display_data",
          "data": {
            "text/html": [
              "\n",
              "     <input type=\"file\" id=\"files-0a97c2e5-27a1-4488-b080-7c26b4a3ced1\" name=\"files[]\" multiple disabled\n",
              "        style=\"border:none\" />\n",
              "     <output id=\"result-0a97c2e5-27a1-4488-b080-7c26b4a3ced1\">\n",
              "      Upload widget is only available when the cell has been executed in the\n",
              "      current browser session. Please rerun this cell to enable.\n",
              "      </output>\n",
              "      <script src=\"/nbextensions/google.colab/files.js\"></script> "
            ],
            "text/plain": [
              "<IPython.core.display.HTML object>"
            ]
          },
          "metadata": {
            "tags": []
          }
        },
        {
          "output_type": "stream",
          "text": [
            "Saving kaggle.json to kaggle.json\n"
          ],
          "name": "stdout"
        },
        {
          "output_type": "execute_result",
          "data": {
            "text/plain": [
              "{'kaggle.json': b'{\"username\":\"victorebube\",\"key\":\"095cc61ec6ba8bdedda75f005e4d2305\"}'}"
            ]
          },
          "metadata": {
            "tags": []
          },
          "execution_count": 2
        }
      ]
    },
    {
      "cell_type": "code",
      "metadata": {
        "id": "7w784bebIpHd",
        "colab_type": "code",
        "colab": {}
      },
      "source": [
        "! mkdir ~/.kaggle\n",
        "! cp kaggle.json ~/.kaggle/\n",
        "! chmod 600 ~/.kaggle/kaggle.json"
      ],
      "execution_count": 3,
      "outputs": []
    },
    {
      "cell_type": "code",
      "metadata": {
        "id": "k-VNwnkiJNYd",
        "colab_type": "code",
        "colab": {
          "base_uri": "https://localhost:8080/",
          "height": 398
        },
        "outputId": "91776d85-4680-43a0-f32b-9119dc77ceef"
      },
      "source": [
        "! kaggle competitions download -c competitive-data-science-final-project"
      ],
      "execution_count": 29,
      "outputs": [
        {
          "output_type": "stream",
          "text": [
            "Warning: Looks like you're using an outdated API Version, please consider updating (server 1.5.6 / client 1.5.4)\n",
            "Downloading item_categories.csv to /content\n",
            "\r  0% 0.00/3.49k [00:00<?, ?B/s]\n",
            "\r100% 3.49k/3.49k [00:00<00:00, 5.49MB/s]\n",
            "Downloading shops.csv to /content\n",
            "\r  0% 0.00/2.91k [00:00<?, ?B/s]\n",
            "100% 2.91k/2.91k [00:00<00:00, 3.25MB/s]\n",
            "Downloading sales_train.csv.gz to /content\n",
            " 93% 12.0M/12.9M [00:00<00:00, 126MB/s]\n",
            "100% 12.9M/12.9M [00:00<00:00, 118MB/s]\n",
            "Downloading test.csv.gz to /content\n",
            "  0% 0.00/1.01M [00:00<?, ?B/s]\n",
            "100% 1.01M/1.01M [00:00<00:00, 141MB/s]\n",
            "Downloading item_cats.csv to /content\n",
            "  0% 0.00/3.49k [00:00<?, ?B/s]\n",
            "100% 3.49k/3.49k [00:00<00:00, 2.95MB/s]\n",
            "Downloading sample_submission.csv.gz to /content\n",
            "  0% 0.00/469k [00:00<?, ?B/s]\n",
            "100% 469k/469k [00:00<00:00, 145MB/s]\n",
            "Downloading items.csv.zip to /content\n",
            "  0% 0.00/368k [00:00<?, ?B/s]\n",
            "100% 368k/368k [00:00<00:00, 122MB/s]\n"
          ],
          "name": "stdout"
        }
      ]
    },
    {
      "cell_type": "code",
      "metadata": {
        "id": "z0f3UMeFYnSV",
        "colab_type": "code",
        "colab": {
          "base_uri": "https://localhost:8080/",
          "height": 436
        },
        "outputId": "f5cf7c94-a776-47d6-c319-dba0081ca8fd"
      },
      "source": [
        "! kaggle datasets list -s predict-future-sales-translated-dataset"
      ],
      "execution_count": 15,
      "outputs": [
        {
          "output_type": "stream",
          "text": [
            "Warning: Looks like you're using an outdated API Version, please consider updating (server 1.5.6 / client 1.5.4)\n",
            "ref                                                       title                                                size  lastUpdated          downloadCount  \n",
            "--------------------------------------------------------  --------------------------------------------------  -----  -------------------  -------------  \n",
            "remisharoon/predict-future-sales-translated-dataset       Predict Future Sales - Translated Dataset           369KB  2020-03-04 11:30:16            179  \n",
            "kashnitsky/jigsaw-multilingual-toxic-test-translated      Jigsaw multilingual toxic - test & val translated    25MB  2020-03-30 16:04:03            488  \n",
            "davids1992/predictfuturesalesitemnametranslatedfasttext   Predict-Future-Sales-Item-name-translated-fasttext  717KB  2018-11-15 16:46:48             11  \n",
            "miklgr500/jigsaw-train-multilingual-coments-google-api    Jigsaw Train Multilingual Coments (Google API)      500MB  2020-04-06 13:44:59            700  \n",
            "ma7555/jigsaw-train-translated-yandex-api                 Jigsaw Train Translated (Yandex API)                115MB  2020-05-11 20:32:25             73  \n",
            "ma7555/jigsaw-train-translated                            Jigsaw Train Translated (Microsoft API)              59MB  2020-04-04 11:46:19             76  \n",
            "vitaliymalcev/russian-passenger-air-service-20072020      Russian passenger air service 2007-2020             239KB  2020-04-02 22:27:03           1573  \n",
            "akkefa/imdb-dataset-of-50k-movie-translated-urdu-reviews  IMDB Dataset of 50K Movie translated Urdu Reviews    32MB  2020-05-07 09:19:24             39  \n",
            "itamarmushkin/israeli-elections-2015-2013                 Israeli Elections Results (1996-2019)                 4MB  2020-03-13 13:43:03           1242  \n",
            "aditya08/contradictory-my-dear-watson-translated-dataset  Translated Dataset Augmentation                       4MB  2020-08-07 14:43:13              4  \n",
            "nationalparkservice/park-biodiversity                     Biodiversity in National Parks                        2MB  2017-01-20 15:00:26           6883  \n",
            "loopdigga/quora-question-pairs-russian                    Quora question pairs russian                         25MB  2018-10-03 09:25:50            156  \n",
            "epattaro/brazils-house-of-deputies-reimbursements         Brazil's House of Deputies Reimbursements            34MB  2017-11-03 21:14:48           1352  \n",
            "samirmoustafa/arabic-to-english-translation-sentences     Arabic to English Translation Sentences               2MB  2020-01-28 08:33:05             66  \n",
            "kapral42/covid19yandexdataset                             COVID-19-yandex-dataset                             464KB  2020-06-15 15:04:45             19  \n",
            "timoboz/womens-ecommerce-clothing-reviews                 Women's E-Commerce Clothing Reviews - German          5MB  2020-02-07 00:38:34             61  \n",
            "mk9440/testtranslated                                     jigsaw-translated-test                               45MB  2020-03-26 15:35:12              2  \n",
            "team-ai/japaneseenglish-bilingual-corpus                  Japanese-English Bilingual Corpus                   159MB  2017-09-15 15:30:53           1000  \n",
            "harishreddy18/english-to-french                           english to french                                     2MB  2019-05-24 10:40:36            280  \n",
            "jtremoureux/administrative-divisions-of-moscow            Administrative divisions of Moscow                  412KB  2017-05-03 10:13:28           1046  \n"
          ],
          "name": "stdout"
        }
      ]
    },
    {
      "cell_type": "code",
      "metadata": {
        "id": "xgfCObNfY1G9",
        "colab_type": "code",
        "colab": {
          "base_uri": "https://localhost:8080/",
          "height": 69
        },
        "outputId": "5da4d9bf-697a-4984-d75b-99159a3d1544"
      },
      "source": [
        "! kaggle datasets download -d remisharoon/predict-future-sales-translated-dataset "
      ],
      "execution_count": 17,
      "outputs": [
        {
          "output_type": "stream",
          "text": [
            "Downloading predict-future-sales-translated-dataset.zip to /content\n",
            "\r  0% 0.00/369k [00:00<?, ?B/s]\n",
            "\r100% 369k/369k [00:00<00:00, 52.2MB/s]\n"
          ],
          "name": "stdout"
        }
      ]
    },
    {
      "cell_type": "markdown",
      "metadata": {
        "id": "BCUN2145Zxll",
        "colab_type": "text"
      },
      "source": [
        "## Unzipping Storing datasets in appropiate directory"
      ]
    },
    {
      "cell_type": "code",
      "metadata": {
        "id": "7eGOeoPlJeYm",
        "colab_type": "code",
        "colab": {}
      },
      "source": [
        "import pandas as pd\n",
        "import numpy as np\n",
        "import os\n",
        "import shutil\n",
        "import seaborn as sns\n",
        "import matplotlib.pyplot as plt\n",
        "from zipfile import ZipFile\n",
        "import re\n",
        "%matplotlib inline "
      ],
      "execution_count": 20,
      "outputs": []
    },
    {
      "cell_type": "code",
      "metadata": {
        "id": "ODGD3dzBXzgX",
        "colab_type": "code",
        "colab": {}
      },
      "source": [
        "file_name = \"/content/predict-future-sales-translated-dataset.zip\"\n",
        "\n",
        "with ZipFile(file_name, \"r\") as zip:\n",
        "  zip.extractall()"
      ],
      "execution_count": 18,
      "outputs": []
    },
    {
      "cell_type": "code",
      "metadata": {
        "id": "2VHh446JTX8Q",
        "colab_type": "code",
        "colab": {}
      },
      "source": [
        "# create directory \"future_sales in G-drive\"\n",
        "\n",
        "BASE_DIR = '/content/drive/My Drive'\n",
        "PARENT_DIR = os.path.join(BASE_DIR, \"future_sales\")\n",
        "os.makedirs(PARENT_DIR, exist_ok=True)"
      ],
      "execution_count": 22,
      "outputs": []
    },
    {
      "cell_type": "code",
      "metadata": {
        "id": "BkhJUTzfaW5U",
        "colab_type": "code",
        "colab": {}
      },
      "source": [
        "# move files to G-drive\n",
        "files = ['item_categories.csv', \"item_categories_en.csv\", \"item_cats.csv\", \"items.csv\", \"items_en.csv\", \"kaggle.json\", \"shops.csv\", \"shops_en.csv\", \"sales_train.csv.gz\", \"sample_submission.csv.gz\", \"test.csv.gz\"]\n",
        "for f in files:\n",
        "  shutil.move(f, PARENT_DIR)"
      ],
      "execution_count": 23,
      "outputs": []
    },
    {
      "cell_type": "markdown",
      "metadata": {
        "id": "-Vw49oXMeXW4",
        "colab_type": "text"
      },
      "source": [
        "## Load required datasets"
      ]
    },
    {
      "cell_type": "code",
      "metadata": {
        "id": "YqQz8hLzK4wM",
        "colab_type": "code",
        "colab": {}
      },
      "source": [
        "# Load files\n",
        "sales_train = pd.read_csv(os.path.join(PARENT_DIR, 'sales_train.csv.gz'))\n",
        "test = pd.read_csv(os.path.join(PARENT_DIR, 'test.csv.gz'))\n",
        "items = pd.read_csv(os.path.join(PARENT_DIR, 'items.csv'))\n",
        "item_categories = pd.read_csv(os.path.join(PARENT_DIR, 'item_categories.csv'))\n",
        "shops = pd.read_csv(os.path.join(PARENT_DIR, 'shops.csv'))\n",
        "\n",
        "# Files containing English translations from https://www.kaggle.com/c/competitive-data-science-predict-future-sales/discussion/133809\n",
        "items_en = pd.read_csv(os.path.join(PARENT_DIR, 'items_en.csv'))\n",
        "item_categories_en = pd.read_csv(os.path.join(PARENT_DIR, 'item_categories_en.csv'))\n",
        "shops_en = pd.read_csv(os.path.join(PARENT_DIR, 'shops_en.csv'))"
      ],
      "execution_count": 34,
      "outputs": []
    },
    {
      "cell_type": "markdown",
      "metadata": {
        "id": "JduBBkUVeae5",
        "colab_type": "text"
      },
      "source": [
        "## Exploratory Data Analysis\n"
      ]
    },
    {
      "cell_type": "code",
      "metadata": {
        "id": "5zROcPFGcSxc",
        "colab_type": "code",
        "colab": {
          "base_uri": "https://localhost:8080/",
          "height": 202
        },
        "outputId": "67c1e51e-3214-4993-bdc3-2ec383d0ef17"
      },
      "source": [
        "sales_train.describe().T"
      ],
      "execution_count": 36,
      "outputs": [
        {
          "output_type": "execute_result",
          "data": {
            "text/html": [
              "<div>\n",
              "<style scoped>\n",
              "    .dataframe tbody tr th:only-of-type {\n",
              "        vertical-align: middle;\n",
              "    }\n",
              "\n",
              "    .dataframe tbody tr th {\n",
              "        vertical-align: top;\n",
              "    }\n",
              "\n",
              "    .dataframe thead th {\n",
              "        text-align: right;\n",
              "    }\n",
              "</style>\n",
              "<table border=\"1\" class=\"dataframe\">\n",
              "  <thead>\n",
              "    <tr style=\"text-align: right;\">\n",
              "      <th></th>\n",
              "      <th>count</th>\n",
              "      <th>mean</th>\n",
              "      <th>std</th>\n",
              "      <th>min</th>\n",
              "      <th>25%</th>\n",
              "      <th>50%</th>\n",
              "      <th>75%</th>\n",
              "      <th>max</th>\n",
              "    </tr>\n",
              "  </thead>\n",
              "  <tbody>\n",
              "    <tr>\n",
              "      <th>date_block_num</th>\n",
              "      <td>2935849.0</td>\n",
              "      <td>14.569911</td>\n",
              "      <td>9.422988</td>\n",
              "      <td>0.0</td>\n",
              "      <td>7.0</td>\n",
              "      <td>14.0</td>\n",
              "      <td>23.0</td>\n",
              "      <td>33.0</td>\n",
              "    </tr>\n",
              "    <tr>\n",
              "      <th>shop_id</th>\n",
              "      <td>2935849.0</td>\n",
              "      <td>33.001728</td>\n",
              "      <td>16.226973</td>\n",
              "      <td>0.0</td>\n",
              "      <td>22.0</td>\n",
              "      <td>31.0</td>\n",
              "      <td>47.0</td>\n",
              "      <td>59.0</td>\n",
              "    </tr>\n",
              "    <tr>\n",
              "      <th>item_id</th>\n",
              "      <td>2935849.0</td>\n",
              "      <td>10197.227057</td>\n",
              "      <td>6324.297354</td>\n",
              "      <td>0.0</td>\n",
              "      <td>4476.0</td>\n",
              "      <td>9343.0</td>\n",
              "      <td>15684.0</td>\n",
              "      <td>22169.0</td>\n",
              "    </tr>\n",
              "    <tr>\n",
              "      <th>item_price</th>\n",
              "      <td>2935849.0</td>\n",
              "      <td>890.853233</td>\n",
              "      <td>1729.799631</td>\n",
              "      <td>-1.0</td>\n",
              "      <td>249.0</td>\n",
              "      <td>399.0</td>\n",
              "      <td>999.0</td>\n",
              "      <td>307980.0</td>\n",
              "    </tr>\n",
              "    <tr>\n",
              "      <th>item_cnt_day</th>\n",
              "      <td>2935849.0</td>\n",
              "      <td>1.242641</td>\n",
              "      <td>2.618834</td>\n",
              "      <td>-22.0</td>\n",
              "      <td>1.0</td>\n",
              "      <td>1.0</td>\n",
              "      <td>1.0</td>\n",
              "      <td>2169.0</td>\n",
              "    </tr>\n",
              "  </tbody>\n",
              "</table>\n",
              "</div>"
            ],
            "text/plain": [
              "                    count          mean          std  ...     50%      75%       max\n",
              "date_block_num  2935849.0     14.569911     9.422988  ...    14.0     23.0      33.0\n",
              "shop_id         2935849.0     33.001728    16.226973  ...    31.0     47.0      59.0\n",
              "item_id         2935849.0  10197.227057  6324.297354  ...  9343.0  15684.0   22169.0\n",
              "item_price      2935849.0    890.853233  1729.799631  ...   399.0    999.0  307980.0\n",
              "item_cnt_day    2935849.0      1.242641     2.618834  ...     1.0      1.0    2169.0\n",
              "\n",
              "[5 rows x 8 columns]"
            ]
          },
          "metadata": {
            "tags": []
          },
          "execution_count": 36
        }
      ]
    },
    {
      "cell_type": "code",
      "metadata": {
        "id": "0ditDjkCeB53",
        "colab_type": "code",
        "colab": {
          "base_uri": "https://localhost:8080/",
          "height": 202
        },
        "outputId": "a372c98e-adc8-4b8d-c973-8401ac53bd28"
      },
      "source": [
        "sales_train.head(5)"
      ],
      "execution_count": 37,
      "outputs": [
        {
          "output_type": "execute_result",
          "data": {
            "text/html": [
              "<div>\n",
              "<style scoped>\n",
              "    .dataframe tbody tr th:only-of-type {\n",
              "        vertical-align: middle;\n",
              "    }\n",
              "\n",
              "    .dataframe tbody tr th {\n",
              "        vertical-align: top;\n",
              "    }\n",
              "\n",
              "    .dataframe thead th {\n",
              "        text-align: right;\n",
              "    }\n",
              "</style>\n",
              "<table border=\"1\" class=\"dataframe\">\n",
              "  <thead>\n",
              "    <tr style=\"text-align: right;\">\n",
              "      <th></th>\n",
              "      <th>date</th>\n",
              "      <th>date_block_num</th>\n",
              "      <th>shop_id</th>\n",
              "      <th>item_id</th>\n",
              "      <th>item_price</th>\n",
              "      <th>item_cnt_day</th>\n",
              "    </tr>\n",
              "  </thead>\n",
              "  <tbody>\n",
              "    <tr>\n",
              "      <th>0</th>\n",
              "      <td>02.01.2013</td>\n",
              "      <td>0</td>\n",
              "      <td>59</td>\n",
              "      <td>22154</td>\n",
              "      <td>999.00</td>\n",
              "      <td>1.0</td>\n",
              "    </tr>\n",
              "    <tr>\n",
              "      <th>1</th>\n",
              "      <td>03.01.2013</td>\n",
              "      <td>0</td>\n",
              "      <td>25</td>\n",
              "      <td>2552</td>\n",
              "      <td>899.00</td>\n",
              "      <td>1.0</td>\n",
              "    </tr>\n",
              "    <tr>\n",
              "      <th>2</th>\n",
              "      <td>05.01.2013</td>\n",
              "      <td>0</td>\n",
              "      <td>25</td>\n",
              "      <td>2552</td>\n",
              "      <td>899.00</td>\n",
              "      <td>-1.0</td>\n",
              "    </tr>\n",
              "    <tr>\n",
              "      <th>3</th>\n",
              "      <td>06.01.2013</td>\n",
              "      <td>0</td>\n",
              "      <td>25</td>\n",
              "      <td>2554</td>\n",
              "      <td>1709.05</td>\n",
              "      <td>1.0</td>\n",
              "    </tr>\n",
              "    <tr>\n",
              "      <th>4</th>\n",
              "      <td>15.01.2013</td>\n",
              "      <td>0</td>\n",
              "      <td>25</td>\n",
              "      <td>2555</td>\n",
              "      <td>1099.00</td>\n",
              "      <td>1.0</td>\n",
              "    </tr>\n",
              "  </tbody>\n",
              "</table>\n",
              "</div>"
            ],
            "text/plain": [
              "         date  date_block_num  shop_id  item_id  item_price  item_cnt_day\n",
              "0  02.01.2013               0       59    22154      999.00           1.0\n",
              "1  03.01.2013               0       25     2552      899.00           1.0\n",
              "2  05.01.2013               0       25     2552      899.00          -1.0\n",
              "3  06.01.2013               0       25     2554     1709.05           1.0\n",
              "4  15.01.2013               0       25     2555     1099.00           1.0"
            ]
          },
          "metadata": {
            "tags": []
          },
          "execution_count": 37
        }
      ]
    },
    {
      "cell_type": "markdown",
      "metadata": {
        "id": "70Pb83aRemRV",
        "colab_type": "text"
      },
      "source": [
        "## Checking for Outliners"
      ]
    },
    {
      "cell_type": "code",
      "metadata": {
        "id": "rVZIwtN0eJWe",
        "colab_type": "code",
        "colab": {
          "base_uri": "https://localhost:8080/",
          "height": 560
        },
        "outputId": "8a164613-8167-4c85-c0ed-b361c9f8ee75"
      },
      "source": [
        "plt.figure(figsize=(10,4))\n",
        "plt.xlim(sales_train['item_cnt_day'].min(), sales_train['item_cnt_day'].max()*1.1)\n",
        "sns.boxplot(x=sales_train.item_cnt_day)\n",
        "\n",
        "plt.figure(figsize=(10,4))\n",
        "plt.xlim(sales_train['item_price'].min(), sales_train['item_price'].max()*1.1)\n",
        "sns.boxplot(x=sales_train.item_price)"
      ],
      "execution_count": 41,
      "outputs": [
        {
          "output_type": "execute_result",
          "data": {
            "text/plain": [
              "<matplotlib.axes._subplots.AxesSubplot at 0x7f34d37acba8>"
            ]
          },
          "metadata": {
            "tags": []
          },
          "execution_count": 41
        },
        {
          "output_type": "display_data",
          "data": {
            "image/png": "[encoded data removed]",
            "text/plain": [
              "<Figure size 720x288 with 1 Axes>"
            ]
          },
          "metadata": {
            "tags": [],
            "needs_background": "light"
          }
        },
        {
          "output_type": "display_data",
          "data": {
            "image/png": "[encoded data removed]",
            "text/plain": [
              "<Figure size 720x288 with 1 Axes>"
            ]
          },
          "metadata": {
            "tags": [],
            "needs_background": "light"
          }
        }
      ]
    },
    {
      "cell_type": "markdown",
      "metadata": {
        "id": "1I_KvUTSrDac",
        "colab_type": "text"
      },
      "source": [
        "We will remove outliners in the Feature Enginnering section"
      ]
    },
    {
      "cell_type": "code",
      "metadata": {
        "id": "pCHwJSr7fCx6",
        "colab_type": "code",
        "colab": {
          "base_uri": "https://localhost:8080/",
          "height": 141
        },
        "outputId": "06fd4521-84dd-40cf-84df-60fad4d42d56"
      },
      "source": [
        "test.describe().T"
      ],
      "execution_count": 42,
      "outputs": [
        {
          "output_type": "execute_result",
          "data": {
            "text/html": [
              "<div>\n",
              "<style scoped>\n",
              "    .dataframe tbody tr th:only-of-type {\n",
              "        vertical-align: middle;\n",
              "    }\n",
              "\n",
              "    .dataframe tbody tr th {\n",
              "        vertical-align: top;\n",
              "    }\n",
              "\n",
              "    .dataframe thead th {\n",
              "        text-align: right;\n",
              "    }\n",
              "</style>\n",
              "<table border=\"1\" class=\"dataframe\">\n",
              "  <thead>\n",
              "    <tr style=\"text-align: right;\">\n",
              "      <th></th>\n",
              "      <th>count</th>\n",
              "      <th>mean</th>\n",
              "      <th>std</th>\n",
              "      <th>min</th>\n",
              "      <th>25%</th>\n",
              "      <th>50%</th>\n",
              "      <th>75%</th>\n",
              "      <th>max</th>\n",
              "    </tr>\n",
              "  </thead>\n",
              "  <tbody>\n",
              "    <tr>\n",
              "      <th>ID</th>\n",
              "      <td>214200.0</td>\n",
              "      <td>107099.500000</td>\n",
              "      <td>61834.358168</td>\n",
              "      <td>0.0</td>\n",
              "      <td>53549.75</td>\n",
              "      <td>107099.5</td>\n",
              "      <td>160649.25</td>\n",
              "      <td>214199.0</td>\n",
              "    </tr>\n",
              "    <tr>\n",
              "      <th>shop_id</th>\n",
              "      <td>214200.0</td>\n",
              "      <td>31.642857</td>\n",
              "      <td>17.561933</td>\n",
              "      <td>2.0</td>\n",
              "      <td>16.00</td>\n",
              "      <td>34.5</td>\n",
              "      <td>47.00</td>\n",
              "      <td>59.0</td>\n",
              "    </tr>\n",
              "    <tr>\n",
              "      <th>item_id</th>\n",
              "      <td>214200.0</td>\n",
              "      <td>11019.398627</td>\n",
              "      <td>6252.644590</td>\n",
              "      <td>30.0</td>\n",
              "      <td>5381.50</td>\n",
              "      <td>11203.0</td>\n",
              "      <td>16071.50</td>\n",
              "      <td>22167.0</td>\n",
              "    </tr>\n",
              "  </tbody>\n",
              "</table>\n",
              "</div>"
            ],
            "text/plain": [
              "            count           mean           std  ...       50%        75%       max\n",
              "ID       214200.0  107099.500000  61834.358168  ...  107099.5  160649.25  214199.0\n",
              "shop_id  214200.0      31.642857     17.561933  ...      34.5      47.00      59.0\n",
              "item_id  214200.0   11019.398627   6252.644590  ...   11203.0   16071.50   22167.0\n",
              "\n",
              "[3 rows x 8 columns]"
            ]
          },
          "metadata": {
            "tags": []
          },
          "execution_count": 42
        }
      ]
    },
    {
      "cell_type": "code",
      "metadata": {
        "id": "FBplwN4ufrfN",
        "colab_type": "code",
        "colab": {
          "base_uri": "https://localhost:8080/",
          "height": 416
        },
        "outputId": "c0e0fc7c-8323-4e1a-9b40-7270408d7b17"
      },
      "source": [
        "# Find differences between train and test\n",
        "sales_train[['shop_id', 'item_id']].merge(test[['shop_id', 'item_id']],\n",
        "                        indicator = True, how='left').loc[lambda x : x['_merge']!='both']. \\\n",
        "                        drop_duplicates(keep=False)"
      ],
      "execution_count": 43,
      "outputs": [
        {
          "output_type": "execute_result",
          "data": {
            "text/html": [
              "<div>\n",
              "<style scoped>\n",
              "    .dataframe tbody tr th:only-of-type {\n",
              "        vertical-align: middle;\n",
              "    }\n",
              "\n",
              "    .dataframe tbody tr th {\n",
              "        vertical-align: top;\n",
              "    }\n",
              "\n",
              "    .dataframe thead th {\n",
              "        text-align: right;\n",
              "    }\n",
              "</style>\n",
              "<table border=\"1\" class=\"dataframe\">\n",
              "  <thead>\n",
              "    <tr style=\"text-align: right;\">\n",
              "      <th></th>\n",
              "      <th>shop_id</th>\n",
              "      <th>item_id</th>\n",
              "      <th>_merge</th>\n",
              "    </tr>\n",
              "  </thead>\n",
              "  <tbody>\n",
              "    <tr>\n",
              "      <th>3</th>\n",
              "      <td>25</td>\n",
              "      <td>2554</td>\n",
              "      <td>left_only</td>\n",
              "    </tr>\n",
              "    <tr>\n",
              "      <th>6</th>\n",
              "      <td>25</td>\n",
              "      <td>2565</td>\n",
              "      <td>left_only</td>\n",
              "    </tr>\n",
              "    <tr>\n",
              "      <th>55</th>\n",
              "      <td>25</td>\n",
              "      <td>2522</td>\n",
              "      <td>left_only</td>\n",
              "    </tr>\n",
              "    <tr>\n",
              "      <th>73</th>\n",
              "      <td>25</td>\n",
              "      <td>2845</td>\n",
              "      <td>left_only</td>\n",
              "    </tr>\n",
              "    <tr>\n",
              "      <th>132</th>\n",
              "      <td>25</td>\n",
              "      <td>2149</td>\n",
              "      <td>left_only</td>\n",
              "    </tr>\n",
              "    <tr>\n",
              "      <th>...</th>\n",
              "      <td>...</td>\n",
              "      <td>...</td>\n",
              "      <td>...</td>\n",
              "    </tr>\n",
              "    <tr>\n",
              "      <th>2935670</th>\n",
              "      <td>25</td>\n",
              "      <td>7904</td>\n",
              "      <td>left_only</td>\n",
              "    </tr>\n",
              "    <tr>\n",
              "      <th>2935802</th>\n",
              "      <td>25</td>\n",
              "      <td>7583</td>\n",
              "      <td>left_only</td>\n",
              "    </tr>\n",
              "    <tr>\n",
              "      <th>2935804</th>\n",
              "      <td>25</td>\n",
              "      <td>7610</td>\n",
              "      <td>left_only</td>\n",
              "    </tr>\n",
              "    <tr>\n",
              "      <th>2935811</th>\n",
              "      <td>25</td>\n",
              "      <td>7635</td>\n",
              "      <td>left_only</td>\n",
              "    </tr>\n",
              "    <tr>\n",
              "      <th>2935813</th>\n",
              "      <td>25</td>\n",
              "      <td>7640</td>\n",
              "      <td>left_only</td>\n",
              "    </tr>\n",
              "  </tbody>\n",
              "</table>\n",
              "<p>107488 rows × 3 columns</p>\n",
              "</div>"
            ],
            "text/plain": [
              "         shop_id  item_id     _merge\n",
              "3             25     2554  left_only\n",
              "6             25     2565  left_only\n",
              "55            25     2522  left_only\n",
              "73            25     2845  left_only\n",
              "132           25     2149  left_only\n",
              "...          ...      ...        ...\n",
              "2935670       25     7904  left_only\n",
              "2935802       25     7583  left_only\n",
              "2935804       25     7610  left_only\n",
              "2935811       25     7635  left_only\n",
              "2935813       25     7640  left_only\n",
              "\n",
              "[107488 rows x 3 columns]"
            ]
          },
          "metadata": {
            "tags": []
          },
          "execution_count": 43
        }
      ]
    },
    {
      "cell_type": "code",
      "metadata": {
        "id": "i_oQ6Fbdf5oR",
        "colab_type": "code",
        "colab": {
          "base_uri": "https://localhost:8080/",
          "height": 416
        },
        "outputId": "cdc22e86-759e-48f2-bc06-6cff2e08038f"
      },
      "source": [
        "# Find differences between test and train\n",
        "test[['shop_id', 'item_id']].merge(sales_train[['shop_id', 'item_id']],\n",
        "                        indicator = True, how='left').loc[lambda x : x['_merge']!='both']. \\\n",
        "                        drop_duplicates(keep=False)"
      ],
      "execution_count": 46,
      "outputs": [
        {
          "output_type": "execute_result",
          "data": {
            "text/html": [
              "<div>\n",
              "<style scoped>\n",
              "    .dataframe tbody tr th:only-of-type {\n",
              "        vertical-align: middle;\n",
              "    }\n",
              "\n",
              "    .dataframe tbody tr th {\n",
              "        vertical-align: top;\n",
              "    }\n",
              "\n",
              "    .dataframe thead th {\n",
              "        text-align: right;\n",
              "    }\n",
              "</style>\n",
              "<table border=\"1\" class=\"dataframe\">\n",
              "  <thead>\n",
              "    <tr style=\"text-align: right;\">\n",
              "      <th></th>\n",
              "      <th>shop_id</th>\n",
              "      <th>item_id</th>\n",
              "      <th>_merge</th>\n",
              "    </tr>\n",
              "  </thead>\n",
              "  <tbody>\n",
              "    <tr>\n",
              "      <th>13</th>\n",
              "      <td>5</td>\n",
              "      <td>5320</td>\n",
              "      <td>left_only</td>\n",
              "    </tr>\n",
              "    <tr>\n",
              "      <th>24</th>\n",
              "      <td>5</td>\n",
              "      <td>5268</td>\n",
              "      <td>left_only</td>\n",
              "    </tr>\n",
              "    <tr>\n",
              "      <th>96</th>\n",
              "      <td>5</td>\n",
              "      <td>5003</td>\n",
              "      <td>left_only</td>\n",
              "    </tr>\n",
              "    <tr>\n",
              "      <th>342</th>\n",
              "      <td>5</td>\n",
              "      <td>4874</td>\n",
              "      <td>left_only</td>\n",
              "    </tr>\n",
              "    <tr>\n",
              "      <th>414</th>\n",
              "      <td>5</td>\n",
              "      <td>5002</td>\n",
              "      <td>left_only</td>\n",
              "    </tr>\n",
              "    <tr>\n",
              "      <th>...</th>\n",
              "      <td>...</td>\n",
              "      <td>...</td>\n",
              "      <td>...</td>\n",
              "    </tr>\n",
              "    <tr>\n",
              "      <th>1327197</th>\n",
              "      <td>45</td>\n",
              "      <td>9500</td>\n",
              "      <td>left_only</td>\n",
              "    </tr>\n",
              "    <tr>\n",
              "      <th>1327198</th>\n",
              "      <td>45</td>\n",
              "      <td>16007</td>\n",
              "      <td>left_only</td>\n",
              "    </tr>\n",
              "    <tr>\n",
              "      <th>1327212</th>\n",
              "      <td>45</td>\n",
              "      <td>18027</td>\n",
              "      <td>left_only</td>\n",
              "    </tr>\n",
              "    <tr>\n",
              "      <th>1327222</th>\n",
              "      <td>45</td>\n",
              "      <td>16188</td>\n",
              "      <td>left_only</td>\n",
              "    </tr>\n",
              "    <tr>\n",
              "      <th>1327230</th>\n",
              "      <td>45</td>\n",
              "      <td>19648</td>\n",
              "      <td>left_only</td>\n",
              "    </tr>\n",
              "  </tbody>\n",
              "</table>\n",
              "<p>102796 rows × 3 columns</p>\n",
              "</div>"
            ],
            "text/plain": [
              "         shop_id  item_id     _merge\n",
              "13             5     5320  left_only\n",
              "24             5     5268  left_only\n",
              "96             5     5003  left_only\n",
              "342            5     4874  left_only\n",
              "414            5     5002  left_only\n",
              "...          ...      ...        ...\n",
              "1327197       45     9500  left_only\n",
              "1327198       45    16007  left_only\n",
              "1327212       45    18027  left_only\n",
              "1327222       45    16188  left_only\n",
              "1327230       45    19648  left_only\n",
              "\n",
              "[102796 rows x 3 columns]"
            ]
          },
          "metadata": {
            "tags": []
          },
          "execution_count": 46
        }
      ]
    },
    {
      "cell_type": "markdown",
      "metadata": {
        "id": "rQmm-IRchVfI",
        "colab_type": "text"
      },
      "source": [
        "## Analysis on Items\n"
      ]
    },
    {
      "cell_type": "code",
      "metadata": {
        "id": "2qWTu6QihFkJ",
        "colab_type": "code",
        "colab": {
          "base_uri": "https://localhost:8080/",
          "height": 110
        },
        "outputId": "c789e10a-3236-48dc-e30d-f0446286f4d9"
      },
      "source": [
        "items.describe().T"
      ],
      "execution_count": 48,
      "outputs": [
        {
          "output_type": "execute_result",
          "data": {
            "text/html": [
              "<div>\n",
              "<style scoped>\n",
              "    .dataframe tbody tr th:only-of-type {\n",
              "        vertical-align: middle;\n",
              "    }\n",
              "\n",
              "    .dataframe tbody tr th {\n",
              "        vertical-align: top;\n",
              "    }\n",
              "\n",
              "    .dataframe thead th {\n",
              "        text-align: right;\n",
              "    }\n",
              "</style>\n",
              "<table border=\"1\" class=\"dataframe\">\n",
              "  <thead>\n",
              "    <tr style=\"text-align: right;\">\n",
              "      <th></th>\n",
              "      <th>count</th>\n",
              "      <th>mean</th>\n",
              "      <th>std</th>\n",
              "      <th>min</th>\n",
              "      <th>25%</th>\n",
              "      <th>50%</th>\n",
              "      <th>75%</th>\n",
              "      <th>max</th>\n",
              "    </tr>\n",
              "  </thead>\n",
              "  <tbody>\n",
              "    <tr>\n",
              "      <th>item_id</th>\n",
              "      <td>22170.0</td>\n",
              "      <td>11084.500000</td>\n",
              "      <td>6400.072070</td>\n",
              "      <td>0.0</td>\n",
              "      <td>5542.25</td>\n",
              "      <td>11084.5</td>\n",
              "      <td>16626.75</td>\n",
              "      <td>22169.0</td>\n",
              "    </tr>\n",
              "    <tr>\n",
              "      <th>item_category_id</th>\n",
              "      <td>22170.0</td>\n",
              "      <td>46.290753</td>\n",
              "      <td>15.941486</td>\n",
              "      <td>0.0</td>\n",
              "      <td>37.00</td>\n",
              "      <td>40.0</td>\n",
              "      <td>58.00</td>\n",
              "      <td>83.0</td>\n",
              "    </tr>\n",
              "  </tbody>\n",
              "</table>\n",
              "</div>"
            ],
            "text/plain": [
              "                    count          mean  ...       75%      max\n",
              "item_id           22170.0  11084.500000  ...  16626.75  22169.0\n",
              "item_category_id  22170.0     46.290753  ...     58.00     83.0\n",
              "\n",
              "[2 rows x 8 columns]"
            ]
          },
          "metadata": {
            "tags": []
          },
          "execution_count": 48
        }
      ]
    },
    {
      "cell_type": "code",
      "metadata": {
        "id": "-UIafnhUhe0h",
        "colab_type": "code",
        "colab": {
          "base_uri": "https://localhost:8080/",
          "height": 416
        },
        "outputId": "3a91187f-073a-4328-9dcd-a360eca9eae8"
      },
      "source": [
        "items"
      ],
      "execution_count": 49,
      "outputs": [
        {
          "output_type": "execute_result",
          "data": {
            "text/html": [
              "<div>\n",
              "<style scoped>\n",
              "    .dataframe tbody tr th:only-of-type {\n",
              "        vertical-align: middle;\n",
              "    }\n",
              "\n",
              "    .dataframe tbody tr th {\n",
              "        vertical-align: top;\n",
              "    }\n",
              "\n",
              "    .dataframe thead th {\n",
              "        text-align: right;\n",
              "    }\n",
              "</style>\n",
              "<table border=\"1\" class=\"dataframe\">\n",
              "  <thead>\n",
              "    <tr style=\"text-align: right;\">\n",
              "      <th></th>\n",
              "      <th>item_name</th>\n",
              "      <th>item_id</th>\n",
              "      <th>item_category_id</th>\n",
              "    </tr>\n",
              "  </thead>\n",
              "  <tbody>\n",
              "    <tr>\n",
              "      <th>0</th>\n",
              "      <td>! ВО ВЛАСТИ НАВАЖДЕНИЯ (ПЛАСТ.)         D</td>\n",
              "      <td>0</td>\n",
              "      <td>40</td>\n",
              "    </tr>\n",
              "    <tr>\n",
              "      <th>1</th>\n",
              "      <td>!ABBYY FineReader 12 Professional Edition Full...</td>\n",
              "      <td>1</td>\n",
              "      <td>76</td>\n",
              "    </tr>\n",
              "    <tr>\n",
              "      <th>2</th>\n",
              "      <td>***В ЛУЧАХ СЛАВЫ   (UNV)                    D</td>\n",
              "      <td>2</td>\n",
              "      <td>40</td>\n",
              "    </tr>\n",
              "    <tr>\n",
              "      <th>3</th>\n",
              "      <td>***ГОЛУБАЯ ВОЛНА  (Univ)                      D</td>\n",
              "      <td>3</td>\n",
              "      <td>40</td>\n",
              "    </tr>\n",
              "    <tr>\n",
              "      <th>4</th>\n",
              "      <td>***КОРОБКА (СТЕКЛО)                       D</td>\n",
              "      <td>4</td>\n",
              "      <td>40</td>\n",
              "    </tr>\n",
              "    <tr>\n",
              "      <th>...</th>\n",
              "      <td>...</td>\n",
              "      <td>...</td>\n",
              "      <td>...</td>\n",
              "    </tr>\n",
              "    <tr>\n",
              "      <th>22165</th>\n",
              "      <td>Ядерный титбит 2 [PC, Цифровая версия]</td>\n",
              "      <td>22165</td>\n",
              "      <td>31</td>\n",
              "    </tr>\n",
              "    <tr>\n",
              "      <th>22166</th>\n",
              "      <td>Язык запросов 1С:Предприятия  [Цифровая версия]</td>\n",
              "      <td>22166</td>\n",
              "      <td>54</td>\n",
              "    </tr>\n",
              "    <tr>\n",
              "      <th>22167</th>\n",
              "      <td>Язык запросов 1С:Предприятия 8 (+CD). Хрустале...</td>\n",
              "      <td>22167</td>\n",
              "      <td>49</td>\n",
              "    </tr>\n",
              "    <tr>\n",
              "      <th>22168</th>\n",
              "      <td>Яйцо для Little Inu</td>\n",
              "      <td>22168</td>\n",
              "      <td>62</td>\n",
              "    </tr>\n",
              "    <tr>\n",
              "      <th>22169</th>\n",
              "      <td>Яйцо дракона (Игра престолов)</td>\n",
              "      <td>22169</td>\n",
              "      <td>69</td>\n",
              "    </tr>\n",
              "  </tbody>\n",
              "</table>\n",
              "<p>22170 rows × 3 columns</p>\n",
              "</div>"
            ],
            "text/plain": [
              "                                               item_name  ...  item_category_id\n",
              "0              ! ВО ВЛАСТИ НАВАЖДЕНИЯ (ПЛАСТ.)         D  ...                40\n",
              "1      !ABBYY FineReader 12 Professional Edition Full...  ...                76\n",
              "2          ***В ЛУЧАХ СЛАВЫ   (UNV)                    D  ...                40\n",
              "3        ***ГОЛУБАЯ ВОЛНА  (Univ)                      D  ...                40\n",
              "4            ***КОРОБКА (СТЕКЛО)                       D  ...                40\n",
              "...                                                  ...  ...               ...\n",
              "22165             Ядерный титбит 2 [PC, Цифровая версия]  ...                31\n",
              "22166    Язык запросов 1С:Предприятия  [Цифровая версия]  ...                54\n",
              "22167  Язык запросов 1С:Предприятия 8 (+CD). Хрустале...  ...                49\n",
              "22168                                Яйцо для Little Inu  ...                62\n",
              "22169                      Яйцо дракона (Игра престолов)  ...                69\n",
              "\n",
              "[22170 rows x 3 columns]"
            ]
          },
          "metadata": {
            "tags": []
          },
          "execution_count": 49
        }
      ]
    },
    {
      "cell_type": "code",
      "metadata": {
        "id": "4O3MPXeFhiVA",
        "colab_type": "code",
        "colab": {
          "base_uri": "https://localhost:8080/",
          "height": 969
        },
        "outputId": "716a865b-3e8b-4a86-efb4-91e4743a53c2"
      },
      "source": [
        "items_en.head(30)"
      ],
      "execution_count": 54,
      "outputs": [
        {
          "output_type": "execute_result",
          "data": {
            "text/html": [
              "<div>\n",
              "<style scoped>\n",
              "    .dataframe tbody tr th:only-of-type {\n",
              "        vertical-align: middle;\n",
              "    }\n",
              "\n",
              "    .dataframe tbody tr th {\n",
              "        vertical-align: top;\n",
              "    }\n",
              "\n",
              "    .dataframe thead th {\n",
              "        text-align: right;\n",
              "    }\n",
              "</style>\n",
              "<table border=\"1\" class=\"dataframe\">\n",
              "  <thead>\n",
              "    <tr style=\"text-align: right;\">\n",
              "      <th></th>\n",
              "      <th>item_name</th>\n",
              "      <th>item_id</th>\n",
              "      <th>item_category_id</th>\n",
              "    </tr>\n",
              "  </thead>\n",
              "  <tbody>\n",
              "    <tr>\n",
              "      <th>0</th>\n",
              "      <td>! POWER IN glamor (PLAST.) D</td>\n",
              "      <td>0</td>\n",
              "      <td>40</td>\n",
              "    </tr>\n",
              "    <tr>\n",
              "      <th>1</th>\n",
              "      <td>! ABBYY FineReader 12 Professional Edition Ful...</td>\n",
              "      <td>1</td>\n",
              "      <td>76</td>\n",
              "    </tr>\n",
              "    <tr>\n",
              "      <th>2</th>\n",
              "      <td>*** In the glory (UNV) D</td>\n",
              "      <td>2</td>\n",
              "      <td>40</td>\n",
              "    </tr>\n",
              "    <tr>\n",
              "      <th>3</th>\n",
              "      <td>*** BLUE WAVE (Univ) D</td>\n",
              "      <td>3</td>\n",
              "      <td>40</td>\n",
              "    </tr>\n",
              "    <tr>\n",
              "      <th>4</th>\n",
              "      <td>*** BOX (GLASS) D</td>\n",
              "      <td>4</td>\n",
              "      <td>40</td>\n",
              "    </tr>\n",
              "    <tr>\n",
              "      <th>5</th>\n",
              "      <td>*** NEW American Graffiti (UNI) D</td>\n",
              "      <td>5</td>\n",
              "      <td>40</td>\n",
              "    </tr>\n",
              "    <tr>\n",
              "      <th>6</th>\n",
              "      <td>*** shot on goal (UNI) D</td>\n",
              "      <td>6</td>\n",
              "      <td>40</td>\n",
              "    </tr>\n",
              "    <tr>\n",
              "      <th>7</th>\n",
              "      <td>*** shot on goal-2 (UNI) D</td>\n",
              "      <td>7</td>\n",
              "      <td>40</td>\n",
              "    </tr>\n",
              "    <tr>\n",
              "      <th>8</th>\n",
              "      <td>*** Tea with Mussolini D</td>\n",
              "      <td>8</td>\n",
              "      <td>40</td>\n",
              "    </tr>\n",
              "    <tr>\n",
              "      <th>9</th>\n",
              "      <td>*** SHUGARLENDSKY EXPRESS (UNI) D</td>\n",
              "      <td>9</td>\n",
              "      <td>40</td>\n",
              "    </tr>\n",
              "    <tr>\n",
              "      <th>10</th>\n",
              "      <td>* BEYOND DEATH D</td>\n",
              "      <td>10</td>\n",
              "      <td>40</td>\n",
              "    </tr>\n",
              "    <tr>\n",
              "      <th>11</th>\n",
              "      <td>* LINE SERM D</td>\n",
              "      <td>11</td>\n",
              "      <td>40</td>\n",
              "    </tr>\n",
              "    <tr>\n",
              "      <th>12</th>\n",
              "      <td>* Micah Jumanji Amores Perros</td>\n",
              "      <td>12</td>\n",
              "      <td>55</td>\n",
              "    </tr>\n",
              "    <tr>\n",
              "      <th>13</th>\n",
              "      <td>* SAVING EMILY D</td>\n",
              "      <td>13</td>\n",
              "      <td>40</td>\n",
              "    </tr>\n",
              "    <tr>\n",
              "      <th>14</th>\n",
              "      <td>* Nutty Professor / MAGIC / D</td>\n",
              "      <td>14</td>\n",
              "      <td>40</td>\n",
              "    </tr>\n",
              "    <tr>\n",
              "      <th>15</th>\n",
              "      <td>// Crank: One against all (Region)</td>\n",
              "      <td>15</td>\n",
              "      <td>40</td>\n",
              "    </tr>\n",
              "    <tr>\n",
              "      <th>16</th>\n",
              "      <td>// OF THE S.Bodrov (the regional)</td>\n",
              "      <td>16</td>\n",
              "      <td>40</td>\n",
              "    </tr>\n",
              "    <tr>\n",
              "      <th>17</th>\n",
              "      <td>// Untraceable (Region)</td>\n",
              "      <td>17</td>\n",
              "      <td>40</td>\n",
              "    </tr>\n",
              "    <tr>\n",
              "      <th>18</th>\n",
              "      <td>/ BOMB FOR BRIDE / 2DVD / D</td>\n",
              "      <td>18</td>\n",
              "      <td>40</td>\n",
              "    </tr>\n",
              "    <tr>\n",
              "      <th>19</th>\n",
              "      <td>/ GOLDEN COLLECTION m / p-72</td>\n",
              "      <td>19</td>\n",
              "      <td>40</td>\n",
              "    </tr>\n",
              "    <tr>\n",
              "      <th>20</th>\n",
              "      <td>/ Once in China-2</td>\n",
              "      <td>20</td>\n",
              "      <td>40</td>\n",
              "    </tr>\n",
              "    <tr>\n",
              "      <th>21</th>\n",
              "      <td>/LAST CHANCE</td>\n",
              "      <td>21</td>\n",
              "      <td>40</td>\n",
              "    </tr>\n",
              "    <tr>\n",
              "      <th>22</th>\n",
              "      <td>/ CURSE OF EL Charro</td>\n",
              "      <td>22</td>\n",
              "      <td>40</td>\n",
              "    </tr>\n",
              "    <tr>\n",
              "      <th>23</th>\n",
              "      <td>/ North and South /CH.2/</td>\n",
              "      <td>23</td>\n",
              "      <td>40</td>\n",
              "    </tr>\n",
              "    <tr>\n",
              "      <th>24</th>\n",
              "      <td>/ DEADLY BREAKDOWN</td>\n",
              "      <td>24</td>\n",
              "      <td>40</td>\n",
              "    </tr>\n",
              "    <tr>\n",
              "      <th>25</th>\n",
              "      <td>/YOU'RE DEAD</td>\n",
              "      <td>25</td>\n",
              "      <td>40</td>\n",
              "    </tr>\n",
              "    <tr>\n",
              "      <th>26</th>\n",
              "      <td>/ V.2 multiplies GRIEF (ser.3-4)</td>\n",
              "      <td>26</td>\n",
              "      <td>40</td>\n",
              "    </tr>\n",
              "    <tr>\n",
              "      <th>27</th>\n",
              "      <td>007 Legends [PS3, Russian version]</td>\n",
              "      <td>27</td>\n",
              "      <td>19</td>\n",
              "    </tr>\n",
              "    <tr>\n",
              "      <th>28</th>\n",
              "      <td>007 Legends [Pc, Jewel, Russian version]</td>\n",
              "      <td>28</td>\n",
              "      <td>30</td>\n",
              "    </tr>\n",
              "    <tr>\n",
              "      <th>29</th>\n",
              "      <td>007 Legends [Xbox 360 Russian version]</td>\n",
              "      <td>29</td>\n",
              "      <td>23</td>\n",
              "    </tr>\n",
              "  </tbody>\n",
              "</table>\n",
              "</div>"
            ],
            "text/plain": [
              "                                            item_name  ...  item_category_id\n",
              "0                        ! POWER IN glamor (PLAST.) D  ...                40\n",
              "1   ! ABBYY FineReader 12 Professional Edition Ful...  ...                76\n",
              "2                            *** In the glory (UNV) D  ...                40\n",
              "3                              *** BLUE WAVE (Univ) D  ...                40\n",
              "4                                   *** BOX (GLASS) D  ...                40\n",
              "5                   *** NEW American Graffiti (UNI) D  ...                40\n",
              "6                            *** shot on goal (UNI) D  ...                40\n",
              "7                          *** shot on goal-2 (UNI) D  ...                40\n",
              "8                            *** Tea with Mussolini D  ...                40\n",
              "9                   *** SHUGARLENDSKY EXPRESS (UNI) D  ...                40\n",
              "10                                   * BEYOND DEATH D  ...                40\n",
              "11                                      * LINE SERM D  ...                40\n",
              "12                      * Micah Jumanji Amores Perros  ...                55\n",
              "13                                   * SAVING EMILY D  ...                40\n",
              "14                      * Nutty Professor / MAGIC / D  ...                40\n",
              "15                 // Crank: One against all (Region)  ...                40\n",
              "16                  // OF THE S.Bodrov (the regional)  ...                40\n",
              "17                            // Untraceable (Region)  ...                40\n",
              "18                        / BOMB FOR BRIDE / 2DVD / D  ...                40\n",
              "19                       / GOLDEN COLLECTION m / p-72  ...                40\n",
              "20                                  / Once in China-2  ...                40\n",
              "21                                       /LAST CHANCE  ...                40\n",
              "22                               / CURSE OF EL Charro  ...                40\n",
              "23                           / North and South /CH.2/  ...                40\n",
              "24                                 / DEADLY BREAKDOWN  ...                40\n",
              "25                                       /YOU'RE DEAD  ...                40\n",
              "26                   / V.2 multiplies GRIEF (ser.3-4)  ...                40\n",
              "27                 007 Legends [PS3, Russian version]  ...                19\n",
              "28           007 Legends [Pc, Jewel, Russian version]  ...                30\n",
              "29             007 Legends [Xbox 360 Russian version]  ...                23\n",
              "\n",
              "[30 rows x 3 columns]"
            ]
          },
          "metadata": {
            "tags": []
          },
          "execution_count": 54
        }
      ]
    },
    {
      "cell_type": "code",
      "metadata": {
        "id": "DZKps2wxhnJT",
        "colab_type": "code",
        "colab": {
          "base_uri": "https://localhost:8080/",
          "height": 969
        },
        "outputId": "b942e069-cd05-4ce0-9f52-badc05acb6fe"
      },
      "source": [
        "items_en.tail(30)"
      ],
      "execution_count": 55,
      "outputs": [
        {
          "output_type": "execute_result",
          "data": {
            "text/html": [
              "<div>\n",
              "<style scoped>\n",
              "    .dataframe tbody tr th:only-of-type {\n",
              "        vertical-align: middle;\n",
              "    }\n",
              "\n",
              "    .dataframe tbody tr th {\n",
              "        vertical-align: top;\n",
              "    }\n",
              "\n",
              "    .dataframe thead th {\n",
              "        text-align: right;\n",
              "    }\n",
              "</style>\n",
              "<table border=\"1\" class=\"dataframe\">\n",
              "  <thead>\n",
              "    <tr style=\"text-align: right;\">\n",
              "      <th></th>\n",
              "      <th>item_name</th>\n",
              "      <th>item_id</th>\n",
              "      <th>item_category_id</th>\n",
              "    </tr>\n",
              "  </thead>\n",
              "  <tbody>\n",
              "    <tr>\n",
              "      <th>22140</th>\n",
              "      <td>I, Robot (BD)</td>\n",
              "      <td>22140</td>\n",
              "      <td>37</td>\n",
              "    </tr>\n",
              "    <tr>\n",
              "      <th>22141</th>\n",
              "      <td>Я, СНОВА Я И МАМА</td>\n",
              "      <td>22141</td>\n",
              "      <td>40</td>\n",
              "    </tr>\n",
              "    <tr>\n",
              "      <th>22142</th>\n",
              "      <td>Я, СНОВА Я И МАМА (BD)</td>\n",
              "      <td>22142</td>\n",
              "      <td>37</td>\n",
              "    </tr>\n",
              "    <tr>\n",
              "      <th>22143</th>\n",
              "      <td>I AM FRANKENSTEIN</td>\n",
              "      <td>22143</td>\n",
              "      <td>40</td>\n",
              "    </tr>\n",
              "    <tr>\n",
              "      <th>22144</th>\n",
              "      <td>Я, ФРАНКЕНШТЕЙН (3D BD)</td>\n",
              "      <td>22144</td>\n",
              "      <td>38</td>\n",
              "    </tr>\n",
              "    <tr>\n",
              "      <th>22145</th>\n",
              "      <td>I, Frankenstein (BD)</td>\n",
              "      <td>22145</td>\n",
              "      <td>37</td>\n",
              "    </tr>\n",
              "    <tr>\n",
              "      <th>22146</th>\n",
              "      <td>Я-ЛЕГЕНДА WB (BD)</td>\n",
              "      <td>22146</td>\n",
              "      <td>37</td>\n",
              "    </tr>\n",
              "    <tr>\n",
              "      <th>22147</th>\n",
              "      <td>I-LEGEND WB (region)</td>\n",
              "      <td>22147</td>\n",
              "      <td>40</td>\n",
              "    </tr>\n",
              "    <tr>\n",
              "      <th>22148</th>\n",
              "      <td>I-FOURTH WD</td>\n",
              "      <td>22148</td>\n",
              "      <td>40</td>\n",
              "    </tr>\n",
              "    <tr>\n",
              "      <th>22149</th>\n",
              "      <td>Я-ЧЕТВЕРТЫЙ  WD (регион)</td>\n",
              "      <td>22149</td>\n",
              "      <td>40</td>\n",
              "    </tr>\n",
              "    <tr>\n",
              "      <th>22150</th>\n",
              "      <td>Я-ЧЕТВЕРТЫЙ (BD)</td>\n",
              "      <td>22150</td>\n",
              "      <td>37</td>\n",
              "    </tr>\n",
              "    <tr>\n",
              "      <th>22151</th>\n",
              "      <td>ЯВЛЕНИЕ (2012)</td>\n",
              "      <td>22151</td>\n",
              "      <td>40</td>\n",
              "    </tr>\n",
              "    <tr>\n",
              "      <th>22152</th>\n",
              "      <td>ЯВЛЕНИЕ (2012) (регион)</td>\n",
              "      <td>22152</td>\n",
              "      <td>40</td>\n",
              "    </tr>\n",
              "    <tr>\n",
              "      <th>22153</th>\n",
              "      <td>ЯВЛЕНИЕ (BD)</td>\n",
              "      <td>22153</td>\n",
              "      <td>37</td>\n",
              "    </tr>\n",
              "    <tr>\n",
              "      <th>22154</th>\n",
              "      <td>Scene 2012 (BD)</td>\n",
              "      <td>22154</td>\n",
              "      <td>37</td>\n",
              "    </tr>\n",
              "    <tr>\n",
              "      <th>22155</th>\n",
              "      <td>Poisons or the World History of Poisoning (BD)</td>\n",
              "      <td>22155</td>\n",
              "      <td>37</td>\n",
              "    </tr>\n",
              "    <tr>\n",
              "      <th>22156</th>\n",
              "      <td>Poisons or the World History of Poisoning (reg...</td>\n",
              "      <td>22156</td>\n",
              "      <td>40</td>\n",
              "    </tr>\n",
              "    <tr>\n",
              "      <th>22157</th>\n",
              "      <td>ЯЛТА 45</td>\n",
              "      <td>22157</td>\n",
              "      <td>40</td>\n",
              "    </tr>\n",
              "    <tr>\n",
              "      <th>22158</th>\n",
              "      <td>Pit (rem)</td>\n",
              "      <td>22158</td>\n",
              "      <td>40</td>\n",
              "    </tr>\n",
              "    <tr>\n",
              "      <th>22159</th>\n",
              "      <td>ЯНКОВСКИЙ</td>\n",
              "      <td>22159</td>\n",
              "      <td>40</td>\n",
              "    </tr>\n",
              "    <tr>\n",
              "      <th>22160</th>\n",
              "      <td>ЯРМАРКА ТЩЕСЛАВИЯ (Регион)</td>\n",
              "      <td>22160</td>\n",
              "      <td>40</td>\n",
              "    </tr>\n",
              "    <tr>\n",
              "      <th>22161</th>\n",
              "      <td>ЯРОСЛАВ. ТЫСЯЧУ ЛЕТ НАЗАД э (BD)</td>\n",
              "      <td>22161</td>\n",
              "      <td>37</td>\n",
              "    </tr>\n",
              "    <tr>\n",
              "      <th>22162</th>\n",
              "      <td>ЯРОСТЬ</td>\n",
              "      <td>22162</td>\n",
              "      <td>40</td>\n",
              "    </tr>\n",
              "    <tr>\n",
              "      <th>22163</th>\n",
              "      <td>ЯРОСТЬ ( регион)</td>\n",
              "      <td>22163</td>\n",
              "      <td>40</td>\n",
              "    </tr>\n",
              "    <tr>\n",
              "      <th>22164</th>\n",
              "      <td>FURY (BD)</td>\n",
              "      <td>22164</td>\n",
              "      <td>37</td>\n",
              "    </tr>\n",
              "    <tr>\n",
              "      <th>22165</th>\n",
              "      <td>Nuclear titbit 2 [PC, Digital Version]</td>\n",
              "      <td>22165</td>\n",
              "      <td>31</td>\n",
              "    </tr>\n",
              "    <tr>\n",
              "      <th>22166</th>\n",
              "      <td>Язык запросов 1С:Предприятия  [Цифровая версия]</td>\n",
              "      <td>22166</td>\n",
              "      <td>54</td>\n",
              "    </tr>\n",
              "    <tr>\n",
              "      <th>22167</th>\n",
              "      <td>Язык запросов 1С:Предприятия 8 (+CD). Хрустале...</td>\n",
              "      <td>22167</td>\n",
              "      <td>49</td>\n",
              "    </tr>\n",
              "    <tr>\n",
              "      <th>22168</th>\n",
              "      <td>Яйцо для Little Inu</td>\n",
              "      <td>22168</td>\n",
              "      <td>62</td>\n",
              "    </tr>\n",
              "    <tr>\n",
              "      <th>22169</th>\n",
              "      <td>Яйцо дракона (Игра престолов)</td>\n",
              "      <td>22169</td>\n",
              "      <td>69</td>\n",
              "    </tr>\n",
              "  </tbody>\n",
              "</table>\n",
              "</div>"
            ],
            "text/plain": [
              "                                               item_name  ...  item_category_id\n",
              "22140                                      I, Robot (BD)  ...                37\n",
              "22141                                  Я, СНОВА Я И МАМА  ...                40\n",
              "22142                             Я, СНОВА Я И МАМА (BD)  ...                37\n",
              "22143                                  I AM FRANKENSTEIN  ...                40\n",
              "22144                            Я, ФРАНКЕНШТЕЙН (3D BD)  ...                38\n",
              "22145                               I, Frankenstein (BD)  ...                37\n",
              "22146                                  Я-ЛЕГЕНДА WB (BD)  ...                37\n",
              "22147                               I-LEGEND WB (region)  ...                40\n",
              "22148                                        I-FOURTH WD  ...                40\n",
              "22149                           Я-ЧЕТВЕРТЫЙ  WD (регион)  ...                40\n",
              "22150                                   Я-ЧЕТВЕРТЫЙ (BD)  ...                37\n",
              "22151                                     ЯВЛЕНИЕ (2012)  ...                40\n",
              "22152                            ЯВЛЕНИЕ (2012) (регион)  ...                40\n",
              "22153                                       ЯВЛЕНИЕ (BD)  ...                37\n",
              "22154                                    Scene 2012 (BD)  ...                37\n",
              "22155     Poisons or the World History of Poisoning (BD)  ...                37\n",
              "22156  Poisons or the World History of Poisoning (reg...  ...                40\n",
              "22157                                            ЯЛТА 45  ...                40\n",
              "22158                                          Pit (rem)  ...                40\n",
              "22159                                          ЯНКОВСКИЙ  ...                40\n",
              "22160                         ЯРМАРКА ТЩЕСЛАВИЯ (Регион)  ...                40\n",
              "22161                   ЯРОСЛАВ. ТЫСЯЧУ ЛЕТ НАЗАД э (BD)  ...                37\n",
              "22162                                             ЯРОСТЬ  ...                40\n",
              "22163                                   ЯРОСТЬ ( регион)  ...                40\n",
              "22164                                          FURY (BD)  ...                37\n",
              "22165             Nuclear titbit 2 [PC, Digital Version]  ...                31\n",
              "22166    Язык запросов 1С:Предприятия  [Цифровая версия]  ...                54\n",
              "22167  Язык запросов 1С:Предприятия 8 (+CD). Хрустале...  ...                49\n",
              "22168                                Яйцо для Little Inu  ...                62\n",
              "22169                      Яйцо дракона (Игра престолов)  ...                69\n",
              "\n",
              "[30 rows x 3 columns]"
            ]
          },
          "metadata": {
            "tags": []
          },
          "execution_count": 55
        }
      ]
    },
    {
      "cell_type": "code",
      "metadata": {
        "id": "bEBpErprh544",
        "colab_type": "code",
        "colab": {
          "base_uri": "https://localhost:8080/",
          "height": 121
        },
        "outputId": "fe9bcbbe-b7f6-4dd7-d10c-f49b97038d6d"
      },
      "source": [
        "special_char = items_en['item_name'].str.split(' ').map(lambda x: x[0])\n",
        "special_char.drop_duplicates().head()"
      ],
      "execution_count": 56,
      "outputs": [
        {
          "output_type": "execute_result",
          "data": {
            "text/plain": [
              "0       !\n",
              "2     ***\n",
              "10      *\n",
              "15     //\n",
              "18      /\n",
              "Name: item_name, dtype: object"
            ]
          },
          "metadata": {
            "tags": []
          },
          "execution_count": 56
        }
      ]
    },
    {
      "cell_type": "code",
      "metadata": {
        "id": "GG9nsrYUiVya",
        "colab_type": "code",
        "colab": {}
      },
      "source": [
        "def extract(row):\n",
        "    m = re.match(r'^([*\\!\\/]+).*$', row)\n",
        "    if m:\n",
        "        return m.group(1)\n",
        "    else:\n",
        "        return ''\n",
        "\n",
        "def clean(row):\n",
        "    m = re.match(r'^[*\\!\\/]+(.*$)', row)\n",
        "    if m:\n",
        "        return m.group(1)\n",
        "    else:\n",
        "        return row"
      ],
      "execution_count": 83,
      "outputs": []
    },
    {
      "cell_type": "code",
      "metadata": {
        "id": "9CgJA8I6jyxz",
        "colab_type": "code",
        "colab": {}
      },
      "source": [
        "special_char =  [extract(row) for row in items['item_name'].values]\n",
        "items['meta_item'] = special_char\n",
        "\n",
        "cleaned_name =  [clean(row) for row in items['item_name'].values]\n",
        "items['item_name'] = cleaned_name"
      ],
      "execution_count": 85,
      "outputs": []
    },
    {
      "cell_type": "code",
      "metadata": {
        "id": "YAyhw3mXj3RX",
        "colab_type": "code",
        "colab": {
          "base_uri": "https://localhost:8080/",
          "height": 356
        },
        "outputId": "cd23f50d-9cef-4b35-c048-233cc888a040"
      },
      "source": [
        "items.head(10)"
      ],
      "execution_count": 86,
      "outputs": [
        {
          "output_type": "execute_result",
          "data": {
            "text/html": [
              "<div>\n",
              "<style scoped>\n",
              "    .dataframe tbody tr th:only-of-type {\n",
              "        vertical-align: middle;\n",
              "    }\n",
              "\n",
              "    .dataframe tbody tr th {\n",
              "        vertical-align: top;\n",
              "    }\n",
              "\n",
              "    .dataframe thead th {\n",
              "        text-align: right;\n",
              "    }\n",
              "</style>\n",
              "<table border=\"1\" class=\"dataframe\">\n",
              "  <thead>\n",
              "    <tr style=\"text-align: right;\">\n",
              "      <th></th>\n",
              "      <th>item_name</th>\n",
              "      <th>item_id</th>\n",
              "      <th>item_category_id</th>\n",
              "      <th>meta_item</th>\n",
              "    </tr>\n",
              "  </thead>\n",
              "  <tbody>\n",
              "    <tr>\n",
              "      <th>0</th>\n",
              "      <td>ВО ВЛАСТИ НАВАЖДЕНИЯ (ПЛАСТ.)         D</td>\n",
              "      <td>0</td>\n",
              "      <td>40</td>\n",
              "      <td></td>\n",
              "    </tr>\n",
              "    <tr>\n",
              "      <th>1</th>\n",
              "      <td>ABBYY FineReader 12 Professional Edition Full ...</td>\n",
              "      <td>1</td>\n",
              "      <td>76</td>\n",
              "      <td></td>\n",
              "    </tr>\n",
              "    <tr>\n",
              "      <th>2</th>\n",
              "      <td>В ЛУЧАХ СЛАВЫ   (UNV)                    D</td>\n",
              "      <td>2</td>\n",
              "      <td>40</td>\n",
              "      <td></td>\n",
              "    </tr>\n",
              "    <tr>\n",
              "      <th>3</th>\n",
              "      <td>ГОЛУБАЯ ВОЛНА  (Univ)                      D</td>\n",
              "      <td>3</td>\n",
              "      <td>40</td>\n",
              "      <td></td>\n",
              "    </tr>\n",
              "    <tr>\n",
              "      <th>4</th>\n",
              "      <td>КОРОБКА (СТЕКЛО)                       D</td>\n",
              "      <td>4</td>\n",
              "      <td>40</td>\n",
              "      <td></td>\n",
              "    </tr>\n",
              "    <tr>\n",
              "      <th>5</th>\n",
              "      <td>НОВЫЕ АМЕРИКАНСКИЕ ГРАФФИТИ  (UNI)             D</td>\n",
              "      <td>5</td>\n",
              "      <td>40</td>\n",
              "      <td></td>\n",
              "    </tr>\n",
              "    <tr>\n",
              "      <th>6</th>\n",
              "      <td>УДАР ПО ВОРОТАМ (UNI)               D</td>\n",
              "      <td>6</td>\n",
              "      <td>40</td>\n",
              "      <td></td>\n",
              "    </tr>\n",
              "    <tr>\n",
              "      <th>7</th>\n",
              "      <td>УДАР ПО ВОРОТАМ-2 (UNI)               D</td>\n",
              "      <td>7</td>\n",
              "      <td>40</td>\n",
              "      <td></td>\n",
              "    </tr>\n",
              "    <tr>\n",
              "      <th>8</th>\n",
              "      <td>ЧАЙ С МУССОЛИНИ                     D</td>\n",
              "      <td>8</td>\n",
              "      <td>40</td>\n",
              "      <td></td>\n",
              "    </tr>\n",
              "    <tr>\n",
              "      <th>9</th>\n",
              "      <td>ШУГАРЛЭНДСКИЙ ЭКСПРЕСС (UNI)             D</td>\n",
              "      <td>9</td>\n",
              "      <td>40</td>\n",
              "      <td></td>\n",
              "    </tr>\n",
              "  </tbody>\n",
              "</table>\n",
              "</div>"
            ],
            "text/plain": [
              "                                           item_name  ...  meta_item\n",
              "0            ВО ВЛАСТИ НАВАЖДЕНИЯ (ПЛАСТ.)         D  ...           \n",
              "1  ABBYY FineReader 12 Professional Edition Full ...  ...           \n",
              "2         В ЛУЧАХ СЛАВЫ   (UNV)                    D  ...           \n",
              "3       ГОЛУБАЯ ВОЛНА  (Univ)                      D  ...           \n",
              "4           КОРОБКА (СТЕКЛО)                       D  ...           \n",
              "5   НОВЫЕ АМЕРИКАНСКИЕ ГРАФФИТИ  (UNI)             D  ...           \n",
              "6              УДАР ПО ВОРОТАМ (UNI)               D  ...           \n",
              "7            УДАР ПО ВОРОТАМ-2 (UNI)               D  ...           \n",
              "8              ЧАЙ С МУССОЛИНИ                     D  ...           \n",
              "9         ШУГАРЛЭНДСКИЙ ЭКСПРЕСС (UNI)             D  ...           \n",
              "\n",
              "[10 rows x 4 columns]"
            ]
          },
          "metadata": {
            "tags": []
          },
          "execution_count": 86
        }
      ]
    },
    {
      "cell_type": "code",
      "metadata": {
        "id": "pBVTF8EXkEyN",
        "colab_type": "code",
        "colab": {
          "base_uri": "https://localhost:8080/",
          "height": 80
        },
        "outputId": "7b87d1ea-eec8-4f23-e8e4-23b2e75fd3aa"
      },
      "source": [
        "item_categories_en.describe().T"
      ],
      "execution_count": 87,
      "outputs": [
        {
          "output_type": "execute_result",
          "data": {
            "text/html": [
              "<div>\n",
              "<style scoped>\n",
              "    .dataframe tbody tr th:only-of-type {\n",
              "        vertical-align: middle;\n",
              "    }\n",
              "\n",
              "    .dataframe tbody tr th {\n",
              "        vertical-align: top;\n",
              "    }\n",
              "\n",
              "    .dataframe thead th {\n",
              "        text-align: right;\n",
              "    }\n",
              "</style>\n",
              "<table border=\"1\" class=\"dataframe\">\n",
              "  <thead>\n",
              "    <tr style=\"text-align: right;\">\n",
              "      <th></th>\n",
              "      <th>count</th>\n",
              "      <th>mean</th>\n",
              "      <th>std</th>\n",
              "      <th>min</th>\n",
              "      <th>25%</th>\n",
              "      <th>50%</th>\n",
              "      <th>75%</th>\n",
              "      <th>max</th>\n",
              "    </tr>\n",
              "  </thead>\n",
              "  <tbody>\n",
              "    <tr>\n",
              "      <th>item_category_id</th>\n",
              "      <td>84.0</td>\n",
              "      <td>41.5</td>\n",
              "      <td>24.392622</td>\n",
              "      <td>0.0</td>\n",
              "      <td>20.75</td>\n",
              "      <td>41.5</td>\n",
              "      <td>62.25</td>\n",
              "      <td>83.0</td>\n",
              "    </tr>\n",
              "  </tbody>\n",
              "</table>\n",
              "</div>"
            ],
            "text/plain": [
              "                  count  mean        std  min    25%   50%    75%   max\n",
              "item_category_id   84.0  41.5  24.392622  0.0  20.75  41.5  62.25  83.0"
            ]
          },
          "metadata": {
            "tags": []
          },
          "execution_count": 87
        }
      ]
    },
    {
      "cell_type": "code",
      "metadata": {
        "id": "QhVrTvsxkNMJ",
        "colab_type": "code",
        "colab": {
          "base_uri": "https://localhost:8080/",
          "height": 356
        },
        "outputId": "fc7cef26-e858-4d80-fe21-12985b624322"
      },
      "source": [
        "item_categories_en.head(10)"
      ],
      "execution_count": 88,
      "outputs": [
        {
          "output_type": "execute_result",
          "data": {
            "text/html": [
              "<div>\n",
              "<style scoped>\n",
              "    .dataframe tbody tr th:only-of-type {\n",
              "        vertical-align: middle;\n",
              "    }\n",
              "\n",
              "    .dataframe tbody tr th {\n",
              "        vertical-align: top;\n",
              "    }\n",
              "\n",
              "    .dataframe thead th {\n",
              "        text-align: right;\n",
              "    }\n",
              "</style>\n",
              "<table border=\"1\" class=\"dataframe\">\n",
              "  <thead>\n",
              "    <tr style=\"text-align: right;\">\n",
              "      <th></th>\n",
              "      <th>item_category_name</th>\n",
              "      <th>item_category_id</th>\n",
              "    </tr>\n",
              "  </thead>\n",
              "  <tbody>\n",
              "    <tr>\n",
              "      <th>0</th>\n",
              "      <td>PC - Headsets / Headphones</td>\n",
              "      <td>0</td>\n",
              "    </tr>\n",
              "    <tr>\n",
              "      <th>1</th>\n",
              "      <td>Accessories - PS2</td>\n",
              "      <td>1</td>\n",
              "    </tr>\n",
              "    <tr>\n",
              "      <th>2</th>\n",
              "      <td>Accessories - PS3</td>\n",
              "      <td>2</td>\n",
              "    </tr>\n",
              "    <tr>\n",
              "      <th>3</th>\n",
              "      <td>Accessories - PS4</td>\n",
              "      <td>3</td>\n",
              "    </tr>\n",
              "    <tr>\n",
              "      <th>4</th>\n",
              "      <td>Accessories - PSP</td>\n",
              "      <td>4</td>\n",
              "    </tr>\n",
              "    <tr>\n",
              "      <th>5</th>\n",
              "      <td>Accessories - PSVita</td>\n",
              "      <td>5</td>\n",
              "    </tr>\n",
              "    <tr>\n",
              "      <th>6</th>\n",
              "      <td>Accessories - XBOX 360</td>\n",
              "      <td>6</td>\n",
              "    </tr>\n",
              "    <tr>\n",
              "      <th>7</th>\n",
              "      <td>Accessories - XBOX ONE</td>\n",
              "      <td>7</td>\n",
              "    </tr>\n",
              "    <tr>\n",
              "      <th>8</th>\n",
              "      <td>Tickets (digits)</td>\n",
              "      <td>8</td>\n",
              "    </tr>\n",
              "    <tr>\n",
              "      <th>9</th>\n",
              "      <td>Delivery of goods</td>\n",
              "      <td>9</td>\n",
              "    </tr>\n",
              "  </tbody>\n",
              "</table>\n",
              "</div>"
            ],
            "text/plain": [
              "           item_category_name  item_category_id\n",
              "0  PC - Headsets / Headphones                 0\n",
              "1           Accessories - PS2                 1\n",
              "2           Accessories - PS3                 2\n",
              "3           Accessories - PS4                 3\n",
              "4           Accessories - PSP                 4\n",
              "5        Accessories - PSVita                 5\n",
              "6      Accessories - XBOX 360                 6\n",
              "7      Accessories - XBOX ONE                 7\n",
              "8            Tickets (digits)                 8\n",
              "9           Delivery of goods                 9"
            ]
          },
          "metadata": {
            "tags": []
          },
          "execution_count": 88
        }
      ]
    },
    {
      "cell_type": "code",
      "metadata": {
        "id": "rtQ-586snrvq",
        "colab_type": "code",
        "colab": {
          "base_uri": "https://localhost:8080/",
          "height": 356
        },
        "outputId": "1b9f54f2-7d70-4975-eb23-d7d14f253586"
      },
      "source": [
        "item_categories_en.tail(10)"
      ],
      "execution_count": 89,
      "outputs": [
        {
          "output_type": "execute_result",
          "data": {
            "text/html": [
              "<div>\n",
              "<style scoped>\n",
              "    .dataframe tbody tr th:only-of-type {\n",
              "        vertical-align: middle;\n",
              "    }\n",
              "\n",
              "    .dataframe tbody tr th {\n",
              "        vertical-align: top;\n",
              "    }\n",
              "\n",
              "    .dataframe thead th {\n",
              "        text-align: right;\n",
              "    }\n",
              "</style>\n",
              "<table border=\"1\" class=\"dataframe\">\n",
              "  <thead>\n",
              "    <tr style=\"text-align: right;\">\n",
              "      <th></th>\n",
              "      <th>item_category_name</th>\n",
              "      <th>item_category_id</th>\n",
              "    </tr>\n",
              "  </thead>\n",
              "  <tbody>\n",
              "    <tr>\n",
              "      <th>74</th>\n",
              "      <td>Program - MAC (figure)</td>\n",
              "      <td>74</td>\n",
              "    </tr>\n",
              "    <tr>\n",
              "      <th>75</th>\n",
              "      <td>Program - For home and office</td>\n",
              "      <td>75</td>\n",
              "    </tr>\n",
              "    <tr>\n",
              "      <th>76</th>\n",
              "      <td>Program - Home &amp; Office (Digital)</td>\n",
              "      <td>76</td>\n",
              "    </tr>\n",
              "    <tr>\n",
              "      <th>77</th>\n",
              "      <td>Program - Educational</td>\n",
              "      <td>77</td>\n",
              "    </tr>\n",
              "    <tr>\n",
              "      <th>78</th>\n",
              "      <td>Programs - Educational (figure)</td>\n",
              "      <td>78</td>\n",
              "    </tr>\n",
              "    <tr>\n",
              "      <th>79</th>\n",
              "      <td>System Tools</td>\n",
              "      <td>79</td>\n",
              "    </tr>\n",
              "    <tr>\n",
              "      <th>80</th>\n",
              "      <td>Utilities - Tickets</td>\n",
              "      <td>80</td>\n",
              "    </tr>\n",
              "    <tr>\n",
              "      <th>81</th>\n",
              "      <td>Net carriers (spire)</td>\n",
              "      <td>81</td>\n",
              "    </tr>\n",
              "    <tr>\n",
              "      <th>82</th>\n",
              "      <td>Net carriers (piece)</td>\n",
              "      <td>82</td>\n",
              "    </tr>\n",
              "    <tr>\n",
              "      <th>83</th>\n",
              "      <td>batteries</td>\n",
              "      <td>83</td>\n",
              "    </tr>\n",
              "  </tbody>\n",
              "</table>\n",
              "</div>"
            ],
            "text/plain": [
              "                   item_category_name  item_category_id\n",
              "74             Program - MAC (figure)                74\n",
              "75      Program - For home and office                75\n",
              "76  Program - Home & Office (Digital)                76\n",
              "77              Program - Educational                77\n",
              "78    Programs - Educational (figure)                78\n",
              "79                       System Tools                79\n",
              "80                Utilities - Tickets                80\n",
              "81               Net carriers (spire)                81\n",
              "82               Net carriers (piece)                82\n",
              "83                          batteries                83"
            ]
          },
          "metadata": {
            "tags": []
          },
          "execution_count": 89
        }
      ]
    },
    {
      "cell_type": "markdown",
      "metadata": {
        "id": "3Sp27QNzn9UF",
        "colab_type": "text"
      },
      "source": [
        "#### The two cells above shows we may be able to obtain more informations if we split the item_category_name"
      ]
    },
    {
      "cell_type": "code",
      "metadata": {
        "id": "rAOYUROnnvRN",
        "colab_type": "code",
        "colab": {
          "base_uri": "https://localhost:8080/",
          "height": 208
        },
        "outputId": "6b8c0867-8de5-4044-8763-0425ade2bdb3"
      },
      "source": [
        "item_categories_en['meta'] = item_categories_en['item_category_name'].str.split(' ').map(lambda x: x[0])\n",
        "item_categories_en.meta.drop_duplicates().head(10)"
      ],
      "execution_count": 91,
      "outputs": [
        {
          "output_type": "execute_result",
          "data": {
            "text/plain": [
              "0              PC\n",
              "1     Accessories\n",
              "8         Tickets\n",
              "9        Delivery\n",
              "10           Game\n",
              "18          Games\n",
              "24           Игры\n",
              "32        Payment\n",
              "37         Movies\n",
              "39          Movie\n",
              "Name: meta, dtype: object"
            ]
          },
          "metadata": {
            "tags": []
          },
          "execution_count": 91
        }
      ]
    },
    {
      "cell_type": "markdown",
      "metadata": {
        "id": "_veAGWCFoTIp",
        "colab_type": "text"
      },
      "source": [
        "#### Lets do the same for the Russian part"
      ]
    },
    {
      "cell_type": "code",
      "metadata": {
        "id": "CVYDD7dHoMQf",
        "colab_type": "code",
        "colab": {
          "base_uri": "https://localhost:8080/",
          "height": 121
        },
        "outputId": "88e10ba1-8dc4-449c-87cb-e320fdd99ecc"
      },
      "source": [
        "item_categories['meta_category'] = item_categories['item_category_name'].str.split(' ').map(lambda x: x[0])\n",
        "item_categories.meta_category.drop_duplicates().head()"
      ],
      "execution_count": 92,
      "outputs": [
        {
          "output_type": "execute_result",
          "data": {
            "text/plain": [
              "0             PC\n",
              "1     Аксессуары\n",
              "8         Билеты\n",
              "9       Доставка\n",
              "10       Игровые\n",
              "Name: meta_category, dtype: object"
            ]
          },
          "metadata": {
            "tags": []
          },
          "execution_count": 92
        }
      ]
    },
    {
      "cell_type": "code",
      "metadata": {
        "id": "kZivP8kjoXkT",
        "colab_type": "code",
        "colab": {
          "base_uri": "https://localhost:8080/",
          "height": 356
        },
        "outputId": "b5d3b1dc-34e2-4be2-8c51-afa3d4c92abe"
      },
      "source": [
        "item_categories.head(10)"
      ],
      "execution_count": 93,
      "outputs": [
        {
          "output_type": "execute_result",
          "data": {
            "text/html": [
              "<div>\n",
              "<style scoped>\n",
              "    .dataframe tbody tr th:only-of-type {\n",
              "        vertical-align: middle;\n",
              "    }\n",
              "\n",
              "    .dataframe tbody tr th {\n",
              "        vertical-align: top;\n",
              "    }\n",
              "\n",
              "    .dataframe thead th {\n",
              "        text-align: right;\n",
              "    }\n",
              "</style>\n",
              "<table border=\"1\" class=\"dataframe\">\n",
              "  <thead>\n",
              "    <tr style=\"text-align: right;\">\n",
              "      <th></th>\n",
              "      <th>item_category_name</th>\n",
              "      <th>item_category_id</th>\n",
              "      <th>meta_category</th>\n",
              "    </tr>\n",
              "  </thead>\n",
              "  <tbody>\n",
              "    <tr>\n",
              "      <th>0</th>\n",
              "      <td>PC - Гарнитуры/Наушники</td>\n",
              "      <td>0</td>\n",
              "      <td>PC</td>\n",
              "    </tr>\n",
              "    <tr>\n",
              "      <th>1</th>\n",
              "      <td>Аксессуары - PS2</td>\n",
              "      <td>1</td>\n",
              "      <td>Аксессуары</td>\n",
              "    </tr>\n",
              "    <tr>\n",
              "      <th>2</th>\n",
              "      <td>Аксессуары - PS3</td>\n",
              "      <td>2</td>\n",
              "      <td>Аксессуары</td>\n",
              "    </tr>\n",
              "    <tr>\n",
              "      <th>3</th>\n",
              "      <td>Аксессуары - PS4</td>\n",
              "      <td>3</td>\n",
              "      <td>Аксессуары</td>\n",
              "    </tr>\n",
              "    <tr>\n",
              "      <th>4</th>\n",
              "      <td>Аксессуары - PSP</td>\n",
              "      <td>4</td>\n",
              "      <td>Аксессуары</td>\n",
              "    </tr>\n",
              "    <tr>\n",
              "      <th>5</th>\n",
              "      <td>Аксессуары - PSVita</td>\n",
              "      <td>5</td>\n",
              "      <td>Аксессуары</td>\n",
              "    </tr>\n",
              "    <tr>\n",
              "      <th>6</th>\n",
              "      <td>Аксессуары - XBOX 360</td>\n",
              "      <td>6</td>\n",
              "      <td>Аксессуары</td>\n",
              "    </tr>\n",
              "    <tr>\n",
              "      <th>7</th>\n",
              "      <td>Аксессуары - XBOX ONE</td>\n",
              "      <td>7</td>\n",
              "      <td>Аксессуары</td>\n",
              "    </tr>\n",
              "    <tr>\n",
              "      <th>8</th>\n",
              "      <td>Билеты (Цифра)</td>\n",
              "      <td>8</td>\n",
              "      <td>Билеты</td>\n",
              "    </tr>\n",
              "    <tr>\n",
              "      <th>9</th>\n",
              "      <td>Доставка товара</td>\n",
              "      <td>9</td>\n",
              "      <td>Доставка</td>\n",
              "    </tr>\n",
              "  </tbody>\n",
              "</table>\n",
              "</div>"
            ],
            "text/plain": [
              "        item_category_name  item_category_id meta_category\n",
              "0  PC - Гарнитуры/Наушники                 0            PC\n",
              "1         Аксессуары - PS2                 1    Аксессуары\n",
              "2         Аксессуары - PS3                 2    Аксессуары\n",
              "3         Аксессуары - PS4                 3    Аксессуары\n",
              "4         Аксессуары - PSP                 4    Аксессуары\n",
              "5      Аксессуары - PSVita                 5    Аксессуары\n",
              "6    Аксессуары - XBOX 360                 6    Аксессуары\n",
              "7    Аксессуары - XBOX ONE                 7    Аксессуары\n",
              "8           Билеты (Цифра)                 8        Билеты\n",
              "9          Доставка товара                 9      Доставка"
            ]
          },
          "metadata": {
            "tags": []
          },
          "execution_count": 93
        }
      ]
    },
    {
      "cell_type": "markdown",
      "metadata": {
        "id": "7gUA2IpTou41",
        "colab_type": "text"
      },
      "source": [
        "## Analysis on Shops"
      ]
    },
    {
      "cell_type": "code",
      "metadata": {
        "id": "96sonMbood_C",
        "colab_type": "code",
        "colab": {
          "base_uri": "https://localhost:8080/",
          "height": 80
        },
        "outputId": "52f435b3-d626-47db-9442-74d2dbf24429"
      },
      "source": [
        "shops.describe().T"
      ],
      "execution_count": 94,
      "outputs": [
        {
          "output_type": "execute_result",
          "data": {
            "text/html": [
              "<div>\n",
              "<style scoped>\n",
              "    .dataframe tbody tr th:only-of-type {\n",
              "        vertical-align: middle;\n",
              "    }\n",
              "\n",
              "    .dataframe tbody tr th {\n",
              "        vertical-align: top;\n",
              "    }\n",
              "\n",
              "    .dataframe thead th {\n",
              "        text-align: right;\n",
              "    }\n",
              "</style>\n",
              "<table border=\"1\" class=\"dataframe\">\n",
              "  <thead>\n",
              "    <tr style=\"text-align: right;\">\n",
              "      <th></th>\n",
              "      <th>count</th>\n",
              "      <th>mean</th>\n",
              "      <th>std</th>\n",
              "      <th>min</th>\n",
              "      <th>25%</th>\n",
              "      <th>50%</th>\n",
              "      <th>75%</th>\n",
              "      <th>max</th>\n",
              "    </tr>\n",
              "  </thead>\n",
              "  <tbody>\n",
              "    <tr>\n",
              "      <th>shop_id</th>\n",
              "      <td>60.0</td>\n",
              "      <td>29.5</td>\n",
              "      <td>17.464249</td>\n",
              "      <td>0.0</td>\n",
              "      <td>14.75</td>\n",
              "      <td>29.5</td>\n",
              "      <td>44.25</td>\n",
              "      <td>59.0</td>\n",
              "    </tr>\n",
              "  </tbody>\n",
              "</table>\n",
              "</div>"
            ],
            "text/plain": [
              "         count  mean        std  min    25%   50%    75%   max\n",
              "shop_id   60.0  29.5  17.464249  0.0  14.75  29.5  44.25  59.0"
            ]
          },
          "metadata": {
            "tags": []
          },
          "execution_count": 94
        }
      ]
    },
    {
      "cell_type": "code",
      "metadata": {
        "id": "Xz9DtxQto0Gu",
        "colab_type": "code",
        "colab": {
          "base_uri": "https://localhost:8080/",
          "height": 969
        },
        "outputId": "b9158e6b-e134-4d04-b512-426e6a5371fd"
      },
      "source": [
        "shops_en.head(30)"
      ],
      "execution_count": 96,
      "outputs": [
        {
          "output_type": "execute_result",
          "data": {
            "text/html": [
              "<div>\n",
              "<style scoped>\n",
              "    .dataframe tbody tr th:only-of-type {\n",
              "        vertical-align: middle;\n",
              "    }\n",
              "\n",
              "    .dataframe tbody tr th {\n",
              "        vertical-align: top;\n",
              "    }\n",
              "\n",
              "    .dataframe thead th {\n",
              "        text-align: right;\n",
              "    }\n",
              "</style>\n",
              "<table border=\"1\" class=\"dataframe\">\n",
              "  <thead>\n",
              "    <tr style=\"text-align: right;\">\n",
              "      <th></th>\n",
              "      <th>shop_name</th>\n",
              "      <th>shop_id</th>\n",
              "    </tr>\n",
              "  </thead>\n",
              "  <tbody>\n",
              "    <tr>\n",
              "      <th>0</th>\n",
              "      <td>! Yakutsk Ordzhonikidze, 56 Franc</td>\n",
              "      <td>0</td>\n",
              "    </tr>\n",
              "    <tr>\n",
              "      <th>1</th>\n",
              "      <td>! Yakutsk TC \"Central\" Franc</td>\n",
              "      <td>1</td>\n",
              "    </tr>\n",
              "    <tr>\n",
              "      <th>2</th>\n",
              "      <td>Adygea TC \"Mega\"</td>\n",
              "      <td>2</td>\n",
              "    </tr>\n",
              "    <tr>\n",
              "      <th>3</th>\n",
              "      <td>Balashikha TRC \"October-Kinomir\"</td>\n",
              "      <td>3</td>\n",
              "    </tr>\n",
              "    <tr>\n",
              "      <th>4</th>\n",
              "      <td>Volzhsky mall \"Volga Mall\"</td>\n",
              "      <td>4</td>\n",
              "    </tr>\n",
              "    <tr>\n",
              "      <th>5</th>\n",
              "      <td>Vologda SEC \"Marmalade\"</td>\n",
              "      <td>5</td>\n",
              "    </tr>\n",
              "    <tr>\n",
              "      <th>6</th>\n",
              "      <td>Voronezh (Plekhanovskaya, 13)</td>\n",
              "      <td>6</td>\n",
              "    </tr>\n",
              "    <tr>\n",
              "      <th>7</th>\n",
              "      <td>Voronezh TRC \"Maksimir\"</td>\n",
              "      <td>7</td>\n",
              "    </tr>\n",
              "    <tr>\n",
              "      <th>8</th>\n",
              "      <td>Voronezh TRC City-Park \"City\"</td>\n",
              "      <td>8</td>\n",
              "    </tr>\n",
              "    <tr>\n",
              "      <th>9</th>\n",
              "      <td>Itinerant trade</td>\n",
              "      <td>9</td>\n",
              "    </tr>\n",
              "    <tr>\n",
              "      <th>10</th>\n",
              "      <td>Zhukovsky Street. Chkalov 39m?</td>\n",
              "      <td>10</td>\n",
              "    </tr>\n",
              "    <tr>\n",
              "      <th>11</th>\n",
              "      <td>Zhukovsky Street. Chkalov 39m²</td>\n",
              "      <td>11</td>\n",
              "    </tr>\n",
              "    <tr>\n",
              "      <th>12</th>\n",
              "      <td>Shop Online Emergencies</td>\n",
              "      <td>12</td>\n",
              "    </tr>\n",
              "    <tr>\n",
              "      <th>13</th>\n",
              "      <td>Kazan shopping center \"Bahetle\"</td>\n",
              "      <td>13</td>\n",
              "    </tr>\n",
              "    <tr>\n",
              "      <th>14</th>\n",
              "      <td>Kazan shopping mall of \"Parkhouse\" II of</td>\n",
              "      <td>14</td>\n",
              "    </tr>\n",
              "    <tr>\n",
              "      <th>15</th>\n",
              "      <td>Kaluga SEC \"XXI Century\"</td>\n",
              "      <td>15</td>\n",
              "    </tr>\n",
              "    <tr>\n",
              "      <th>16</th>\n",
              "      <td>Kolomna TC \"Rio\"</td>\n",
              "      <td>16</td>\n",
              "    </tr>\n",
              "    <tr>\n",
              "      <th>17</th>\n",
              "      <td>Krasnoyarsk TC \"Vzletka Plaza\"</td>\n",
              "      <td>17</td>\n",
              "    </tr>\n",
              "    <tr>\n",
              "      <th>18</th>\n",
              "      <td>Krasnoyarsk SC \"June\"</td>\n",
              "      <td>18</td>\n",
              "    </tr>\n",
              "    <tr>\n",
              "      <th>19</th>\n",
              "      <td>Kursk TC \"Pushkin\"</td>\n",
              "      <td>19</td>\n",
              "    </tr>\n",
              "    <tr>\n",
              "      <th>20</th>\n",
              "      <td>Moscow \"Sale\"</td>\n",
              "      <td>20</td>\n",
              "    </tr>\n",
              "    <tr>\n",
              "      <th>21</th>\n",
              "      <td>Moscow MTRTS \"Afi Mall\"</td>\n",
              "      <td>21</td>\n",
              "    </tr>\n",
              "    <tr>\n",
              "      <th>22</th>\n",
              "      <td>Moscow Shop C21</td>\n",
              "      <td>22</td>\n",
              "    </tr>\n",
              "    <tr>\n",
              "      <th>23</th>\n",
              "      <td>Moscow TK \"Budenovsky\" (pav.A2)</td>\n",
              "      <td>23</td>\n",
              "    </tr>\n",
              "    <tr>\n",
              "      <th>24</th>\n",
              "      <td>Moscow TK \"Budenovsky\" (pav.K7)</td>\n",
              "      <td>24</td>\n",
              "    </tr>\n",
              "    <tr>\n",
              "      <th>25</th>\n",
              "      <td>Moscow TRC \"Atrium\"</td>\n",
              "      <td>25</td>\n",
              "    </tr>\n",
              "    <tr>\n",
              "      <th>26</th>\n",
              "      <td>Moscow shopping mall \"area\" (Belyaevo)</td>\n",
              "      <td>26</td>\n",
              "    </tr>\n",
              "    <tr>\n",
              "      <th>27</th>\n",
              "      <td>Moscow shopping center \"MEGA Belaya Dacha II\"</td>\n",
              "      <td>27</td>\n",
              "    </tr>\n",
              "    <tr>\n",
              "      <th>28</th>\n",
              "      <td>Moscow shopping center \"MEGA Teply Stan\" II of</td>\n",
              "      <td>28</td>\n",
              "    </tr>\n",
              "    <tr>\n",
              "      <th>29</th>\n",
              "      <td>Moscow shopping center \"New Age\" (Novokosino)</td>\n",
              "      <td>29</td>\n",
              "    </tr>\n",
              "  </tbody>\n",
              "</table>\n",
              "</div>"
            ],
            "text/plain": [
              "                                         shop_name  shop_id\n",
              "0                ! Yakutsk Ordzhonikidze, 56 Franc        0\n",
              "1                     ! Yakutsk TC \"Central\" Franc        1\n",
              "2                                 Adygea TC \"Mega\"        2\n",
              "3                 Balashikha TRC \"October-Kinomir\"        3\n",
              "4                       Volzhsky mall \"Volga Mall\"        4\n",
              "5                          Vologda SEC \"Marmalade\"        5\n",
              "6                    Voronezh (Plekhanovskaya, 13)        6\n",
              "7                          Voronezh TRC \"Maksimir\"        7\n",
              "8                    Voronezh TRC City-Park \"City\"        8\n",
              "9                                  Itinerant trade        9\n",
              "10                  Zhukovsky Street. Chkalov 39m?       10\n",
              "11                  Zhukovsky Street. Chkalov 39m²       11\n",
              "12                         Shop Online Emergencies       12\n",
              "13                 Kazan shopping center \"Bahetle\"       13\n",
              "14        Kazan shopping mall of \"Parkhouse\" II of       14\n",
              "15                        Kaluga SEC \"XXI Century\"       15\n",
              "16                                Kolomna TC \"Rio\"       16\n",
              "17                  Krasnoyarsk TC \"Vzletka Plaza\"       17\n",
              "18                           Krasnoyarsk SC \"June\"       18\n",
              "19                              Kursk TC \"Pushkin\"       19\n",
              "20                                   Moscow \"Sale\"       20\n",
              "21                         Moscow MTRTS \"Afi Mall\"       21\n",
              "22                                 Moscow Shop C21       22\n",
              "23                 Moscow TK \"Budenovsky\" (pav.A2)       23\n",
              "24                 Moscow TK \"Budenovsky\" (pav.K7)       24\n",
              "25                             Moscow TRC \"Atrium\"       25\n",
              "26          Moscow shopping mall \"area\" (Belyaevo)       26\n",
              "27   Moscow shopping center \"MEGA Belaya Dacha II\"       27\n",
              "28  Moscow shopping center \"MEGA Teply Stan\" II of       28\n",
              "29   Moscow shopping center \"New Age\" (Novokosino)       29"
            ]
          },
          "metadata": {
            "tags": []
          },
          "execution_count": 96
        }
      ]
    },
    {
      "cell_type": "code",
      "metadata": {
        "id": "TQTT8sr7o9I1",
        "colab_type": "code",
        "colab": {
          "base_uri": "https://localhost:8080/",
          "height": 329
        },
        "outputId": "4f560631-e958-4f3a-c09f-6328201ec42e"
      },
      "source": [
        "shops_en.shop_name.str[0].drop_duplicates()"
      ],
      "execution_count": 97,
      "outputs": [
        {
          "output_type": "execute_result",
          "data": {
            "text/plain": [
              "0     !\n",
              "2     A\n",
              "3     B\n",
              "4     V\n",
              "9     I\n",
              "10    Z\n",
              "12    S\n",
              "13    K\n",
              "20    M\n",
              "34    N\n",
              "38    O\n",
              "39    R\n",
              "48    T\n",
              "52    U\n",
              "55    D\n",
              "56    C\n",
              "57    Y\n",
              "Name: shop_name, dtype: object"
            ]
          },
          "metadata": {
            "tags": []
          },
          "execution_count": 97
        }
      ]
    },
    {
      "cell_type": "markdown",
      "metadata": {
        "id": "N7BQ6FMopIIc",
        "colab_type": "text"
      },
      "source": [
        "#### Barely looking at the dataset we could notice that city names are put at the beginning of each shop_name, there are also cities with the ! special char\n",
        "\n",
        "\n",
        "So we can create two more features, one will be the city names of each shop, anther will be whether a the special char ! is the beginning of any city name and lastly we will remove ! from the city names"
      ]
    },
    {
      "cell_type": "code",
      "metadata": {
        "id": "3j0n4l-RppUZ",
        "colab_type": "code",
        "colab": {}
      },
      "source": [
        "shops['city'] = shops['shop_name'].str.split(' ').map(lambda x: x[0])\n",
        "shops['flag_city'] = (shops['city'].str[0] == '!')*1\n",
        "shops['city'] = shops['city'].str.replace('!','')"
      ],
      "execution_count": 98,
      "outputs": []
    },
    {
      "cell_type": "code",
      "metadata": {
        "id": "WZWjRh0Zqrh4",
        "colab_type": "code",
        "colab": {
          "base_uri": "https://localhost:8080/",
          "height": 202
        },
        "outputId": "962917d3-3571-4636-8de3-cc6c7a03c50b"
      },
      "source": [
        "shops.head(5)"
      ],
      "execution_count": 99,
      "outputs": [
        {
          "output_type": "execute_result",
          "data": {
            "text/html": [
              "<div>\n",
              "<style scoped>\n",
              "    .dataframe tbody tr th:only-of-type {\n",
              "        vertical-align: middle;\n",
              "    }\n",
              "\n",
              "    .dataframe tbody tr th {\n",
              "        vertical-align: top;\n",
              "    }\n",
              "\n",
              "    .dataframe thead th {\n",
              "        text-align: right;\n",
              "    }\n",
              "</style>\n",
              "<table border=\"1\" class=\"dataframe\">\n",
              "  <thead>\n",
              "    <tr style=\"text-align: right;\">\n",
              "      <th></th>\n",
              "      <th>shop_name</th>\n",
              "      <th>shop_id</th>\n",
              "      <th>city</th>\n",
              "      <th>flag_city</th>\n",
              "    </tr>\n",
              "  </thead>\n",
              "  <tbody>\n",
              "    <tr>\n",
              "      <th>0</th>\n",
              "      <td>!Якутск Орджоникидзе, 56 фран</td>\n",
              "      <td>0</td>\n",
              "      <td>Якутск</td>\n",
              "      <td>1</td>\n",
              "    </tr>\n",
              "    <tr>\n",
              "      <th>1</th>\n",
              "      <td>!Якутск ТЦ \"Центральный\" фран</td>\n",
              "      <td>1</td>\n",
              "      <td>Якутск</td>\n",
              "      <td>1</td>\n",
              "    </tr>\n",
              "    <tr>\n",
              "      <th>2</th>\n",
              "      <td>Адыгея ТЦ \"Мега\"</td>\n",
              "      <td>2</td>\n",
              "      <td>Адыгея</td>\n",
              "      <td>0</td>\n",
              "    </tr>\n",
              "    <tr>\n",
              "      <th>3</th>\n",
              "      <td>Балашиха ТРК \"Октябрь-Киномир\"</td>\n",
              "      <td>3</td>\n",
              "      <td>Балашиха</td>\n",
              "      <td>0</td>\n",
              "    </tr>\n",
              "    <tr>\n",
              "      <th>4</th>\n",
              "      <td>Волжский ТЦ \"Волга Молл\"</td>\n",
              "      <td>4</td>\n",
              "      <td>Волжский</td>\n",
              "      <td>0</td>\n",
              "    </tr>\n",
              "  </tbody>\n",
              "</table>\n",
              "</div>"
            ],
            "text/plain": [
              "                        shop_name  shop_id      city  flag_city\n",
              "0   !Якутск Орджоникидзе, 56 фран        0    Якутск          1\n",
              "1   !Якутск ТЦ \"Центральный\" фран        1    Якутск          1\n",
              "2                Адыгея ТЦ \"Мега\"        2    Адыгея          0\n",
              "3  Балашиха ТРК \"Октябрь-Киномир\"        3  Балашиха          0\n",
              "4        Волжский ТЦ \"Волга Молл\"        4  Волжский          0"
            ]
          },
          "metadata": {
            "tags": []
          },
          "execution_count": 99
        }
      ]
    },
    {
      "cell_type": "code",
      "metadata": {
        "id": "JQepVcodqvAw",
        "colab_type": "code",
        "colab": {}
      },
      "source": [
        "# Save the data with their new features\n",
        "items.to_pickle(os.path.join(PARENT_DIR, 'items.pkl'))\n",
        "item_categories.to_pickle(os.path.join(PARENT_DIR, 'item_categories.pkl'))\n",
        "shops.to_pickle(os.path.join(PARENT_DIR, 'shops.pkl'))                "
      ],
      "execution_count": 100,
      "outputs": []
    },
    {
      "cell_type": "code",
      "metadata": {
        "id": "rAV9oxrqreKV",
        "colab_type": "code",
        "colab": {}
      },
      "source": [
        ""
      ],
      "execution_count": null,
      "outputs": []
    }
  ]
}
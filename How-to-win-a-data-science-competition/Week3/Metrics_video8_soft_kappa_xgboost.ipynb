{
  "nbformat": 4,
  "nbformat_minor": 0,
  "metadata": {
    "kernelspec": {
      "display_name": "Python 3",
      "language": "python",
      "name": "python3"
    },
    "language_info": {
      "codemirror_mode": {
        "name": "ipython",
        "version": 3
      },
      "file_extension": ".py",
      "mimetype": "text/x-python",
      "name": "python",
      "nbconvert_exporter": "python",
      "pygments_lexer": "ipython3",
      "version": "3.6.2"
    },
    "colab": {
      "name": "Metrics_video8_soft_kappa_xgboost.ipynb",
      "provenance": [],
      "include_colab_link": true
    }
  },
  "cells": [
    {
      "cell_type": "markdown",
      "metadata": {
        "id": "view-in-github",
        "colab_type": "text"
      },
      "source": [
        "<a href=\"https://colab.research.google.com/github/VictorMadu/Coursera-Deep-Learning-Specialization-Course/blob/master/%20How-to-win-a-data-science-competition/Week3/Metrics_video8_soft_kappa_xgboost.ipynb\" target=\"_parent\"><img src=\"https://colab.research.google.com/assets/colab-badge.svg\" alt=\"Open In Colab\"/></a>"
      ]
    },
    {
      "cell_type": "markdown",
      "metadata": {
        "id": "uUbQBaBfeoMm",
        "colab_type": "text"
      },
      "source": [
        "# Soft Kappa objective"
      ]
    },
    {
      "cell_type": "markdown",
      "metadata": {
        "id": "DJu4LLokeoMo",
        "colab_type": "text"
      },
      "source": [
        "In this notebook you can find an implementation for \"soft kappa\" loss and objective from [this paper](https://arxiv.org/abs/1509.07107). "
      ]
    },
    {
      "cell_type": "code",
      "metadata": {
        "id": "oSpwi8GQeoMp",
        "colab_type": "code",
        "colab": {}
      },
      "source": [
        "def soft_kappa_grad_hess(y, p):\n",
        "    '''\n",
        "        Returns first and second derivatives of the objective with respect to predictions `p`. \n",
        "        `y` is a vector of corresponding target labels.  \n",
        "    '''\n",
        "    norm = p.dot(p) + y.dot(y)\n",
        "    \n",
        "    grad = -2 * y / norm + 4 * p * np.dot(y, p) / (norm ** 2)\n",
        "    hess = 8 * p * y / (norm ** 2) + 4 * np.dot(y, p) / (norm ** 2)  - (16 * p ** 2 * np.dot(y, p)) / (norm ** 3)\n",
        "    return grad, hess"
      ],
      "execution_count": null,
      "outputs": []
    },
    {
      "cell_type": "code",
      "metadata": {
        "id": "-xKikh0JeoMw",
        "colab_type": "code",
        "colab": {}
      },
      "source": [
        "def soft_kappa(preds, dtrain):\n",
        "    '''\n",
        "        Having predictions `preds` and targets `dtrain.get_label()` this function coumputes soft kappa loss.\n",
        "        NOTE, that it assumes `mean(target) = 0`.\n",
        "        \n",
        "    '''\n",
        "    target = dtrain.get_label()\n",
        "    return 'kappa' ,  -2 * target.dot(preds) / (target.dot(target) + preds.dot(preds))"
      ],
      "execution_count": null,
      "outputs": []
    }
  ]
}

{
  "nbformat": 4,
  "nbformat_minor": 0,
  "metadata": {
    "kernelspec": {
      "display_name": "Python 3",
      "language": "python",
      "name": "python3"
    },
    "language_info": {
      "codemirror_mode": {
        "name": "ipython",
        "version": 3
      },
      "file_extension": ".py",
      "mimetype": "text/x-python",
      "name": "python",
      "nbconvert_exporter": "python",
      "pygments_lexer": "ipython3",
      "version": "3.6.0"
    },
    "colab": {
      "name": "Programming_assignment_week_3.ipynb",
      "provenance": [],
      "toc_visible": true,
      "include_colab_link": true
    }
  },
  "cells": [
    {
      "cell_type": "markdown",
      "metadata": {
        "id": "view-in-github",
        "colab_type": "text"
      },
      "source": [
        "<a href=\"https://colab.research.google.com/github/VictorMadu/Coursera-Deep-Learning-Specialization-Course/blob/master/How-to-win-a-data-science-competition/Week3/Programming_assignment_week_3.ipynb\" target=\"_parent\"><img src=\"https://colab.research.google.com/assets/colab-badge.svg\" alt=\"Open In Colab\"/></a>"
      ]
    },
    {
      "cell_type": "markdown",
      "metadata": {
        "id": "b5dz-Cf6n_SH",
        "colab_type": "text"
      },
      "source": [
        "Version 1.1.0"
      ]
    },
    {
      "cell_type": "markdown",
      "metadata": {
        "id": "ZGJhoFa6n_SJ",
        "colab_type": "text"
      },
      "source": [
        "# Mean encodings"
      ]
    },
    {
      "cell_type": "markdown",
      "metadata": {
        "id": "aoFAdPbmn_SK",
        "colab_type": "text"
      },
      "source": [
        "In this programming assignment you will be working with `1C` dataset from the final competition. You are asked to encode `item_id` in 4 different ways:\n",
        "\n",
        "    1) Via KFold scheme;  \n",
        "    2) Via Leave-one-out scheme;\n",
        "    3) Via smoothing scheme;\n",
        "    4) Via expanding mean scheme.\n",
        "\n",
        "**You will need to submit** the correlation coefficient between resulting encoding and target variable up to 4 decimal places.\n",
        "\n",
        "### General tips\n",
        "\n",
        "* Fill NANs in the encoding with `0.3343`.\n",
        "* Some encoding schemes depend on sorting order, so in order to avoid confusion, please use the following code snippet to construct the data frame. This snippet also implements mean encoding without regularization."
      ]
    },
    {
      "cell_type": "code",
      "metadata": {
        "id": "izLQgjsKn_SM",
        "colab_type": "code",
        "colab": {}
      },
      "source": [
        "import pandas as pd\n",
        "import numpy as np\n",
        "from itertools import product\n",
        "from grader import Grader"
      ],
      "execution_count": null,
      "outputs": []
    },
    {
      "cell_type": "markdown",
      "metadata": {
        "id": "UBAAF3CLn_ST",
        "colab_type": "text"
      },
      "source": [
        "# Read data"
      ]
    },
    {
      "cell_type": "code",
      "metadata": {
        "id": "l1ftqH06n_SU",
        "colab_type": "code",
        "colab": {}
      },
      "source": [
        "sales = pd.read_csv('https://github.com/hse-aml/competitive-data-science/blob/master/readonly/final_project_data/sales_train.csv.gz?raw=true', compression='gzip')"
      ],
      "execution_count": null,
      "outputs": []
    },
    {
      "cell_type": "markdown",
      "metadata": {
        "id": "EJkhWUoIn_SZ",
        "colab_type": "text"
      },
      "source": [
        "# Aggregate data"
      ]
    },
    {
      "cell_type": "markdown",
      "metadata": {
        "id": "oTkHRkcun_Sa",
        "colab_type": "text"
      },
      "source": [
        "Since the competition task is to make a monthly prediction, we need to aggregate the data to montly level before doing any encodings. The following code-cell serves just that purpose."
      ]
    },
    {
      "cell_type": "code",
      "metadata": {
        "id": "IwDikBk7rrE2",
        "colab_type": "code",
        "colab": {
          "base_uri": "https://localhost:8080/",
          "height": 202
        },
        "outputId": "17fa1806-5d85-4f76-c8f3-1fc2878c9cb7"
      },
      "source": [
        "sales.head()"
      ],
      "execution_count": null,
      "outputs": [
        {
          "output_type": "execute_result",
          "data": {
            "text/html": [
              "<div>\n",
              "<style scoped>\n",
              "    .dataframe tbody tr th:only-of-type {\n",
              "        vertical-align: middle;\n",
              "    }\n",
              "\n",
              "    .dataframe tbody tr th {\n",
              "        vertical-align: top;\n",
              "    }\n",
              "\n",
              "    .dataframe thead th {\n",
              "        text-align: right;\n",
              "    }\n",
              "</style>\n",
              "<table border=\"1\" class=\"dataframe\">\n",
              "  <thead>\n",
              "    <tr style=\"text-align: right;\">\n",
              "      <th></th>\n",
              "      <th>date</th>\n",
              "      <th>date_block_num</th>\n",
              "      <th>shop_id</th>\n",
              "      <th>item_id</th>\n",
              "      <th>item_price</th>\n",
              "      <th>item_cnt_day</th>\n",
              "    </tr>\n",
              "  </thead>\n",
              "  <tbody>\n",
              "    <tr>\n",
              "      <th>0</th>\n",
              "      <td>02.01.2013</td>\n",
              "      <td>0</td>\n",
              "      <td>59</td>\n",
              "      <td>22154</td>\n",
              "      <td>999.00</td>\n",
              "      <td>1.0</td>\n",
              "    </tr>\n",
              "    <tr>\n",
              "      <th>1</th>\n",
              "      <td>03.01.2013</td>\n",
              "      <td>0</td>\n",
              "      <td>25</td>\n",
              "      <td>2552</td>\n",
              "      <td>899.00</td>\n",
              "      <td>1.0</td>\n",
              "    </tr>\n",
              "    <tr>\n",
              "      <th>2</th>\n",
              "      <td>05.01.2013</td>\n",
              "      <td>0</td>\n",
              "      <td>25</td>\n",
              "      <td>2552</td>\n",
              "      <td>899.00</td>\n",
              "      <td>-1.0</td>\n",
              "    </tr>\n",
              "    <tr>\n",
              "      <th>3</th>\n",
              "      <td>06.01.2013</td>\n",
              "      <td>0</td>\n",
              "      <td>25</td>\n",
              "      <td>2554</td>\n",
              "      <td>1709.05</td>\n",
              "      <td>1.0</td>\n",
              "    </tr>\n",
              "    <tr>\n",
              "      <th>4</th>\n",
              "      <td>15.01.2013</td>\n",
              "      <td>0</td>\n",
              "      <td>25</td>\n",
              "      <td>2555</td>\n",
              "      <td>1099.00</td>\n",
              "      <td>1.0</td>\n",
              "    </tr>\n",
              "  </tbody>\n",
              "</table>\n",
              "</div>"
            ],
            "text/plain": [
              "         date  date_block_num  shop_id  item_id  item_price  item_cnt_day\n",
              "0  02.01.2013               0       59    22154      999.00           1.0\n",
              "1  03.01.2013               0       25     2552      899.00           1.0\n",
              "2  05.01.2013               0       25     2552      899.00          -1.0\n",
              "3  06.01.2013               0       25     2554     1709.05           1.0\n",
              "4  15.01.2013               0       25     2555     1099.00           1.0"
            ]
          },
          "metadata": {
            "tags": []
          },
          "execution_count": 10
        }
      ]
    },
    {
      "cell_type": "code",
      "metadata": {
        "id": "3z8Doft3n_Sc",
        "colab_type": "code",
        "colab": {}
      },
      "source": [
        "index_cols = ['shop_id', 'item_id', 'date_block_num']\n",
        "\n",
        "# For every month we create a grid from all shops/items combinations from that month\n",
        "grid = [] \n",
        "for block_num in sales['date_block_num'].unique():\n",
        "    cur_shops = sales[sales['date_block_num']==block_num]['shop_id'].unique()\n",
        "    cur_items = sales[sales['date_block_num']==block_num]['item_id'].unique()\n",
        "    grid.append(np.array(list(product(*[cur_shops, cur_items, [block_num]])),dtype='int32'))\n",
        "\n",
        "#turn the grid into pandas dataframe\n",
        "grid = pd.DataFrame(np.vstack(grid), columns = index_cols,dtype=np.int32)\n",
        "\n",
        "#get aggregated values for (shop_id, item_id, month)\n",
        "# gb = sales.groupby(index_cols,as_index=False).agg({'item_cnt_day':{'target':'sum'}})\n",
        "gb = sales.groupby(index_cols, as_index=False)['item_cnt_day'].agg(['sum'])\n",
        "\n",
        "# #fix column names\n",
        "gb.columns = [col[0] if col[-1]=='' else col[-1] for col in gb.columns.values]\n",
        "#join aggregated data to the grid\n",
        "all_data = pd.merge(grid,gb,how='left',on=index_cols).fillna(0)\n",
        "#sort the data\n",
        "all_data.sort_values(['date_block_num','shop_id','item_id'],inplace=True)"
      ],
      "execution_count": null,
      "outputs": []
    },
    {
      "cell_type": "code",
      "metadata": {
        "id": "3tseBV8I9EOB",
        "colab_type": "code",
        "colab": {}
      },
      "source": [
        "all_data.columns = ['shop_id', 'item_id', 'date_block_num', 'target']"
      ],
      "execution_count": null,
      "outputs": []
    },
    {
      "cell_type": "code",
      "metadata": {
        "id": "6rFb09Wv6ZhC",
        "colab_type": "code",
        "colab": {
          "base_uri": "https://localhost:8080/",
          "height": 202
        },
        "outputId": "1f3ff4ac-8b92-4840-baff-da77e12914be"
      },
      "source": [
        "all_data.head()"
      ],
      "execution_count": null,
      "outputs": [
        {
          "output_type": "execute_result",
          "data": {
            "text/html": [
              "<div>\n",
              "<style scoped>\n",
              "    .dataframe tbody tr th:only-of-type {\n",
              "        vertical-align: middle;\n",
              "    }\n",
              "\n",
              "    .dataframe tbody tr th {\n",
              "        vertical-align: top;\n",
              "    }\n",
              "\n",
              "    .dataframe thead th {\n",
              "        text-align: right;\n",
              "    }\n",
              "</style>\n",
              "<table border=\"1\" class=\"dataframe\">\n",
              "  <thead>\n",
              "    <tr style=\"text-align: right;\">\n",
              "      <th></th>\n",
              "      <th>shop_id</th>\n",
              "      <th>item_id</th>\n",
              "      <th>date_block_num</th>\n",
              "      <th>target</th>\n",
              "    </tr>\n",
              "  </thead>\n",
              "  <tbody>\n",
              "    <tr>\n",
              "      <th>139255</th>\n",
              "      <td>0</td>\n",
              "      <td>19</td>\n",
              "      <td>0</td>\n",
              "      <td>0.0</td>\n",
              "    </tr>\n",
              "    <tr>\n",
              "      <th>141495</th>\n",
              "      <td>0</td>\n",
              "      <td>27</td>\n",
              "      <td>0</td>\n",
              "      <td>0.0</td>\n",
              "    </tr>\n",
              "    <tr>\n",
              "      <th>144968</th>\n",
              "      <td>0</td>\n",
              "      <td>28</td>\n",
              "      <td>0</td>\n",
              "      <td>0.0</td>\n",
              "    </tr>\n",
              "    <tr>\n",
              "      <th>142661</th>\n",
              "      <td>0</td>\n",
              "      <td>29</td>\n",
              "      <td>0</td>\n",
              "      <td>0.0</td>\n",
              "    </tr>\n",
              "    <tr>\n",
              "      <th>138947</th>\n",
              "      <td>0</td>\n",
              "      <td>32</td>\n",
              "      <td>0</td>\n",
              "      <td>6.0</td>\n",
              "    </tr>\n",
              "  </tbody>\n",
              "</table>\n",
              "</div>"
            ],
            "text/plain": [
              "        shop_id  item_id  date_block_num  target\n",
              "139255        0       19               0     0.0\n",
              "141495        0       27               0     0.0\n",
              "144968        0       28               0     0.0\n",
              "142661        0       29               0     0.0\n",
              "138947        0       32               0     6.0"
            ]
          },
          "metadata": {
            "tags": []
          },
          "execution_count": 41
        }
      ]
    },
    {
      "cell_type": "markdown",
      "metadata": {
        "id": "xtP2yYVAn_Si",
        "colab_type": "text"
      },
      "source": [
        "# Mean encodings without regularization"
      ]
    },
    {
      "cell_type": "markdown",
      "metadata": {
        "id": "L9zB04ehn_Sj",
        "colab_type": "text"
      },
      "source": [
        "After we did the techinical work, we are ready to actually *mean encode* the desired `item_id` variable. \n",
        "\n",
        "Here are two ways to implement mean encoding features *without* any regularization. You can use this code as a starting point to implement regularized techniques. "
      ]
    },
    {
      "cell_type": "markdown",
      "metadata": {
        "id": "Jvmg45ion_Sk",
        "colab_type": "text"
      },
      "source": [
        "#### Method 1"
      ]
    },
    {
      "cell_type": "code",
      "metadata": {
        "scrolled": true,
        "id": "69ch5xaSn_Sl",
        "colab_type": "code",
        "colab": {
          "base_uri": "https://localhost:8080/",
          "height": 34
        },
        "outputId": "0d640830-7030-41df-d958-a06f79e21b43"
      },
      "source": [
        "# Calculate a mapping: {item_id: target_mean}\n",
        "item_id_target_mean = all_data.groupby('item_id').target.mean()\n",
        "\n",
        "# In our non-regularized case we just *map* the computed means to the `item_id`'s\n",
        "all_data['item_target_enc'] = all_data['item_id'].map(item_id_target_mean)\n",
        "\n",
        "# Fill NaNs\n",
        "all_data['item_target_enc'].fillna(0.3343, inplace=True) \n",
        "\n",
        "# Print correlation\n",
        "encoded_feature = all_data['item_target_enc'].values\n",
        "print(np.corrcoef(all_data['target'].values, encoded_feature)[0][1])"
      ],
      "execution_count": null,
      "outputs": [
        {
          "output_type": "stream",
          "text": [
            "0.4830386988621699\n"
          ],
          "name": "stdout"
        }
      ]
    },
    {
      "cell_type": "markdown",
      "metadata": {
        "id": "LUu4OnsCn_Sq",
        "colab_type": "text"
      },
      "source": [
        "#### Method 2"
      ]
    },
    {
      "cell_type": "code",
      "metadata": {
        "id": "uoVy0Eawn_St",
        "colab_type": "code",
        "colab": {
          "base_uri": "https://localhost:8080/",
          "height": 34
        },
        "outputId": "923715c8-f6e4-424a-bbab-6ac4f52332ff"
      },
      "source": [
        "'''\n",
        "     Differently to `.target.mean()` function `transform` \n",
        "   will return a dataframe with an index like in `all_data`.\n",
        "   Basically this single line of code is equivalent to the first two lines from of Method 1.\n",
        "'''\n",
        "all_data['item_target_enc'] = all_data.groupby('item_id')['target'].transform('mean')\n",
        "\n",
        "# Fill NaNs\n",
        "all_data['item_target_enc'].fillna(0.3343, inplace=True) \n",
        "\n",
        "# Print correlation\n",
        "encoded_feature = all_data['item_target_enc'].values\n",
        "print(np.corrcoef(all_data['target'].values, encoded_feature)[0][1])"
      ],
      "execution_count": null,
      "outputs": [
        {
          "output_type": "stream",
          "text": [
            "0.4830386988621699\n"
          ],
          "name": "stdout"
        }
      ]
    },
    {
      "cell_type": "markdown",
      "metadata": {
        "id": "7M7nZ_v8n_Sz",
        "colab_type": "text"
      },
      "source": [
        "See the printed value? It is the correlation coefficient between the target variable and your new encoded feature. You need to **compute correlation coefficient** between the encodings, that you will implement and **submit those to coursera**."
      ]
    },
    {
      "cell_type": "code",
      "metadata": {
        "id": "_6-H_5I0n_S0",
        "colab_type": "code",
        "colab": {}
      },
      "source": [
        "grader = Grader()"
      ],
      "execution_count": null,
      "outputs": []
    },
    {
      "cell_type": "markdown",
      "metadata": {
        "id": "3_-8R_V5n_S6",
        "colab_type": "text"
      },
      "source": [
        "# 1. KFold scheme"
      ]
    },
    {
      "cell_type": "markdown",
      "metadata": {
        "id": "JJdSglQrn_S7",
        "colab_type": "text"
      },
      "source": [
        "Explained starting at 41 sec of [Regularization video](https://www.coursera.org/learn/competitive-data-science/lecture/LGYQ2/regularization)."
      ]
    },
    {
      "cell_type": "markdown",
      "metadata": {
        "id": "ja5yq1Ran_S8",
        "colab_type": "text"
      },
      "source": [
        "**Now it's your turn to write the code!** \n",
        "\n",
        "You may use 'Regularization' video as a reference for all further tasks.\n",
        "\n",
        "First, implement KFold scheme with five folds. Use KFold(5) from sklearn.model_selection. \n",
        "\n",
        "1. Split your data in 5 folds with `sklearn.model_selection.KFold` with `shuffle=False` argument.\n",
        "2. Iterate through folds: use all but the current fold to calculate mean target for each level `item_id`, and  fill the current fold.\n",
        "\n",
        "    *  See the **Method 1** from the example implementation. In particular learn what `map` and pd.Series.map functions do. They are pretty handy in many situations."
      ]
    },
    {
      "cell_type": "code",
      "metadata": {
        "id": "9TUqp3Lu_FWC",
        "colab_type": "code",
        "colab": {
          "base_uri": "https://localhost:8080/",
          "height": 202
        },
        "outputId": "5105eba9-e952-4ec8-e0fa-de1f989dc97e"
      },
      "source": [
        "all_data[all_data[\"item_id\"] == 19].head()"
      ],
      "execution_count": null,
      "outputs": [
        {
          "output_type": "execute_result",
          "data": {
            "text/html": [
              "<div>\n",
              "<style scoped>\n",
              "    .dataframe tbody tr th:only-of-type {\n",
              "        vertical-align: middle;\n",
              "    }\n",
              "\n",
              "    .dataframe tbody tr th {\n",
              "        vertical-align: top;\n",
              "    }\n",
              "\n",
              "    .dataframe thead th {\n",
              "        text-align: right;\n",
              "    }\n",
              "</style>\n",
              "<table border=\"1\" class=\"dataframe\">\n",
              "  <thead>\n",
              "    <tr style=\"text-align: right;\">\n",
              "      <th></th>\n",
              "      <th>shop_id</th>\n",
              "      <th>item_id</th>\n",
              "      <th>date_block_num</th>\n",
              "      <th>m</th>\n",
              "    </tr>\n",
              "  </thead>\n",
              "  <tbody>\n",
              "    <tr>\n",
              "      <th>139255</th>\n",
              "      <td>0</td>\n",
              "      <td>19</td>\n",
              "      <td>0</td>\n",
              "      <td>0.0</td>\n",
              "    </tr>\n",
              "    <tr>\n",
              "      <th>147370</th>\n",
              "      <td>1</td>\n",
              "      <td>19</td>\n",
              "      <td>0</td>\n",
              "      <td>0.0</td>\n",
              "    </tr>\n",
              "    <tr>\n",
              "      <th>114910</th>\n",
              "      <td>2</td>\n",
              "      <td>19</td>\n",
              "      <td>0</td>\n",
              "      <td>0.0</td>\n",
              "    </tr>\n",
              "    <tr>\n",
              "      <th>123025</th>\n",
              "      <td>3</td>\n",
              "      <td>19</td>\n",
              "      <td>0</td>\n",
              "      <td>0.0</td>\n",
              "    </tr>\n",
              "    <tr>\n",
              "      <th>98680</th>\n",
              "      <td>4</td>\n",
              "      <td>19</td>\n",
              "      <td>0</td>\n",
              "      <td>0.0</td>\n",
              "    </tr>\n",
              "  </tbody>\n",
              "</table>\n",
              "</div>"
            ],
            "text/plain": [
              "        shop_id  item_id  date_block_num    m\n",
              "139255        0       19               0  0.0\n",
              "147370        1       19               0  0.0\n",
              "114910        2       19               0  0.0\n",
              "123025        3       19               0  0.0\n",
              "98680         4       19               0  0.0"
            ]
          },
          "metadata": {
            "tags": []
          },
          "execution_count": 36
        }
      ]
    },
    {
      "cell_type": "code",
      "metadata": {
        "id": "LWusOMJvn_S9",
        "colab_type": "code",
        "colab": {
          "base_uri": "https://localhost:8080/",
          "height": 52
        },
        "outputId": "9a2f9ffb-141a-44fd-c7aa-f90bae4d61ac"
      },
      "source": [
        "# YOUR CODE GOES HERE\n",
        "from sklearn.model_selection import KFold\n",
        "kf = KFold(shuffle=False, n_splits = 5)\n",
        "\n",
        "\n",
        "for train_index, test_index in kf.split(all_data):\n",
        "    x_tr = all_data.iloc[train_index]\n",
        "    mean = x_tr.groupby(\"item_id\").target.mean()\n",
        "    all_data.loc[all_data.index[test_index],'item_target_enc'] = all_data.loc[all_data.index[test_index],'item_id'].map(mean)\n",
        "\n",
        "\n",
        "all_data['item_target_enc'].fillna(0.3343, inplace=True) \n",
        "\n",
        "## fill with global mean \n",
        "#all_data['item_target_enc'].fillna(all_data['target'].mean(), inplace = True)\n",
        "\n",
        "# You will need to compute correlation like that\n",
        "corr = np.corrcoef(all_data['target'].values, encoded_feature)[0][1]\n",
        "print(corr)\n",
        "grader.submit_tag('KFold_scheme', corr)"
      ],
      "execution_count": null,
      "outputs": [
        {
          "output_type": "stream",
          "text": [
            "0.4164590712798811\n",
            "Current answer for task KFold_scheme is: 0.4164590712798811\n"
          ],
          "name": "stdout"
        }
      ]
    },
    {
      "cell_type": "markdown",
      "metadata": {
        "id": "vKaQgy5Gn_TD",
        "colab_type": "text"
      },
      "source": [
        "# 2. Leave-one-out scheme"
      ]
    },
    {
      "cell_type": "markdown",
      "metadata": {
        "collapsed": true,
        "id": "2sbnWqvrn_TE",
        "colab_type": "text"
      },
      "source": [
        "Now, implement leave-one-out scheme. Note that if you just simply set the number of folds to the number of samples and run the code from the **KFold scheme**, you will probably wait for a very long time. \n",
        "\n",
        "To implement a faster version, note, that to calculate mean target value using all the objects but one *given object*, you can:\n",
        "\n",
        "1. Calculate sum of the target values using all the objects.\n",
        "2. Then subtract the target of the *given object* and divide the resulting value by `n_objects - 1`. \n",
        "\n",
        "Note that you do not need to perform `1.` for every object. And `2.` can be implemented without any `for` loop.\n",
        "\n",
        "It is the most convenient to use `.transform` function as in **Method 2**."
      ]
    },
    {
      "cell_type": "code",
      "metadata": {
        "id": "Ira6sBnWn_TF",
        "colab_type": "code",
        "colab": {
          "base_uri": "https://localhost:8080/",
          "height": 52
        },
        "outputId": "0730eddc-e5c1-468f-cd34-cb29afb43be9"
      },
      "source": [
        "# YOUR CODE GOES HERE\n",
        "totalSum = all_data['item_id'].map(all_data.groupby('item_id')['target'].sum())\n",
        "n_objects = all_data['item_id'].map(all_data.groupby('item_id')['target'].count())\n",
        "all_data['item_target_enc'] = (totalSum - all_data['target']) / (n_objects - 1)\n",
        "encoded_feature = all_data['item_target_enc'].values\n",
        "\n",
        "\n",
        "    \n",
        "corr = np.corrcoef(all_data['target'].values, encoded_feature)[0][1]\n",
        "print(corr)\n",
        "grader.submit_tag('Leave-one-out_scheme', corr)"
      ],
      "execution_count": null,
      "outputs": [
        {
          "output_type": "stream",
          "text": [
            "0.4803848311293002\n",
            "Current answer for task Leave-one-out_scheme is: 0.4803848311293002\n"
          ],
          "name": "stdout"
        }
      ]
    },
    {
      "cell_type": "markdown",
      "metadata": {
        "id": "b-HWC_XRn_TK",
        "colab_type": "text"
      },
      "source": [
        "# 3. Smoothing"
      ]
    },
    {
      "cell_type": "markdown",
      "metadata": {
        "id": "AJV-PMOVn_TL",
        "colab_type": "text"
      },
      "source": [
        "Explained starting at 4:03 of [Regularization video](https://www.coursera.org/learn/competitive-data-science/lecture/LGYQ2/regularization)."
      ]
    },
    {
      "cell_type": "markdown",
      "metadata": {
        "id": "sqhB2qdBn_TM",
        "colab_type": "text"
      },
      "source": [
        "Next, implement smoothing scheme with $\\alpha = 100$. Use the formula from the first slide in the video and $0.3343$ as `globalmean`. Note that `nrows` is the number of objects that belong to a certain category (not the number of rows in the dataset)."
      ]
    },
    {
      "cell_type": "code",
      "metadata": {
        "id": "Q8i1CbI9n_TN",
        "colab_type": "code",
        "colab": {
          "base_uri": "https://localhost:8080/",
          "height": 52
        },
        "outputId": "6be4506a-ae7d-473c-bd67-99730f9211d7"
      },
      "source": [
        "# YOUR CODE GOES HERE\n",
        "alpha = 100\n",
        "globalmean = 0.3343\n",
        "nrows = all_data.groupby('item_id')['target'].count()\n",
        "targetmean = all_data.groupby('item_id')['target'].mean()\n",
        "smooth = (targetmean*nrows + globalmean*alpha) / (nrows + alpha)\n",
        "all_data['item_target_enc'] = all_data['item_id'].map(smooth)\n",
        "encoded_feature = all_data['item_target_enc'].values\n",
        "\n",
        "corr = np.corrcoef(all_data['target'].values, encoded_feature)[0][1]\n",
        "print(corr)\n",
        "grader.submit_tag('Smoothing_scheme', corr)"
      ],
      "execution_count": null,
      "outputs": [
        {
          "output_type": "stream",
          "text": [
            "0.4818198797097264\n",
            "Current answer for task Smoothing_scheme is: 0.4818198797097264\n"
          ],
          "name": "stdout"
        }
      ]
    },
    {
      "cell_type": "markdown",
      "metadata": {
        "id": "tJL4QWzQn_TS",
        "colab_type": "text"
      },
      "source": [
        "# 4. Expanding mean scheme"
      ]
    },
    {
      "cell_type": "markdown",
      "metadata": {
        "id": "CXCNS-DUn_TT",
        "colab_type": "text"
      },
      "source": [
        "Explained starting at 5:50 of [Regularization video](https://www.coursera.org/learn/competitive-data-science/lecture/LGYQ2/regularization)."
      ]
    },
    {
      "cell_type": "markdown",
      "metadata": {
        "collapsed": true,
        "id": "FjrWha75n_TU",
        "colab_type": "text"
      },
      "source": [
        "Finally, implement the *expanding mean* scheme. It is basically already implemented for you in the video, but you can challenge yourself and try to implement it yourself. You will need [`cumsum`](https://pandas.pydata.org/pandas-docs/stable/generated/pandas.core.groupby.DataFrameGroupBy.cumsum.html) and [`cumcount`](https://pandas.pydata.org/pandas-docs/stable/generated/pandas.core.groupby.GroupBy.cumcount.html) functions from pandas."
      ]
    },
    {
      "cell_type": "code",
      "metadata": {
        "id": "CYesJZ8Pn_TV",
        "colab_type": "code",
        "colab": {
          "base_uri": "https://localhost:8080/",
          "height": 52
        },
        "outputId": "e27ee007-3017-4e21-f824-e079824d5cad"
      },
      "source": [
        "# YOUR CODE GOES HERE\n",
        "cumsum = all_data.groupby('item_id')['target'].cumsum() - all_data['target']\n",
        "cumcnt = all_data.groupby('item_id').cumcount()\n",
        "\n",
        "all_data['item_target_enc'] = cumsum/cumcnt\n",
        "all_data['item_target_enc'].fillna(0.3343, inplace=True)\n",
        "encoded_feature = all_data['item_target_enc'].values\n",
        "\n",
        "corr = np.corrcoef(all_data['target'].values, encoded_feature)[0][1]\n",
        "print(corr)\n",
        "grader.submit_tag('Expanding_mean_scheme', corr)"
      ],
      "execution_count": null,
      "outputs": [
        {
          "output_type": "stream",
          "text": [
            "0.5025245211081697\n",
            "Current answer for task Expanding_mean_scheme is: 0.5025245211081697\n"
          ],
          "name": "stdout"
        }
      ]
    },
    {
      "cell_type": "markdown",
      "metadata": {
        "id": "kJVs3C3Bn_Ta",
        "colab_type": "text"
      },
      "source": [
        "## Authorization & Submission\n",
        "To submit assignment parts to Cousera platform, please, enter your e-mail and token into variables below. You can generate token on this programming assignment page. Note: Token expires 30 minutes after generation."
      ]
    },
    {
      "cell_type": "code",
      "metadata": {
        "id": "17jxwFUun_Tb",
        "colab_type": "code",
        "colab": {
          "base_uri": "https://localhost:8080/",
          "height": 104
        },
        "outputId": "ba06f01a-9ff7-439b-c461-21017ace42b6"
      },
      "source": [
        "STUDENT_EMAIL = # EMAIL HERE\n",
        "STUDENT_TOKEN = # TOKEN HERE\n",
        "grader.status()"
      ],
      "execution_count": null,
      "outputs": [
        {
          "output_type": "stream",
          "text": [
            "You want to submit these numbers:\n",
            "Task KFold_scheme: 0.4164590712798811\n",
            "Task Leave-one-out_scheme: 0.4803848311293002\n",
            "Task Smoothing_scheme: 0.4818198797097264\n",
            "Task Expanding_mean_scheme: 0.5025245211081697\n"
          ],
          "name": "stdout"
        }
      ]
    },
    {
      "cell_type": "code",
      "metadata": {
        "id": "Rn1RHYRbn_Tg",
        "colab_type": "code",
        "colab": {
          "base_uri": "https://localhost:8080/",
          "height": 34
        },
        "outputId": "7c866fcd-9a0e-4ba1-e2ae-bf916c59e556"
      },
      "source": [
        "grader.submit(STUDENT_EMAIL, STUDENT_TOKEN)"
      ],
      "execution_count": null,
      "outputs": [
        {
          "output_type": "stream",
          "text": [
            "Submitted to Coursera platform. See results on assignment page!\n"
          ],
          "name": "stdout"
        }
      ]
    },
    {
      "cell_type": "code",
      "metadata": {
        "id": "p3xUuSjtAAkH",
        "colab_type": "code",
        "colab": {}
      },
      "source": [
        ""
      ],
      "execution_count": null,
      "outputs": []
    }
  ]
}